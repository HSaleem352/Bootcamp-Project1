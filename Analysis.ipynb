{
  "nbformat": 4,
  "nbformat_minor": 0,
  "metadata": {
    "colab": {
      "provenance": []
    },
    "kernelspec": {
      "name": "python3",
      "display_name": "Python 3"
    },
    "language_info": {
      "name": "python"
    }
  },
  "cells": [
    {
      "cell_type": "code",
      "execution_count": null,
      "metadata": {
        "id": "c1d8Jih6eOmD"
      },
      "outputs": [],
      "source": [
        "import pandas as pd\n",
        "\n",
        "df_6month = pd.read_csv('ea1141_6month_fup.csv')\n",
        "df_12month = pd.read_csv('ea1141_12month_fup.csv')\n",
        "df_bdd = pd.read_csv('ea1141_baseline_demog_derived_ birth-year-removed.csv')\n",
        "df_mrilesions_outcome = pd.read_csv('ea1141_year0_mrilesions_outcome.csv')\n",
        "df_screening = pd.read_csv('ea1141_year0_screening_derived.csv')\n",
        "df_tomolesions_outcome = pd.read_csv('ea1141_year0_tomolesions_outcome.csv')"
      ]
    }
  ]
}