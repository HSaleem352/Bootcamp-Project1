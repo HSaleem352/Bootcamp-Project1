{
 "cells": [
  {
   "cell_type": "code",
   "execution_count": 6,
   "id": "5786d539",
   "metadata": {},
   "outputs": [],
   "source": [
    "#!pip install pyreadr\n",
    "\n",
    "import pyreadr\n",
    "import pandas as pd\n",
    "\n",
    "raw_data = pyreadr.read_r('48_-_breast_cancer_data.RData')['out']\n",
    "raw_data.to_csv('dataset')\n",
    "\n"
   ]
  },
  {
   "cell_type": "code",
   "execution_count": null,
   "id": "75f110da",
   "metadata": {},
   "outputs": [],
   "source": []
  }
 ],
 "metadata": {
  "kernelspec": {
   "display_name": "Python 3 (ipykernel)",
   "language": "python",
   "name": "python3"
  },
  "language_info": {
   "codemirror_mode": {
    "name": "ipython",
    "version": 3
   },
   "file_extension": ".py",
   "mimetype": "text/x-python",
   "name": "python",
   "nbconvert_exporter": "python",
   "pygments_lexer": "ipython3",
   "version": "3.11.5"
  }
 },
 "nbformat": 4,
 "nbformat_minor": 5
}
