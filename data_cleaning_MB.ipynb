{
 "cells": [
  {
   "cell_type": "code",
   "execution_count": 109,
   "id": "5786d539",
   "metadata": {},
   "outputs": [],
   "source": [
    "#!pip install pyreadr\n",
    "\n",
    "import pyreadr\n",
    "import pandas as pd\n",
    "import matplotlib.pyplot as plt\n",
    "import numpy as np\n",
    "import scipy.stats as stats"
   ]
  },
  {
   "cell_type": "code",
   "execution_count": 2,
   "id": "fc4fe57d",
   "metadata": {},
   "outputs": [],
   "source": [
    "raw_data = pyreadr.read_r('48_-_breast_cancer_data.RData')['out']\n",
    "# raw_data.to_csv('dataset.csv')"
   ]
  },
  {
   "cell_type": "code",
   "execution_count": 3,
   "id": "75f110da",
   "metadata": {},
   "outputs": [
    {
     "data": {
      "text/html": [
       "<div>\n",
       "<style scoped>\n",
       "    .dataframe tbody tr th:only-of-type {\n",
       "        vertical-align: middle;\n",
       "    }\n",
       "\n",
       "    .dataframe tbody tr th {\n",
       "        vertical-align: top;\n",
       "    }\n",
       "\n",
       "    .dataframe thead th {\n",
       "        text-align: right;\n",
       "    }\n",
       "</style>\n",
       "<table border=\"1\" class=\"dataframe\">\n",
       "  <thead>\n",
       "    <tr style=\"text-align: right;\">\n",
       "      <th></th>\n",
       "      <th>der_ordinal_v1a</th>\n",
       "      <th>der_days_fu</th>\n",
       "      <th>der_deadbinary</th>\n",
       "      <th>der_dead30</th>\n",
       "      <th>der_mv</th>\n",
       "      <th>der_ICU</th>\n",
       "      <th>der_hosp</th>\n",
       "      <th>der_AKI_comp</th>\n",
       "      <th>der_MOF_comp</th>\n",
       "      <th>der_coinfection_any</th>\n",
       "      <th>...</th>\n",
       "      <th>der_txline</th>\n",
       "      <th>der_heme</th>\n",
       "      <th>der_metastatic</th>\n",
       "      <th>der_met_bone</th>\n",
       "      <th>der_met_liver</th>\n",
       "      <th>der_met_lung_v2</th>\n",
       "      <th>der_age_trunc</th>\n",
       "      <th>der_CV_event_v2</th>\n",
       "      <th>der_pulm_event</th>\n",
       "      <th>der_GI_event</th>\n",
       "    </tr>\n",
       "  </thead>\n",
       "  <tbody>\n",
       "    <tr>\n",
       "      <th>0</th>\n",
       "      <td>0</td>\n",
       "      <td>30.0</td>\n",
       "      <td>No</td>\n",
       "      <td>No</td>\n",
       "      <td>No</td>\n",
       "      <td>No</td>\n",
       "      <td>No</td>\n",
       "      <td>No</td>\n",
       "      <td>No</td>\n",
       "      <td>No</td>\n",
       "      <td>...</td>\n",
       "      <td>First line</td>\n",
       "      <td>0</td>\n",
       "      <td>Missing/Unknown</td>\n",
       "      <td>NaN</td>\n",
       "      <td>NaN</td>\n",
       "      <td>NaN</td>\n",
       "      <td>58.0</td>\n",
       "      <td>No</td>\n",
       "      <td>Yes</td>\n",
       "      <td>No</td>\n",
       "    </tr>\n",
       "    <tr>\n",
       "      <th>1</th>\n",
       "      <td>0</td>\n",
       "      <td>180.0</td>\n",
       "      <td>No</td>\n",
       "      <td>No</td>\n",
       "      <td>No</td>\n",
       "      <td>No</td>\n",
       "      <td>No</td>\n",
       "      <td>No</td>\n",
       "      <td>No</td>\n",
       "      <td>NaN</td>\n",
       "      <td>...</td>\n",
       "      <td>Non-curative NOS</td>\n",
       "      <td>0</td>\n",
       "      <td>Yes</td>\n",
       "      <td>Yes</td>\n",
       "      <td>No</td>\n",
       "      <td>No</td>\n",
       "      <td>67.0</td>\n",
       "      <td>No</td>\n",
       "      <td>No</td>\n",
       "      <td>No</td>\n",
       "    </tr>\n",
       "    <tr>\n",
       "      <th>2</th>\n",
       "      <td>1</td>\n",
       "      <td>10.5</td>\n",
       "      <td>No</td>\n",
       "      <td>No</td>\n",
       "      <td>No</td>\n",
       "      <td>No</td>\n",
       "      <td>Yes</td>\n",
       "      <td>No</td>\n",
       "      <td>No</td>\n",
       "      <td>NaN</td>\n",
       "      <td>...</td>\n",
       "      <td>First line</td>\n",
       "      <td>0</td>\n",
       "      <td>No</td>\n",
       "      <td>No</td>\n",
       "      <td>No</td>\n",
       "      <td>No</td>\n",
       "      <td>42.0</td>\n",
       "      <td>No</td>\n",
       "      <td>No</td>\n",
       "      <td>No</td>\n",
       "    </tr>\n",
       "    <tr>\n",
       "      <th>3</th>\n",
       "      <td>1</td>\n",
       "      <td>180.0</td>\n",
       "      <td>No</td>\n",
       "      <td>No</td>\n",
       "      <td>No</td>\n",
       "      <td>No</td>\n",
       "      <td>Yes</td>\n",
       "      <td>No</td>\n",
       "      <td>No</td>\n",
       "      <td>No</td>\n",
       "      <td>...</td>\n",
       "      <td>Untreated in last 12 months</td>\n",
       "      <td>0</td>\n",
       "      <td>Yes</td>\n",
       "      <td>Yes</td>\n",
       "      <td>Yes</td>\n",
       "      <td>No</td>\n",
       "      <td>49.0</td>\n",
       "      <td>No</td>\n",
       "      <td>Yes</td>\n",
       "      <td>No</td>\n",
       "    </tr>\n",
       "    <tr>\n",
       "      <th>4</th>\n",
       "      <td>0</td>\n",
       "      <td>180.0</td>\n",
       "      <td>No</td>\n",
       "      <td>No</td>\n",
       "      <td>No</td>\n",
       "      <td>No</td>\n",
       "      <td>No</td>\n",
       "      <td>No</td>\n",
       "      <td>No</td>\n",
       "      <td>No</td>\n",
       "      <td>...</td>\n",
       "      <td>First line</td>\n",
       "      <td>0</td>\n",
       "      <td>No</td>\n",
       "      <td>No</td>\n",
       "      <td>No</td>\n",
       "      <td>No</td>\n",
       "      <td>47.0</td>\n",
       "      <td>No</td>\n",
       "      <td>No</td>\n",
       "      <td>No</td>\n",
       "    </tr>\n",
       "    <tr>\n",
       "      <th>...</th>\n",
       "      <td>...</td>\n",
       "      <td>...</td>\n",
       "      <td>...</td>\n",
       "      <td>...</td>\n",
       "      <td>...</td>\n",
       "      <td>...</td>\n",
       "      <td>...</td>\n",
       "      <td>...</td>\n",
       "      <td>...</td>\n",
       "      <td>...</td>\n",
       "      <td>...</td>\n",
       "      <td>...</td>\n",
       "      <td>...</td>\n",
       "      <td>...</td>\n",
       "      <td>...</td>\n",
       "      <td>...</td>\n",
       "      <td>...</td>\n",
       "      <td>...</td>\n",
       "      <td>...</td>\n",
       "      <td>...</td>\n",
       "      <td>...</td>\n",
       "    </tr>\n",
       "    <tr>\n",
       "      <th>1378</th>\n",
       "      <td>0</td>\n",
       "      <td>180.0</td>\n",
       "      <td>No</td>\n",
       "      <td>No</td>\n",
       "      <td>No</td>\n",
       "      <td>No</td>\n",
       "      <td>No</td>\n",
       "      <td>No</td>\n",
       "      <td>No</td>\n",
       "      <td>No</td>\n",
       "      <td>...</td>\n",
       "      <td>First line</td>\n",
       "      <td>0</td>\n",
       "      <td>No</td>\n",
       "      <td>No</td>\n",
       "      <td>No</td>\n",
       "      <td>No</td>\n",
       "      <td>58.0</td>\n",
       "      <td>No</td>\n",
       "      <td>No</td>\n",
       "      <td>No</td>\n",
       "    </tr>\n",
       "    <tr>\n",
       "      <th>1379</th>\n",
       "      <td>1</td>\n",
       "      <td>30.0</td>\n",
       "      <td>No</td>\n",
       "      <td>No</td>\n",
       "      <td>No</td>\n",
       "      <td>No</td>\n",
       "      <td>Yes</td>\n",
       "      <td>Yes</td>\n",
       "      <td>No</td>\n",
       "      <td>No</td>\n",
       "      <td>...</td>\n",
       "      <td>Curative NOS</td>\n",
       "      <td>0</td>\n",
       "      <td>Yes</td>\n",
       "      <td>No</td>\n",
       "      <td>No</td>\n",
       "      <td>No</td>\n",
       "      <td>73.0</td>\n",
       "      <td>No</td>\n",
       "      <td>No</td>\n",
       "      <td>No</td>\n",
       "    </tr>\n",
       "    <tr>\n",
       "      <th>1380</th>\n",
       "      <td>0</td>\n",
       "      <td>135.0</td>\n",
       "      <td>No</td>\n",
       "      <td>No</td>\n",
       "      <td>No</td>\n",
       "      <td>No</td>\n",
       "      <td>No</td>\n",
       "      <td>No</td>\n",
       "      <td>No</td>\n",
       "      <td>No</td>\n",
       "      <td>...</td>\n",
       "      <td>Untreated in last 12 months</td>\n",
       "      <td>0</td>\n",
       "      <td>No</td>\n",
       "      <td>No</td>\n",
       "      <td>No</td>\n",
       "      <td>No</td>\n",
       "      <td>60.0</td>\n",
       "      <td>No</td>\n",
       "      <td>No</td>\n",
       "      <td>No</td>\n",
       "    </tr>\n",
       "    <tr>\n",
       "      <th>1381</th>\n",
       "      <td>1</td>\n",
       "      <td>10.5</td>\n",
       "      <td>No</td>\n",
       "      <td>No</td>\n",
       "      <td>No</td>\n",
       "      <td>No</td>\n",
       "      <td>Yes</td>\n",
       "      <td>No</td>\n",
       "      <td>No</td>\n",
       "      <td>No</td>\n",
       "      <td>...</td>\n",
       "      <td>Untreated in last 12 months</td>\n",
       "      <td>0</td>\n",
       "      <td>No</td>\n",
       "      <td>No</td>\n",
       "      <td>No</td>\n",
       "      <td>No</td>\n",
       "      <td>60.0</td>\n",
       "      <td>No</td>\n",
       "      <td>Yes</td>\n",
       "      <td>No</td>\n",
       "    </tr>\n",
       "    <tr>\n",
       "      <th>1382</th>\n",
       "      <td>1</td>\n",
       "      <td>21.0</td>\n",
       "      <td>No</td>\n",
       "      <td>No</td>\n",
       "      <td>No</td>\n",
       "      <td>No</td>\n",
       "      <td>Yes</td>\n",
       "      <td>No</td>\n",
       "      <td>No</td>\n",
       "      <td>No</td>\n",
       "      <td>...</td>\n",
       "      <td>Second line or greater</td>\n",
       "      <td>0</td>\n",
       "      <td>Yes</td>\n",
       "      <td>Yes</td>\n",
       "      <td>No</td>\n",
       "      <td>No</td>\n",
       "      <td>68.0</td>\n",
       "      <td>No</td>\n",
       "      <td>No</td>\n",
       "      <td>Yes</td>\n",
       "    </tr>\n",
       "  </tbody>\n",
       "</table>\n",
       "<p>1383 rows × 54 columns</p>\n",
       "</div>"
      ],
      "text/plain": [
       "      der_ordinal_v1a  der_days_fu der_deadbinary der_dead30 der_mv der_ICU  \\\n",
       "0                   0         30.0             No         No     No      No   \n",
       "1                   0        180.0             No         No     No      No   \n",
       "2                   1         10.5             No         No     No      No   \n",
       "3                   1        180.0             No         No     No      No   \n",
       "4                   0        180.0             No         No     No      No   \n",
       "...               ...          ...            ...        ...    ...     ...   \n",
       "1378                0        180.0             No         No     No      No   \n",
       "1379                1         30.0             No         No     No      No   \n",
       "1380                0        135.0             No         No     No      No   \n",
       "1381                1         10.5             No         No     No      No   \n",
       "1382                1         21.0             No         No     No      No   \n",
       "\n",
       "     der_hosp der_AKI_comp der_MOF_comp der_coinfection_any  ...  \\\n",
       "0          No           No           No                  No  ...   \n",
       "1          No           No           No                 NaN  ...   \n",
       "2         Yes           No           No                 NaN  ...   \n",
       "3         Yes           No           No                  No  ...   \n",
       "4          No           No           No                  No  ...   \n",
       "...       ...          ...          ...                 ...  ...   \n",
       "1378       No           No           No                  No  ...   \n",
       "1379      Yes          Yes           No                  No  ...   \n",
       "1380       No           No           No                  No  ...   \n",
       "1381      Yes           No           No                  No  ...   \n",
       "1382      Yes           No           No                  No  ...   \n",
       "\n",
       "                       der_txline der_heme   der_metastatic der_met_bone  \\\n",
       "0                      First line        0  Missing/Unknown          NaN   \n",
       "1                Non-curative NOS        0              Yes          Yes   \n",
       "2                      First line        0               No           No   \n",
       "3     Untreated in last 12 months        0              Yes          Yes   \n",
       "4                      First line        0               No           No   \n",
       "...                           ...      ...              ...          ...   \n",
       "1378                   First line        0               No           No   \n",
       "1379                 Curative NOS        0              Yes           No   \n",
       "1380  Untreated in last 12 months        0               No           No   \n",
       "1381  Untreated in last 12 months        0               No           No   \n",
       "1382       Second line or greater        0              Yes          Yes   \n",
       "\n",
       "     der_met_liver der_met_lung_v2 der_age_trunc der_CV_event_v2  \\\n",
       "0              NaN             NaN          58.0              No   \n",
       "1               No              No          67.0              No   \n",
       "2               No              No          42.0              No   \n",
       "3              Yes              No          49.0              No   \n",
       "4               No              No          47.0              No   \n",
       "...            ...             ...           ...             ...   \n",
       "1378            No              No          58.0              No   \n",
       "1379            No              No          73.0              No   \n",
       "1380            No              No          60.0              No   \n",
       "1381            No              No          60.0              No   \n",
       "1382            No              No          68.0              No   \n",
       "\n",
       "     der_pulm_event der_GI_event  \n",
       "0               Yes           No  \n",
       "1                No           No  \n",
       "2                No           No  \n",
       "3               Yes           No  \n",
       "4                No           No  \n",
       "...             ...          ...  \n",
       "1378             No           No  \n",
       "1379             No           No  \n",
       "1380             No           No  \n",
       "1381            Yes           No  \n",
       "1382             No          Yes  \n",
       "\n",
       "[1383 rows x 54 columns]"
      ]
     },
     "execution_count": 3,
     "metadata": {},
     "output_type": "execute_result"
    }
   ],
   "source": [
    "raw_data"
   ]
  },
  {
   "cell_type": "markdown",
   "id": "69ebf26d",
   "metadata": {},
   "source": [
    "# Does smoking have an effect on COVID severity on individuals with Breast Cancer?"
   ]
  },
  {
   "cell_type": "markdown",
   "id": "b9304bba",
   "metadata": {},
   "source": [
    "Hypothesis: Individuals who smoke and have Breast Cancer have a higher chance of having a severe COVID."
   ]
  },
  {
   "cell_type": "code",
   "execution_count": 4,
   "id": "7b0d16d8",
   "metadata": {},
   "outputs": [
    {
     "data": {
      "text/html": [
       "<div>\n",
       "<style scoped>\n",
       "    .dataframe tbody tr th:only-of-type {\n",
       "        vertical-align: middle;\n",
       "    }\n",
       "\n",
       "    .dataframe tbody tr th {\n",
       "        vertical-align: top;\n",
       "    }\n",
       "\n",
       "    .dataframe thead th {\n",
       "        text-align: right;\n",
       "    }\n",
       "</style>\n",
       "<table border=\"1\" class=\"dataframe\">\n",
       "  <thead>\n",
       "    <tr style=\"text-align: right;\">\n",
       "      <th></th>\n",
       "      <th>der_smoking2</th>\n",
       "    </tr>\n",
       "  </thead>\n",
       "  <tbody>\n",
       "    <tr>\n",
       "      <th>0</th>\n",
       "      <td>Current or Former</td>\n",
       "    </tr>\n",
       "    <tr>\n",
       "      <th>1</th>\n",
       "      <td>Never</td>\n",
       "    </tr>\n",
       "    <tr>\n",
       "      <th>2</th>\n",
       "      <td>Never</td>\n",
       "    </tr>\n",
       "    <tr>\n",
       "      <th>3</th>\n",
       "      <td>Never</td>\n",
       "    </tr>\n",
       "    <tr>\n",
       "      <th>4</th>\n",
       "      <td>Never</td>\n",
       "    </tr>\n",
       "    <tr>\n",
       "      <th>...</th>\n",
       "      <td>...</td>\n",
       "    </tr>\n",
       "    <tr>\n",
       "      <th>1378</th>\n",
       "      <td>Current or Former</td>\n",
       "    </tr>\n",
       "    <tr>\n",
       "      <th>1379</th>\n",
       "      <td>Never</td>\n",
       "    </tr>\n",
       "    <tr>\n",
       "      <th>1380</th>\n",
       "      <td>Never</td>\n",
       "    </tr>\n",
       "    <tr>\n",
       "      <th>1381</th>\n",
       "      <td>Never</td>\n",
       "    </tr>\n",
       "    <tr>\n",
       "      <th>1382</th>\n",
       "      <td>Never</td>\n",
       "    </tr>\n",
       "  </tbody>\n",
       "</table>\n",
       "<p>1383 rows × 1 columns</p>\n",
       "</div>"
      ],
      "text/plain": [
       "           der_smoking2\n",
       "0     Current or Former\n",
       "1                 Never\n",
       "2                 Never\n",
       "3                 Never\n",
       "4                 Never\n",
       "...                 ...\n",
       "1378  Current or Former\n",
       "1379              Never\n",
       "1380              Never\n",
       "1381              Never\n",
       "1382              Never\n",
       "\n",
       "[1383 rows x 1 columns]"
      ]
     },
     "execution_count": 4,
     "metadata": {},
     "output_type": "execute_result"
    }
   ],
   "source": [
    "# Creating a data frame for the smoking status\n",
    "Smoking_df = pd.DataFrame(raw_data[\"der_smoking2\"])\n",
    "Smoking_df"
   ]
  },
  {
   "cell_type": "code",
   "execution_count": 5,
   "id": "332dd624",
   "metadata": {},
   "outputs": [
    {
     "data": {
      "text/html": [
       "<div>\n",
       "<style scoped>\n",
       "    .dataframe tbody tr th:only-of-type {\n",
       "        vertical-align: middle;\n",
       "    }\n",
       "\n",
       "    .dataframe tbody tr th {\n",
       "        vertical-align: top;\n",
       "    }\n",
       "\n",
       "    .dataframe thead th {\n",
       "        text-align: right;\n",
       "    }\n",
       "</style>\n",
       "<table border=\"1\" class=\"dataframe\">\n",
       "  <thead>\n",
       "    <tr style=\"text-align: right;\">\n",
       "      <th></th>\n",
       "      <th>der_smoking2</th>\n",
       "    </tr>\n",
       "  </thead>\n",
       "  <tbody>\n",
       "    <tr>\n",
       "      <th>0</th>\n",
       "      <td>Current or Former</td>\n",
       "    </tr>\n",
       "    <tr>\n",
       "      <th>1</th>\n",
       "      <td>Never</td>\n",
       "    </tr>\n",
       "    <tr>\n",
       "      <th>2</th>\n",
       "      <td>Never</td>\n",
       "    </tr>\n",
       "    <tr>\n",
       "      <th>3</th>\n",
       "      <td>Never</td>\n",
       "    </tr>\n",
       "    <tr>\n",
       "      <th>4</th>\n",
       "      <td>Never</td>\n",
       "    </tr>\n",
       "    <tr>\n",
       "      <th>...</th>\n",
       "      <td>...</td>\n",
       "    </tr>\n",
       "    <tr>\n",
       "      <th>1378</th>\n",
       "      <td>Current or Former</td>\n",
       "    </tr>\n",
       "    <tr>\n",
       "      <th>1379</th>\n",
       "      <td>Never</td>\n",
       "    </tr>\n",
       "    <tr>\n",
       "      <th>1380</th>\n",
       "      <td>Never</td>\n",
       "    </tr>\n",
       "    <tr>\n",
       "      <th>1381</th>\n",
       "      <td>Never</td>\n",
       "    </tr>\n",
       "    <tr>\n",
       "      <th>1382</th>\n",
       "      <td>Never</td>\n",
       "    </tr>\n",
       "  </tbody>\n",
       "</table>\n",
       "<p>1353 rows × 1 columns</p>\n",
       "</div>"
      ],
      "text/plain": [
       "           der_smoking2\n",
       "0     Current or Former\n",
       "1                 Never\n",
       "2                 Never\n",
       "3                 Never\n",
       "4                 Never\n",
       "...                 ...\n",
       "1378  Current or Former\n",
       "1379              Never\n",
       "1380              Never\n",
       "1381              Never\n",
       "1382              Never\n",
       "\n",
       "[1353 rows x 1 columns]"
      ]
     },
     "execution_count": 5,
     "metadata": {},
     "output_type": "execute_result"
    }
   ],
   "source": [
    "# Cleaning the empty cells \n",
    "Smoking = Smoking_df.dropna()\n",
    "Smoking"
   ]
  },
  {
   "cell_type": "markdown",
   "id": "3379ab32",
   "metadata": {},
   "source": [
    "## Overall Smoking Status"
   ]
  },
  {
   "cell_type": "code",
   "execution_count": 6,
   "id": "faada668",
   "metadata": {},
   "outputs": [
    {
     "name": "stdout",
     "output_type": "stream",
     "text": [
      "911 individuas has never smoked in their life\n",
      "442 individuas are a current smoker or used to smoke\n",
      "No unknown smoking status was found\n",
      "[911, 442]\n"
     ]
    }
   ],
   "source": [
    "# Creating an empty list to hold the number of each smoking status\n",
    "Status_Count = []\n",
    "\n",
    "# Number of individuals who never smoked\n",
    "NonSmokers_Count = Smoking.value_counts()[\"Never\"]\n",
    "print(f\"{NonSmokers_Count} individuas has never smoked in their life\")\n",
    "Status_Count.append(NonSmokers_Count)\n",
    "\n",
    "# Number of individuals who are a current smoker or used to smoke.\n",
    "Smokers_Count = Smoking.value_counts()[\"Current or Former\"]\n",
    "print(f\"{Smokers_Count} individuas are a current smoker or used to smoke\")\n",
    "Status_Count.append(Smokers_Count)\n",
    "\n",
    "# Number of unknown smoking status.\n",
    "try:\n",
    "    Unknown_Count = Smoking.value_counts()[\"Unknown\"]\n",
    "    print(f\"{Unknown_Count} individuas have an unknown smoking status\")\n",
    "    Status_Count.append(Unknown_Count)\n",
    "except:\n",
    "    print(\"No unknown smoking status was found\")\n",
    "\n",
    "print(Status_Count)"
   ]
  },
  {
   "cell_type": "code",
   "execution_count": 104,
   "id": "419721ac",
   "metadata": {},
   "outputs": [
    {
     "data": {
      "image/png": "[encoded data removed]",
      "text/plain": [
       "<Figure size 640x480 with 1 Axes>"
      ]
     },
     "metadata": {},
     "output_type": "display_data"
    }
   ],
   "source": [
    "# Creating a plot to compare the amount of smokers vs. non-smokers\n",
    "Smoking_Status = [\"Never\",\"Current or Former\"]\n",
    "x_axis = np.arange(len(Status_Count))\n",
    "Overall_Smoking = plt.bar(x_axis, Status_Count, align=\"center\")\n",
    "tick_locations = [value for value in x_axis]\n",
    "plt.xticks(tick_locations, Smoking_Status)\n",
    "plt.title(\"Overall Smoking Status Count    [Smoking_Plot(1)]\")\n",
    "plt.xlabel(\"Smoking_Status\")\n",
    "plt.ylabel(\"Number of Smokers & Non-Smokers\")\n",
    "Overall_Smoking[0].set_color('green')\n",
    "Overall_Smoking[1].set_color('red')\n",
    "# Save the figure\n",
    "plt.savefig(\"Smoking_Output_Data/SmokingQ_Plot(1).png\", bbox_inches='tight')"
   ]
  },
  {
   "cell_type": "markdown",
   "id": "1bb234f0",
   "metadata": {},
   "source": [
    "## Breast Cancer Status at Time of COVID Diagnosis VS. Smoking Status"
   ]
  },
  {
   "cell_type": "code",
   "execution_count": 8,
   "id": "9670ea1b",
   "metadata": {},
   "outputs": [
    {
     "data": {
      "text/html": [
       "<div>\n",
       "<style scoped>\n",
       "    .dataframe tbody tr th:only-of-type {\n",
       "        vertical-align: middle;\n",
       "    }\n",
       "\n",
       "    .dataframe tbody tr th {\n",
       "        vertical-align: top;\n",
       "    }\n",
       "\n",
       "    .dataframe thead th {\n",
       "        text-align: right;\n",
       "    }\n",
       "</style>\n",
       "<table border=\"1\" class=\"dataframe\">\n",
       "  <thead>\n",
       "    <tr style=\"text-align: right;\">\n",
       "      <th></th>\n",
       "      <th>der_smoking2</th>\n",
       "      <th>der_cancer_status_v4</th>\n",
       "    </tr>\n",
       "  </thead>\n",
       "  <tbody>\n",
       "    <tr>\n",
       "      <th>0</th>\n",
       "      <td>Current or Former</td>\n",
       "      <td>Active and responding</td>\n",
       "    </tr>\n",
       "    <tr>\n",
       "      <th>1</th>\n",
       "      <td>Never</td>\n",
       "      <td>Active and stable</td>\n",
       "    </tr>\n",
       "    <tr>\n",
       "      <th>2</th>\n",
       "      <td>Never</td>\n",
       "      <td>NaN</td>\n",
       "    </tr>\n",
       "    <tr>\n",
       "      <th>3</th>\n",
       "      <td>Never</td>\n",
       "      <td>Unknown</td>\n",
       "    </tr>\n",
       "    <tr>\n",
       "      <th>4</th>\n",
       "      <td>Never</td>\n",
       "      <td>Active and responding</td>\n",
       "    </tr>\n",
       "    <tr>\n",
       "      <th>...</th>\n",
       "      <td>...</td>\n",
       "      <td>...</td>\n",
       "    </tr>\n",
       "    <tr>\n",
       "      <th>1378</th>\n",
       "      <td>Current or Former</td>\n",
       "      <td>Active and responding</td>\n",
       "    </tr>\n",
       "    <tr>\n",
       "      <th>1379</th>\n",
       "      <td>Never</td>\n",
       "      <td>Active and responding</td>\n",
       "    </tr>\n",
       "    <tr>\n",
       "      <th>1380</th>\n",
       "      <td>Never</td>\n",
       "      <td>Remission or no evidence of disease, &gt;5 years</td>\n",
       "    </tr>\n",
       "    <tr>\n",
       "      <th>1381</th>\n",
       "      <td>Never</td>\n",
       "      <td>Unknown</td>\n",
       "    </tr>\n",
       "    <tr>\n",
       "      <th>1382</th>\n",
       "      <td>Never</td>\n",
       "      <td>Active and stable</td>\n",
       "    </tr>\n",
       "  </tbody>\n",
       "</table>\n",
       "<p>1383 rows × 2 columns</p>\n",
       "</div>"
      ],
      "text/plain": [
       "           der_smoking2                           der_cancer_status_v4\n",
       "0     Current or Former                          Active and responding\n",
       "1                 Never                              Active and stable\n",
       "2                 Never                                            NaN\n",
       "3                 Never                                        Unknown\n",
       "4                 Never                          Active and responding\n",
       "...                 ...                                            ...\n",
       "1378  Current or Former                          Active and responding\n",
       "1379              Never                          Active and responding\n",
       "1380              Never  Remission or no evidence of disease, >5 years\n",
       "1381              Never                                        Unknown\n",
       "1382              Never                              Active and stable\n",
       "\n",
       "[1383 rows x 2 columns]"
      ]
     },
     "execution_count": 8,
     "metadata": {},
     "output_type": "execute_result"
    }
   ],
   "source": [
    "# Creating a data frame for the cancer status and the smoking status\n",
    "Cancer_Smoking_df = pd.DataFrame(raw_data[[\"der_smoking2\", \"der_cancer_status_v4\"]])\n",
    "Cancer_Smoking_df"
   ]
  },
  {
   "cell_type": "code",
   "execution_count": 9,
   "id": "d1405032",
   "metadata": {},
   "outputs": [
    {
     "data": {
      "text/html": [
       "<div>\n",
       "<style scoped>\n",
       "    .dataframe tbody tr th:only-of-type {\n",
       "        vertical-align: middle;\n",
       "    }\n",
       "\n",
       "    .dataframe tbody tr th {\n",
       "        vertical-align: top;\n",
       "    }\n",
       "\n",
       "    .dataframe thead th {\n",
       "        text-align: right;\n",
       "    }\n",
       "</style>\n",
       "<table border=\"1\" class=\"dataframe\">\n",
       "  <thead>\n",
       "    <tr style=\"text-align: right;\">\n",
       "      <th></th>\n",
       "      <th>der_smoking2</th>\n",
       "      <th>der_cancer_status_v4</th>\n",
       "    </tr>\n",
       "  </thead>\n",
       "  <tbody>\n",
       "    <tr>\n",
       "      <th>1212</th>\n",
       "      <td>Never</td>\n",
       "      <td>Remission or no evidence of disease, &lt;5 years</td>\n",
       "    </tr>\n",
       "    <tr>\n",
       "      <th>928</th>\n",
       "      <td>Never</td>\n",
       "      <td>Active and stable</td>\n",
       "    </tr>\n",
       "    <tr>\n",
       "      <th>34</th>\n",
       "      <td>Current or Former</td>\n",
       "      <td>Remission or no evidence of disease, &gt;5 years</td>\n",
       "    </tr>\n",
       "    <tr>\n",
       "      <th>1041</th>\n",
       "      <td>Current or Former</td>\n",
       "      <td>Active and responding</td>\n",
       "    </tr>\n",
       "    <tr>\n",
       "      <th>135</th>\n",
       "      <td>Never</td>\n",
       "      <td>Active and responding</td>\n",
       "    </tr>\n",
       "    <tr>\n",
       "      <th>411</th>\n",
       "      <td>Current or Former</td>\n",
       "      <td>Remission or no evidence of disease, &lt;5 years</td>\n",
       "    </tr>\n",
       "    <tr>\n",
       "      <th>938</th>\n",
       "      <td>Current or Former</td>\n",
       "      <td>Remission or no evidence of disease, &lt;5 years</td>\n",
       "    </tr>\n",
       "    <tr>\n",
       "      <th>130</th>\n",
       "      <td>Never</td>\n",
       "      <td>Remission or no evidence of disease, &lt;5 years</td>\n",
       "    </tr>\n",
       "    <tr>\n",
       "      <th>473</th>\n",
       "      <td>Never</td>\n",
       "      <td>Active and responding</td>\n",
       "    </tr>\n",
       "    <tr>\n",
       "      <th>260</th>\n",
       "      <td>Never</td>\n",
       "      <td>Active and stable</td>\n",
       "    </tr>\n",
       "    <tr>\n",
       "      <th>822</th>\n",
       "      <td>Never</td>\n",
       "      <td>Remission or no evidence of disease, &lt;5 years</td>\n",
       "    </tr>\n",
       "    <tr>\n",
       "      <th>202</th>\n",
       "      <td>Current or Former</td>\n",
       "      <td>Active and stable</td>\n",
       "    </tr>\n",
       "    <tr>\n",
       "      <th>170</th>\n",
       "      <td>Never</td>\n",
       "      <td>Remission or no evidence of disease, &gt;5 years</td>\n",
       "    </tr>\n",
       "    <tr>\n",
       "      <th>1110</th>\n",
       "      <td>Current or Former</td>\n",
       "      <td>Active and responding</td>\n",
       "    </tr>\n",
       "    <tr>\n",
       "      <th>1079</th>\n",
       "      <td>Current or Former</td>\n",
       "      <td>Remission or no evidence of disease, &gt;5 years</td>\n",
       "    </tr>\n",
       "    <tr>\n",
       "      <th>482</th>\n",
       "      <td>Current or Former</td>\n",
       "      <td>Active and progressing</td>\n",
       "    </tr>\n",
       "    <tr>\n",
       "      <th>400</th>\n",
       "      <td>Current or Former</td>\n",
       "      <td>Remission or no evidence of disease, &lt;5 years</td>\n",
       "    </tr>\n",
       "    <tr>\n",
       "      <th>916</th>\n",
       "      <td>Never</td>\n",
       "      <td>Unknown</td>\n",
       "    </tr>\n",
       "    <tr>\n",
       "      <th>1214</th>\n",
       "      <td>Never</td>\n",
       "      <td>Active and responding</td>\n",
       "    </tr>\n",
       "    <tr>\n",
       "      <th>1310</th>\n",
       "      <td>Never</td>\n",
       "      <td>Remission or no evidence of disease, &gt;5 years</td>\n",
       "    </tr>\n",
       "  </tbody>\n",
       "</table>\n",
       "</div>"
      ],
      "text/plain": [
       "           der_smoking2                           der_cancer_status_v4\n",
       "1212              Never  Remission or no evidence of disease, <5 years\n",
       "928               Never                              Active and stable\n",
       "34    Current or Former  Remission or no evidence of disease, >5 years\n",
       "1041  Current or Former                          Active and responding\n",
       "135               Never                          Active and responding\n",
       "411   Current or Former  Remission or no evidence of disease, <5 years\n",
       "938   Current or Former  Remission or no evidence of disease, <5 years\n",
       "130               Never  Remission or no evidence of disease, <5 years\n",
       "473               Never                          Active and responding\n",
       "260               Never                              Active and stable\n",
       "822               Never  Remission or no evidence of disease, <5 years\n",
       "202   Current or Former                              Active and stable\n",
       "170               Never  Remission or no evidence of disease, >5 years\n",
       "1110  Current or Former                          Active and responding\n",
       "1079  Current or Former  Remission or no evidence of disease, >5 years\n",
       "482   Current or Former                         Active and progressing\n",
       "400   Current or Former  Remission or no evidence of disease, <5 years\n",
       "916               Never                                        Unknown\n",
       "1214              Never                          Active and responding\n",
       "1310              Never  Remission or no evidence of disease, >5 years"
      ]
     },
     "execution_count": 9,
     "metadata": {},
     "output_type": "execute_result"
    }
   ],
   "source": [
    "# Cleaning the empty cells \n",
    "Cancer_Smoking = Cancer_Smoking_df.dropna()\n",
    "Cancer_Smoking.sample(20)"
   ]
  },
  {
   "cell_type": "code",
   "execution_count": 10,
   "id": "97cb34bc",
   "metadata": {},
   "outputs": [],
   "source": [
    "# Creating an empty list to hold the values for smoker individuals with different breast cancer status\n",
    "Smoker_BC_Count = []"
   ]
  },
  {
   "cell_type": "code",
   "execution_count": 11,
   "id": "a9c0770c",
   "metadata": {},
   "outputs": [
    {
     "name": "stdout",
     "output_type": "stream",
     "text": [
      "[54]\n"
     ]
    }
   ],
   "source": [
    "# Individuals who are smokers and their cancer status is Active and responding\n",
    "NonSmoker_A_Responding = Cancer_Smoking_df.loc[(Cancer_Smoking_df[\"der_smoking2\"] == \"Current or Former\") & (Cancer_Smoking_df[\"der_cancer_status_v4\"] == \"Active and responding\")]\n",
    "NonSmoker_A_Responding_Count = len(NonSmoker_A_Responding)\n",
    "Smoker_BC_Count.append(NonSmoker_A_Responding_Count)\n",
    "print(Smoker_BC_Count)"
   ]
  },
  {
   "cell_type": "code",
   "execution_count": 12,
   "id": "8ed5a2b2",
   "metadata": {},
   "outputs": [
    {
     "name": "stdout",
     "output_type": "stream",
     "text": [
      "[54, 53]\n"
     ]
    }
   ],
   "source": [
    "# Individuals who are smokers and their cancer status is Active and stable\n",
    "NonSmoker_A_Stable = Cancer_Smoking_df.loc[(Cancer_Smoking_df[\"der_smoking2\"] == \"Current or Former\") & (Cancer_Smoking_df[\"der_cancer_status_v4\"] == \"Active and stable\")]\n",
    "NonSmoker_A_Stable_Count = len(NonSmoker_A_Stable)\n",
    "Smoker_BC_Count.append(NonSmoker_A_Stable_Count)\n",
    "print(Smoker_BC_Count)"
   ]
  },
  {
   "cell_type": "code",
   "execution_count": 13,
   "id": "9e097181",
   "metadata": {
    "scrolled": true
   },
   "outputs": [
    {
     "name": "stdout",
     "output_type": "stream",
     "text": [
      "[54, 53, 33]\n"
     ]
    }
   ],
   "source": [
    "# Individuals who are smokers and their cancer status is Active and progressing\n",
    "NonSmoker_A_Progressing = Cancer_Smoking_df.loc[(Cancer_Smoking_df[\"der_smoking2\"] == \"Current or Former\") & (Cancer_Smoking_df[\"der_cancer_status_v4\"] == \"Active and progressing\")]\n",
    "NonSmoker_A_Progressing = len(NonSmoker_A_Progressing)\n",
    "Smoker_BC_Count.append(NonSmoker_A_Progressing)\n",
    "print(Smoker_BC_Count)"
   ]
  },
  {
   "cell_type": "code",
   "execution_count": 14,
   "id": "f775d461",
   "metadata": {},
   "outputs": [],
   "source": [
    "# Creating an empty list to hold the values for non-smoker individuals with different breast cancer status\n",
    "NonSmoker_BC_Count = []"
   ]
  },
  {
   "cell_type": "code",
   "execution_count": 15,
   "id": "9ccc922b",
   "metadata": {},
   "outputs": [
    {
     "name": "stdout",
     "output_type": "stream",
     "text": [
      "[115]\n"
     ]
    }
   ],
   "source": [
    "# Individuals who are non-smokers and their cancer status is Active and responding\n",
    "NonSmoker_A_Responding = Cancer_Smoking_df.loc[(Cancer_Smoking_df[\"der_smoking2\"] == \"Never\") & (Cancer_Smoking_df[\"der_cancer_status_v4\"] == \"Active and responding\")]\n",
    "NonSmoker_A_Responding_Count = len(NonSmoker_A_Responding)\n",
    "NonSmoker_BC_Count.append(NonSmoker_A_Responding_Count)\n",
    "print(NonSmoker_BC_Count)"
   ]
  },
  {
   "cell_type": "code",
   "execution_count": 16,
   "id": "3c4d7d73",
   "metadata": {},
   "outputs": [
    {
     "name": "stdout",
     "output_type": "stream",
     "text": [
      "[115, 110]\n"
     ]
    }
   ],
   "source": [
    "# Individuals who are non-smokers and their cancer status is Active and stable\n",
    "NonSmoker_A_Stable = Cancer_Smoking_df.loc[(Cancer_Smoking_df[\"der_smoking2\"] == \"Never\") & (Cancer_Smoking_df[\"der_cancer_status_v4\"] == \"Active and stable\")]\n",
    "NonSmoker_A_Stable_Count = len(NonSmoker_A_Stable)\n",
    "NonSmoker_BC_Count.append(NonSmoker_A_Stable_Count)\n",
    "print(NonSmoker_BC_Count)"
   ]
  },
  {
   "cell_type": "code",
   "execution_count": 17,
   "id": "115f2635",
   "metadata": {},
   "outputs": [
    {
     "name": "stdout",
     "output_type": "stream",
     "text": [
      "[115, 110, 64]\n"
     ]
    }
   ],
   "source": [
    "# Individuals who are non-smokers and their cancer status is Active and progressing\n",
    "NonSmoker_A_Progressing = Cancer_Smoking_df.loc[(Cancer_Smoking_df[\"der_smoking2\"] == \"Never\") & (Cancer_Smoking_df[\"der_cancer_status_v4\"] == \"Active and progressing\")]\n",
    "NonSmoker_A_Progressing = len(NonSmoker_A_Progressing)\n",
    "NonSmoker_BC_Count.append(NonSmoker_A_Progressing)\n",
    "print(NonSmoker_BC_Count)"
   ]
  },
  {
   "cell_type": "code",
   "execution_count": 18,
   "id": "1745664a",
   "metadata": {},
   "outputs": [
    {
     "data": {
      "text/html": [
       "<div>\n",
       "<style scoped>\n",
       "    .dataframe tbody tr th:only-of-type {\n",
       "        vertical-align: middle;\n",
       "    }\n",
       "\n",
       "    .dataframe tbody tr th {\n",
       "        vertical-align: top;\n",
       "    }\n",
       "\n",
       "    .dataframe thead th {\n",
       "        text-align: right;\n",
       "    }\n",
       "</style>\n",
       "<table border=\"1\" class=\"dataframe\">\n",
       "  <thead>\n",
       "    <tr style=\"text-align: right;\">\n",
       "      <th></th>\n",
       "      <th>Smoker_BC_Count</th>\n",
       "      <th>NonSmoker_BC_Count</th>\n",
       "    </tr>\n",
       "  </thead>\n",
       "  <tbody>\n",
       "    <tr>\n",
       "      <th>Active and responding</th>\n",
       "      <td>54</td>\n",
       "      <td>115</td>\n",
       "    </tr>\n",
       "    <tr>\n",
       "      <th>Active and stable</th>\n",
       "      <td>53</td>\n",
       "      <td>110</td>\n",
       "    </tr>\n",
       "    <tr>\n",
       "      <th>Active and progressing</th>\n",
       "      <td>33</td>\n",
       "      <td>64</td>\n",
       "    </tr>\n",
       "  </tbody>\n",
       "</table>\n",
       "</div>"
      ],
      "text/plain": [
       "                        Smoker_BC_Count  NonSmoker_BC_Count\n",
       "Active and responding                54                 115\n",
       "Active and stable                    53                 110\n",
       "Active and progressing               33                  64"
      ]
     },
     "execution_count": 18,
     "metadata": {},
     "output_type": "execute_result"
    }
   ],
   "source": [
    "# Creating a data frame which includes both the Smoker_BC_Count & NonSmoker_BC_Count for comparison as well as plotting.\n",
    "BC_Status = [\"Active and responding\", \"Active and stable\" , \"Active and progressing\"]\n",
    "Smoker_NonSmoker_BC_DF = pd.DataFrame (\n",
    "    {\n",
    "        \"Smoker_BC_Count\" : Smoker_BC_Count,\n",
    "        \"NonSmoker_BC_Count\" : NonSmoker_BC_Count},\n",
    "        index = BC_Status\n",
    "    \n",
    ")\n",
    "\n",
    "Smoker_NonSmoker_BC_DF"
   ]
  },
  {
   "cell_type": "code",
   "execution_count": 19,
   "id": "e620ab7b",
   "metadata": {},
   "outputs": [
    {
     "data": {
      "image/png": "[encoded data removed]",
      "text/plain": [
       "<Figure size 640x480 with 1 Axes>"
      ]
     },
     "metadata": {},
     "output_type": "display_data"
    }
   ],
   "source": [
    "# Plotting\n",
    "Smoker_NonSmoker_BC_plot = Smoker_NonSmoker_BC_DF.plot.bar(rot=0)\n",
    "plt.title(\"Smoker & BC VS. Non-Smoker & BC    [Smoking_Plot(2)]\")\n",
    "plt.xlabel(\"BC_Status\")\n",
    "plt.ylabel(\"Number of Smokers_BC & Non-Smokers_BC\")\n",
    "# Save the figure\n",
    "plt.savefig(\"Smoking_Output_Data/SmokingQ_Plot(2).png\")"
   ]
  },
  {
   "cell_type": "markdown",
   "id": "51594463",
   "metadata": {},
   "source": [
    "## Severity of COVID VS. Smoking Status"
   ]
  },
  {
   "cell_type": "code",
   "execution_count": 20,
   "id": "776af91a",
   "metadata": {},
   "outputs": [
    {
     "data": {
      "text/html": [
       "<div>\n",
       "<style scoped>\n",
       "    .dataframe tbody tr th:only-of-type {\n",
       "        vertical-align: middle;\n",
       "    }\n",
       "\n",
       "    .dataframe tbody tr th {\n",
       "        vertical-align: top;\n",
       "    }\n",
       "\n",
       "    .dataframe thead th {\n",
       "        text-align: right;\n",
       "    }\n",
       "</style>\n",
       "<table border=\"1\" class=\"dataframe\">\n",
       "  <thead>\n",
       "    <tr style=\"text-align: right;\">\n",
       "      <th></th>\n",
       "      <th>der_smoking2</th>\n",
       "      <th>severity_of_covid_19_v2</th>\n",
       "    </tr>\n",
       "  </thead>\n",
       "  <tbody>\n",
       "    <tr>\n",
       "      <th>0</th>\n",
       "      <td>Current or Former</td>\n",
       "      <td>Severe</td>\n",
       "    </tr>\n",
       "    <tr>\n",
       "      <th>1</th>\n",
       "      <td>Never</td>\n",
       "      <td>Mild</td>\n",
       "    </tr>\n",
       "    <tr>\n",
       "      <th>2</th>\n",
       "      <td>Never</td>\n",
       "      <td>Moderate</td>\n",
       "    </tr>\n",
       "    <tr>\n",
       "      <th>3</th>\n",
       "      <td>Never</td>\n",
       "      <td>Moderate</td>\n",
       "    </tr>\n",
       "    <tr>\n",
       "      <th>4</th>\n",
       "      <td>Never</td>\n",
       "      <td>Mild</td>\n",
       "    </tr>\n",
       "    <tr>\n",
       "      <th>...</th>\n",
       "      <td>...</td>\n",
       "      <td>...</td>\n",
       "    </tr>\n",
       "    <tr>\n",
       "      <th>1378</th>\n",
       "      <td>Current or Former</td>\n",
       "      <td>Mild</td>\n",
       "    </tr>\n",
       "    <tr>\n",
       "      <th>1379</th>\n",
       "      <td>Never</td>\n",
       "      <td>Moderate</td>\n",
       "    </tr>\n",
       "    <tr>\n",
       "      <th>1380</th>\n",
       "      <td>Never</td>\n",
       "      <td>Mild</td>\n",
       "    </tr>\n",
       "    <tr>\n",
       "      <th>1381</th>\n",
       "      <td>Never</td>\n",
       "      <td>Moderate</td>\n",
       "    </tr>\n",
       "    <tr>\n",
       "      <th>1382</th>\n",
       "      <td>Never</td>\n",
       "      <td>Moderate</td>\n",
       "    </tr>\n",
       "  </tbody>\n",
       "</table>\n",
       "<p>1383 rows × 2 columns</p>\n",
       "</div>"
      ],
      "text/plain": [
       "           der_smoking2 severity_of_covid_19_v2\n",
       "0     Current or Former                  Severe\n",
       "1                 Never                    Mild\n",
       "2                 Never                Moderate\n",
       "3                 Never                Moderate\n",
       "4                 Never                    Mild\n",
       "...                 ...                     ...\n",
       "1378  Current or Former                    Mild\n",
       "1379              Never                Moderate\n",
       "1380              Never                    Mild\n",
       "1381              Never                Moderate\n",
       "1382              Never                Moderate\n",
       "\n",
       "[1383 rows x 2 columns]"
      ]
     },
     "execution_count": 20,
     "metadata": {},
     "output_type": "execute_result"
    }
   ],
   "source": [
    "# Creating a data frame for the Severity of COVID and the smoking status\n",
    "Covid_Smoking_df = pd.DataFrame(raw_data[[\"der_smoking2\", \"severity_of_covid_19_v2\"]])\n",
    "Covid_Smoking_df"
   ]
  },
  {
   "cell_type": "code",
   "execution_count": 21,
   "id": "2cdc3f23",
   "metadata": {},
   "outputs": [
    {
     "data": {
      "text/html": [
       "<div>\n",
       "<style scoped>\n",
       "    .dataframe tbody tr th:only-of-type {\n",
       "        vertical-align: middle;\n",
       "    }\n",
       "\n",
       "    .dataframe tbody tr th {\n",
       "        vertical-align: top;\n",
       "    }\n",
       "\n",
       "    .dataframe thead th {\n",
       "        text-align: right;\n",
       "    }\n",
       "</style>\n",
       "<table border=\"1\" class=\"dataframe\">\n",
       "  <thead>\n",
       "    <tr style=\"text-align: right;\">\n",
       "      <th></th>\n",
       "      <th>der_smoking2</th>\n",
       "      <th>severity_of_covid_19_v2</th>\n",
       "    </tr>\n",
       "  </thead>\n",
       "  <tbody>\n",
       "    <tr>\n",
       "      <th>93</th>\n",
       "      <td>Never</td>\n",
       "      <td>Mild</td>\n",
       "    </tr>\n",
       "    <tr>\n",
       "      <th>459</th>\n",
       "      <td>Never</td>\n",
       "      <td>Mild</td>\n",
       "    </tr>\n",
       "    <tr>\n",
       "      <th>879</th>\n",
       "      <td>Current or Former</td>\n",
       "      <td>Mild</td>\n",
       "    </tr>\n",
       "    <tr>\n",
       "      <th>109</th>\n",
       "      <td>Current or Former</td>\n",
       "      <td>Mild</td>\n",
       "    </tr>\n",
       "    <tr>\n",
       "      <th>169</th>\n",
       "      <td>Never</td>\n",
       "      <td>Mild</td>\n",
       "    </tr>\n",
       "    <tr>\n",
       "      <th>903</th>\n",
       "      <td>Never</td>\n",
       "      <td>Moderate</td>\n",
       "    </tr>\n",
       "    <tr>\n",
       "      <th>866</th>\n",
       "      <td>Current or Former</td>\n",
       "      <td>Mild</td>\n",
       "    </tr>\n",
       "    <tr>\n",
       "      <th>1060</th>\n",
       "      <td>Never</td>\n",
       "      <td>Moderate</td>\n",
       "    </tr>\n",
       "    <tr>\n",
       "      <th>212</th>\n",
       "      <td>Current or Former</td>\n",
       "      <td>Moderate</td>\n",
       "    </tr>\n",
       "    <tr>\n",
       "      <th>784</th>\n",
       "      <td>Never</td>\n",
       "      <td>Mild</td>\n",
       "    </tr>\n",
       "    <tr>\n",
       "      <th>225</th>\n",
       "      <td>Current or Former</td>\n",
       "      <td>Mild</td>\n",
       "    </tr>\n",
       "    <tr>\n",
       "      <th>490</th>\n",
       "      <td>Current or Former</td>\n",
       "      <td>Mild</td>\n",
       "    </tr>\n",
       "    <tr>\n",
       "      <th>679</th>\n",
       "      <td>Never</td>\n",
       "      <td>Mild</td>\n",
       "    </tr>\n",
       "    <tr>\n",
       "      <th>333</th>\n",
       "      <td>Never</td>\n",
       "      <td>Mild</td>\n",
       "    </tr>\n",
       "    <tr>\n",
       "      <th>712</th>\n",
       "      <td>Never</td>\n",
       "      <td>Moderate</td>\n",
       "    </tr>\n",
       "    <tr>\n",
       "      <th>1005</th>\n",
       "      <td>Never</td>\n",
       "      <td>Mild</td>\n",
       "    </tr>\n",
       "    <tr>\n",
       "      <th>657</th>\n",
       "      <td>Never</td>\n",
       "      <td>Mild</td>\n",
       "    </tr>\n",
       "    <tr>\n",
       "      <th>877</th>\n",
       "      <td>Current or Former</td>\n",
       "      <td>Mild</td>\n",
       "    </tr>\n",
       "    <tr>\n",
       "      <th>720</th>\n",
       "      <td>Never</td>\n",
       "      <td>Mild</td>\n",
       "    </tr>\n",
       "    <tr>\n",
       "      <th>417</th>\n",
       "      <td>Current or Former</td>\n",
       "      <td>Mild</td>\n",
       "    </tr>\n",
       "  </tbody>\n",
       "</table>\n",
       "</div>"
      ],
      "text/plain": [
       "           der_smoking2 severity_of_covid_19_v2\n",
       "93                Never                    Mild\n",
       "459               Never                    Mild\n",
       "879   Current or Former                    Mild\n",
       "109   Current or Former                    Mild\n",
       "169               Never                    Mild\n",
       "903               Never                Moderate\n",
       "866   Current or Former                    Mild\n",
       "1060              Never                Moderate\n",
       "212   Current or Former                Moderate\n",
       "784               Never                    Mild\n",
       "225   Current or Former                    Mild\n",
       "490   Current or Former                    Mild\n",
       "679               Never                    Mild\n",
       "333               Never                    Mild\n",
       "712               Never                Moderate\n",
       "1005              Never                    Mild\n",
       "657               Never                    Mild\n",
       "877   Current or Former                    Mild\n",
       "720               Never                    Mild\n",
       "417   Current or Former                    Mild"
      ]
     },
     "execution_count": 21,
     "metadata": {},
     "output_type": "execute_result"
    }
   ],
   "source": [
    "# Cleaning the empty cells \n",
    "Covid_Smoking_df = Covid_Smoking_df.dropna()\n",
    "Covid_Smoking_df.sample(20)"
   ]
  },
  {
   "cell_type": "code",
   "execution_count": 22,
   "id": "392bb261",
   "metadata": {},
   "outputs": [],
   "source": [
    "# Creating an empty list to hold the values for smoker individuals with different severity of COVID\n",
    "Smoker_Covid_Count = []"
   ]
  },
  {
   "cell_type": "code",
   "execution_count": 23,
   "id": "c4fc90ea",
   "metadata": {},
   "outputs": [
    {
     "name": "stdout",
     "output_type": "stream",
     "text": [
      "[281]\n"
     ]
    }
   ],
   "source": [
    "# Individuals who are smokers and their covid status is Mild\n",
    "Smoker_Mild = Covid_Smoking_df.loc[(Covid_Smoking_df[\"der_smoking2\"] == \"Current or Former\") & (Covid_Smoking_df[\"severity_of_covid_19_v2\"] == \"Mild\")]\n",
    "Smoker_Mild_Count = len(Smoker_Mild)\n",
    "Smoker_Covid_Count.append(Smoker_Mild_Count)\n",
    "print(Smoker_Covid_Count)"
   ]
  },
  {
   "cell_type": "code",
   "execution_count": 24,
   "id": "112f3cb2",
   "metadata": {},
   "outputs": [
    {
     "name": "stdout",
     "output_type": "stream",
     "text": [
      "[281, 139]\n"
     ]
    }
   ],
   "source": [
    "# Individuals who are smokers and their covid status is Moderate\n",
    "Smoker_Moderate = Covid_Smoking_df.loc[(Covid_Smoking_df[\"der_smoking2\"] == \"Current or Former\") & (Covid_Smoking_df[\"severity_of_covid_19_v2\"] == \"Moderate\")]\n",
    "Smoker_Moderate_Count = len(Smoker_Moderate)\n",
    "Smoker_Covid_Count.append(Smoker_Moderate_Count)\n",
    "print(Smoker_Covid_Count)"
   ]
  },
  {
   "cell_type": "code",
   "execution_count": 25,
   "id": "0814df65",
   "metadata": {},
   "outputs": [
    {
     "name": "stdout",
     "output_type": "stream",
     "text": [
      "[281, 139, 21]\n"
     ]
    }
   ],
   "source": [
    "# Individuals who are smokers and their covid status is Severe\n",
    "Smoker_Severe = Covid_Smoking_df.loc[(Covid_Smoking_df[\"der_smoking2\"] == \"Current or Former\") & (Covid_Smoking_df[\"severity_of_covid_19_v2\"] == \"Severe\")]\n",
    "Smoker_Severe_Count = len(Smoker_Severe)\n",
    "Smoker_Covid_Count.append(Smoker_Severe_Count)\n",
    "print(Smoker_Covid_Count)"
   ]
  },
  {
   "cell_type": "code",
   "execution_count": 26,
   "id": "5fd08f71",
   "metadata": {},
   "outputs": [],
   "source": [
    "# Creating an empty list to hold the values for non-smoker individuals with different severity of COVID\n",
    "NonSmoker_Covid_Count = []"
   ]
  },
  {
   "cell_type": "code",
   "execution_count": 27,
   "id": "e2cd6593",
   "metadata": {},
   "outputs": [
    {
     "name": "stdout",
     "output_type": "stream",
     "text": [
      "[665]\n"
     ]
    }
   ],
   "source": [
    "# Individuals who are smokers and their covid status is Mild\n",
    "NonSmoker_Mild = Covid_Smoking_df.loc[(Covid_Smoking_df[\"der_smoking2\"] == \"Never\") & (Covid_Smoking_df[\"severity_of_covid_19_v2\"] == \"Mild\")]\n",
    "NonSmoker_Mild_Count = len(NonSmoker_Mild)\n",
    "NonSmoker_Covid_Count.append(NonSmoker_Mild_Count)\n",
    "print(NonSmoker_Covid_Count)"
   ]
  },
  {
   "cell_type": "code",
   "execution_count": 28,
   "id": "9be12a17",
   "metadata": {},
   "outputs": [
    {
     "name": "stdout",
     "output_type": "stream",
     "text": [
      "[665, 214]\n"
     ]
    }
   ],
   "source": [
    "# Individuals who are smokers and their covid status is Moderate\n",
    "NonSmoker_Moderate = Covid_Smoking_df.loc[(Covid_Smoking_df[\"der_smoking2\"] == \"Never\") & (Covid_Smoking_df[\"severity_of_covid_19_v2\"] == \"Moderate\")]\n",
    "NonSmoker_Moderate_Count = len(NonSmoker_Moderate)\n",
    "NonSmoker_Covid_Count.append(NonSmoker_Moderate_Count)\n",
    "print(NonSmoker_Covid_Count)"
   ]
  },
  {
   "cell_type": "code",
   "execution_count": 29,
   "id": "34e85bfa",
   "metadata": {},
   "outputs": [
    {
     "name": "stdout",
     "output_type": "stream",
     "text": [
      "[665, 214, 31]\n"
     ]
    }
   ],
   "source": [
    "# Individuals who are smokers and their covid status is Severe\n",
    "NonSmoker_Severe = Covid_Smoking_df.loc[(Covid_Smoking_df[\"der_smoking2\"] == \"Never\") & (Covid_Smoking_df[\"severity_of_covid_19_v2\"] == \"Severe\")]\n",
    "NonSmoker_Severe_Count = len(NonSmoker_Severe)\n",
    "NonSmoker_Covid_Count.append(NonSmoker_Severe_Count)\n",
    "print(NonSmoker_Covid_Count)"
   ]
  },
  {
   "cell_type": "code",
   "execution_count": 30,
   "id": "8cb106ca",
   "metadata": {},
   "outputs": [
    {
     "data": {
      "text/html": [
       "<div>\n",
       "<style scoped>\n",
       "    .dataframe tbody tr th:only-of-type {\n",
       "        vertical-align: middle;\n",
       "    }\n",
       "\n",
       "    .dataframe tbody tr th {\n",
       "        vertical-align: top;\n",
       "    }\n",
       "\n",
       "    .dataframe thead th {\n",
       "        text-align: right;\n",
       "    }\n",
       "</style>\n",
       "<table border=\"1\" class=\"dataframe\">\n",
       "  <thead>\n",
       "    <tr style=\"text-align: right;\">\n",
       "      <th></th>\n",
       "      <th>Smoker_Covid_Count</th>\n",
       "      <th>NonSmoker_Covid_Count</th>\n",
       "    </tr>\n",
       "  </thead>\n",
       "  <tbody>\n",
       "    <tr>\n",
       "      <th>Mild</th>\n",
       "      <td>281</td>\n",
       "      <td>665</td>\n",
       "    </tr>\n",
       "    <tr>\n",
       "      <th>Moderate</th>\n",
       "      <td>139</td>\n",
       "      <td>214</td>\n",
       "    </tr>\n",
       "    <tr>\n",
       "      <th>Severe</th>\n",
       "      <td>21</td>\n",
       "      <td>31</td>\n",
       "    </tr>\n",
       "  </tbody>\n",
       "</table>\n",
       "</div>"
      ],
      "text/plain": [
       "          Smoker_Covid_Count  NonSmoker_Covid_Count\n",
       "Mild                     281                    665\n",
       "Moderate                 139                    214\n",
       "Severe                    21                     31"
      ]
     },
     "execution_count": 30,
     "metadata": {},
     "output_type": "execute_result"
    }
   ],
   "source": [
    "# Creating a data frame which includes both the Smoker_Covid_Count & NonSmoker_Covid_Count for comparison as well as plotting.\n",
    "Covid_Status = [\"Mild\", \"Moderate\" , \"Severe\"]\n",
    "Smoker_NonSmoker_Covid_DF = pd.DataFrame (\n",
    "    {\n",
    "        \"Smoker_Covid_Count\" : Smoker_Covid_Count,\n",
    "        \"NonSmoker_Covid_Count\" : NonSmoker_Covid_Count},\n",
    "        index = Covid_Status\n",
    "    \n",
    ")\n",
    "\n",
    "Smoker_NonSmoker_Covid_DF"
   ]
  },
  {
   "cell_type": "code",
   "execution_count": 31,
   "id": "ba8ac660",
   "metadata": {},
   "outputs": [
    {
     "data": {
      "image/png": "[encoded data removed]",
      "text/plain": [
       "<Figure size 640x480 with 1 Axes>"
      ]
     },
     "metadata": {},
     "output_type": "display_data"
    }
   ],
   "source": [
    "# Plotting\n",
    "Smoker_NonSmoker_Covid_plot = Smoker_NonSmoker_Covid_DF.plot.bar(rot=0)\n",
    "plt.title(\"Smoker & COVID VS. Non-Smoker & COVID    [Smoking_Plot(3)]\")\n",
    "plt.xlabel(\"Covid_Status\")\n",
    "plt.ylabel(\"Number of Smokers_COVID & Non-Smokers_COVID\")\n",
    "# Save the figure\n",
    "plt.savefig(\"Smoking_Output_Data/SmokingQ_Plot(3).png\")"
   ]
  },
  {
   "cell_type": "markdown",
   "id": "e0ef2889",
   "metadata": {},
   "source": [
    "## Breast Cancer Status & Severity of COVID VS. Smoking Status"
   ]
  },
  {
   "cell_type": "code",
   "execution_count": 32,
   "id": "86859b15",
   "metadata": {},
   "outputs": [
    {
     "data": {
      "text/html": [
       "<div>\n",
       "<style scoped>\n",
       "    .dataframe tbody tr th:only-of-type {\n",
       "        vertical-align: middle;\n",
       "    }\n",
       "\n",
       "    .dataframe tbody tr th {\n",
       "        vertical-align: top;\n",
       "    }\n",
       "\n",
       "    .dataframe thead th {\n",
       "        text-align: right;\n",
       "    }\n",
       "</style>\n",
       "<table border=\"1\" class=\"dataframe\">\n",
       "  <thead>\n",
       "    <tr style=\"text-align: right;\">\n",
       "      <th></th>\n",
       "      <th>der_smoking2</th>\n",
       "      <th>der_cancer_status_v4</th>\n",
       "      <th>severity_of_covid_19_v2</th>\n",
       "    </tr>\n",
       "  </thead>\n",
       "  <tbody>\n",
       "    <tr>\n",
       "      <th>0</th>\n",
       "      <td>Current or Former</td>\n",
       "      <td>Active and responding</td>\n",
       "      <td>Severe</td>\n",
       "    </tr>\n",
       "    <tr>\n",
       "      <th>1</th>\n",
       "      <td>Never</td>\n",
       "      <td>Active and stable</td>\n",
       "      <td>Mild</td>\n",
       "    </tr>\n",
       "    <tr>\n",
       "      <th>2</th>\n",
       "      <td>Never</td>\n",
       "      <td>NaN</td>\n",
       "      <td>Moderate</td>\n",
       "    </tr>\n",
       "    <tr>\n",
       "      <th>3</th>\n",
       "      <td>Never</td>\n",
       "      <td>Unknown</td>\n",
       "      <td>Moderate</td>\n",
       "    </tr>\n",
       "    <tr>\n",
       "      <th>4</th>\n",
       "      <td>Never</td>\n",
       "      <td>Active and responding</td>\n",
       "      <td>Mild</td>\n",
       "    </tr>\n",
       "    <tr>\n",
       "      <th>...</th>\n",
       "      <td>...</td>\n",
       "      <td>...</td>\n",
       "      <td>...</td>\n",
       "    </tr>\n",
       "    <tr>\n",
       "      <th>1378</th>\n",
       "      <td>Current or Former</td>\n",
       "      <td>Active and responding</td>\n",
       "      <td>Mild</td>\n",
       "    </tr>\n",
       "    <tr>\n",
       "      <th>1379</th>\n",
       "      <td>Never</td>\n",
       "      <td>Active and responding</td>\n",
       "      <td>Moderate</td>\n",
       "    </tr>\n",
       "    <tr>\n",
       "      <th>1380</th>\n",
       "      <td>Never</td>\n",
       "      <td>Remission or no evidence of disease, &gt;5 years</td>\n",
       "      <td>Mild</td>\n",
       "    </tr>\n",
       "    <tr>\n",
       "      <th>1381</th>\n",
       "      <td>Never</td>\n",
       "      <td>Unknown</td>\n",
       "      <td>Moderate</td>\n",
       "    </tr>\n",
       "    <tr>\n",
       "      <th>1382</th>\n",
       "      <td>Never</td>\n",
       "      <td>Active and stable</td>\n",
       "      <td>Moderate</td>\n",
       "    </tr>\n",
       "  </tbody>\n",
       "</table>\n",
       "<p>1383 rows × 3 columns</p>\n",
       "</div>"
      ],
      "text/plain": [
       "           der_smoking2                           der_cancer_status_v4  \\\n",
       "0     Current or Former                          Active and responding   \n",
       "1                 Never                              Active and stable   \n",
       "2                 Never                                            NaN   \n",
       "3                 Never                                        Unknown   \n",
       "4                 Never                          Active and responding   \n",
       "...                 ...                                            ...   \n",
       "1378  Current or Former                          Active and responding   \n",
       "1379              Never                          Active and responding   \n",
       "1380              Never  Remission or no evidence of disease, >5 years   \n",
       "1381              Never                                        Unknown   \n",
       "1382              Never                              Active and stable   \n",
       "\n",
       "     severity_of_covid_19_v2  \n",
       "0                     Severe  \n",
       "1                       Mild  \n",
       "2                   Moderate  \n",
       "3                   Moderate  \n",
       "4                       Mild  \n",
       "...                      ...  \n",
       "1378                    Mild  \n",
       "1379                Moderate  \n",
       "1380                    Mild  \n",
       "1381                Moderate  \n",
       "1382                Moderate  \n",
       "\n",
       "[1383 rows x 3 columns]"
      ]
     },
     "execution_count": 32,
     "metadata": {},
     "output_type": "execute_result"
    }
   ],
   "source": [
    "# Creating a data frame for the cancer status, Severity of COVID, and the smoking status\n",
    "Cancer_Covid_Smoking_df = pd.DataFrame(raw_data[[\"der_smoking2\", \"der_cancer_status_v4\", \"severity_of_covid_19_v2\"]])\n",
    "Cancer_Covid_Smoking_df"
   ]
  },
  {
   "cell_type": "code",
   "execution_count": 33,
   "id": "8c288556",
   "metadata": {},
   "outputs": [
    {
     "data": {
      "text/html": [
       "<div>\n",
       "<style scoped>\n",
       "    .dataframe tbody tr th:only-of-type {\n",
       "        vertical-align: middle;\n",
       "    }\n",
       "\n",
       "    .dataframe tbody tr th {\n",
       "        vertical-align: top;\n",
       "    }\n",
       "\n",
       "    .dataframe thead th {\n",
       "        text-align: right;\n",
       "    }\n",
       "</style>\n",
       "<table border=\"1\" class=\"dataframe\">\n",
       "  <thead>\n",
       "    <tr style=\"text-align: right;\">\n",
       "      <th></th>\n",
       "      <th>der_smoking2</th>\n",
       "      <th>der_cancer_status_v4</th>\n",
       "      <th>severity_of_covid_19_v2</th>\n",
       "    </tr>\n",
       "  </thead>\n",
       "  <tbody>\n",
       "    <tr>\n",
       "      <th>421</th>\n",
       "      <td>Never</td>\n",
       "      <td>Remission or no evidence of disease, &lt;5 years</td>\n",
       "      <td>Mild</td>\n",
       "    </tr>\n",
       "    <tr>\n",
       "      <th>100</th>\n",
       "      <td>Current or Former</td>\n",
       "      <td>Remission or no evidence of disease, &lt;5 years</td>\n",
       "      <td>Mild</td>\n",
       "    </tr>\n",
       "    <tr>\n",
       "      <th>650</th>\n",
       "      <td>Current or Former</td>\n",
       "      <td>Active and stable</td>\n",
       "      <td>Moderate</td>\n",
       "    </tr>\n",
       "    <tr>\n",
       "      <th>259</th>\n",
       "      <td>Current or Former</td>\n",
       "      <td>Remission or no evidence of disease, &gt;5 years</td>\n",
       "      <td>Mild</td>\n",
       "    </tr>\n",
       "    <tr>\n",
       "      <th>239</th>\n",
       "      <td>Never</td>\n",
       "      <td>Remission or no evidence of disease, &gt;5 years</td>\n",
       "      <td>Mild</td>\n",
       "    </tr>\n",
       "    <tr>\n",
       "      <th>631</th>\n",
       "      <td>Never</td>\n",
       "      <td>Remission or no evidence of disease, &lt;5 years</td>\n",
       "      <td>Mild</td>\n",
       "    </tr>\n",
       "    <tr>\n",
       "      <th>897</th>\n",
       "      <td>Never</td>\n",
       "      <td>Remission or no evidence of disease, &lt;5 years</td>\n",
       "      <td>Mild</td>\n",
       "    </tr>\n",
       "    <tr>\n",
       "      <th>927</th>\n",
       "      <td>Never</td>\n",
       "      <td>Remission or no evidence of disease, &gt;5 years</td>\n",
       "      <td>Mild</td>\n",
       "    </tr>\n",
       "    <tr>\n",
       "      <th>991</th>\n",
       "      <td>Never</td>\n",
       "      <td>Remission or no evidence of disease, &gt;5 years</td>\n",
       "      <td>Mild</td>\n",
       "    </tr>\n",
       "    <tr>\n",
       "      <th>415</th>\n",
       "      <td>Current or Former</td>\n",
       "      <td>Active and stable</td>\n",
       "      <td>Mild</td>\n",
       "    </tr>\n",
       "    <tr>\n",
       "      <th>668</th>\n",
       "      <td>Never</td>\n",
       "      <td>Remission or no evidence of disease, &gt;5 years</td>\n",
       "      <td>Mild</td>\n",
       "    </tr>\n",
       "    <tr>\n",
       "      <th>946</th>\n",
       "      <td>Never</td>\n",
       "      <td>Remission or no evidence of disease, &lt;5 years</td>\n",
       "      <td>Mild</td>\n",
       "    </tr>\n",
       "    <tr>\n",
       "      <th>287</th>\n",
       "      <td>Never</td>\n",
       "      <td>Remission or no evidence of disease, &lt;5 years</td>\n",
       "      <td>Mild</td>\n",
       "    </tr>\n",
       "    <tr>\n",
       "      <th>839</th>\n",
       "      <td>Never</td>\n",
       "      <td>Remission or no evidence of disease, &gt;5 years</td>\n",
       "      <td>Mild</td>\n",
       "    </tr>\n",
       "    <tr>\n",
       "      <th>851</th>\n",
       "      <td>Current or Former</td>\n",
       "      <td>Remission or no evidence of disease, &gt;5 years</td>\n",
       "      <td>Moderate</td>\n",
       "    </tr>\n",
       "    <tr>\n",
       "      <th>694</th>\n",
       "      <td>Never</td>\n",
       "      <td>Active and responding</td>\n",
       "      <td>Mild</td>\n",
       "    </tr>\n",
       "    <tr>\n",
       "      <th>272</th>\n",
       "      <td>Current or Former</td>\n",
       "      <td>Unknown</td>\n",
       "      <td>Mild</td>\n",
       "    </tr>\n",
       "    <tr>\n",
       "      <th>267</th>\n",
       "      <td>Never</td>\n",
       "      <td>Unknown</td>\n",
       "      <td>Mild</td>\n",
       "    </tr>\n",
       "    <tr>\n",
       "      <th>86</th>\n",
       "      <td>Never</td>\n",
       "      <td>Active and responding</td>\n",
       "      <td>Moderate</td>\n",
       "    </tr>\n",
       "    <tr>\n",
       "      <th>69</th>\n",
       "      <td>Never</td>\n",
       "      <td>Remission or no evidence of disease, &lt;5 years</td>\n",
       "      <td>Mild</td>\n",
       "    </tr>\n",
       "  </tbody>\n",
       "</table>\n",
       "</div>"
      ],
      "text/plain": [
       "          der_smoking2                           der_cancer_status_v4  \\\n",
       "421              Never  Remission or no evidence of disease, <5 years   \n",
       "100  Current or Former  Remission or no evidence of disease, <5 years   \n",
       "650  Current or Former                              Active and stable   \n",
       "259  Current or Former  Remission or no evidence of disease, >5 years   \n",
       "239              Never  Remission or no evidence of disease, >5 years   \n",
       "631              Never  Remission or no evidence of disease, <5 years   \n",
       "897              Never  Remission or no evidence of disease, <5 years   \n",
       "927              Never  Remission or no evidence of disease, >5 years   \n",
       "991              Never  Remission or no evidence of disease, >5 years   \n",
       "415  Current or Former                              Active and stable   \n",
       "668              Never  Remission or no evidence of disease, >5 years   \n",
       "946              Never  Remission or no evidence of disease, <5 years   \n",
       "287              Never  Remission or no evidence of disease, <5 years   \n",
       "839              Never  Remission or no evidence of disease, >5 years   \n",
       "851  Current or Former  Remission or no evidence of disease, >5 years   \n",
       "694              Never                          Active and responding   \n",
       "272  Current or Former                                        Unknown   \n",
       "267              Never                                        Unknown   \n",
       "86               Never                          Active and responding   \n",
       "69               Never  Remission or no evidence of disease, <5 years   \n",
       "\n",
       "    severity_of_covid_19_v2  \n",
       "421                    Mild  \n",
       "100                    Mild  \n",
       "650                Moderate  \n",
       "259                    Mild  \n",
       "239                    Mild  \n",
       "631                    Mild  \n",
       "897                    Mild  \n",
       "927                    Mild  \n",
       "991                    Mild  \n",
       "415                    Mild  \n",
       "668                    Mild  \n",
       "946                    Mild  \n",
       "287                    Mild  \n",
       "839                    Mild  \n",
       "851                Moderate  \n",
       "694                    Mild  \n",
       "272                    Mild  \n",
       "267                    Mild  \n",
       "86                 Moderate  \n",
       "69                     Mild  "
      ]
     },
     "execution_count": 33,
     "metadata": {},
     "output_type": "execute_result"
    }
   ],
   "source": [
    "# Cleaning the empty cells \n",
    "Cancer_Covid_Smoking_df = Cancer_Covid_Smoking_df.dropna()\n",
    "Cancer_Covid_Smoking_df.sample(20)"
   ]
  },
  {
   "cell_type": "code",
   "execution_count": 143,
   "id": "169fa958",
   "metadata": {},
   "outputs": [],
   "source": [
    "# Smoker\n",
    "# Mild Covid\n",
    "# Creating an empty list to hold the values for smoker individuals with a mild COVID severity & different breast cancer status\n",
    "Smoker_BC_MildCov_Count = []"
   ]
  },
  {
   "cell_type": "code",
   "execution_count": 144,
   "id": "78fb8ffb",
   "metadata": {},
   "outputs": [
    {
     "name": "stdout",
     "output_type": "stream",
     "text": [
      "[35]\n"
     ]
    }
   ],
   "source": [
    "# Individuals who are smokers and their covid status is Mild and their cancer status is Active and responding\n",
    "Smoker_Mild_A_Responding = Cancer_Covid_Smoking_df.loc[(Cancer_Covid_Smoking_df[\"der_smoking2\"] == \"Current or Former\") & (Cancer_Covid_Smoking_df[\"severity_of_covid_19_v2\"] == \"Mild\") & (Cancer_Covid_Smoking_df[\"der_cancer_status_v4\"] == \"Active and responding\")]\n",
    "Smoker_Mild_A_Responding_Count = len(Smoker_Mild_A_Responding)\n",
    "Smoker_BC_MildCov_Count.append(Smoker_Mild_A_Responding_Count)\n",
    "print(Smoker_BC_MildCov_Count)"
   ]
  },
  {
   "cell_type": "code",
   "execution_count": 145,
   "id": "e701f86d",
   "metadata": {},
   "outputs": [
    {
     "name": "stdout",
     "output_type": "stream",
     "text": [
      "[35, 37]\n"
     ]
    }
   ],
   "source": [
    "# Individuals who are smokers and their covid status is Mild and their cancer status is Active and stable\n",
    "Smoker_Mild_A_stable = Cancer_Covid_Smoking_df.loc[(Cancer_Covid_Smoking_df[\"der_smoking2\"] == \"Current or Former\") & (Cancer_Covid_Smoking_df[\"severity_of_covid_19_v2\"] == \"Mild\") & (Cancer_Covid_Smoking_df[\"der_cancer_status_v4\"] == \"Active and stable\")]\n",
    "Smoker_Mild_A_stable_Count = len(Smoker_Mild_A_stable)\n",
    "Smoker_BC_MildCov_Count.append(Smoker_Mild_A_stable_Count)\n",
    "print(Smoker_BC_MildCov_Count)"
   ]
  },
  {
   "cell_type": "code",
   "execution_count": 146,
   "id": "520665f2",
   "metadata": {},
   "outputs": [
    {
     "name": "stdout",
     "output_type": "stream",
     "text": [
      "[35, 37, 12]\n"
     ]
    }
   ],
   "source": [
    "# Individuals who are smokers and their covid status is Mild and their cancer status is Active and progressing\n",
    "Smoker_Mild_A_progressing = Cancer_Covid_Smoking_df.loc[(Cancer_Covid_Smoking_df[\"der_smoking2\"] == \"Current or Former\") & (Cancer_Covid_Smoking_df[\"severity_of_covid_19_v2\"] == \"Mild\") & (Cancer_Covid_Smoking_df[\"der_cancer_status_v4\"] == \"Active and progressing\")]\n",
    "Smoker_Mild_A_progressing_Count = len(Smoker_Mild_A_progressing)\n",
    "Smoker_BC_MildCov_Count.append(Smoker_Mild_A_progressing_Count)\n",
    "print(Smoker_BC_MildCov_Count)"
   ]
  },
  {
   "cell_type": "code",
   "execution_count": 147,
   "id": "cd2dda7e",
   "metadata": {},
   "outputs": [],
   "source": [
    "# Smoker\n",
    "# Moderate Covid\n",
    "# Creating an empty list to hold the values for smoker individuals with a moderate COVID severity & different breast cancer status\n",
    "Smoker_BC_ModerateCov_Count = []"
   ]
  },
  {
   "cell_type": "code",
   "execution_count": 148,
   "id": "4cc2fbe8",
   "metadata": {},
   "outputs": [
    {
     "name": "stdout",
     "output_type": "stream",
     "text": [
      "[17]\n"
     ]
    }
   ],
   "source": [
    "# Individuals who are smokers and their covid status is Moderate and their cancer status is Active and responding\n",
    "Smoker_Moderate_A_Responding = Cancer_Covid_Smoking_df.loc[(Cancer_Covid_Smoking_df[\"der_smoking2\"] == \"Current or Former\") & (Cancer_Covid_Smoking_df[\"severity_of_covid_19_v2\"] == \"Moderate\") & (Cancer_Covid_Smoking_df[\"der_cancer_status_v4\"] == \"Active and responding\")]\n",
    "Smoker_Moderate_A_Responding_Count = len(Smoker_Moderate_A_Responding)\n",
    "Smoker_BC_ModerateCov_Count.append(Smoker_Moderate_A_Responding_Count)\n",
    "print(Smoker_BC_ModerateCov_Count)"
   ]
  },
  {
   "cell_type": "code",
   "execution_count": 149,
   "id": "a5a60005",
   "metadata": {},
   "outputs": [
    {
     "name": "stdout",
     "output_type": "stream",
     "text": [
      "[17, 15]\n"
     ]
    }
   ],
   "source": [
    "# Individuals who are smokers and their covid status is Moderate and their cancer status is Active and stable\n",
    "Smoker_Moderate_A_stable = Cancer_Covid_Smoking_df.loc[(Cancer_Covid_Smoking_df[\"der_smoking2\"] == \"Current or Former\") & (Cancer_Covid_Smoking_df[\"severity_of_covid_19_v2\"] == \"Moderate\") & (Cancer_Covid_Smoking_df[\"der_cancer_status_v4\"] == \"Active and stable\")]\n",
    "Smoker_Moderate_A_stable_Count = len(Smoker_Moderate_A_stable)\n",
    "Smoker_BC_ModerateCov_Count.append(Smoker_Moderate_A_stable_Count)\n",
    "print(Smoker_BC_ModerateCov_Count)"
   ]
  },
  {
   "cell_type": "code",
   "execution_count": 150,
   "id": "dd1958e3",
   "metadata": {},
   "outputs": [
    {
     "name": "stdout",
     "output_type": "stream",
     "text": [
      "[17, 15, 16]\n"
     ]
    }
   ],
   "source": [
    "# Individuals who are smokers and their covid status is Moderate and their cancer status is Active and progressing\n",
    "Smoker_Moderate_A_progressing = Cancer_Covid_Smoking_df.loc[(Cancer_Covid_Smoking_df[\"der_smoking2\"] == \"Current or Former\") & (Cancer_Covid_Smoking_df[\"severity_of_covid_19_v2\"] == \"Moderate\") & (Cancer_Covid_Smoking_df[\"der_cancer_status_v4\"] == \"Active and progressing\")]\n",
    "Smoker_Moderate_A_progressing_Count = len(Smoker_Moderate_A_progressing)\n",
    "Smoker_BC_ModerateCov_Count.append(Smoker_Moderate_A_progressing_Count)\n",
    "print(Smoker_BC_ModerateCov_Count)"
   ]
  },
  {
   "cell_type": "code",
   "execution_count": 151,
   "id": "72384b5c",
   "metadata": {},
   "outputs": [],
   "source": [
    "# Smoker\n",
    "# Severe Covid\n",
    "# Creating an empty list to hold the values for smoker individuals with a severe COVID severity & different breast cancer status\n",
    "Smoker_BC_SevereCov_Count = []"
   ]
  },
  {
   "cell_type": "code",
   "execution_count": 152,
   "id": "8e26968f",
   "metadata": {},
   "outputs": [
    {
     "name": "stdout",
     "output_type": "stream",
     "text": [
      "[2]\n"
     ]
    }
   ],
   "source": [
    "# Individuals who are smokers and their covid status is Severe and their cancer status is Active and responding\n",
    "Smoker_Severe_A_Responding = Cancer_Covid_Smoking_df.loc[(Cancer_Covid_Smoking_df[\"der_smoking2\"] == \"Current or Former\") & (Cancer_Covid_Smoking_df[\"severity_of_covid_19_v2\"] == \"Severe\") & (Cancer_Covid_Smoking_df[\"der_cancer_status_v4\"] == \"Active and responding\")]\n",
    "Smoker_Severe_A_Responding_Count = len(Smoker_Severe_A_Responding)\n",
    "Smoker_BC_SevereCov_Count.append(Smoker_Severe_A_Responding_Count)\n",
    "print(Smoker_BC_SevereCov_Count)"
   ]
  },
  {
   "cell_type": "code",
   "execution_count": 153,
   "id": "32dd4832",
   "metadata": {},
   "outputs": [
    {
     "name": "stdout",
     "output_type": "stream",
     "text": [
      "[2, 0]\n"
     ]
    }
   ],
   "source": [
    "# Individuals who are smokers and their covid status is Severe and their cancer status is Active and stable\n",
    "Smoker_Severe_A_stable = Cancer_Covid_Smoking_df.loc[(Cancer_Covid_Smoking_df[\"der_smoking2\"] == \"Current or Former\") & (Cancer_Covid_Smoking_df[\"severity_of_covid_19_v2\"] == \"Severe\") & (Cancer_Covid_Smoking_df[\"der_cancer_status_v4\"] == \"Active and stable\")]\n",
    "Smoker_Severe_A_stable_Count = len(Smoker_Severe_A_stable)\n",
    "Smoker_BC_SevereCov_Count.append(Smoker_Severe_A_stable_Count)\n",
    "print(Smoker_BC_SevereCov_Count)"
   ]
  },
  {
   "cell_type": "code",
   "execution_count": 154,
   "id": "f2780f62",
   "metadata": {},
   "outputs": [
    {
     "name": "stdout",
     "output_type": "stream",
     "text": [
      "[2, 0, 5]\n"
     ]
    }
   ],
   "source": [
    "# Individuals who are smokers and their covid status is Severe and their cancer status is Active and progressing\n",
    "Smoker_Severe_A_progressing = Cancer_Covid_Smoking_df.loc[(Cancer_Covid_Smoking_df[\"der_smoking2\"] == \"Current or Former\") & (Cancer_Covid_Smoking_df[\"severity_of_covid_19_v2\"] == \"Severe\") & (Cancer_Covid_Smoking_df[\"der_cancer_status_v4\"] == \"Active and progressing\")]\n",
    "Smoker_Severe_A_progressing_Count = len(Smoker_Severe_A_progressing)\n",
    "Smoker_BC_SevereCov_Count.append(Smoker_Severe_A_progressing_Count)\n",
    "print(Smoker_BC_SevereCov_Count)"
   ]
  },
  {
   "cell_type": "code",
   "execution_count": 155,
   "id": "996bcc8b",
   "metadata": {},
   "outputs": [],
   "source": [
    "# Non-Smoker\n",
    "# Mild Covid\n",
    "# Creating an empty list to hold the values for non-smoker individuals with a mild COVID severity & different breast cancer status\n",
    "NonSmoker_BC_MildCov_Count = []"
   ]
  },
  {
   "cell_type": "code",
   "execution_count": 156,
   "id": "ec7abc7d",
   "metadata": {},
   "outputs": [
    {
     "name": "stdout",
     "output_type": "stream",
     "text": [
      "[86]\n"
     ]
    }
   ],
   "source": [
    "# Individuals who are non-smokers and their covid status is Mild and their cancer status is Active and responding\n",
    "NonSmoker_Mild_A_Responding = Cancer_Covid_Smoking_df.loc[(Cancer_Covid_Smoking_df[\"der_smoking2\"] == \"Never\") & (Cancer_Covid_Smoking_df[\"severity_of_covid_19_v2\"] == \"Mild\") & (Cancer_Covid_Smoking_df[\"der_cancer_status_v4\"] == \"Active and responding\")]\n",
    "NonSmoker_Mild_A_Responding_Count = len(NonSmoker_Mild_A_Responding)\n",
    "NonSmoker_BC_MildCov_Count.append(NonSmoker_Mild_A_Responding_Count)\n",
    "print(NonSmoker_BC_MildCov_Count)"
   ]
  },
  {
   "cell_type": "code",
   "execution_count": 157,
   "id": "f5e3f72d",
   "metadata": {},
   "outputs": [
    {
     "name": "stdout",
     "output_type": "stream",
     "text": [
      "[86, 82]\n"
     ]
    }
   ],
   "source": [
    "# Individuals who are non-smokers and their covid status is Mild and their cancer status is Active and stable\n",
    "NonSmoker_Mild_A_stable = Cancer_Covid_Smoking_df.loc[(Cancer_Covid_Smoking_df[\"der_smoking2\"] == \"Never\") & (Cancer_Covid_Smoking_df[\"severity_of_covid_19_v2\"] == \"Mild\") & (Cancer_Covid_Smoking_df[\"der_cancer_status_v4\"] == \"Active and stable\")]\n",
    "NonSmoker_Mild_A_stable_Count = len(NonSmoker_Mild_A_stable)\n",
    "NonSmoker_BC_MildCov_Count.append(NonSmoker_Mild_A_stable_Count)\n",
    "print(NonSmoker_BC_MildCov_Count)"
   ]
  },
  {
   "cell_type": "code",
   "execution_count": 158,
   "id": "82ea25c1",
   "metadata": {},
   "outputs": [
    {
     "name": "stdout",
     "output_type": "stream",
     "text": [
      "[86, 82, 26]\n"
     ]
    }
   ],
   "source": [
    "# Individuals who are non-smokers and their covid status is Mild and their cancer status is Active and progressing\n",
    "NonSmoker_Mild_A_progressing = Cancer_Covid_Smoking_df.loc[(Cancer_Covid_Smoking_df[\"der_smoking2\"] == \"Never\") & (Cancer_Covid_Smoking_df[\"severity_of_covid_19_v2\"] == \"Mild\") & (Cancer_Covid_Smoking_df[\"der_cancer_status_v4\"] == \"Active and progressing\")]\n",
    "NonSmoker_Mild_A_progressing_Count = len(NonSmoker_Mild_A_progressing)\n",
    "NonSmoker_BC_MildCov_Count.append(NonSmoker_Mild_A_progressing_Count)\n",
    "print(NonSmoker_BC_MildCov_Count)"
   ]
  },
  {
   "cell_type": "code",
   "execution_count": 159,
   "id": "5deb18b4",
   "metadata": {},
   "outputs": [],
   "source": [
    "# Non-Smoker\n",
    "# Moderate Covid\n",
    "# Creating an empty list to hold the values for non-smoker individuals with a moderate COVID severity & different breast cancer status\n",
    "NonSmoker_BC_ModerateCov_Count = []"
   ]
  },
  {
   "cell_type": "code",
   "execution_count": 160,
   "id": "9ee269e5",
   "metadata": {},
   "outputs": [
    {
     "name": "stdout",
     "output_type": "stream",
     "text": [
      "[26]\n"
     ]
    }
   ],
   "source": [
    "# Individuals who are non-smokers and their covid status is Moderate and their cancer status is Active and responding\n",
    "NonSmoker_Moderate_A_Responding = Cancer_Covid_Smoking_df.loc[(Cancer_Covid_Smoking_df[\"der_smoking2\"] == \"Never\") & (Cancer_Covid_Smoking_df[\"severity_of_covid_19_v2\"] == \"Moderate\") & (Cancer_Covid_Smoking_df[\"der_cancer_status_v4\"] == \"Active and responding\")]\n",
    "NonSmoker_Moderate_A_Responding_Count = len(NonSmoker_Moderate_A_Responding)\n",
    "NonSmoker_BC_ModerateCov_Count.append(NonSmoker_Moderate_A_Responding_Count)\n",
    "print(NonSmoker_BC_ModerateCov_Count)"
   ]
  },
  {
   "cell_type": "code",
   "execution_count": 161,
   "id": "1a6a4c8c",
   "metadata": {},
   "outputs": [
    {
     "name": "stdout",
     "output_type": "stream",
     "text": [
      "[26, 25]\n"
     ]
    }
   ],
   "source": [
    "# Individuals who are non-smokers and their covid status is Moderate and their cancer status is Active and stable\n",
    "NonSmoker_Moderate_A_stable = Cancer_Covid_Smoking_df.loc[(Cancer_Covid_Smoking_df[\"der_smoking2\"] == \"Never\") & (Cancer_Covid_Smoking_df[\"severity_of_covid_19_v2\"] == \"Moderate\") & (Cancer_Covid_Smoking_df[\"der_cancer_status_v4\"] == \"Active and stable\")]\n",
    "NonSmoker_Moderate_A_stable_Count = len(NonSmoker_Moderate_A_stable)\n",
    "NonSmoker_BC_ModerateCov_Count.append(NonSmoker_Moderate_A_stable_Count)\n",
    "print(NonSmoker_BC_ModerateCov_Count)"
   ]
  },
  {
   "cell_type": "code",
   "execution_count": 162,
   "id": "5ea45226",
   "metadata": {},
   "outputs": [
    {
     "name": "stdout",
     "output_type": "stream",
     "text": [
      "[26, 25, 33]\n"
     ]
    }
   ],
   "source": [
    "# Individuals who are non-smokers and their covid status is Moderate and their cancer status is Active and progressing\n",
    "NonSmoker_Moderate_A_progressing = Cancer_Covid_Smoking_df.loc[(Cancer_Covid_Smoking_df[\"der_smoking2\"] == \"Never\") & (Cancer_Covid_Smoking_df[\"severity_of_covid_19_v2\"] == \"Moderate\") & (Cancer_Covid_Smoking_df[\"der_cancer_status_v4\"] == \"Active and progressing\")]\n",
    "NonSmoker_Moderate_A_progressing_Count = len(NonSmoker_Moderate_A_progressing)\n",
    "NonSmoker_BC_ModerateCov_Count.append(NonSmoker_Moderate_A_progressing_Count)\n",
    "print(NonSmoker_BC_ModerateCov_Count)"
   ]
  },
  {
   "cell_type": "code",
   "execution_count": 163,
   "id": "85527d2d",
   "metadata": {},
   "outputs": [],
   "source": [
    "# Non-Smoker\n",
    "# Severe Covid\n",
    "# Creating an empty list to hold the values for non-smoker individuals with a severe COVID severity & different breast cancer status\n",
    "NonSmoker_BC_SevereCov_Count = []"
   ]
  },
  {
   "cell_type": "code",
   "execution_count": 164,
   "id": "b95200ac",
   "metadata": {},
   "outputs": [
    {
     "name": "stdout",
     "output_type": "stream",
     "text": [
      "[3]\n"
     ]
    }
   ],
   "source": [
    "# Individuals who are non-smokers and their covid status is Severe and their cancer status is Active and responding\n",
    "NonSmoker_Severe_A_Responding = Cancer_Covid_Smoking_df.loc[(Cancer_Covid_Smoking_df[\"der_smoking2\"] == \"Never\") & (Cancer_Covid_Smoking_df[\"severity_of_covid_19_v2\"] == \"Severe\") & (Cancer_Covid_Smoking_df[\"der_cancer_status_v4\"] == \"Active and responding\")]\n",
    "NonSmoker_Severe_A_Responding_Count = len(NonSmoker_Severe_A_Responding)\n",
    "NonSmoker_BC_SevereCov_Count.append(NonSmoker_Severe_A_Responding_Count)\n",
    "print(NonSmoker_BC_SevereCov_Count)"
   ]
  },
  {
   "cell_type": "code",
   "execution_count": 165,
   "id": "32a23220",
   "metadata": {},
   "outputs": [
    {
     "name": "stdout",
     "output_type": "stream",
     "text": [
      "[3, 3]\n"
     ]
    }
   ],
   "source": [
    "# Individuals who are non-smokers and their covid status is Severe and their cancer status is Active and stable\n",
    "NonSmoker_Severe_A_stable = Cancer_Covid_Smoking_df.loc[(Cancer_Covid_Smoking_df[\"der_smoking2\"] == \"Never\") & (Cancer_Covid_Smoking_df[\"severity_of_covid_19_v2\"] == \"Severe\") & (Cancer_Covid_Smoking_df[\"der_cancer_status_v4\"] == \"Active and stable\")]\n",
    "NonSmoker_Severe_A_stable_Count = len(NonSmoker_Severe_A_stable)\n",
    "NonSmoker_BC_SevereCov_Count.append(NonSmoker_Severe_A_stable_Count)\n",
    "print(NonSmoker_BC_SevereCov_Count)"
   ]
  },
  {
   "cell_type": "code",
   "execution_count": 166,
   "id": "397265e5",
   "metadata": {},
   "outputs": [
    {
     "name": "stdout",
     "output_type": "stream",
     "text": [
      "[3, 3, 5]\n"
     ]
    }
   ],
   "source": [
    "# Individuals who are non-smokers and their covid status is Severe and their cancer status is Active and progressing\n",
    "NonSmoker_Severe_A_progressing = Cancer_Covid_Smoking_df.loc[(Cancer_Covid_Smoking_df[\"der_smoking2\"] == \"Never\") & (Cancer_Covid_Smoking_df[\"severity_of_covid_19_v2\"] == \"Severe\") & (Cancer_Covid_Smoking_df[\"der_cancer_status_v4\"] == \"Active and progressing\")]\n",
    "NonSmoker_Severe_A_progressing_Count = len(NonSmoker_Severe_A_progressing)\n",
    "NonSmoker_BC_SevereCov_Count.append(NonSmoker_Severe_A_progressing_Count)\n",
    "print(NonSmoker_BC_SevereCov_Count)"
   ]
  },
  {
   "cell_type": "code",
   "execution_count": 58,
   "id": "ce8e35fb",
   "metadata": {},
   "outputs": [
    {
     "data": {
      "text/html": [
       "<div>\n",
       "<style scoped>\n",
       "    .dataframe tbody tr th:only-of-type {\n",
       "        vertical-align: middle;\n",
       "    }\n",
       "\n",
       "    .dataframe tbody tr th {\n",
       "        vertical-align: top;\n",
       "    }\n",
       "\n",
       "    .dataframe thead th {\n",
       "        text-align: right;\n",
       "    }\n",
       "</style>\n",
       "<table border=\"1\" class=\"dataframe\">\n",
       "  <thead>\n",
       "    <tr style=\"text-align: right;\">\n",
       "      <th></th>\n",
       "      <th>Smoker_BC_MildCov_Count</th>\n",
       "      <th>NonSmoker_BC_MildCov_Count</th>\n",
       "    </tr>\n",
       "  </thead>\n",
       "  <tbody>\n",
       "    <tr>\n",
       "      <th>Mild COVID &amp; Active and responding</th>\n",
       "      <td>35</td>\n",
       "      <td>86</td>\n",
       "    </tr>\n",
       "    <tr>\n",
       "      <th>Mild COVID &amp;  Active and stable</th>\n",
       "      <td>37</td>\n",
       "      <td>82</td>\n",
       "    </tr>\n",
       "    <tr>\n",
       "      <th>Mild COVID &amp; Active and progressing</th>\n",
       "      <td>12</td>\n",
       "      <td>26</td>\n",
       "    </tr>\n",
       "  </tbody>\n",
       "</table>\n",
       "</div>"
      ],
      "text/plain": [
       "                                     Smoker_BC_MildCov_Count  \\\n",
       "Mild COVID & Active and responding                        35   \n",
       "Mild COVID &  Active and stable                           37   \n",
       "Mild COVID & Active and progressing                       12   \n",
       "\n",
       "                                     NonSmoker_BC_MildCov_Count  \n",
       "Mild COVID & Active and responding                           86  \n",
       "Mild COVID &  Active and stable                              82  \n",
       "Mild COVID & Active and progressing                          26  "
      ]
     },
     "execution_count": 58,
     "metadata": {},
     "output_type": "execute_result"
    }
   ],
   "source": [
    "# Mild Covid\n",
    "# Creating a data frame which includes both the Smoker_BC_MildCov_Count & NonSmoker_BC_MildCov_Count for comparison as well as plotting.\n",
    "MildCov_BC_Status = [\"Mild COVID & Active and responding\", \"Mild COVID &  Active and stable\" , \"Mild COVID & Active and progressing\"]\n",
    "    \n",
    "MildCov_BC_Smoker_NonSmoker_DF = pd.DataFrame (\n",
    "    {\n",
    "        \"Smoker_BC_MildCov_Count\" : Smoker_BC_MildCov_Count,\n",
    "        \"NonSmoker_BC_MildCov_Count\" : NonSmoker_BC_MildCov_Count},\n",
    "        index = MildCov_BC_Status\n",
    "    \n",
    ")\n",
    "\n",
    "MildCov_BC_Smoker_NonSmoker_DF"
   ]
  },
  {
   "cell_type": "code",
   "execution_count": 59,
   "id": "5d1c5e83",
   "metadata": {},
   "outputs": [
    {
     "data": {
      "text/html": [
       "<div>\n",
       "<style scoped>\n",
       "    .dataframe tbody tr th:only-of-type {\n",
       "        vertical-align: middle;\n",
       "    }\n",
       "\n",
       "    .dataframe tbody tr th {\n",
       "        vertical-align: top;\n",
       "    }\n",
       "\n",
       "    .dataframe thead th {\n",
       "        text-align: right;\n",
       "    }\n",
       "</style>\n",
       "<table border=\"1\" class=\"dataframe\">\n",
       "  <thead>\n",
       "    <tr style=\"text-align: right;\">\n",
       "      <th></th>\n",
       "      <th>Smoker_BC_ModerateCov_Count</th>\n",
       "      <th>NonSmoker_BC_ModerateCov_Count</th>\n",
       "    </tr>\n",
       "  </thead>\n",
       "  <tbody>\n",
       "    <tr>\n",
       "      <th>Moderate COVID &amp; Active and responding</th>\n",
       "      <td>17</td>\n",
       "      <td>26</td>\n",
       "    </tr>\n",
       "    <tr>\n",
       "      <th>Moderate COVID &amp;  Active and stable</th>\n",
       "      <td>15</td>\n",
       "      <td>25</td>\n",
       "    </tr>\n",
       "    <tr>\n",
       "      <th>Moderate COVID &amp; Active and progressing</th>\n",
       "      <td>16</td>\n",
       "      <td>33</td>\n",
       "    </tr>\n",
       "  </tbody>\n",
       "</table>\n",
       "</div>"
      ],
      "text/plain": [
       "                                         Smoker_BC_ModerateCov_Count  \\\n",
       "Moderate COVID & Active and responding                            17   \n",
       "Moderate COVID &  Active and stable                               15   \n",
       "Moderate COVID & Active and progressing                           16   \n",
       "\n",
       "                                         NonSmoker_BC_ModerateCov_Count  \n",
       "Moderate COVID & Active and responding                               26  \n",
       "Moderate COVID &  Active and stable                                  25  \n",
       "Moderate COVID & Active and progressing                              33  "
      ]
     },
     "execution_count": 59,
     "metadata": {},
     "output_type": "execute_result"
    }
   ],
   "source": [
    "# Moderate Covid\n",
    "# Creating a data frame which includes both the Smoker_BC_ModerateCov_Count & NonSmoker_BC_ModerateCov_Count for comparison as well as plotting.\n",
    "ModerateCov_BC_Status = [\"Moderate COVID & Active and responding\", \"Moderate COVID &  Active and stable\" , \"Moderate COVID & Active and progressing\"]\n",
    "\n",
    "ModerateCov_BC_Smoker_NonSmoker_DF = pd.DataFrame (\n",
    "    {\n",
    "        \"Smoker_BC_ModerateCov_Count\" : Smoker_BC_ModerateCov_Count,\n",
    "        \"NonSmoker_BC_ModerateCov_Count\" : NonSmoker_BC_ModerateCov_Count},\n",
    "        index = ModerateCov_BC_Status\n",
    "    \n",
    ")\n",
    "\n",
    "ModerateCov_BC_Smoker_NonSmoker_DF"
   ]
  },
  {
   "cell_type": "code",
   "execution_count": 60,
   "id": "ca6e17b5",
   "metadata": {},
   "outputs": [
    {
     "data": {
      "text/html": [
       "<div>\n",
       "<style scoped>\n",
       "    .dataframe tbody tr th:only-of-type {\n",
       "        vertical-align: middle;\n",
       "    }\n",
       "\n",
       "    .dataframe tbody tr th {\n",
       "        vertical-align: top;\n",
       "    }\n",
       "\n",
       "    .dataframe thead th {\n",
       "        text-align: right;\n",
       "    }\n",
       "</style>\n",
       "<table border=\"1\" class=\"dataframe\">\n",
       "  <thead>\n",
       "    <tr style=\"text-align: right;\">\n",
       "      <th></th>\n",
       "      <th>Smoker_BC_SevereCov_Count</th>\n",
       "      <th>NonSmoker_BC_SevereCov_Count</th>\n",
       "    </tr>\n",
       "  </thead>\n",
       "  <tbody>\n",
       "    <tr>\n",
       "      <th>Severe COVID &amp; Active and responding</th>\n",
       "      <td>2</td>\n",
       "      <td>3</td>\n",
       "    </tr>\n",
       "    <tr>\n",
       "      <th>Severe COVID &amp;  Active and stable</th>\n",
       "      <td>0</td>\n",
       "      <td>3</td>\n",
       "    </tr>\n",
       "    <tr>\n",
       "      <th>Severe COVID &amp; Active and progressing</th>\n",
       "      <td>5</td>\n",
       "      <td>5</td>\n",
       "    </tr>\n",
       "  </tbody>\n",
       "</table>\n",
       "</div>"
      ],
      "text/plain": [
       "                                       Smoker_BC_SevereCov_Count  \\\n",
       "Severe COVID & Active and responding                           2   \n",
       "Severe COVID &  Active and stable                              0   \n",
       "Severe COVID & Active and progressing                          5   \n",
       "\n",
       "                                       NonSmoker_BC_SevereCov_Count  \n",
       "Severe COVID & Active and responding                              3  \n",
       "Severe COVID &  Active and stable                                 3  \n",
       "Severe COVID & Active and progressing                             5  "
      ]
     },
     "execution_count": 60,
     "metadata": {},
     "output_type": "execute_result"
    }
   ],
   "source": [
    "# Severe Covid\n",
    "# Creating a data frame which includes both the Smoker_BC_SevereCov_Count & NonSmoker_BC_SevereCov_Count for comparison as well as plotting.\n",
    "SevereCov_BC_Status = [\"Severe COVID & Active and responding\", \"Severe COVID &  Active and stable\" , \"Severe COVID & Active and progressing\"]\n",
    "\n",
    "SevereCov_BC_Smoker_NonSmoker_DF = pd.DataFrame (\n",
    "    {\n",
    "        \"Smoker_BC_SevereCov_Count\" : Smoker_BC_SevereCov_Count,\n",
    "        \"NonSmoker_BC_SevereCov_Count\" : NonSmoker_BC_SevereCov_Count},\n",
    "        index = SevereCov_BC_Status\n",
    "    \n",
    ")\n",
    "\n",
    "SevereCov_BC_Smoker_NonSmoker_DF"
   ]
  },
  {
   "cell_type": "code",
   "execution_count": 61,
   "id": "64496a69",
   "metadata": {
    "scrolled": false
   },
   "outputs": [
    {
     "data": {
      "image/png": "[encoded data removed]",
      "text/plain": [
       "<Figure size 640x480 with 1 Axes>"
      ]
     },
     "metadata": {},
     "output_type": "display_data"
    },
    {
     "data": {
      "image/png": "[encoded data removed]",
      "text/plain": [
       "<Figure size 640x480 with 1 Axes>"
      ]
     },
     "metadata": {},
     "output_type": "display_data"
    },
    {
     "data": {
      "image/png": "[encoded data removed]",
      "text/plain": [
       "<Figure size 640x480 with 1 Axes>"
      ]
     },
     "metadata": {},
     "output_type": "display_data"
    }
   ],
   "source": [
    "# Plotting\n",
    "\n",
    "# Mild COVID\n",
    "COV_BC_Smoker_NonSmoker_plot = MildCov_BC_Smoker_NonSmoker_DF.plot.bar(rot=65)\n",
    "plt.title(\"Mild-COVID with BC & Smoker VS. Mild-COVID with BC & Non-Smoker   [Smoking_Plot(4)]\")\n",
    "plt.xlabel(\"COV_BC_Status\")\n",
    "plt.ylabel(\"Number of Smokers_BC_COVID & Non-Smokers_BC_COVID\", fontsize=9)\n",
    "# Save the figure\n",
    "plt.savefig(\"Smoking_Output_Data/SmokingQ_Plot(4).png\", bbox_inches=\"tight\")\n",
    "\n",
    "# Moderate COVID\n",
    "COV_BC_Smoker_NonSmoker_plot = ModerateCov_BC_Smoker_NonSmoker_DF.plot.bar(rot=65)\n",
    "plt.title(\"Moderate-COVID with BC & Smoker VS. Moderate-COVID with BC & Non-Smoker   [Smoking_Plot(5)]\")\n",
    "plt.xlabel(\"COV_BC_Status\")\n",
    "plt.ylabel(\"Number of Smokers_BC_COVID & Non-Smokers_BC_COVID\", fontsize=9)\n",
    "# Save the figure\n",
    "plt.savefig(\"Smoking_Output_Data/SmokingQ_Plot(5).png\", bbox_inches=\"tight\")\n",
    "\n",
    "# Severe COVID\n",
    "COV_BC_Smoker_NonSmoker_plot = SevereCov_BC_Smoker_NonSmoker_DF.plot.bar(rot=65)\n",
    "plt.title(\"Severe-COVID with BC & Smoker VS. Severe-COVID with BC & Non-Smoker   [Smoking_Plot(6)]\")\n",
    "plt.xlabel(\"COV_BC_Status\")\n",
    "plt.ylabel(\"Number of Smokers_BC_COVID & Non-Smokers_BC_COVID\", fontsize=9)\n",
    "# Save the figure\n",
    "plt.savefig(\"Smoking_Output_Data/SmokingQ_Plot(6).png\", bbox_inches=\"tight\")"
   ]
  },
  {
   "cell_type": "code",
   "execution_count": 116,
   "id": "6259bfaa",
   "metadata": {},
   "outputs": [
    {
     "data": {
      "text/plain": [
       "F_onewayResult(statistic=0.6956521739130435, pvalue=0.45116085521480026)"
      ]
     },
     "execution_count": 116,
     "metadata": {},
     "output_type": "execute_result"
    }
   ],
   "source": [
    "# Hypothesis Testing\n",
    "\n",
    "# Perform the ANOVA\n",
    "stats.f_oneway(SevereCov_BC_Smoker_NonSmoker_DF[\"Smoker_BC_SevereCov_Count\"], SevereCov_BC_Smoker_NonSmoker_DF[\"NonSmoker_BC_SevereCov_Count\"])"
   ]
  },
  {
   "cell_type": "markdown",
   "id": "7473e680",
   "metadata": {},
   "source": [
    "Analysis: Since the p-value is greater than 0.05, we cannot reject the null hypothesis. This means that there is no significant \n",
    "difference between the two data sets. Therefore, individuals who smoke and have Breast Cancer does not have a higher chance of having a severe COVID."
   ]
  },
  {
   "cell_type": "markdown",
   "id": "be106130",
   "metadata": {},
   "source": [
    "## Breast Cancer Status & Race/Ethnicity VS. Smoking Status for All kinds of COVID Severity"
   ]
  },
  {
   "cell_type": "markdown",
   "id": "abcb9067",
   "metadata": {},
   "source": [
    "Amongst all the races with different BC statuses, is smoking a factor for them to have COVID? \n",
    "Hypothesis: Smoking does have an effect between different races."
   ]
  },
  {
   "cell_type": "code",
   "execution_count": 62,
   "id": "d3951ad7",
   "metadata": {},
   "outputs": [
    {
     "data": {
      "text/html": [
       "<div>\n",
       "<style scoped>\n",
       "    .dataframe tbody tr th:only-of-type {\n",
       "        vertical-align: middle;\n",
       "    }\n",
       "\n",
       "    .dataframe tbody tr th {\n",
       "        vertical-align: top;\n",
       "    }\n",
       "\n",
       "    .dataframe thead th {\n",
       "        text-align: right;\n",
       "    }\n",
       "</style>\n",
       "<table border=\"1\" class=\"dataframe\">\n",
       "  <thead>\n",
       "    <tr style=\"text-align: right;\">\n",
       "      <th></th>\n",
       "      <th>der_smoking2</th>\n",
       "      <th>der_cancer_status_v4</th>\n",
       "      <th>severity_of_covid_19_v2</th>\n",
       "      <th>der_race_v2</th>\n",
       "    </tr>\n",
       "  </thead>\n",
       "  <tbody>\n",
       "    <tr>\n",
       "      <th>0</th>\n",
       "      <td>Current or Former</td>\n",
       "      <td>Active and responding</td>\n",
       "      <td>Severe</td>\n",
       "      <td>Non-Hispanic White</td>\n",
       "    </tr>\n",
       "    <tr>\n",
       "      <th>1</th>\n",
       "      <td>Never</td>\n",
       "      <td>Active and stable</td>\n",
       "      <td>Mild</td>\n",
       "      <td>Hispanic</td>\n",
       "    </tr>\n",
       "    <tr>\n",
       "      <th>2</th>\n",
       "      <td>Never</td>\n",
       "      <td>NaN</td>\n",
       "      <td>Moderate</td>\n",
       "      <td>Hispanic</td>\n",
       "    </tr>\n",
       "    <tr>\n",
       "      <th>3</th>\n",
       "      <td>Never</td>\n",
       "      <td>Unknown</td>\n",
       "      <td>Moderate</td>\n",
       "      <td>Other</td>\n",
       "    </tr>\n",
       "    <tr>\n",
       "      <th>4</th>\n",
       "      <td>Never</td>\n",
       "      <td>Active and responding</td>\n",
       "      <td>Mild</td>\n",
       "      <td>Hispanic</td>\n",
       "    </tr>\n",
       "    <tr>\n",
       "      <th>...</th>\n",
       "      <td>...</td>\n",
       "      <td>...</td>\n",
       "      <td>...</td>\n",
       "      <td>...</td>\n",
       "    </tr>\n",
       "    <tr>\n",
       "      <th>1378</th>\n",
       "      <td>Current or Former</td>\n",
       "      <td>Active and responding</td>\n",
       "      <td>Mild</td>\n",
       "      <td>Other</td>\n",
       "    </tr>\n",
       "    <tr>\n",
       "      <th>1379</th>\n",
       "      <td>Never</td>\n",
       "      <td>Active and responding</td>\n",
       "      <td>Moderate</td>\n",
       "      <td>Non-Hispanic Black</td>\n",
       "    </tr>\n",
       "    <tr>\n",
       "      <th>1380</th>\n",
       "      <td>Never</td>\n",
       "      <td>Remission or no evidence of disease, &gt;5 years</td>\n",
       "      <td>Mild</td>\n",
       "      <td>Non-Hispanic White</td>\n",
       "    </tr>\n",
       "    <tr>\n",
       "      <th>1381</th>\n",
       "      <td>Never</td>\n",
       "      <td>Unknown</td>\n",
       "      <td>Moderate</td>\n",
       "      <td>Non-Hispanic Black</td>\n",
       "    </tr>\n",
       "    <tr>\n",
       "      <th>1382</th>\n",
       "      <td>Never</td>\n",
       "      <td>Active and stable</td>\n",
       "      <td>Moderate</td>\n",
       "      <td>Non-Hispanic White</td>\n",
       "    </tr>\n",
       "  </tbody>\n",
       "</table>\n",
       "<p>1383 rows × 4 columns</p>\n",
       "</div>"
      ],
      "text/plain": [
       "           der_smoking2                           der_cancer_status_v4  \\\n",
       "0     Current or Former                          Active and responding   \n",
       "1                 Never                              Active and stable   \n",
       "2                 Never                                            NaN   \n",
       "3                 Never                                        Unknown   \n",
       "4                 Never                          Active and responding   \n",
       "...                 ...                                            ...   \n",
       "1378  Current or Former                          Active and responding   \n",
       "1379              Never                          Active and responding   \n",
       "1380              Never  Remission or no evidence of disease, >5 years   \n",
       "1381              Never                                        Unknown   \n",
       "1382              Never                              Active and stable   \n",
       "\n",
       "     severity_of_covid_19_v2         der_race_v2  \n",
       "0                     Severe  Non-Hispanic White  \n",
       "1                       Mild            Hispanic  \n",
       "2                   Moderate            Hispanic  \n",
       "3                   Moderate               Other  \n",
       "4                       Mild            Hispanic  \n",
       "...                      ...                 ...  \n",
       "1378                    Mild               Other  \n",
       "1379                Moderate  Non-Hispanic Black  \n",
       "1380                    Mild  Non-Hispanic White  \n",
       "1381                Moderate  Non-Hispanic Black  \n",
       "1382                Moderate  Non-Hispanic White  \n",
       "\n",
       "[1383 rows x 4 columns]"
      ]
     },
     "execution_count": 62,
     "metadata": {},
     "output_type": "execute_result"
    }
   ],
   "source": [
    "# Creating a data frame for the cancer status, Severity of COVID, Race/Ethnicity, and the smoking status\n",
    "Cancer_Covid_Race_Smoking_df = pd.DataFrame(raw_data[[\"der_smoking2\", \"der_cancer_status_v4\", \"severity_of_covid_19_v2\", \"der_race_v2\"]])\n",
    "Cancer_Covid_Race_Smoking_df"
   ]
  },
  {
   "cell_type": "code",
   "execution_count": 63,
   "id": "0bd3e2fc",
   "metadata": {},
   "outputs": [
    {
     "data": {
      "text/html": [
       "<div>\n",
       "<style scoped>\n",
       "    .dataframe tbody tr th:only-of-type {\n",
       "        vertical-align: middle;\n",
       "    }\n",
       "\n",
       "    .dataframe tbody tr th {\n",
       "        vertical-align: top;\n",
       "    }\n",
       "\n",
       "    .dataframe thead th {\n",
       "        text-align: right;\n",
       "    }\n",
       "</style>\n",
       "<table border=\"1\" class=\"dataframe\">\n",
       "  <thead>\n",
       "    <tr style=\"text-align: right;\">\n",
       "      <th></th>\n",
       "      <th>der_smoking2</th>\n",
       "      <th>der_cancer_status_v4</th>\n",
       "      <th>severity_of_covid_19_v2</th>\n",
       "      <th>der_race_v2</th>\n",
       "    </tr>\n",
       "  </thead>\n",
       "  <tbody>\n",
       "    <tr>\n",
       "      <th>0</th>\n",
       "      <td>Current or Former</td>\n",
       "      <td>Active and responding</td>\n",
       "      <td>Severe</td>\n",
       "      <td>Non-Hispanic White</td>\n",
       "    </tr>\n",
       "    <tr>\n",
       "      <th>1</th>\n",
       "      <td>Never</td>\n",
       "      <td>Active and stable</td>\n",
       "      <td>Mild</td>\n",
       "      <td>Hispanic</td>\n",
       "    </tr>\n",
       "    <tr>\n",
       "      <th>3</th>\n",
       "      <td>Never</td>\n",
       "      <td>Unknown</td>\n",
       "      <td>Moderate</td>\n",
       "      <td>Other</td>\n",
       "    </tr>\n",
       "    <tr>\n",
       "      <th>4</th>\n",
       "      <td>Never</td>\n",
       "      <td>Active and responding</td>\n",
       "      <td>Mild</td>\n",
       "      <td>Hispanic</td>\n",
       "    </tr>\n",
       "    <tr>\n",
       "      <th>6</th>\n",
       "      <td>Never</td>\n",
       "      <td>Active and stable</td>\n",
       "      <td>Mild</td>\n",
       "      <td>Non-Hispanic White</td>\n",
       "    </tr>\n",
       "    <tr>\n",
       "      <th>...</th>\n",
       "      <td>...</td>\n",
       "      <td>...</td>\n",
       "      <td>...</td>\n",
       "      <td>...</td>\n",
       "    </tr>\n",
       "    <tr>\n",
       "      <th>1378</th>\n",
       "      <td>Current or Former</td>\n",
       "      <td>Active and responding</td>\n",
       "      <td>Mild</td>\n",
       "      <td>Other</td>\n",
       "    </tr>\n",
       "    <tr>\n",
       "      <th>1379</th>\n",
       "      <td>Never</td>\n",
       "      <td>Active and responding</td>\n",
       "      <td>Moderate</td>\n",
       "      <td>Non-Hispanic Black</td>\n",
       "    </tr>\n",
       "    <tr>\n",
       "      <th>1380</th>\n",
       "      <td>Never</td>\n",
       "      <td>Remission or no evidence of disease, &gt;5 years</td>\n",
       "      <td>Mild</td>\n",
       "      <td>Non-Hispanic White</td>\n",
       "    </tr>\n",
       "    <tr>\n",
       "      <th>1381</th>\n",
       "      <td>Never</td>\n",
       "      <td>Unknown</td>\n",
       "      <td>Moderate</td>\n",
       "      <td>Non-Hispanic Black</td>\n",
       "    </tr>\n",
       "    <tr>\n",
       "      <th>1382</th>\n",
       "      <td>Never</td>\n",
       "      <td>Active and stable</td>\n",
       "      <td>Moderate</td>\n",
       "      <td>Non-Hispanic White</td>\n",
       "    </tr>\n",
       "  </tbody>\n",
       "</table>\n",
       "<p>1335 rows × 4 columns</p>\n",
       "</div>"
      ],
      "text/plain": [
       "           der_smoking2                           der_cancer_status_v4  \\\n",
       "0     Current or Former                          Active and responding   \n",
       "1                 Never                              Active and stable   \n",
       "3                 Never                                        Unknown   \n",
       "4                 Never                          Active and responding   \n",
       "6                 Never                              Active and stable   \n",
       "...                 ...                                            ...   \n",
       "1378  Current or Former                          Active and responding   \n",
       "1379              Never                          Active and responding   \n",
       "1380              Never  Remission or no evidence of disease, >5 years   \n",
       "1381              Never                                        Unknown   \n",
       "1382              Never                              Active and stable   \n",
       "\n",
       "     severity_of_covid_19_v2         der_race_v2  \n",
       "0                     Severe  Non-Hispanic White  \n",
       "1                       Mild            Hispanic  \n",
       "3                   Moderate               Other  \n",
       "4                       Mild            Hispanic  \n",
       "6                       Mild  Non-Hispanic White  \n",
       "...                      ...                 ...  \n",
       "1378                    Mild               Other  \n",
       "1379                Moderate  Non-Hispanic Black  \n",
       "1380                    Mild  Non-Hispanic White  \n",
       "1381                Moderate  Non-Hispanic Black  \n",
       "1382                Moderate  Non-Hispanic White  \n",
       "\n",
       "[1335 rows x 4 columns]"
      ]
     },
     "execution_count": 63,
     "metadata": {},
     "output_type": "execute_result"
    }
   ],
   "source": [
    "# Cleaning the empty cells \n",
    "Cancer_Covid_Race_Smoking_df = Cancer_Covid_Race_Smoking_df.dropna()\n",
    "Cancer_Covid_Race_Smoking_df"
   ]
  },
  {
   "cell_type": "code",
   "execution_count": 167,
   "id": "e682b07f",
   "metadata": {},
   "outputs": [],
   "source": [
    "# Smoker\n",
    "# Active and responding\n",
    "# Creating an empty list to hold the values for smoker individuals with Active and responding BC & different race/ethnicity categories\n",
    "Smoker_A_Res_Count = []"
   ]
  },
  {
   "cell_type": "code",
   "execution_count": 168,
   "id": "e0e79b1e",
   "metadata": {},
   "outputs": [
    {
     "name": "stdout",
     "output_type": "stream",
     "text": [
      "[29]\n"
     ]
    }
   ],
   "source": [
    "# Individuals who are smokers, their cancer status is Active and responding, and are Non-Hispanic White\n",
    "Smoker_A_Res_NHW = Cancer_Covid_Race_Smoking_df.loc[(Cancer_Covid_Race_Smoking_df[\"der_smoking2\"] == \"Current or Former\") & (Cancer_Covid_Race_Smoking_df[\"der_cancer_status_v4\"] == \"Active and responding\")\n",
    "                                                          & (Cancer_Covid_Race_Smoking_df[\"der_race_v2\"] == \"Non-Hispanic White\")]\n",
    "Smoker_A_Res_NHW_Count = len(Smoker_A_Res_NHW)\n",
    "Smoker_A_Res_Count.append(Smoker_A_Res_NHW_Count)\n",
    "print(Smoker_A_Res_Count)"
   ]
  },
  {
   "cell_type": "code",
   "execution_count": 169,
   "id": "006698e3",
   "metadata": {},
   "outputs": [
    {
     "name": "stdout",
     "output_type": "stream",
     "text": [
      "[29, 11]\n"
     ]
    }
   ],
   "source": [
    "# Individuals who are smokers, their cancer status is Active and responding, and are Non-Hispanic Black\n",
    "Smoker_A_Responding_B = Cancer_Covid_Race_Smoking_df.loc[(Cancer_Covid_Race_Smoking_df[\"der_smoking2\"] == \"Current or Former\") & (Cancer_Covid_Race_Smoking_df[\"der_cancer_status_v4\"] == \"Active and responding\")\n",
    "                                                          & (Cancer_Covid_Race_Smoking_df[\"der_race_v2\"] == \"Non-Hispanic Black\")]\n",
    "Smoker_A_Responding_B_Count = len(Smoker_A_Responding_B)\n",
    "Smoker_A_Res_Count.append(Smoker_A_Responding_B_Count)\n",
    "print(Smoker_A_Res_Count)"
   ]
  },
  {
   "cell_type": "code",
   "execution_count": 170,
   "id": "1eb74195",
   "metadata": {},
   "outputs": [
    {
     "name": "stdout",
     "output_type": "stream",
     "text": [
      "[29, 11, 9]\n"
     ]
    }
   ],
   "source": [
    "# Individuals who are smokers, their cancer status is Active and responding, and are Hispanic\n",
    "Smoker_A_Responding_H = Cancer_Covid_Race_Smoking_df.loc[(Cancer_Covid_Race_Smoking_df[\"der_smoking2\"] == \"Current or Former\") & (Cancer_Covid_Race_Smoking_df[\"der_cancer_status_v4\"] == \"Active and responding\")\n",
    "                                                          & (Cancer_Covid_Race_Smoking_df[\"der_race_v2\"] == \"Hispanic\")]\n",
    "Smoker_A_Responding_H_Count = len(Smoker_A_Responding_H)\n",
    "Smoker_A_Res_Count.append(Smoker_A_Responding_H_Count)\n",
    "print(Smoker_A_Res_Count)"
   ]
  },
  {
   "cell_type": "code",
   "execution_count": 171,
   "id": "c256627b",
   "metadata": {},
   "outputs": [
    {
     "name": "stdout",
     "output_type": "stream",
     "text": [
      "[29, 11, 9, 1]\n"
     ]
    }
   ],
   "source": [
    "# Individuals who are smokers, their cancer status is Active and responding, and are Non-Hispanic AAPI\n",
    "Smoker_A_Responding_AAPI = Cancer_Covid_Race_Smoking_df.loc[(Cancer_Covid_Race_Smoking_df[\"der_smoking2\"] == \"Current or Former\") & (Cancer_Covid_Race_Smoking_df[\"der_cancer_status_v4\"] == \"Active and responding\")\n",
    "                                                          & (Cancer_Covid_Race_Smoking_df[\"der_race_v2\"] == \"Non-Hispanic AAPI\")]\n",
    "Smoker_A_Responding_AAPI_Count = len(Smoker_A_Responding_AAPI)\n",
    "Smoker_A_Res_Count.append(Smoker_A_Responding_AAPI_Count)\n",
    "print(Smoker_A_Res_Count)"
   ]
  },
  {
   "cell_type": "code",
   "execution_count": 172,
   "id": "32f7260a",
   "metadata": {},
   "outputs": [
    {
     "name": "stdout",
     "output_type": "stream",
     "text": [
      "[29, 11, 9, 1, 4]\n"
     ]
    }
   ],
   "source": [
    "# Individuals who are smokers, their cancer status is Active and responding, and their race is Other\n",
    "Smoker_A_Responding_O = Cancer_Covid_Race_Smoking_df.loc[(Cancer_Covid_Race_Smoking_df[\"der_smoking2\"] == \"Current or Former\") & (Cancer_Covid_Race_Smoking_df[\"der_cancer_status_v4\"] == \"Active and responding\")\n",
    "                                                          & (Cancer_Covid_Race_Smoking_df[\"der_race_v2\"] == \"Other\")]\n",
    "Smoker_A_Responding_O_Count = len(Smoker_A_Responding_O)\n",
    "Smoker_A_Res_Count.append(Smoker_A_Responding_O_Count)\n",
    "print(Smoker_A_Res_Count)"
   ]
  },
  {
   "cell_type": "code",
   "execution_count": 176,
   "id": "c453c787",
   "metadata": {},
   "outputs": [],
   "source": [
    "# Smoker\n",
    "# Active and stable\n",
    "# Creating an empty list to hold the values for smoker individuals with Active and stable BC & different race/ethnicity categories\n",
    "Smoker_A_St_Count = []"
   ]
  },
  {
   "cell_type": "code",
   "execution_count": 177,
   "id": "414622da",
   "metadata": {},
   "outputs": [
    {
     "name": "stdout",
     "output_type": "stream",
     "text": [
      "[33]\n"
     ]
    }
   ],
   "source": [
    "# Individuals who are smokers, their cancer status is Active and stable, and are Non-Hispanic White\n",
    "Smoker_A_St_NHW = Cancer_Covid_Race_Smoking_df.loc[(Cancer_Covid_Race_Smoking_df[\"der_smoking2\"] == \"Current or Former\") & (Cancer_Covid_Race_Smoking_df[\"der_cancer_status_v4\"] == \"Active and stable\")\n",
    "                                                          & (Cancer_Covid_Race_Smoking_df[\"der_race_v2\"] == \"Non-Hispanic White\")]\n",
    "Smoker_A_St_NHW_Count = len(Smoker_A_St_NHW)\n",
    "Smoker_A_St_Count.append(Smoker_A_St_NHW_Count)\n",
    "print(Smoker_A_St_Count)"
   ]
  },
  {
   "cell_type": "code",
   "execution_count": 178,
   "id": "745c99b3",
   "metadata": {},
   "outputs": [
    {
     "name": "stdout",
     "output_type": "stream",
     "text": [
      "[33, 6]\n"
     ]
    }
   ],
   "source": [
    "# Individuals who are smokers, their cancer status is Active and stable, and are Non-Hispanic Black\n",
    "Smoker_A_St_B = Cancer_Covid_Race_Smoking_df.loc[(Cancer_Covid_Race_Smoking_df[\"der_smoking2\"] == \"Current or Former\") & (Cancer_Covid_Race_Smoking_df[\"der_cancer_status_v4\"] == \"Active and stable\")\n",
    "                                                          & (Cancer_Covid_Race_Smoking_df[\"der_race_v2\"] == \"Non-Hispanic Black\")]\n",
    "Smoker_A_St_B_Count = len(Smoker_A_St_B)\n",
    "Smoker_A_St_Count.append(Smoker_A_St_B_Count)\n",
    "print(Smoker_A_St_Count)"
   ]
  },
  {
   "cell_type": "code",
   "execution_count": 179,
   "id": "8a845b3f",
   "metadata": {},
   "outputs": [
    {
     "name": "stdout",
     "output_type": "stream",
     "text": [
      "[33, 6, 10]\n"
     ]
    }
   ],
   "source": [
    "# Individuals who are smokers, their cancer status is Active and stable, and are Hispanic\n",
    "Smoker_A_St_H = Cancer_Covid_Race_Smoking_df.loc[(Cancer_Covid_Race_Smoking_df[\"der_smoking2\"] == \"Current or Former\") & (Cancer_Covid_Race_Smoking_df[\"der_cancer_status_v4\"] == \"Active and stable\")\n",
    "                                                          & (Cancer_Covid_Race_Smoking_df[\"der_race_v2\"] == \"Hispanic\")]\n",
    "Smoker_A_St_H_Count = len(Smoker_A_St_H)\n",
    "Smoker_A_St_Count.append(Smoker_A_St_H_Count)\n",
    "print(Smoker_A_St_Count)"
   ]
  },
  {
   "cell_type": "code",
   "execution_count": 180,
   "id": "373aedaf",
   "metadata": {},
   "outputs": [
    {
     "name": "stdout",
     "output_type": "stream",
     "text": [
      "[33, 6, 10, 1]\n"
     ]
    }
   ],
   "source": [
    "# Individuals who are smokers, their cancer status is Active and stable, and are Non-Hispanic AAPI\n",
    "Smoker_A_St_AAPI = Cancer_Covid_Race_Smoking_df.loc[(Cancer_Covid_Race_Smoking_df[\"der_smoking2\"] == \"Current or Former\") & (Cancer_Covid_Race_Smoking_df[\"der_cancer_status_v4\"] == \"Active and stable\")\n",
    "                                                          & (Cancer_Covid_Race_Smoking_df[\"der_race_v2\"] == \"Non-Hispanic AAPI\")]\n",
    "Smoker_A_St_AAPI_Count = len(Smoker_A_St_AAPI)\n",
    "Smoker_A_St_Count.append(Smoker_A_St_AAPI_Count)\n",
    "print(Smoker_A_St_Count)"
   ]
  },
  {
   "cell_type": "code",
   "execution_count": 181,
   "id": "a7f0a3cf",
   "metadata": {},
   "outputs": [
    {
     "name": "stdout",
     "output_type": "stream",
     "text": [
      "[33, 6, 10, 1, 2]\n"
     ]
    }
   ],
   "source": [
    "# Individuals who are smokers, their cancer status is Active and stable, and their race is Other\n",
    "Smoker_A_St_O = Cancer_Covid_Race_Smoking_df.loc[(Cancer_Covid_Race_Smoking_df[\"der_smoking2\"] == \"Current or Former\") & (Cancer_Covid_Race_Smoking_df[\"der_cancer_status_v4\"] == \"Active and stable\")\n",
    "                                                          & (Cancer_Covid_Race_Smoking_df[\"der_race_v2\"] == \"Other\")]\n",
    "Smoker_A_St_O_Count = len(Smoker_A_St_O)\n",
    "Smoker_A_St_Count.append(Smoker_A_St_O_Count)\n",
    "print(Smoker_A_St_Count)"
   ]
  },
  {
   "cell_type": "code",
   "execution_count": 186,
   "id": "c45acd61",
   "metadata": {},
   "outputs": [],
   "source": [
    "# Smoker\n",
    "# Active and progressing\n",
    "# Creating an empty list to hold the values for smoker individuals with Active and stable BC & different race/ethnicity categories\n",
    "Smoker_A_Prog_Count = []"
   ]
  },
  {
   "cell_type": "code",
   "execution_count": 187,
   "id": "2ba22489",
   "metadata": {},
   "outputs": [
    {
     "name": "stdout",
     "output_type": "stream",
     "text": [
      "[16]\n"
     ]
    }
   ],
   "source": [
    "# Individuals who are smokers, their cancer status is Active and progressing, and are Non-Hispanic White\n",
    "Smoker_A_Prog_NHW = Cancer_Covid_Race_Smoking_df.loc[(Cancer_Covid_Race_Smoking_df[\"der_smoking2\"] == \"Current or Former\") & (Cancer_Covid_Race_Smoking_df[\"der_cancer_status_v4\"] == \"Active and progressing\")\n",
    "                                                          & (Cancer_Covid_Race_Smoking_df[\"der_race_v2\"] == \"Non-Hispanic White\")]\n",
    "Smoker_A_Prog_NHW_Count = len(Smoker_A_Prog_NHW)\n",
    "Smoker_A_Prog_Count.append(Smoker_A_Prog_NHW_Count)\n",
    "print(Smoker_A_Prog_Count)"
   ]
  },
  {
   "cell_type": "code",
   "execution_count": 188,
   "id": "035668a6",
   "metadata": {},
   "outputs": [
    {
     "name": "stdout",
     "output_type": "stream",
     "text": [
      "[16, 10]\n"
     ]
    }
   ],
   "source": [
    "# Individuals who are smokers, their cancer status is Active and progressing, and are Non-Hispanic Black\n",
    "Smoker_A_Prog_B = Cancer_Covid_Race_Smoking_df.loc[(Cancer_Covid_Race_Smoking_df[\"der_smoking2\"] == \"Current or Former\") & (Cancer_Covid_Race_Smoking_df[\"der_cancer_status_v4\"] == \"Active and progressing\")\n",
    "                                                          & (Cancer_Covid_Race_Smoking_df[\"der_race_v2\"] == \"Non-Hispanic Black\")]\n",
    "Smoker_A_Prog_B_Count = len(Smoker_A_Prog_B)\n",
    "Smoker_A_Prog_Count.append(Smoker_A_Prog_B_Count)\n",
    "print(Smoker_A_Prog_Count)"
   ]
  },
  {
   "cell_type": "code",
   "execution_count": 189,
   "id": "e76ab18a",
   "metadata": {},
   "outputs": [
    {
     "name": "stdout",
     "output_type": "stream",
     "text": [
      "[16, 10, 6]\n"
     ]
    }
   ],
   "source": [
    "# Individuals who are smokers, their cancer status is Active and progressing, and are Hispanic\n",
    "Smoker_A_Prog_H = Cancer_Covid_Race_Smoking_df.loc[(Cancer_Covid_Race_Smoking_df[\"der_smoking2\"] == \"Current or Former\") & (Cancer_Covid_Race_Smoking_df[\"der_cancer_status_v4\"] == \"Active and progressing\")\n",
    "                                                          & (Cancer_Covid_Race_Smoking_df[\"der_race_v2\"] == \"Hispanic\")]\n",
    "Smoker_A_Prog_H_Count = len(Smoker_A_Prog_H)\n",
    "Smoker_A_Prog_Count.append(Smoker_A_Prog_H_Count)\n",
    "print(Smoker_A_Prog_Count)"
   ]
  },
  {
   "cell_type": "code",
   "execution_count": 190,
   "id": "28949d57",
   "metadata": {},
   "outputs": [
    {
     "name": "stdout",
     "output_type": "stream",
     "text": [
      "[16, 10, 6, 1]\n"
     ]
    }
   ],
   "source": [
    "# Individuals who are smokers, their cancer status is Active and progressing, and are Non-Hispanic AAPI\n",
    "Smoker_A_Prog_AAPI = Cancer_Covid_Race_Smoking_df.loc[(Cancer_Covid_Race_Smoking_df[\"der_smoking2\"] == \"Current or Former\") & (Cancer_Covid_Race_Smoking_df[\"der_cancer_status_v4\"] == \"Active and progressing\")\n",
    "                                                          & (Cancer_Covid_Race_Smoking_df[\"der_race_v2\"] == \"Non-Hispanic AAPI\")]\n",
    "Smoker_A_Prog_AAPI_Count = len(Smoker_A_Prog_AAPI)\n",
    "Smoker_A_Prog_Count.append(Smoker_A_Prog_AAPI_Count)\n",
    "print(Smoker_A_Prog_Count)"
   ]
  },
  {
   "cell_type": "code",
   "execution_count": 191,
   "id": "b3848cad",
   "metadata": {},
   "outputs": [
    {
     "name": "stdout",
     "output_type": "stream",
     "text": [
      "[16, 10, 6, 1, 0]\n"
     ]
    }
   ],
   "source": [
    "# Individuals who are smokers, their cancer status is Active and progressing, and their race is Other\n",
    "Smoker_A_Prog_O = Cancer_Covid_Race_Smoking_df.loc[(Cancer_Covid_Race_Smoking_df[\"der_smoking2\"] == \"Current or Former\") & (Cancer_Covid_Race_Smoking_df[\"der_cancer_status_v4\"] == \"Active and progressing\")\n",
    "                                                          & (Cancer_Covid_Race_Smoking_df[\"der_race_v2\"] == \"Other\")]\n",
    "Smoker_A_Prog_O_Count = len(Smoker_A_Prog_O)\n",
    "Smoker_A_Prog_Count.append(Smoker_A_Prog_O_Count)\n",
    "print(Smoker_A_Prog_Count)"
   ]
  },
  {
   "cell_type": "code",
   "execution_count": 192,
   "id": "7775de64",
   "metadata": {},
   "outputs": [],
   "source": [
    "# Non-Smoker\n",
    "# Active and responding\n",
    "# Creating an empty list to hold the values for non-smoker individuals with Active and responding BC & different race/ethnicity categories\n",
    "NonSmoker_A_Res_Count = []"
   ]
  },
  {
   "cell_type": "code",
   "execution_count": 193,
   "id": "dcd26d63",
   "metadata": {},
   "outputs": [
    {
     "name": "stdout",
     "output_type": "stream",
     "text": [
      "[38]\n"
     ]
    }
   ],
   "source": [
    "# Individuals who are non-smokers, their cancer status is Active and responding, and are Non-Hispanic White\n",
    "NonSmoker_A_Res_NHW = Cancer_Covid_Race_Smoking_df.loc[(Cancer_Covid_Race_Smoking_df[\"der_smoking2\"] == \"Never\") & (Cancer_Covid_Race_Smoking_df[\"der_cancer_status_v4\"] == \"Active and responding\")\n",
    "                                                          & (Cancer_Covid_Race_Smoking_df[\"der_race_v2\"] == \"Non-Hispanic White\")]\n",
    "NonSmoker_A_Res_NHW_Count = len(NonSmoker_A_Res_NHW)\n",
    "NonSmoker_A_Res_Count.append(NonSmoker_A_Res_NHW_Count)\n",
    "print(NonSmoker_A_Res_Count)"
   ]
  },
  {
   "cell_type": "code",
   "execution_count": 194,
   "id": "463d3025",
   "metadata": {},
   "outputs": [
    {
     "name": "stdout",
     "output_type": "stream",
     "text": [
      "[38, 21]\n"
     ]
    }
   ],
   "source": [
    "# Individuals who are non-smokers, their cancer status is Active and responding, and are Non-Hispanic Black\n",
    "NonSmoker_A_Responding_B = Cancer_Covid_Race_Smoking_df.loc[(Cancer_Covid_Race_Smoking_df[\"der_smoking2\"] == \"Never\") & (Cancer_Covid_Race_Smoking_df[\"der_cancer_status_v4\"] == \"Active and responding\")\n",
    "                                                          & (Cancer_Covid_Race_Smoking_df[\"der_race_v2\"] == \"Non-Hispanic Black\")]\n",
    "NonSmoker_A_Responding_B_Count = len(NonSmoker_A_Responding_B)\n",
    "NonSmoker_A_Res_Count.append(NonSmoker_A_Responding_B_Count)\n",
    "print(NonSmoker_A_Res_Count)"
   ]
  },
  {
   "cell_type": "code",
   "execution_count": 195,
   "id": "7639f89c",
   "metadata": {},
   "outputs": [
    {
     "name": "stdout",
     "output_type": "stream",
     "text": [
      "[38, 21, 47]\n"
     ]
    }
   ],
   "source": [
    "# Individuals who are non-smokers, their cancer status is Active and responding, and are Hispanic\n",
    "NonSmoker_A_Responding_H = Cancer_Covid_Race_Smoking_df.loc[(Cancer_Covid_Race_Smoking_df[\"der_smoking2\"] == \"Never\") & (Cancer_Covid_Race_Smoking_df[\"der_cancer_status_v4\"] == \"Active and responding\")\n",
    "                                                          & (Cancer_Covid_Race_Smoking_df[\"der_race_v2\"] == \"Hispanic\")]\n",
    "NonSmoker_A_Responding_H_Count = len(NonSmoker_A_Responding_H)\n",
    "NonSmoker_A_Res_Count.append(NonSmoker_A_Responding_H_Count)\n",
    "print(NonSmoker_A_Res_Count)"
   ]
  },
  {
   "cell_type": "code",
   "execution_count": 196,
   "id": "6257eba3",
   "metadata": {},
   "outputs": [
    {
     "name": "stdout",
     "output_type": "stream",
     "text": [
      "[38, 21, 47, 2]\n"
     ]
    }
   ],
   "source": [
    "# Individuals who are non-smokers, their cancer status is Active and responding, and are Non-Hispanic AAPI\n",
    "NonSmoker_A_Responding_AAPI = Cancer_Covid_Race_Smoking_df.loc[(Cancer_Covid_Race_Smoking_df[\"der_smoking2\"] == \"Never\") & (Cancer_Covid_Race_Smoking_df[\"der_cancer_status_v4\"] == \"Active and responding\")\n",
    "                                                          & (Cancer_Covid_Race_Smoking_df[\"der_race_v2\"] == \"Non-Hispanic AAPI\")]\n",
    "NonSmoker_A_Responding_AAPI_Count = len(NonSmoker_A_Responding_AAPI)\n",
    "NonSmoker_A_Res_Count.append(NonSmoker_A_Responding_AAPI_Count)\n",
    "print(NonSmoker_A_Res_Count)"
   ]
  },
  {
   "cell_type": "code",
   "execution_count": 197,
   "id": "a01c4d16",
   "metadata": {},
   "outputs": [
    {
     "name": "stdout",
     "output_type": "stream",
     "text": [
      "[38, 21, 47, 2, 7]\n"
     ]
    }
   ],
   "source": [
    "# Individuals who are non-smokers, their cancer status is Active and responding, and their race is Other\n",
    "NonSmoker_A_Responding_O = Cancer_Covid_Race_Smoking_df.loc[(Cancer_Covid_Race_Smoking_df[\"der_smoking2\"] == \"Never\") & (Cancer_Covid_Race_Smoking_df[\"der_cancer_status_v4\"] == \"Active and responding\")\n",
    "                                                          & (Cancer_Covid_Race_Smoking_df[\"der_race_v2\"] == \"Other\")]\n",
    "NonSmoker_A_Responding_O_Count = len(NonSmoker_A_Responding_O)\n",
    "NonSmoker_A_Res_Count.append(NonSmoker_A_Responding_O_Count)\n",
    "print(NonSmoker_A_Res_Count)"
   ]
  },
  {
   "cell_type": "code",
   "execution_count": 198,
   "id": "90374197",
   "metadata": {},
   "outputs": [],
   "source": [
    "# Non-Smoker\n",
    "# Active and stable\n",
    "# Creating an empty list to hold the values for non-smoker individuals with Active and stable BC & different race/ethnicity categories\n",
    "NonSmoker_A_St_Count = []"
   ]
  },
  {
   "cell_type": "code",
   "execution_count": 199,
   "id": "c929203b",
   "metadata": {},
   "outputs": [
    {
     "name": "stdout",
     "output_type": "stream",
     "text": [
      "[54]\n"
     ]
    }
   ],
   "source": [
    "# Individuals who are non-smokers, their cancer status is Active and stable, and are Non-Hispanic White\n",
    "NonSmoker_A_St_NHW = Cancer_Covid_Race_Smoking_df.loc[(Cancer_Covid_Race_Smoking_df[\"der_smoking2\"] == \"Never\") & (Cancer_Covid_Race_Smoking_df[\"der_cancer_status_v4\"] == \"Active and stable\")\n",
    "                                                          & (Cancer_Covid_Race_Smoking_df[\"der_race_v2\"] == \"Non-Hispanic White\")]\n",
    "NonSmoker_A_St_NHW_Count = len(NonSmoker_A_St_NHW)\n",
    "NonSmoker_A_St_Count.append(NonSmoker_A_St_NHW_Count)\n",
    "print(NonSmoker_A_St_Count)"
   ]
  },
  {
   "cell_type": "code",
   "execution_count": 200,
   "id": "6e08d837",
   "metadata": {},
   "outputs": [
    {
     "name": "stdout",
     "output_type": "stream",
     "text": [
      "[54, 20]\n"
     ]
    }
   ],
   "source": [
    "# Individuals who are non-smokers, their cancer status is Active and stable, and are Non-Hispanic Black\n",
    "NonSmoker_A_St_B = Cancer_Covid_Race_Smoking_df.loc[(Cancer_Covid_Race_Smoking_df[\"der_smoking2\"] == \"Never\") & (Cancer_Covid_Race_Smoking_df[\"der_cancer_status_v4\"] == \"Active and stable\")\n",
    "                                                          & (Cancer_Covid_Race_Smoking_df[\"der_race_v2\"] == \"Non-Hispanic Black\")]\n",
    "NonSmoker_A_St_B_Count = len(NonSmoker_A_St_B)\n",
    "NonSmoker_A_St_Count.append(NonSmoker_A_St_B_Count)\n",
    "print(NonSmoker_A_St_Count)"
   ]
  },
  {
   "cell_type": "code",
   "execution_count": 201,
   "id": "0e5b7560",
   "metadata": {},
   "outputs": [
    {
     "name": "stdout",
     "output_type": "stream",
     "text": [
      "[54, 20, 25]\n"
     ]
    }
   ],
   "source": [
    "# Individuals who are non-smokers, their cancer status is Active and stable, and are Hispanic\n",
    "NonSmoker_A_St_H = Cancer_Covid_Race_Smoking_df.loc[(Cancer_Covid_Race_Smoking_df[\"der_smoking2\"] == \"Never\") & (Cancer_Covid_Race_Smoking_df[\"der_cancer_status_v4\"] == \"Active and stable\")\n",
    "                                                          & (Cancer_Covid_Race_Smoking_df[\"der_race_v2\"] == \"Hispanic\")]\n",
    "NonSmoker_A_St_H_Count = len(NonSmoker_A_St_H)\n",
    "NonSmoker_A_St_Count.append(NonSmoker_A_St_H_Count)\n",
    "print(NonSmoker_A_St_Count)"
   ]
  },
  {
   "cell_type": "code",
   "execution_count": 202,
   "id": "6023e4ac",
   "metadata": {},
   "outputs": [
    {
     "name": "stdout",
     "output_type": "stream",
     "text": [
      "[54, 20, 25, 8]\n"
     ]
    }
   ],
   "source": [
    "# Individuals who are non-smokers, their cancer status is Active and stable, and are Non-Hispanic AAPI\n",
    "NonSmoker_A_St_AAPI = Cancer_Covid_Race_Smoking_df.loc[(Cancer_Covid_Race_Smoking_df[\"der_smoking2\"] == \"Never\") & (Cancer_Covid_Race_Smoking_df[\"der_cancer_status_v4\"] == \"Active and stable\")\n",
    "                                                          & (Cancer_Covid_Race_Smoking_df[\"der_race_v2\"] == \"Non-Hispanic AAPI\")]\n",
    "NonSmoker_A_St_AAPI_Count = len(NonSmoker_A_St_AAPI)\n",
    "NonSmoker_A_St_Count.append(NonSmoker_A_St_AAPI_Count)\n",
    "print(NonSmoker_A_St_Count)"
   ]
  },
  {
   "cell_type": "code",
   "execution_count": 203,
   "id": "cd301921",
   "metadata": {},
   "outputs": [
    {
     "name": "stdout",
     "output_type": "stream",
     "text": [
      "[54, 20, 25, 8, 3]\n"
     ]
    }
   ],
   "source": [
    "# Individuals who are non-smokers, their cancer status is Active and stable, and their race is Other\n",
    "NonSmoker_A_St_O = Cancer_Covid_Race_Smoking_df.loc[(Cancer_Covid_Race_Smoking_df[\"der_smoking2\"] == \"Never\") & (Cancer_Covid_Race_Smoking_df[\"der_cancer_status_v4\"] == \"Active and stable\")\n",
    "                                                          & (Cancer_Covid_Race_Smoking_df[\"der_race_v2\"] == \"Other\")]\n",
    "NonSmoker_A_St_O_Count = len(NonSmoker_A_St_O)\n",
    "NonSmoker_A_St_Count.append(NonSmoker_A_St_O_Count)\n",
    "print(NonSmoker_A_St_Count)"
   ]
  },
  {
   "cell_type": "code",
   "execution_count": 204,
   "id": "8dfe683e",
   "metadata": {},
   "outputs": [],
   "source": [
    "# Non-Smoker\n",
    "# Active and progressing\n",
    "# Creating an empty list to hold the values for non-smoker individuals with Active and stable BC & different race/ethnicity categories\n",
    "NonSmoker_A_Prog_Count = []"
   ]
  },
  {
   "cell_type": "code",
   "execution_count": 205,
   "id": "86787237",
   "metadata": {},
   "outputs": [
    {
     "name": "stdout",
     "output_type": "stream",
     "text": [
      "[25]\n"
     ]
    }
   ],
   "source": [
    "# Individuals who are non-smokers, their cancer status is Active and progressing, and are Non-Hispanic White\n",
    "NonSmoker_A_Prog_NHW = Cancer_Covid_Race_Smoking_df.loc[(Cancer_Covid_Race_Smoking_df[\"der_smoking2\"] == \"Never\") & (Cancer_Covid_Race_Smoking_df[\"der_cancer_status_v4\"] == \"Active and progressing\")\n",
    "                                                          & (Cancer_Covid_Race_Smoking_df[\"der_race_v2\"] == \"Non-Hispanic White\")]\n",
    "NonSmoker_A_Prog_NHW_Count = len(NonSmoker_A_Prog_NHW)\n",
    "NonSmoker_A_Prog_Count.append(NonSmoker_A_Prog_NHW_Count)\n",
    "print(NonSmoker_A_Prog_Count)"
   ]
  },
  {
   "cell_type": "code",
   "execution_count": 96,
   "id": "fb3333e1",
   "metadata": {},
   "outputs": [
    {
     "name": "stdout",
     "output_type": "stream",
     "text": [
      "[25, 17]\n"
     ]
    }
   ],
   "source": [
    "# Individuals who are non-smokers, their cancer status is Active and progressing, and are Non-Hispanic Black\n",
    "try: \n",
    "    NonSmoker_A_Prog_B = Cancer_Covid_Race_Smoking_df.loc[(Cancer_Covid_Race_Smoking_df[\"der_smoking2\"] == \"Never\") & (Cancer_Covid_Race_Smoking_df[\"der_cancer_status_v4\"] == \"Active and progressing\")\n",
    "                                                          & (Cancer_Covid_Race_Smoking_df[\"der_race_v2\"] == \"Non-Hispanic Black\")]\n",
    "    NonSmoker_A_Prog_B_Count = len(NonSmoker_A_Prog_B)\n",
    "    NonSmoker_A_Prog_Count.append(NonSmoker_A_Prog_B_Count)\n",
    "    print(NonSmoker_A_Prog_Count)\n",
    "except:\n",
    "    print(\"No Result was found\")"
   ]
  },
  {
   "cell_type": "code",
   "execution_count": 97,
   "id": "10efcd68",
   "metadata": {},
   "outputs": [
    {
     "name": "stdout",
     "output_type": "stream",
     "text": [
      "[25, 17, 14]\n"
     ]
    }
   ],
   "source": [
    "# Individuals who are non-smokers, their cancer status is Active and progressing, and are Hispanic\n",
    "try: \n",
    "    NonSmoker_A_Prog_H = Cancer_Covid_Race_Smoking_df.loc[(Cancer_Covid_Race_Smoking_df[\"der_smoking2\"] == \"Never\") & (Cancer_Covid_Race_Smoking_df[\"der_cancer_status_v4\"] == \"Active and progressing\")\n",
    "                                                          & (Cancer_Covid_Race_Smoking_df[\"der_race_v2\"] == \"Hispanic\")]\n",
    "    NonSmoker_A_Prog_H_Count = len(NonSmoker_A_Prog_H)\n",
    "    NonSmoker_A_Prog_Count.append(NonSmoker_A_Prog_H_Count)\n",
    "    print(NonSmoker_A_Prog_Count)\n",
    "except:\n",
    "    print(\"No Result was found\")"
   ]
  },
  {
   "cell_type": "code",
   "execution_count": 98,
   "id": "1c8bc6ff",
   "metadata": {},
   "outputs": [
    {
     "name": "stdout",
     "output_type": "stream",
     "text": [
      "[25, 17, 14, 5]\n"
     ]
    }
   ],
   "source": [
    "# Individuals who are non-smokers, their cancer status is Active and progressing, and are Non-Hispanic AAPI\n",
    "try: \n",
    "    NonSmoker_A_Prog_AAPI = Cancer_Covid_Race_Smoking_df.loc[(Cancer_Covid_Race_Smoking_df[\"der_smoking2\"] == \"Never\") & (Cancer_Covid_Race_Smoking_df[\"der_cancer_status_v4\"] == \"Active and progressing\")\n",
    "                                                          & (Cancer_Covid_Race_Smoking_df[\"der_race_v2\"] == \"Non-Hispanic AAPI\")]\n",
    "    NonSmoker_A_Prog_AAPI_Count = len(NonSmoker_A_Prog_AAPI)\n",
    "    NonSmoker_A_Prog_Count.append(NonSmoker_A_Prog_AAPI_Count)\n",
    "    print(NonSmoker_A_Prog_Count)\n",
    "except:\n",
    "    print(\"No Result was found\")"
   ]
  },
  {
   "cell_type": "code",
   "execution_count": 99,
   "id": "082ce121",
   "metadata": {},
   "outputs": [
    {
     "name": "stdout",
     "output_type": "stream",
     "text": [
      "[25, 17, 14, 5, 3]\n"
     ]
    }
   ],
   "source": [
    "# Individuals who are non-smokers, their cancer status is Active and progressing, and their race is Other\n",
    "try: \n",
    "    NonSmoker_A_Prog_O = Cancer_Covid_Race_Smoking_df.loc[(Cancer_Covid_Race_Smoking_df[\"der_smoking2\"] == \"Never\") & (Cancer_Covid_Race_Smoking_df[\"der_cancer_status_v4\"] == \"Active and progressing\")\n",
    "                                                          & (Cancer_Covid_Race_Smoking_df[\"der_race_v2\"] == \"Other\")]\n",
    "    NonSmoker_A_Prog_O_Count = len(NonSmoker_A_Prog_O)\n",
    "    NonSmoker_A_Prog_Count.append(NonSmoker_A_Prog_O_Count)\n",
    "    print(NonSmoker_A_Prog_Count)\n",
    "except:\n",
    "    print(\"No Result was found\")"
   ]
  },
  {
   "cell_type": "code",
   "execution_count": 138,
   "id": "268891bf",
   "metadata": {},
   "outputs": [
    {
     "data": {
      "text/html": [
       "<div>\n",
       "<style scoped>\n",
       "    .dataframe tbody tr th:only-of-type {\n",
       "        vertical-align: middle;\n",
       "    }\n",
       "\n",
       "    .dataframe tbody tr th {\n",
       "        vertical-align: top;\n",
       "    }\n",
       "\n",
       "    .dataframe thead th {\n",
       "        text-align: right;\n",
       "    }\n",
       "</style>\n",
       "<table border=\"1\" class=\"dataframe\">\n",
       "  <thead>\n",
       "    <tr style=\"text-align: right;\">\n",
       "      <th></th>\n",
       "      <th>Smoker_A_Res_Count</th>\n",
       "      <th>NonSmoker_A_Res_Count</th>\n",
       "    </tr>\n",
       "  </thead>\n",
       "  <tbody>\n",
       "    <tr>\n",
       "      <th>NHW</th>\n",
       "      <td>29</td>\n",
       "      <td>38</td>\n",
       "    </tr>\n",
       "    <tr>\n",
       "      <th>Black</th>\n",
       "      <td>11</td>\n",
       "      <td>21</td>\n",
       "    </tr>\n",
       "    <tr>\n",
       "      <th>Hispanic</th>\n",
       "      <td>9</td>\n",
       "      <td>47</td>\n",
       "    </tr>\n",
       "    <tr>\n",
       "      <th>AAPI</th>\n",
       "      <td>1</td>\n",
       "      <td>2</td>\n",
       "    </tr>\n",
       "    <tr>\n",
       "      <th>Others</th>\n",
       "      <td>4</td>\n",
       "      <td>7</td>\n",
       "    </tr>\n",
       "  </tbody>\n",
       "</table>\n",
       "</div>"
      ],
      "text/plain": [
       "          Smoker_A_Res_Count  NonSmoker_A_Res_Count\n",
       "NHW                       29                     38\n",
       "Black                     11                     21\n",
       "Hispanic                   9                     47\n",
       "AAPI                       1                      2\n",
       "Others                     4                      7"
      ]
     },
     "execution_count": 138,
     "metadata": {},
     "output_type": "execute_result"
    }
   ],
   "source": [
    "# Active and responding BC\n",
    "# Creating a data frame which includes both the Smoker_A_Res_Count & NonSmoker_A_Res_Count for comparison as well as plotting.\n",
    "# NHW = Non-Hispanic White\n",
    "# AAPI = Asian Americans and Pacific Islanders\n",
    "Race_Ethnicity = [\"NHW\", \"Black\" , \"Hispanic\", \"AAPI\", \"Others\"]\n",
    "   \n",
    "A_Res_BC_Smoker_NonSmoker_DF = pd.DataFrame (\n",
    "    {\n",
    "        \"Smoker_A_Res_Count\" : Smoker_A_Res_Count,\n",
    "        \"NonSmoker_A_Res_Count\" : NonSmoker_A_Res_Count},\n",
    "        index = Race_Ethnicity\n",
    "    \n",
    ")\n",
    "\n",
    "A_Res_BC_Smoker_NonSmoker_DF"
   ]
  },
  {
   "cell_type": "code",
   "execution_count": 136,
   "id": "5ac8a9fc",
   "metadata": {},
   "outputs": [
    {
     "data": {
      "text/html": [
       "<div>\n",
       "<style scoped>\n",
       "    .dataframe tbody tr th:only-of-type {\n",
       "        vertical-align: middle;\n",
       "    }\n",
       "\n",
       "    .dataframe tbody tr th {\n",
       "        vertical-align: top;\n",
       "    }\n",
       "\n",
       "    .dataframe thead th {\n",
       "        text-align: right;\n",
       "    }\n",
       "</style>\n",
       "<table border=\"1\" class=\"dataframe\">\n",
       "  <thead>\n",
       "    <tr style=\"text-align: right;\">\n",
       "      <th></th>\n",
       "      <th>Smoker_A_St_Count</th>\n",
       "      <th>NonSmoker_A_St_Count</th>\n",
       "    </tr>\n",
       "  </thead>\n",
       "  <tbody>\n",
       "    <tr>\n",
       "      <th>NHW</th>\n",
       "      <td>33</td>\n",
       "      <td>54</td>\n",
       "    </tr>\n",
       "    <tr>\n",
       "      <th>Black</th>\n",
       "      <td>6</td>\n",
       "      <td>20</td>\n",
       "    </tr>\n",
       "    <tr>\n",
       "      <th>Hispanic</th>\n",
       "      <td>10</td>\n",
       "      <td>25</td>\n",
       "    </tr>\n",
       "    <tr>\n",
       "      <th>AAPI</th>\n",
       "      <td>1</td>\n",
       "      <td>8</td>\n",
       "    </tr>\n",
       "    <tr>\n",
       "      <th>Others</th>\n",
       "      <td>2</td>\n",
       "      <td>3</td>\n",
       "    </tr>\n",
       "  </tbody>\n",
       "</table>\n",
       "</div>"
      ],
      "text/plain": [
       "          Smoker_A_St_Count  NonSmoker_A_St_Count\n",
       "NHW                      33                    54\n",
       "Black                     6                    20\n",
       "Hispanic                 10                    25\n",
       "AAPI                      1                     8\n",
       "Others                    2                     3"
      ]
     },
     "execution_count": 136,
     "metadata": {},
     "output_type": "execute_result"
    }
   ],
   "source": [
    "# Active and stable BC\n",
    "# Creating a data frame which includes both the Smoker_A_St_Count & NonSmoker_A_St_Count for comparison as well as plotting.\n",
    "# NHW = Non-Hispanic White\n",
    "# AAPI = Asian Americans and Pacific Islanders\n",
    "Race_Ethnicity = [\"NHW\", \"Black\" , \"Hispanic\", \"AAPI\", \"Others\"]\n",
    "    \n",
    "A_St_BC_Smoker_NonSmoker_DF = pd.DataFrame (\n",
    "    {\n",
    "        \"Smoker_A_St_Count\" : Smoker_A_St_Count,\n",
    "        \"NonSmoker_A_St_Count\" : NonSmoker_A_St_Count},\n",
    "        index = Race_Ethnicity\n",
    "    \n",
    ")\n",
    "\n",
    "A_St_BC_Smoker_NonSmoker_DF"
   ]
  },
  {
   "cell_type": "code",
   "execution_count": 135,
   "id": "d21cae04",
   "metadata": {},
   "outputs": [
    {
     "data": {
      "text/html": [
       "<div>\n",
       "<style scoped>\n",
       "    .dataframe tbody tr th:only-of-type {\n",
       "        vertical-align: middle;\n",
       "    }\n",
       "\n",
       "    .dataframe tbody tr th {\n",
       "        vertical-align: top;\n",
       "    }\n",
       "\n",
       "    .dataframe thead th {\n",
       "        text-align: right;\n",
       "    }\n",
       "</style>\n",
       "<table border=\"1\" class=\"dataframe\">\n",
       "  <thead>\n",
       "    <tr style=\"text-align: right;\">\n",
       "      <th></th>\n",
       "      <th>Smoker_A_Prog_Count</th>\n",
       "      <th>NonSmoker_A_Prog_Count</th>\n",
       "    </tr>\n",
       "  </thead>\n",
       "  <tbody>\n",
       "    <tr>\n",
       "      <th>NHW</th>\n",
       "      <td>16</td>\n",
       "      <td>25</td>\n",
       "    </tr>\n",
       "    <tr>\n",
       "      <th>Black</th>\n",
       "      <td>10</td>\n",
       "      <td>17</td>\n",
       "    </tr>\n",
       "    <tr>\n",
       "      <th>Hispanic</th>\n",
       "      <td>6</td>\n",
       "      <td>14</td>\n",
       "    </tr>\n",
       "    <tr>\n",
       "      <th>AAPI</th>\n",
       "      <td>1</td>\n",
       "      <td>5</td>\n",
       "    </tr>\n",
       "    <tr>\n",
       "      <th>Others</th>\n",
       "      <td>0</td>\n",
       "      <td>3</td>\n",
       "    </tr>\n",
       "  </tbody>\n",
       "</table>\n",
       "</div>"
      ],
      "text/plain": [
       "          Smoker_A_Prog_Count  NonSmoker_A_Prog_Count\n",
       "NHW                        16                      25\n",
       "Black                      10                      17\n",
       "Hispanic                    6                      14\n",
       "AAPI                        1                       5\n",
       "Others                      0                       3"
      ]
     },
     "execution_count": 135,
     "metadata": {},
     "output_type": "execute_result"
    }
   ],
   "source": [
    "# Active and progressing BC\n",
    "# Creating a data frame which includes both the Smoker_A_Prog_Count & NonSmoker_A_Prog_Count for comparison as well as plotting.\n",
    "# NHW = Non-Hispanic White\n",
    "# AAPI = Asian Americans and Pacific Islanders\n",
    "Race_Ethnicity = [\"NHW\", \"Black\" , \"Hispanic\", \"AAPI\", \"Others\"]\n",
    "    \n",
    "A_Prog_BC_Smoker_NonSmoker_DF = pd.DataFrame (\n",
    "    {\n",
    "        \"Smoker_A_Prog_Count\" : Smoker_A_Prog_Count,\n",
    "        \"NonSmoker_A_Prog_Count\" : NonSmoker_A_Prog_Count},\n",
    "        index = Race_Ethnicity\n",
    "    \n",
    ")\n",
    "\n",
    "A_Prog_BC_Smoker_NonSmoker_DF"
   ]
  },
  {
   "cell_type": "code",
   "execution_count": 139,
   "id": "d715de13",
   "metadata": {},
   "outputs": [
    {
     "data": {
      "image/png": "[encoded data removed]",
      "text/plain": [
       "<Figure size 1800x1000 with 2 Axes>"
      ]
     },
     "metadata": {},
     "output_type": "display_data"
    }
   ],
   "source": [
    "# Plotting\n",
    "\n",
    "# Active and responding BC\n",
    "colors = [\"mediumaquamarine\", \"silver\", \"steelblue\", \"lightcoral\", \"lemonchiffon\"]\n",
    "\n",
    "fig = plt.figure(figsize=(18,10))\n",
    "#first row, first column\n",
    "ax1 = plt.subplot2grid((2,2),(0,0))\n",
    "plt.pie(A_Res_BC_Smoker_NonSmoker_DF[\"Smoker_A_Res_Count\"],colors=colors,labels = Race_Ethnicity, autopct = \"%1.1f%%\")\n",
    "plt.title(\"Active and responding BC & Smoker VS. Race/Ethnicity   [Smoking_Plot(7)]\")\n",
    "plt.ylabel(\"Number of Smokers_BC_COVID & Non-Smokers_BC_COVID\", fontsize=9)\n",
    "plt.xlabel(\"Race/Ethnicity\")\n",
    "\n",
    "#first row sec column\n",
    "ax1 = plt.subplot2grid((2,2), (0, 1))\n",
    "plt.pie(A_Res_BC_Smoker_NonSmoker_DF[\"NonSmoker_A_Res_Count\"],colors=colors, labels = Race_Ethnicity, autopct = \"%1.1f%%\")\n",
    "plt.title(\"Active and responding BC & Non-Smoker VS. Race/Ethnicity   [Smoking_Plot(8)]\")\n",
    "plt.ylabel(\"Number of Smokers_BC_COVID & Non-Smokers_BC_COVID\", fontsize=9)\n",
    "plt.xlabel(\"Race/Ethnicity\")\n",
    "plt.savefig(\"Smoking_Output_Data/SmokingQ_Plot(7_8).png\")"
   ]
  },
  {
   "cell_type": "code",
   "execution_count": 140,
   "id": "48bde40e",
   "metadata": {},
   "outputs": [
    {
     "data": {
      "text/plain": [
       "F_onewayResult(statistic=1.5043460683242371, pvalue=0.25487601273116867)"
      ]
     },
     "execution_count": 140,
     "metadata": {},
     "output_type": "execute_result"
    }
   ],
   "source": [
    "# Hypothesis Testing\n",
    "\n",
    "# Perform the ANOVA\n",
    "stats.f_oneway(A_Res_BC_Smoker_NonSmoker_DF[\"Smoker_A_Res_Count\"], A_Res_BC_Smoker_NonSmoker_DF[\"NonSmoker_A_Res_Count\"])"
   ]
  },
  {
   "cell_type": "markdown",
   "id": "c93e973f",
   "metadata": {},
   "source": [
    "Analysis: Since the p-value is greater than 0.05, we cannot reject the null hypothesis. This means that there is no significant difference between the two data sets. Therefore, Smoking does not have an effect between different races."
   ]
  },
  {
   "cell_type": "code",
   "execution_count": 106,
   "id": "0408ac4b",
   "metadata": {},
   "outputs": [
    {
     "data": {
      "image/png": "[encoded data removed]",
      "text/plain": [
       "<Figure size 1800x1000 with 2 Axes>"
      ]
     },
     "metadata": {},
     "output_type": "display_data"
    }
   ],
   "source": [
    "# Plotting\n",
    "\n",
    "# Active and stable BC\n",
    "colors = [\"mediumaquamarine\", \"silver\", \"steelblue\", \"lightcoral\", \"lemonchiffon\"]\n",
    "\n",
    "fig = plt.figure(figsize=(18,10))\n",
    "#first row, first column\n",
    "ax1 = plt.subplot2grid((2,2),(0,0))\n",
    "plt.pie(A_St_BC_Smoker_NonSmoker_DF[\"Smoker_A_St_Count\"],colors=colors,labels = Race_Ethnicity, autopct = \"%1.1f%%\")\n",
    "plt.title(\"Active and stable BC & Smoker VS. Race/Ethnicity   [Smoking_Plot(9)]\")\n",
    "plt.ylabel(\"Number of Smokers_BC_COVID & Non-Smokers_BC_COVID\", fontsize=9)\n",
    "plt.xlabel(\"Race/Ethnicity\")\n",
    "\n",
    "#first row sec column\n",
    "ax1 = plt.subplot2grid((2,2), (0, 1))\n",
    "plt.pie(A_St_BC_Smoker_NonSmoker_DF[\"NonSmoker_A_St_Count\"],colors=colors, labels = Race_Ethnicity, autopct = \"%1.1f%%\")\n",
    "plt.title(\"Active and stable BC & Non-Smoker VS. Race/Ethnicity   [Smoking_Plot(10)]\")\n",
    "plt.ylabel(\"Number of Smokers_BC_COVID & Non-Smokers_BC_COVID\", fontsize=9)\n",
    "plt.xlabel(\"Race/Ethnicity\")\n",
    "plt.savefig(\"Smoking_Output_Data/SmokingQ_Plot(9_10).png\")"
   ]
  },
  {
   "cell_type": "code",
   "execution_count": 141,
   "id": "d6aa58fe",
   "metadata": {},
   "outputs": [
    {
     "data": {
      "text/plain": [
       "F_onewayResult(statistic=1.1786965662228448, pvalue=0.30924993880503876)"
      ]
     },
     "execution_count": 141,
     "metadata": {},
     "output_type": "execute_result"
    }
   ],
   "source": [
    "# Hypothesis Testing\n",
    "\n",
    "# Perform the ANOVA\n",
    "stats.f_oneway(A_St_BC_Smoker_NonSmoker_DF[\"Smoker_A_St_Count\"], A_St_BC_Smoker_NonSmoker_DF[\"NonSmoker_A_St_Count\"])"
   ]
  },
  {
   "cell_type": "markdown",
   "id": "b5557183",
   "metadata": {},
   "source": [
    "Analysis: Since the p-value is greater than 0.05, we cannot reject the null hypothesis. This means that there is no significant difference between the two data sets. Therefore, Smoking does not have an effect between different races."
   ]
  },
  {
   "cell_type": "code",
   "execution_count": 121,
   "id": "d8c0f2e8",
   "metadata": {},
   "outputs": [
    {
     "data": {
      "image/png": "[encoded data removed]",
      "text/plain": [
       "<Figure size 1800x1000 with 2 Axes>"
      ]
     },
     "metadata": {},
     "output_type": "display_data"
    }
   ],
   "source": [
    "# Plotting\n",
    "\n",
    "# Active and progressing BC\n",
    "colors = [\"mediumaquamarine\", \"silver\", \"steelblue\", \"lightcoral\", \"lemonchiffon\"]\n",
    "\n",
    "fig = plt.figure(figsize=(18,10))\n",
    "#first row, first column\n",
    "ax1 = plt.subplot2grid((2,2),(0,0))\n",
    "plt.pie(A_Prog_BC_Smoker_NonSmoker_DF[\"Smoker_A_Prog_Count\"],colors=colors,labels = Race_Ethnicity, autopct = \"%1.1f%%\")\n",
    "plt.title(\"Active and progressing BC & Smoker VS. Race/Ethnicity   [Smoking_Plot(11)]\")\n",
    "plt.ylabel(\"Number of Smokers_BC_COVID & Non-Smokers_BC_COVID\", fontsize=9)\n",
    "plt.xlabel(\"Race/Ethnicity\")\n",
    "\n",
    "#first row sec column\n",
    "ax1 = plt.subplot2grid((2,2), (0, 1))\n",
    "plt.pie(A_Prog_BC_Smoker_NonSmoker_DF[\"NonSmoker_A_Prog_Count\"],colors=colors, labels = Race_Ethnicity, autopct = \"%1.1f%%\", startangle=20)\n",
    "plt.title(\"Active and progressing BC & Non-Smoker VS. Race/Ethnicity   [Smoking_Plot(12)]\")\n",
    "plt.ylabel(\"Number of Smokers_BC_COVID & Non-Smokers_BC_COVID\", fontsize=9)\n",
    "plt.xlabel(\"Race/Ethnicity\")\n",
    "plt.savefig(\"Smoking_Output_Data/SmokingQ_Plot(11_12).png\")"
   ]
  },
  {
   "cell_type": "code",
   "execution_count": 142,
   "id": "8b63860c",
   "metadata": {},
   "outputs": [
    {
     "data": {
      "text/plain": [
       "F_onewayResult(statistic=1.5375999999999999, pvalue=0.2501115666257618)"
      ]
     },
     "execution_count": 142,
     "metadata": {},
     "output_type": "execute_result"
    }
   ],
   "source": [
    "# Hypothesis Testing\n",
    "\n",
    "# Perform the ANOVA\n",
    "stats.f_oneway(A_Prog_BC_Smoker_NonSmoker_DF[\"Smoker_A_Prog_Count\"], A_Prog_BC_Smoker_NonSmoker_DF[\"NonSmoker_A_Prog_Count\"])"
   ]
  },
  {
   "cell_type": "markdown",
   "id": "4cc4dcb5",
   "metadata": {},
   "source": [
    "Analysis: Since the p-value is greater than 0.05, we cannot reject the null hypothesis. This means that there is no significant difference between the two data sets. Therefore, Smoking does not have an effect between different races."
   ]
  },
  {
   "cell_type": "code",
   "execution_count": null,
   "id": "b26b015b",
   "metadata": {},
   "outputs": [],
   "source": []
  }
 ],
 "metadata": {
  "kernelspec": {
   "display_name": "Python 3 (ipykernel)",
   "language": "python",
   "name": "python3"
  },
  "language_info": {
   "codemirror_mode": {
    "name": "ipython",
    "version": 3
   },
   "file_extension": ".py",
   "mimetype": "text/x-python",
   "name": "python",
   "nbconvert_exporter": "python",
   "pygments_lexer": "ipython3",
   "version": "3.11.5"
  }
 },
 "nbformat": 4,
 "nbformat_minor": 5
}
