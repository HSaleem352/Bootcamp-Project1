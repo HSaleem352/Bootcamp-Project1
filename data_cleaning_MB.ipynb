{
 "cells": [
  {
   "cell_type": "code",
   "execution_count": 1,
   "id": "5786d539",
   "metadata": {},
   "outputs": [],
   "source": [
    "#!pip install pyreadr\n",
    "\n",
    "import pyreadr\n",
    "import pandas as pd\n",
    "import matplotlib.pyplot as plt\n",
    "import numpy as np"
   ]
  },
  {
   "cell_type": "code",
   "execution_count": 2,
   "id": "25b45c4b",
   "metadata": {},
   "outputs": [],
   "source": [
    "raw_data = pyreadr.read_r('48_-_breast_cancer_data.RData')['out']\n",
    "# raw_data.to_csv('dataset.csv')"
   ]
  },
  {
   "cell_type": "code",
   "execution_count": 3,
   "id": "75f110da",
   "metadata": {},
   "outputs": [
    {
     "data": {
      "text/html": [
       "<div>\n",
       "<style scoped>\n",
       "    .dataframe tbody tr th:only-of-type {\n",
       "        vertical-align: middle;\n",
       "    }\n",
       "\n",
       "    .dataframe tbody tr th {\n",
       "        vertical-align: top;\n",
       "    }\n",
       "\n",
       "    .dataframe thead th {\n",
       "        text-align: right;\n",
       "    }\n",
       "</style>\n",
       "<table border=\"1\" class=\"dataframe\">\n",
       "  <thead>\n",
       "    <tr style=\"text-align: right;\">\n",
       "      <th></th>\n",
       "      <th>der_ordinal_v1a</th>\n",
       "      <th>der_days_fu</th>\n",
       "      <th>der_deadbinary</th>\n",
       "      <th>der_dead30</th>\n",
       "      <th>der_mv</th>\n",
       "      <th>der_ICU</th>\n",
       "      <th>der_hosp</th>\n",
       "      <th>der_AKI_comp</th>\n",
       "      <th>der_MOF_comp</th>\n",
       "      <th>der_coinfection_any</th>\n",
       "      <th>...</th>\n",
       "      <th>der_txline</th>\n",
       "      <th>der_heme</th>\n",
       "      <th>der_metastatic</th>\n",
       "      <th>der_met_bone</th>\n",
       "      <th>der_met_liver</th>\n",
       "      <th>der_met_lung_v2</th>\n",
       "      <th>der_age_trunc</th>\n",
       "      <th>der_CV_event_v2</th>\n",
       "      <th>der_pulm_event</th>\n",
       "      <th>der_GI_event</th>\n",
       "    </tr>\n",
       "  </thead>\n",
       "  <tbody>\n",
       "    <tr>\n",
       "      <th>0</th>\n",
       "      <td>0</td>\n",
       "      <td>30.0</td>\n",
       "      <td>No</td>\n",
       "      <td>No</td>\n",
       "      <td>No</td>\n",
       "      <td>No</td>\n",
       "      <td>No</td>\n",
       "      <td>No</td>\n",
       "      <td>No</td>\n",
       "      <td>No</td>\n",
       "      <td>...</td>\n",
       "      <td>First line</td>\n",
       "      <td>0</td>\n",
       "      <td>Missing/Unknown</td>\n",
       "      <td>NaN</td>\n",
       "      <td>NaN</td>\n",
       "      <td>NaN</td>\n",
       "      <td>58.0</td>\n",
       "      <td>No</td>\n",
       "      <td>Yes</td>\n",
       "      <td>No</td>\n",
       "    </tr>\n",
       "    <tr>\n",
       "      <th>1</th>\n",
       "      <td>0</td>\n",
       "      <td>180.0</td>\n",
       "      <td>No</td>\n",
       "      <td>No</td>\n",
       "      <td>No</td>\n",
       "      <td>No</td>\n",
       "      <td>No</td>\n",
       "      <td>No</td>\n",
       "      <td>No</td>\n",
       "      <td>NaN</td>\n",
       "      <td>...</td>\n",
       "      <td>Non-curative NOS</td>\n",
       "      <td>0</td>\n",
       "      <td>Yes</td>\n",
       "      <td>Yes</td>\n",
       "      <td>No</td>\n",
       "      <td>No</td>\n",
       "      <td>67.0</td>\n",
       "      <td>No</td>\n",
       "      <td>No</td>\n",
       "      <td>No</td>\n",
       "    </tr>\n",
       "    <tr>\n",
       "      <th>2</th>\n",
       "      <td>1</td>\n",
       "      <td>10.5</td>\n",
       "      <td>No</td>\n",
       "      <td>No</td>\n",
       "      <td>No</td>\n",
       "      <td>No</td>\n",
       "      <td>Yes</td>\n",
       "      <td>No</td>\n",
       "      <td>No</td>\n",
       "      <td>NaN</td>\n",
       "      <td>...</td>\n",
       "      <td>First line</td>\n",
       "      <td>0</td>\n",
       "      <td>No</td>\n",
       "      <td>No</td>\n",
       "      <td>No</td>\n",
       "      <td>No</td>\n",
       "      <td>42.0</td>\n",
       "      <td>No</td>\n",
       "      <td>No</td>\n",
       "      <td>No</td>\n",
       "    </tr>\n",
       "    <tr>\n",
       "      <th>3</th>\n",
       "      <td>1</td>\n",
       "      <td>180.0</td>\n",
       "      <td>No</td>\n",
       "      <td>No</td>\n",
       "      <td>No</td>\n",
       "      <td>No</td>\n",
       "      <td>Yes</td>\n",
       "      <td>No</td>\n",
       "      <td>No</td>\n",
       "      <td>No</td>\n",
       "      <td>...</td>\n",
       "      <td>Untreated in last 12 months</td>\n",
       "      <td>0</td>\n",
       "      <td>Yes</td>\n",
       "      <td>Yes</td>\n",
       "      <td>Yes</td>\n",
       "      <td>No</td>\n",
       "      <td>49.0</td>\n",
       "      <td>No</td>\n",
       "      <td>Yes</td>\n",
       "      <td>No</td>\n",
       "    </tr>\n",
       "    <tr>\n",
       "      <th>4</th>\n",
       "      <td>0</td>\n",
       "      <td>180.0</td>\n",
       "      <td>No</td>\n",
       "      <td>No</td>\n",
       "      <td>No</td>\n",
       "      <td>No</td>\n",
       "      <td>No</td>\n",
       "      <td>No</td>\n",
       "      <td>No</td>\n",
       "      <td>No</td>\n",
       "      <td>...</td>\n",
       "      <td>First line</td>\n",
       "      <td>0</td>\n",
       "      <td>No</td>\n",
       "      <td>No</td>\n",
       "      <td>No</td>\n",
       "      <td>No</td>\n",
       "      <td>47.0</td>\n",
       "      <td>No</td>\n",
       "      <td>No</td>\n",
       "      <td>No</td>\n",
       "    </tr>\n",
       "    <tr>\n",
       "      <th>...</th>\n",
       "      <td>...</td>\n",
       "      <td>...</td>\n",
       "      <td>...</td>\n",
       "      <td>...</td>\n",
       "      <td>...</td>\n",
       "      <td>...</td>\n",
       "      <td>...</td>\n",
       "      <td>...</td>\n",
       "      <td>...</td>\n",
       "      <td>...</td>\n",
       "      <td>...</td>\n",
       "      <td>...</td>\n",
       "      <td>...</td>\n",
       "      <td>...</td>\n",
       "      <td>...</td>\n",
       "      <td>...</td>\n",
       "      <td>...</td>\n",
       "      <td>...</td>\n",
       "      <td>...</td>\n",
       "      <td>...</td>\n",
       "      <td>...</td>\n",
       "    </tr>\n",
       "    <tr>\n",
       "      <th>1378</th>\n",
       "      <td>0</td>\n",
       "      <td>180.0</td>\n",
       "      <td>No</td>\n",
       "      <td>No</td>\n",
       "      <td>No</td>\n",
       "      <td>No</td>\n",
       "      <td>No</td>\n",
       "      <td>No</td>\n",
       "      <td>No</td>\n",
       "      <td>No</td>\n",
       "      <td>...</td>\n",
       "      <td>First line</td>\n",
       "      <td>0</td>\n",
       "      <td>No</td>\n",
       "      <td>No</td>\n",
       "      <td>No</td>\n",
       "      <td>No</td>\n",
       "      <td>58.0</td>\n",
       "      <td>No</td>\n",
       "      <td>No</td>\n",
       "      <td>No</td>\n",
       "    </tr>\n",
       "    <tr>\n",
       "      <th>1379</th>\n",
       "      <td>1</td>\n",
       "      <td>30.0</td>\n",
       "      <td>No</td>\n",
       "      <td>No</td>\n",
       "      <td>No</td>\n",
       "      <td>No</td>\n",
       "      <td>Yes</td>\n",
       "      <td>Yes</td>\n",
       "      <td>No</td>\n",
       "      <td>No</td>\n",
       "      <td>...</td>\n",
       "      <td>Curative NOS</td>\n",
       "      <td>0</td>\n",
       "      <td>Yes</td>\n",
       "      <td>No</td>\n",
       "      <td>No</td>\n",
       "      <td>No</td>\n",
       "      <td>73.0</td>\n",
       "      <td>No</td>\n",
       "      <td>No</td>\n",
       "      <td>No</td>\n",
       "    </tr>\n",
       "    <tr>\n",
       "      <th>1380</th>\n",
       "      <td>0</td>\n",
       "      <td>135.0</td>\n",
       "      <td>No</td>\n",
       "      <td>No</td>\n",
       "      <td>No</td>\n",
       "      <td>No</td>\n",
       "      <td>No</td>\n",
       "      <td>No</td>\n",
       "      <td>No</td>\n",
       "      <td>No</td>\n",
       "      <td>...</td>\n",
       "      <td>Untreated in last 12 months</td>\n",
       "      <td>0</td>\n",
       "      <td>No</td>\n",
       "      <td>No</td>\n",
       "      <td>No</td>\n",
       "      <td>No</td>\n",
       "      <td>60.0</td>\n",
       "      <td>No</td>\n",
       "      <td>No</td>\n",
       "      <td>No</td>\n",
       "    </tr>\n",
       "    <tr>\n",
       "      <th>1381</th>\n",
       "      <td>1</td>\n",
       "      <td>10.5</td>\n",
       "      <td>No</td>\n",
       "      <td>No</td>\n",
       "      <td>No</td>\n",
       "      <td>No</td>\n",
       "      <td>Yes</td>\n",
       "      <td>No</td>\n",
       "      <td>No</td>\n",
       "      <td>No</td>\n",
       "      <td>...</td>\n",
       "      <td>Untreated in last 12 months</td>\n",
       "      <td>0</td>\n",
       "      <td>No</td>\n",
       "      <td>No</td>\n",
       "      <td>No</td>\n",
       "      <td>No</td>\n",
       "      <td>60.0</td>\n",
       "      <td>No</td>\n",
       "      <td>Yes</td>\n",
       "      <td>No</td>\n",
       "    </tr>\n",
       "    <tr>\n",
       "      <th>1382</th>\n",
       "      <td>1</td>\n",
       "      <td>21.0</td>\n",
       "      <td>No</td>\n",
       "      <td>No</td>\n",
       "      <td>No</td>\n",
       "      <td>No</td>\n",
       "      <td>Yes</td>\n",
       "      <td>No</td>\n",
       "      <td>No</td>\n",
       "      <td>No</td>\n",
       "      <td>...</td>\n",
       "      <td>Second line or greater</td>\n",
       "      <td>0</td>\n",
       "      <td>Yes</td>\n",
       "      <td>Yes</td>\n",
       "      <td>No</td>\n",
       "      <td>No</td>\n",
       "      <td>68.0</td>\n",
       "      <td>No</td>\n",
       "      <td>No</td>\n",
       "      <td>Yes</td>\n",
       "    </tr>\n",
       "  </tbody>\n",
       "</table>\n",
       "<p>1383 rows × 54 columns</p>\n",
       "</div>"
      ],
      "text/plain": [
       "      der_ordinal_v1a  der_days_fu der_deadbinary der_dead30 der_mv der_ICU  \\\n",
       "0                   0         30.0             No         No     No      No   \n",
       "1                   0        180.0             No         No     No      No   \n",
       "2                   1         10.5             No         No     No      No   \n",
       "3                   1        180.0             No         No     No      No   \n",
       "4                   0        180.0             No         No     No      No   \n",
       "...               ...          ...            ...        ...    ...     ...   \n",
       "1378                0        180.0             No         No     No      No   \n",
       "1379                1         30.0             No         No     No      No   \n",
       "1380                0        135.0             No         No     No      No   \n",
       "1381                1         10.5             No         No     No      No   \n",
       "1382                1         21.0             No         No     No      No   \n",
       "\n",
       "     der_hosp der_AKI_comp der_MOF_comp der_coinfection_any  ...  \\\n",
       "0          No           No           No                  No  ...   \n",
       "1          No           No           No                 NaN  ...   \n",
       "2         Yes           No           No                 NaN  ...   \n",
       "3         Yes           No           No                  No  ...   \n",
       "4          No           No           No                  No  ...   \n",
       "...       ...          ...          ...                 ...  ...   \n",
       "1378       No           No           No                  No  ...   \n",
       "1379      Yes          Yes           No                  No  ...   \n",
       "1380       No           No           No                  No  ...   \n",
       "1381      Yes           No           No                  No  ...   \n",
       "1382      Yes           No           No                  No  ...   \n",
       "\n",
       "                       der_txline der_heme   der_metastatic der_met_bone  \\\n",
       "0                      First line        0  Missing/Unknown          NaN   \n",
       "1                Non-curative NOS        0              Yes          Yes   \n",
       "2                      First line        0               No           No   \n",
       "3     Untreated in last 12 months        0              Yes          Yes   \n",
       "4                      First line        0               No           No   \n",
       "...                           ...      ...              ...          ...   \n",
       "1378                   First line        0               No           No   \n",
       "1379                 Curative NOS        0              Yes           No   \n",
       "1380  Untreated in last 12 months        0               No           No   \n",
       "1381  Untreated in last 12 months        0               No           No   \n",
       "1382       Second line or greater        0              Yes          Yes   \n",
       "\n",
       "     der_met_liver der_met_lung_v2 der_age_trunc der_CV_event_v2  \\\n",
       "0              NaN             NaN          58.0              No   \n",
       "1               No              No          67.0              No   \n",
       "2               No              No          42.0              No   \n",
       "3              Yes              No          49.0              No   \n",
       "4               No              No          47.0              No   \n",
       "...            ...             ...           ...             ...   \n",
       "1378            No              No          58.0              No   \n",
       "1379            No              No          73.0              No   \n",
       "1380            No              No          60.0              No   \n",
       "1381            No              No          60.0              No   \n",
       "1382            No              No          68.0              No   \n",
       "\n",
       "     der_pulm_event der_GI_event  \n",
       "0               Yes           No  \n",
       "1                No           No  \n",
       "2                No           No  \n",
       "3               Yes           No  \n",
       "4                No           No  \n",
       "...             ...          ...  \n",
       "1378             No           No  \n",
       "1379             No           No  \n",
       "1380             No           No  \n",
       "1381            Yes           No  \n",
       "1382             No          Yes  \n",
       "\n",
       "[1383 rows x 54 columns]"
      ]
     },
     "execution_count": 3,
     "metadata": {},
     "output_type": "execute_result"
    }
   ],
   "source": [
    "raw_data"
   ]
  },
  {
   "cell_type": "markdown",
   "id": "40832115",
   "metadata": {},
   "source": [
    "# Does smoking have an affect on Covid with Breast Cancer on male and female?"
   ]
  },
  {
   "cell_type": "markdown",
   "id": "646048ca",
   "metadata": {},
   "source": [
    "Hypothesis: Individuals who smoke and have Breast Cancer have a higher chance of having a severe COVID."
   ]
  },
  {
   "cell_type": "code",
   "execution_count": 4,
   "id": "9e54cf67",
   "metadata": {},
   "outputs": [
    {
     "data": {
      "text/html": [
       "<div>\n",
       "<style scoped>\n",
       "    .dataframe tbody tr th:only-of-type {\n",
       "        vertical-align: middle;\n",
       "    }\n",
       "\n",
       "    .dataframe tbody tr th {\n",
       "        vertical-align: top;\n",
       "    }\n",
       "\n",
       "    .dataframe thead th {\n",
       "        text-align: right;\n",
       "    }\n",
       "</style>\n",
       "<table border=\"1\" class=\"dataframe\">\n",
       "  <thead>\n",
       "    <tr style=\"text-align: right;\">\n",
       "      <th></th>\n",
       "      <th>der_smoking2</th>\n",
       "    </tr>\n",
       "  </thead>\n",
       "  <tbody>\n",
       "    <tr>\n",
       "      <th>0</th>\n",
       "      <td>Current or Former</td>\n",
       "    </tr>\n",
       "    <tr>\n",
       "      <th>1</th>\n",
       "      <td>Never</td>\n",
       "    </tr>\n",
       "    <tr>\n",
       "      <th>2</th>\n",
       "      <td>Never</td>\n",
       "    </tr>\n",
       "    <tr>\n",
       "      <th>3</th>\n",
       "      <td>Never</td>\n",
       "    </tr>\n",
       "    <tr>\n",
       "      <th>4</th>\n",
       "      <td>Never</td>\n",
       "    </tr>\n",
       "    <tr>\n",
       "      <th>...</th>\n",
       "      <td>...</td>\n",
       "    </tr>\n",
       "    <tr>\n",
       "      <th>1378</th>\n",
       "      <td>Current or Former</td>\n",
       "    </tr>\n",
       "    <tr>\n",
       "      <th>1379</th>\n",
       "      <td>Never</td>\n",
       "    </tr>\n",
       "    <tr>\n",
       "      <th>1380</th>\n",
       "      <td>Never</td>\n",
       "    </tr>\n",
       "    <tr>\n",
       "      <th>1381</th>\n",
       "      <td>Never</td>\n",
       "    </tr>\n",
       "    <tr>\n",
       "      <th>1382</th>\n",
       "      <td>Never</td>\n",
       "    </tr>\n",
       "  </tbody>\n",
       "</table>\n",
       "<p>1383 rows × 1 columns</p>\n",
       "</div>"
      ],
      "text/plain": [
       "           der_smoking2\n",
       "0     Current or Former\n",
       "1                 Never\n",
       "2                 Never\n",
       "3                 Never\n",
       "4                 Never\n",
       "...                 ...\n",
       "1378  Current or Former\n",
       "1379              Never\n",
       "1380              Never\n",
       "1381              Never\n",
       "1382              Never\n",
       "\n",
       "[1383 rows x 1 columns]"
      ]
     },
     "execution_count": 4,
     "metadata": {},
     "output_type": "execute_result"
    }
   ],
   "source": [
    "# Creating a data frame for the smoking status\n",
    "Smoking_df = pd.DataFrame(raw_data[\"der_smoking2\"])\n",
    "Smoking_df"
   ]
  },
  {
   "cell_type": "code",
   "execution_count": 5,
   "id": "3d0f2473",
   "metadata": {},
   "outputs": [
    {
     "data": {
      "text/html": [
       "<div>\n",
       "<style scoped>\n",
       "    .dataframe tbody tr th:only-of-type {\n",
       "        vertical-align: middle;\n",
       "    }\n",
       "\n",
       "    .dataframe tbody tr th {\n",
       "        vertical-align: top;\n",
       "    }\n",
       "\n",
       "    .dataframe thead th {\n",
       "        text-align: right;\n",
       "    }\n",
       "</style>\n",
       "<table border=\"1\" class=\"dataframe\">\n",
       "  <thead>\n",
       "    <tr style=\"text-align: right;\">\n",
       "      <th></th>\n",
       "      <th>der_smoking2</th>\n",
       "    </tr>\n",
       "  </thead>\n",
       "  <tbody>\n",
       "    <tr>\n",
       "      <th>0</th>\n",
       "      <td>Current or Former</td>\n",
       "    </tr>\n",
       "    <tr>\n",
       "      <th>1</th>\n",
       "      <td>Never</td>\n",
       "    </tr>\n",
       "    <tr>\n",
       "      <th>2</th>\n",
       "      <td>Never</td>\n",
       "    </tr>\n",
       "    <tr>\n",
       "      <th>3</th>\n",
       "      <td>Never</td>\n",
       "    </tr>\n",
       "    <tr>\n",
       "      <th>4</th>\n",
       "      <td>Never</td>\n",
       "    </tr>\n",
       "    <tr>\n",
       "      <th>...</th>\n",
       "      <td>...</td>\n",
       "    </tr>\n",
       "    <tr>\n",
       "      <th>1378</th>\n",
       "      <td>Current or Former</td>\n",
       "    </tr>\n",
       "    <tr>\n",
       "      <th>1379</th>\n",
       "      <td>Never</td>\n",
       "    </tr>\n",
       "    <tr>\n",
       "      <th>1380</th>\n",
       "      <td>Never</td>\n",
       "    </tr>\n",
       "    <tr>\n",
       "      <th>1381</th>\n",
       "      <td>Never</td>\n",
       "    </tr>\n",
       "    <tr>\n",
       "      <th>1382</th>\n",
       "      <td>Never</td>\n",
       "    </tr>\n",
       "  </tbody>\n",
       "</table>\n",
       "<p>1353 rows × 1 columns</p>\n",
       "</div>"
      ],
      "text/plain": [
       "           der_smoking2\n",
       "0     Current or Former\n",
       "1                 Never\n",
       "2                 Never\n",
       "3                 Never\n",
       "4                 Never\n",
       "...                 ...\n",
       "1378  Current or Former\n",
       "1379              Never\n",
       "1380              Never\n",
       "1381              Never\n",
       "1382              Never\n",
       "\n",
       "[1353 rows x 1 columns]"
      ]
     },
     "execution_count": 5,
     "metadata": {},
     "output_type": "execute_result"
    }
   ],
   "source": [
    "# Cleaning the empty cells \n",
    "Smoking = Smoking_df.dropna()\n",
    "Smoking"
   ]
  },
  {
   "cell_type": "markdown",
   "id": "12ab1e5c",
   "metadata": {},
   "source": [
    "## Overall Smoking Status"
   ]
  },
  {
   "cell_type": "code",
   "execution_count": 6,
   "id": "cab69af7",
   "metadata": {},
   "outputs": [
    {
     "name": "stdout",
     "output_type": "stream",
     "text": [
      "911 individuas has never smoked in their life\n",
      "442 individuas are a current smoker or used to smoke\n",
      "No unknown smoking status was found\n",
      "[911, 442]\n"
     ]
    }
   ],
   "source": [
    "# Creating an empty list to hold the number of each smoking status\n",
    "Status_Count = []\n",
    "\n",
    "# Number of individuals who never smoked\n",
    "NonSmokers_Count = Smoking.value_counts()[\"Never\"]\n",
    "print(f\"{NonSmokers_Count} individuas has never smoked in their life\")\n",
    "Status_Count.append(NonSmokers_Count)\n",
    "\n",
    "# Number of individuals who are a current smoker or used to smoke.\n",
    "Smokers_Count = Smoking.value_counts()[\"Current or Former\"]\n",
    "print(f\"{Smokers_Count} individuas are a current smoker or used to smoke\")\n",
    "Status_Count.append(Smokers_Count)\n",
    "\n",
    "# Number of unknown smoking status.\n",
    "try:\n",
    "    Unknown_Count = Smoking.value_counts()[\"Unknown\"]\n",
    "    print(f\"{Unknown_Count} individuas have an unknown smoking status\")\n",
    "    Status_Count.append(Unknown_Count)\n",
    "except:\n",
    "    print(\"No unknown smoking status was found\")\n",
    "\n",
    "print(Status_Count)"
   ]
  },
  {
   "cell_type": "code",
   "execution_count": 7,
   "id": "35beed06",
   "metadata": {},
   "outputs": [
    {
     "data": {
      "image/png": "[encoded data removed]",
      "text/plain": [
       "<Figure size 640x480 with 1 Axes>"
      ]
     },
     "metadata": {},
     "output_type": "display_data"
    },
    {
     "data": {
      "text/plain": [
       "<Figure size 640x480 with 0 Axes>"
      ]
     },
     "metadata": {},
     "output_type": "display_data"
    }
   ],
   "source": [
    "# Creating a plot to compare the amount of smokers vs. non-smokers\n",
    "Smoking_Status = [\"Never\",\"Current or Former\"]\n",
    "x_axis = np.arange(len(Status_Count))\n",
    "Overall_Smoking = plt.bar(x_axis, Status_Count, align=\"center\")\n",
    "tick_locations = [value for value in x_axis]\n",
    "plt.xticks(tick_locations, Smoking_Status)\n",
    "plt.title(\"Overall Smoking Status Count    [Smoking_Plot(1)]\")\n",
    "plt.xlabel(\"Smoking_Status\")\n",
    "plt.ylabel(\"Number of Smokers & Non-Smokers\")\n",
    "Overall_Smoking[0].set_color('green')\n",
    "Overall_Smoking[1].set_color('red')\n",
    "plt.show()\n",
    "# Save the figure\n",
    "plt.savefig(\"Smoking_Output_Data/Smoking_Plot(1).png\")"
   ]
  },
  {
   "cell_type": "markdown",
   "id": "89e980b7",
   "metadata": {},
   "source": [
    "## Breast Cancer Status at Time of COVID Diagnosis VS. Smoking Status"
   ]
  },
  {
   "cell_type": "code",
   "execution_count": 8,
   "id": "66b0fa60",
   "metadata": {},
   "outputs": [
    {
     "data": {
      "text/html": [
       "<div>\n",
       "<style scoped>\n",
       "    .dataframe tbody tr th:only-of-type {\n",
       "        vertical-align: middle;\n",
       "    }\n",
       "\n",
       "    .dataframe tbody tr th {\n",
       "        vertical-align: top;\n",
       "    }\n",
       "\n",
       "    .dataframe thead th {\n",
       "        text-align: right;\n",
       "    }\n",
       "</style>\n",
       "<table border=\"1\" class=\"dataframe\">\n",
       "  <thead>\n",
       "    <tr style=\"text-align: right;\">\n",
       "      <th></th>\n",
       "      <th>der_smoking2</th>\n",
       "      <th>der_cancer_status_v4</th>\n",
       "    </tr>\n",
       "  </thead>\n",
       "  <tbody>\n",
       "    <tr>\n",
       "      <th>0</th>\n",
       "      <td>Current or Former</td>\n",
       "      <td>Active and responding</td>\n",
       "    </tr>\n",
       "    <tr>\n",
       "      <th>1</th>\n",
       "      <td>Never</td>\n",
       "      <td>Active and stable</td>\n",
       "    </tr>\n",
       "    <tr>\n",
       "      <th>2</th>\n",
       "      <td>Never</td>\n",
       "      <td>NaN</td>\n",
       "    </tr>\n",
       "    <tr>\n",
       "      <th>3</th>\n",
       "      <td>Never</td>\n",
       "      <td>Unknown</td>\n",
       "    </tr>\n",
       "    <tr>\n",
       "      <th>4</th>\n",
       "      <td>Never</td>\n",
       "      <td>Active and responding</td>\n",
       "    </tr>\n",
       "    <tr>\n",
       "      <th>...</th>\n",
       "      <td>...</td>\n",
       "      <td>...</td>\n",
       "    </tr>\n",
       "    <tr>\n",
       "      <th>1378</th>\n",
       "      <td>Current or Former</td>\n",
       "      <td>Active and responding</td>\n",
       "    </tr>\n",
       "    <tr>\n",
       "      <th>1379</th>\n",
       "      <td>Never</td>\n",
       "      <td>Active and responding</td>\n",
       "    </tr>\n",
       "    <tr>\n",
       "      <th>1380</th>\n",
       "      <td>Never</td>\n",
       "      <td>Remission or no evidence of disease, &gt;5 years</td>\n",
       "    </tr>\n",
       "    <tr>\n",
       "      <th>1381</th>\n",
       "      <td>Never</td>\n",
       "      <td>Unknown</td>\n",
       "    </tr>\n",
       "    <tr>\n",
       "      <th>1382</th>\n",
       "      <td>Never</td>\n",
       "      <td>Active and stable</td>\n",
       "    </tr>\n",
       "  </tbody>\n",
       "</table>\n",
       "<p>1383 rows × 2 columns</p>\n",
       "</div>"
      ],
      "text/plain": [
       "           der_smoking2                           der_cancer_status_v4\n",
       "0     Current or Former                          Active and responding\n",
       "1                 Never                              Active and stable\n",
       "2                 Never                                            NaN\n",
       "3                 Never                                        Unknown\n",
       "4                 Never                          Active and responding\n",
       "...                 ...                                            ...\n",
       "1378  Current or Former                          Active and responding\n",
       "1379              Never                          Active and responding\n",
       "1380              Never  Remission or no evidence of disease, >5 years\n",
       "1381              Never                                        Unknown\n",
       "1382              Never                              Active and stable\n",
       "\n",
       "[1383 rows x 2 columns]"
      ]
     },
     "execution_count": 8,
     "metadata": {},
     "output_type": "execute_result"
    }
   ],
   "source": [
    "# Creating a data frame for the cancer status and the smoking status\n",
    "Cancer_Smoking_df = pd.DataFrame(raw_data[[\"der_smoking2\", \"der_cancer_status_v4\"]])\n",
    "Cancer_Smoking_df"
   ]
  },
  {
   "cell_type": "code",
   "execution_count": 9,
   "id": "1ff6be2c",
   "metadata": {},
   "outputs": [
    {
     "data": {
      "text/html": [
       "<div>\n",
       "<style scoped>\n",
       "    .dataframe tbody tr th:only-of-type {\n",
       "        vertical-align: middle;\n",
       "    }\n",
       "\n",
       "    .dataframe tbody tr th {\n",
       "        vertical-align: top;\n",
       "    }\n",
       "\n",
       "    .dataframe thead th {\n",
       "        text-align: right;\n",
       "    }\n",
       "</style>\n",
       "<table border=\"1\" class=\"dataframe\">\n",
       "  <thead>\n",
       "    <tr style=\"text-align: right;\">\n",
       "      <th></th>\n",
       "      <th>der_smoking2</th>\n",
       "      <th>der_cancer_status_v4</th>\n",
       "    </tr>\n",
       "  </thead>\n",
       "  <tbody>\n",
       "    <tr>\n",
       "      <th>1289</th>\n",
       "      <td>Current or Former</td>\n",
       "      <td>Remission or no evidence of disease, &gt;5 years</td>\n",
       "    </tr>\n",
       "    <tr>\n",
       "      <th>947</th>\n",
       "      <td>Never</td>\n",
       "      <td>Remission or no evidence of disease, &gt;5 years</td>\n",
       "    </tr>\n",
       "    <tr>\n",
       "      <th>117</th>\n",
       "      <td>Never</td>\n",
       "      <td>Active and stable</td>\n",
       "    </tr>\n",
       "    <tr>\n",
       "      <th>544</th>\n",
       "      <td>Never</td>\n",
       "      <td>Remission or no evidence of disease, &gt;5 years</td>\n",
       "    </tr>\n",
       "    <tr>\n",
       "      <th>1270</th>\n",
       "      <td>Current or Former</td>\n",
       "      <td>Unknown</td>\n",
       "    </tr>\n",
       "    <tr>\n",
       "      <th>621</th>\n",
       "      <td>Never</td>\n",
       "      <td>Remission or no evidence of disease, &gt;5 years</td>\n",
       "    </tr>\n",
       "    <tr>\n",
       "      <th>200</th>\n",
       "      <td>Never</td>\n",
       "      <td>Active and stable</td>\n",
       "    </tr>\n",
       "    <tr>\n",
       "      <th>484</th>\n",
       "      <td>Never</td>\n",
       "      <td>Remission or no evidence of disease, &lt;5 years</td>\n",
       "    </tr>\n",
       "    <tr>\n",
       "      <th>219</th>\n",
       "      <td>Never</td>\n",
       "      <td>Remission or no evidence of disease, &gt;5 years</td>\n",
       "    </tr>\n",
       "    <tr>\n",
       "      <th>809</th>\n",
       "      <td>Never</td>\n",
       "      <td>Active and responding</td>\n",
       "    </tr>\n",
       "    <tr>\n",
       "      <th>1294</th>\n",
       "      <td>Never</td>\n",
       "      <td>Remission or no evidence of disease, &lt;5 years</td>\n",
       "    </tr>\n",
       "    <tr>\n",
       "      <th>1283</th>\n",
       "      <td>Never</td>\n",
       "      <td>Active and responding</td>\n",
       "    </tr>\n",
       "    <tr>\n",
       "      <th>84</th>\n",
       "      <td>Current or Former</td>\n",
       "      <td>Remission or no evidence of disease, &gt;5 years</td>\n",
       "    </tr>\n",
       "    <tr>\n",
       "      <th>319</th>\n",
       "      <td>Current or Former</td>\n",
       "      <td>Remission or no evidence of disease, &lt;5 years</td>\n",
       "    </tr>\n",
       "    <tr>\n",
       "      <th>1257</th>\n",
       "      <td>Never</td>\n",
       "      <td>Active and responding</td>\n",
       "    </tr>\n",
       "    <tr>\n",
       "      <th>1129</th>\n",
       "      <td>Never</td>\n",
       "      <td>Active and responding</td>\n",
       "    </tr>\n",
       "    <tr>\n",
       "      <th>808</th>\n",
       "      <td>Never</td>\n",
       "      <td>Remission or no evidence of disease, &gt;5 years</td>\n",
       "    </tr>\n",
       "    <tr>\n",
       "      <th>1008</th>\n",
       "      <td>Current or Former</td>\n",
       "      <td>Remission or no evidence of disease, &lt;5 years</td>\n",
       "    </tr>\n",
       "    <tr>\n",
       "      <th>804</th>\n",
       "      <td>Never</td>\n",
       "      <td>Remission or no evidence of disease, &gt;5 years</td>\n",
       "    </tr>\n",
       "    <tr>\n",
       "      <th>300</th>\n",
       "      <td>Never</td>\n",
       "      <td>Active and responding</td>\n",
       "    </tr>\n",
       "  </tbody>\n",
       "</table>\n",
       "</div>"
      ],
      "text/plain": [
       "           der_smoking2                           der_cancer_status_v4\n",
       "1289  Current or Former  Remission or no evidence of disease, >5 years\n",
       "947               Never  Remission or no evidence of disease, >5 years\n",
       "117               Never                              Active and stable\n",
       "544               Never  Remission or no evidence of disease, >5 years\n",
       "1270  Current or Former                                        Unknown\n",
       "621               Never  Remission or no evidence of disease, >5 years\n",
       "200               Never                              Active and stable\n",
       "484               Never  Remission or no evidence of disease, <5 years\n",
       "219               Never  Remission or no evidence of disease, >5 years\n",
       "809               Never                          Active and responding\n",
       "1294              Never  Remission or no evidence of disease, <5 years\n",
       "1283              Never                          Active and responding\n",
       "84    Current or Former  Remission or no evidence of disease, >5 years\n",
       "319   Current or Former  Remission or no evidence of disease, <5 years\n",
       "1257              Never                          Active and responding\n",
       "1129              Never                          Active and responding\n",
       "808               Never  Remission or no evidence of disease, >5 years\n",
       "1008  Current or Former  Remission or no evidence of disease, <5 years\n",
       "804               Never  Remission or no evidence of disease, >5 years\n",
       "300               Never                          Active and responding"
      ]
     },
     "execution_count": 9,
     "metadata": {},
     "output_type": "execute_result"
    }
   ],
   "source": [
    "# Cleaning the empty cells \n",
    "Cancer_Smoking = Cancer_Smoking_df.dropna()\n",
    "Cancer_Smoking.sample(20)"
   ]
  },
  {
   "cell_type": "code",
   "execution_count": 10,
   "id": "5ba11436",
   "metadata": {},
   "outputs": [],
   "source": [
    "# Creating an empty list to hold the values for smoker individuals with different breast cancer status\n",
    "Smoker_BC_Count = []"
   ]
  },
  {
   "cell_type": "code",
   "execution_count": 11,
   "id": "053258dc",
   "metadata": {},
   "outputs": [
    {
     "name": "stdout",
     "output_type": "stream",
     "text": [
      "[54]\n"
     ]
    }
   ],
   "source": [
    "# Individuals who are smokers and their cancer status is Active and responding\n",
    "NonSmoker_A_Responding = Cancer_Smoking_df.loc[(Cancer_Smoking_df[\"der_smoking2\"] == \"Current or Former\") & (Cancer_Smoking_df[\"der_cancer_status_v4\"] == \"Active and responding\")]\n",
    "NonSmoker_A_Responding_Count = len(NonSmoker_A_Responding)\n",
    "Smoker_BC_Count.append(NonSmoker_A_Responding_Count)\n",
    "print(Smoker_BC_Count)"
   ]
  },
  {
   "cell_type": "code",
   "execution_count": 12,
   "id": "fb92925e",
   "metadata": {},
   "outputs": [
    {
     "name": "stdout",
     "output_type": "stream",
     "text": [
      "[54, 53]\n"
     ]
    }
   ],
   "source": [
    "# Individuals who are smokers and their cancer status is Active and stable\n",
    "NonSmoker_A_Stable = Cancer_Smoking_df.loc[(Cancer_Smoking_df[\"der_smoking2\"] == \"Current or Former\") & (Cancer_Smoking_df[\"der_cancer_status_v4\"] == \"Active and stable\")]\n",
    "NonSmoker_A_Stable_Count = len(NonSmoker_A_Stable)\n",
    "Smoker_BC_Count.append(NonSmoker_A_Stable_Count)\n",
    "print(Smoker_BC_Count)"
   ]
  },
  {
   "cell_type": "code",
   "execution_count": 13,
   "id": "80f0a46c",
   "metadata": {
    "scrolled": true
   },
   "outputs": [
    {
     "name": "stdout",
     "output_type": "stream",
     "text": [
      "[54, 53, 33]\n"
     ]
    }
   ],
   "source": [
    "# Individuals who are smokers and their cancer status is Active and progressing\n",
    "NonSmoker_A_Progressing = Cancer_Smoking_df.loc[(Cancer_Smoking_df[\"der_smoking2\"] == \"Current or Former\") & (Cancer_Smoking_df[\"der_cancer_status_v4\"] == \"Active and progressing\")]\n",
    "NonSmoker_A_Progressing = len(NonSmoker_A_Progressing)\n",
    "Smoker_BC_Count.append(NonSmoker_A_Progressing)\n",
    "print(Smoker_BC_Count)"
   ]
  },
  {
   "cell_type": "code",
   "execution_count": 14,
   "id": "cc32a11f",
   "metadata": {},
   "outputs": [],
   "source": [
    "# Creating an empty list to hold the values for non-smoker individuals with different breast cancer status\n",
    "NonSmoker_BC_Count = []"
   ]
  },
  {
   "cell_type": "code",
   "execution_count": 15,
   "id": "9f1c20e6",
   "metadata": {},
   "outputs": [
    {
     "name": "stdout",
     "output_type": "stream",
     "text": [
      "[115]\n"
     ]
    }
   ],
   "source": [
    "# Individuals who are non-smokers and their cancer status is Active and responding\n",
    "NonSmoker_A_Responding = Cancer_Smoking_df.loc[(Cancer_Smoking_df[\"der_smoking2\"] == \"Never\") & (Cancer_Smoking_df[\"der_cancer_status_v4\"] == \"Active and responding\")]\n",
    "NonSmoker_A_Responding_Count = len(NonSmoker_A_Responding)\n",
    "NonSmoker_BC_Count.append(NonSmoker_A_Responding_Count)\n",
    "print(NonSmoker_BC_Count)"
   ]
  },
  {
   "cell_type": "code",
   "execution_count": 16,
   "id": "d8ea7076",
   "metadata": {},
   "outputs": [
    {
     "name": "stdout",
     "output_type": "stream",
     "text": [
      "[115, 110]\n"
     ]
    }
   ],
   "source": [
    "# Individuals who are non-smokers and their cancer status is Active and stable\n",
    "NonSmoker_A_Stable = Cancer_Smoking_df.loc[(Cancer_Smoking_df[\"der_smoking2\"] == \"Never\") & (Cancer_Smoking_df[\"der_cancer_status_v4\"] == \"Active and stable\")]\n",
    "NonSmoker_A_Stable_Count = len(NonSmoker_A_Stable)\n",
    "NonSmoker_BC_Count.append(NonSmoker_A_Stable_Count)\n",
    "print(NonSmoker_BC_Count)"
   ]
  },
  {
   "cell_type": "code",
   "execution_count": 17,
   "id": "347314b6",
   "metadata": {},
   "outputs": [
    {
     "name": "stdout",
     "output_type": "stream",
     "text": [
      "[115, 110, 64]\n"
     ]
    }
   ],
   "source": [
    "# Individuals who are non-smokers and their cancer status is Active and progressing\n",
    "NonSmoker_A_Progressing = Cancer_Smoking_df.loc[(Cancer_Smoking_df[\"der_smoking2\"] == \"Never\") & (Cancer_Smoking_df[\"der_cancer_status_v4\"] == \"Active and progressing\")]\n",
    "NonSmoker_A_Progressing = len(NonSmoker_A_Progressing)\n",
    "NonSmoker_BC_Count.append(NonSmoker_A_Progressing)\n",
    "print(NonSmoker_BC_Count)"
   ]
  },
  {
   "cell_type": "code",
   "execution_count": 23,
   "id": "c9fce71a",
   "metadata": {},
   "outputs": [
    {
     "data": {
      "text/html": [
       "<div>\n",
       "<style scoped>\n",
       "    .dataframe tbody tr th:only-of-type {\n",
       "        vertical-align: middle;\n",
       "    }\n",
       "\n",
       "    .dataframe tbody tr th {\n",
       "        vertical-align: top;\n",
       "    }\n",
       "\n",
       "    .dataframe thead th {\n",
       "        text-align: right;\n",
       "    }\n",
       "</style>\n",
       "<table border=\"1\" class=\"dataframe\">\n",
       "  <thead>\n",
       "    <tr style=\"text-align: right;\">\n",
       "      <th></th>\n",
       "      <th>Smoker_BC_Count</th>\n",
       "      <th>NonSmoker_BC_Count</th>\n",
       "    </tr>\n",
       "  </thead>\n",
       "  <tbody>\n",
       "    <tr>\n",
       "      <th>Active and responding</th>\n",
       "      <td>54</td>\n",
       "      <td>115</td>\n",
       "    </tr>\n",
       "    <tr>\n",
       "      <th>Active and stable</th>\n",
       "      <td>53</td>\n",
       "      <td>110</td>\n",
       "    </tr>\n",
       "    <tr>\n",
       "      <th>Active and progressing</th>\n",
       "      <td>33</td>\n",
       "      <td>64</td>\n",
       "    </tr>\n",
       "  </tbody>\n",
       "</table>\n",
       "</div>"
      ],
      "text/plain": [
       "                        Smoker_BC_Count  NonSmoker_BC_Count\n",
       "Active and responding                54                 115\n",
       "Active and stable                    53                 110\n",
       "Active and progressing               33                  64"
      ]
     },
     "execution_count": 23,
     "metadata": {},
     "output_type": "execute_result"
    }
   ],
   "source": [
    "# Creating a data frame which includes both the Smoker_BC_Count & NonSmoker_BC_Count for comparison as well as plotting.\n",
    "BC_Status = [\"Active and responding\", \"Active and stable\" , \"Active and progressing\"]\n",
    "Smoker_NonSmoker_BC_DF = pd.DataFrame (\n",
    "    {\n",
    "        \"Smoker_BC_Count\" : Smoker_BC_Count,\n",
    "        \"NonSmoker_BC_Count\" : NonSmoker_BC_Count},\n",
    "        index = BC_Status\n",
    "    \n",
    ")\n",
    "\n",
    "Smoker_NonSmoker_BC_DF"
   ]
  },
  {
   "cell_type": "code",
   "execution_count": 27,
   "id": "a52f002a",
   "metadata": {},
   "outputs": [
    {
     "data": {
      "image/png": "[encoded data removed]",
      "text/plain": [
       "<Figure size 640x480 with 1 Axes>"
      ]
     },
     "metadata": {},
     "output_type": "display_data"
    }
   ],
   "source": [
    "# Plotting\n",
    "Smoker_NonSmoker_BC_plot = Smoker_NonSmoker_BC_DF.plot.bar(rot=0)\n",
    "plt.title(\"Smoker & BC VS. Non-Smoker & BC    [Smoking_Plot(2)]\")\n",
    "plt.xlabel(\"BC_Status\")\n",
    "plt.ylabel(\"Number of Smokers_BC & Non-Smokers_BC\")\n",
    "# Save the figure\n",
    "plt.savefig(\"Smoking_Output_Data/Smoking_Plot(2).png\")"
   ]
  },
  {
   "cell_type": "markdown",
   "id": "32a58829",
   "metadata": {},
   "source": [
    "## Severity of COVID VS. Smoking Status"
   ]
  },
  {
   "cell_type": "code",
   "execution_count": 28,
   "id": "32c1c9ee",
   "metadata": {},
   "outputs": [
    {
     "data": {
      "text/html": [
       "<div>\n",
       "<style scoped>\n",
       "    .dataframe tbody tr th:only-of-type {\n",
       "        vertical-align: middle;\n",
       "    }\n",
       "\n",
       "    .dataframe tbody tr th {\n",
       "        vertical-align: top;\n",
       "    }\n",
       "\n",
       "    .dataframe thead th {\n",
       "        text-align: right;\n",
       "    }\n",
       "</style>\n",
       "<table border=\"1\" class=\"dataframe\">\n",
       "  <thead>\n",
       "    <tr style=\"text-align: right;\">\n",
       "      <th></th>\n",
       "      <th>der_smoking2</th>\n",
       "      <th>severity_of_covid_19_v2</th>\n",
       "    </tr>\n",
       "  </thead>\n",
       "  <tbody>\n",
       "    <tr>\n",
       "      <th>0</th>\n",
       "      <td>Current or Former</td>\n",
       "      <td>Severe</td>\n",
       "    </tr>\n",
       "    <tr>\n",
       "      <th>1</th>\n",
       "      <td>Never</td>\n",
       "      <td>Mild</td>\n",
       "    </tr>\n",
       "    <tr>\n",
       "      <th>2</th>\n",
       "      <td>Never</td>\n",
       "      <td>Moderate</td>\n",
       "    </tr>\n",
       "    <tr>\n",
       "      <th>3</th>\n",
       "      <td>Never</td>\n",
       "      <td>Moderate</td>\n",
       "    </tr>\n",
       "    <tr>\n",
       "      <th>4</th>\n",
       "      <td>Never</td>\n",
       "      <td>Mild</td>\n",
       "    </tr>\n",
       "    <tr>\n",
       "      <th>...</th>\n",
       "      <td>...</td>\n",
       "      <td>...</td>\n",
       "    </tr>\n",
       "    <tr>\n",
       "      <th>1378</th>\n",
       "      <td>Current or Former</td>\n",
       "      <td>Mild</td>\n",
       "    </tr>\n",
       "    <tr>\n",
       "      <th>1379</th>\n",
       "      <td>Never</td>\n",
       "      <td>Moderate</td>\n",
       "    </tr>\n",
       "    <tr>\n",
       "      <th>1380</th>\n",
       "      <td>Never</td>\n",
       "      <td>Mild</td>\n",
       "    </tr>\n",
       "    <tr>\n",
       "      <th>1381</th>\n",
       "      <td>Never</td>\n",
       "      <td>Moderate</td>\n",
       "    </tr>\n",
       "    <tr>\n",
       "      <th>1382</th>\n",
       "      <td>Never</td>\n",
       "      <td>Moderate</td>\n",
       "    </tr>\n",
       "  </tbody>\n",
       "</table>\n",
       "<p>1383 rows × 2 columns</p>\n",
       "</div>"
      ],
      "text/plain": [
       "           der_smoking2 severity_of_covid_19_v2\n",
       "0     Current or Former                  Severe\n",
       "1                 Never                    Mild\n",
       "2                 Never                Moderate\n",
       "3                 Never                Moderate\n",
       "4                 Never                    Mild\n",
       "...                 ...                     ...\n",
       "1378  Current or Former                    Mild\n",
       "1379              Never                Moderate\n",
       "1380              Never                    Mild\n",
       "1381              Never                Moderate\n",
       "1382              Never                Moderate\n",
       "\n",
       "[1383 rows x 2 columns]"
      ]
     },
     "execution_count": 28,
     "metadata": {},
     "output_type": "execute_result"
    }
   ],
   "source": [
    "# Creating a data frame for the Severity of COVID and the smoking status\n",
    "Covid_Smoking_df = pd.DataFrame(raw_data[[\"der_smoking2\", \"severity_of_covid_19_v2\"]])\n",
    "Covid_Smoking_df"
   ]
  },
  {
   "cell_type": "code",
   "execution_count": 40,
   "id": "181be4c0",
   "metadata": {},
   "outputs": [
    {
     "data": {
      "text/html": [
       "<div>\n",
       "<style scoped>\n",
       "    .dataframe tbody tr th:only-of-type {\n",
       "        vertical-align: middle;\n",
       "    }\n",
       "\n",
       "    .dataframe tbody tr th {\n",
       "        vertical-align: top;\n",
       "    }\n",
       "\n",
       "    .dataframe thead th {\n",
       "        text-align: right;\n",
       "    }\n",
       "</style>\n",
       "<table border=\"1\" class=\"dataframe\">\n",
       "  <thead>\n",
       "    <tr style=\"text-align: right;\">\n",
       "      <th></th>\n",
       "      <th>der_smoking2</th>\n",
       "      <th>severity_of_covid_19_v2</th>\n",
       "    </tr>\n",
       "  </thead>\n",
       "  <tbody>\n",
       "    <tr>\n",
       "      <th>415</th>\n",
       "      <td>Current or Former</td>\n",
       "      <td>Mild</td>\n",
       "    </tr>\n",
       "    <tr>\n",
       "      <th>641</th>\n",
       "      <td>Never</td>\n",
       "      <td>Mild</td>\n",
       "    </tr>\n",
       "    <tr>\n",
       "      <th>152</th>\n",
       "      <td>Never</td>\n",
       "      <td>Mild</td>\n",
       "    </tr>\n",
       "    <tr>\n",
       "      <th>1296</th>\n",
       "      <td>Current or Former</td>\n",
       "      <td>Mild</td>\n",
       "    </tr>\n",
       "    <tr>\n",
       "      <th>660</th>\n",
       "      <td>Never</td>\n",
       "      <td>Mild</td>\n",
       "    </tr>\n",
       "    <tr>\n",
       "      <th>799</th>\n",
       "      <td>Never</td>\n",
       "      <td>Mild</td>\n",
       "    </tr>\n",
       "    <tr>\n",
       "      <th>361</th>\n",
       "      <td>Never</td>\n",
       "      <td>Mild</td>\n",
       "    </tr>\n",
       "    <tr>\n",
       "      <th>513</th>\n",
       "      <td>Current or Former</td>\n",
       "      <td>Moderate</td>\n",
       "    </tr>\n",
       "    <tr>\n",
       "      <th>1370</th>\n",
       "      <td>Never</td>\n",
       "      <td>Mild</td>\n",
       "    </tr>\n",
       "    <tr>\n",
       "      <th>346</th>\n",
       "      <td>Never</td>\n",
       "      <td>Mild</td>\n",
       "    </tr>\n",
       "    <tr>\n",
       "      <th>1054</th>\n",
       "      <td>Never</td>\n",
       "      <td>Mild</td>\n",
       "    </tr>\n",
       "    <tr>\n",
       "      <th>864</th>\n",
       "      <td>Current or Former</td>\n",
       "      <td>Mild</td>\n",
       "    </tr>\n",
       "    <tr>\n",
       "      <th>1217</th>\n",
       "      <td>Never</td>\n",
       "      <td>Mild</td>\n",
       "    </tr>\n",
       "    <tr>\n",
       "      <th>885</th>\n",
       "      <td>Never</td>\n",
       "      <td>Mild</td>\n",
       "    </tr>\n",
       "    <tr>\n",
       "      <th>1307</th>\n",
       "      <td>Never</td>\n",
       "      <td>Severe</td>\n",
       "    </tr>\n",
       "    <tr>\n",
       "      <th>563</th>\n",
       "      <td>Never</td>\n",
       "      <td>Mild</td>\n",
       "    </tr>\n",
       "    <tr>\n",
       "      <th>172</th>\n",
       "      <td>Never</td>\n",
       "      <td>Mild</td>\n",
       "    </tr>\n",
       "    <tr>\n",
       "      <th>758</th>\n",
       "      <td>Never</td>\n",
       "      <td>Mild</td>\n",
       "    </tr>\n",
       "    <tr>\n",
       "      <th>985</th>\n",
       "      <td>Current or Former</td>\n",
       "      <td>Moderate</td>\n",
       "    </tr>\n",
       "    <tr>\n",
       "      <th>451</th>\n",
       "      <td>Current or Former</td>\n",
       "      <td>Mild</td>\n",
       "    </tr>\n",
       "  </tbody>\n",
       "</table>\n",
       "</div>"
      ],
      "text/plain": [
       "           der_smoking2 severity_of_covid_19_v2\n",
       "415   Current or Former                    Mild\n",
       "641               Never                    Mild\n",
       "152               Never                    Mild\n",
       "1296  Current or Former                    Mild\n",
       "660               Never                    Mild\n",
       "799               Never                    Mild\n",
       "361               Never                    Mild\n",
       "513   Current or Former                Moderate\n",
       "1370              Never                    Mild\n",
       "346               Never                    Mild\n",
       "1054              Never                    Mild\n",
       "864   Current or Former                    Mild\n",
       "1217              Never                    Mild\n",
       "885               Never                    Mild\n",
       "1307              Never                  Severe\n",
       "563               Never                    Mild\n",
       "172               Never                    Mild\n",
       "758               Never                    Mild\n",
       "985   Current or Former                Moderate\n",
       "451   Current or Former                    Mild"
      ]
     },
     "execution_count": 40,
     "metadata": {},
     "output_type": "execute_result"
    }
   ],
   "source": [
    "# Cleaning the empty cells \n",
    "Covid_Smoking_df = Covid_Smoking_df.dropna()\n",
    "Covid_Smoking_df.sample(20)"
   ]
  },
  {
   "cell_type": "code",
   "execution_count": 39,
   "id": "b7ade428",
   "metadata": {},
   "outputs": [],
   "source": [
    "# Creating an empty list to hold the values for smoker individuals with different severity of COVID\n",
    "Smoker_Covid_Count = []"
   ]
  },
  {
   "cell_type": "code",
   "execution_count": 41,
   "id": "082e0c64",
   "metadata": {},
   "outputs": [
    {
     "name": "stdout",
     "output_type": "stream",
     "text": [
      "[281]\n"
     ]
    }
   ],
   "source": [
    "# Individuals who are smokers and their covid status is Mild\n",
    "Smoker_Mild = Covid_Smoking_df.loc[(Covid_Smoking_df[\"der_smoking2\"] == \"Current or Former\") & (Covid_Smoking_df[\"severity_of_covid_19_v2\"] == \"Mild\")]\n",
    "Smoker_Mild_Count = len(Smoker_Mild)\n",
    "Smoker_Covid_Count.append(Smoker_Mild_Count)\n",
    "print(Smoker_Covid_Count)"
   ]
  },
  {
   "cell_type": "code",
   "execution_count": 42,
   "id": "7e507f65",
   "metadata": {},
   "outputs": [
    {
     "name": "stdout",
     "output_type": "stream",
     "text": [
      "[281, 139]\n"
     ]
    }
   ],
   "source": [
    "# Individuals who are smokers and their covid status is Moderate\n",
    "Smoker_Moderate = Covid_Smoking_df.loc[(Covid_Smoking_df[\"der_smoking2\"] == \"Current or Former\") & (Covid_Smoking_df[\"severity_of_covid_19_v2\"] == \"Moderate\")]\n",
    "Smoker_Moderate_Count = len(Smoker_Moderate)\n",
    "Smoker_Covid_Count.append(Smoker_Moderate_Count)\n",
    "print(Smoker_Covid_Count)"
   ]
  },
  {
   "cell_type": "code",
   "execution_count": 43,
   "id": "a089c812",
   "metadata": {},
   "outputs": [
    {
     "name": "stdout",
     "output_type": "stream",
     "text": [
      "[281, 139, 21]\n"
     ]
    }
   ],
   "source": [
    "# Individuals who are smokers and their covid status is Severe\n",
    "Smoker_Severe = Covid_Smoking_df.loc[(Covid_Smoking_df[\"der_smoking2\"] == \"Current or Former\") & (Covid_Smoking_df[\"severity_of_covid_19_v2\"] == \"Severe\")]\n",
    "Smoker_Severe_Count = len(Smoker_Severe)\n",
    "Smoker_Covid_Count.append(Smoker_Severe_Count)\n",
    "print(Smoker_Covid_Count)"
   ]
  },
  {
   "cell_type": "code",
   "execution_count": 45,
   "id": "4854eb49",
   "metadata": {},
   "outputs": [],
   "source": [
    "# Creating an empty list to hold the values for non-smoker individuals with different severity of COVID\n",
    "NonSmoker_Covid_Count = []"
   ]
  },
  {
   "cell_type": "code",
   "execution_count": 46,
   "id": "3cd01d9a",
   "metadata": {},
   "outputs": [
    {
     "name": "stdout",
     "output_type": "stream",
     "text": [
      "[665]\n"
     ]
    }
   ],
   "source": [
    "# Individuals who are smokers and their covid status is Mild\n",
    "NonSmoker_Mild = Covid_Smoking_df.loc[(Covid_Smoking_df[\"der_smoking2\"] == \"Never\") & (Covid_Smoking_df[\"severity_of_covid_19_v2\"] == \"Mild\")]\n",
    "NonSmoker_Mild_Count = len(NonSmoker_Mild)\n",
    "NonSmoker_Covid_Count.append(NonSmoker_Mild_Count)\n",
    "print(NonSmoker_Covid_Count)"
   ]
  },
  {
   "cell_type": "code",
   "execution_count": 48,
   "id": "84cb0a10",
   "metadata": {},
   "outputs": [
    {
     "name": "stdout",
     "output_type": "stream",
     "text": [
      "[665, 214]\n"
     ]
    }
   ],
   "source": [
    "# Individuals who are smokers and their covid status is Moderate\n",
    "NonSmoker_Moderate = Covid_Smoking_df.loc[(Covid_Smoking_df[\"der_smoking2\"] == \"Never\") & (Covid_Smoking_df[\"severity_of_covid_19_v2\"] == \"Moderate\")]\n",
    "NonSmoker_Moderate_Count = len(NonSmoker_Moderate)\n",
    "NonSmoker_Covid_Count.append(NonSmoker_Moderate_Count)\n",
    "print(NonSmoker_Covid_Count)"
   ]
  },
  {
   "cell_type": "code",
   "execution_count": 49,
   "id": "ffd5c5cd",
   "metadata": {},
   "outputs": [
    {
     "name": "stdout",
     "output_type": "stream",
     "text": [
      "[665, 214, 31]\n"
     ]
    }
   ],
   "source": [
    "# Individuals who are smokers and their covid status is Severe\n",
    "NonSmoker_Severe = Covid_Smoking_df.loc[(Covid_Smoking_df[\"der_smoking2\"] == \"Never\") & (Covid_Smoking_df[\"severity_of_covid_19_v2\"] == \"Severe\")]\n",
    "NonSmoker_Severe_Count = len(NonSmoker_Severe)\n",
    "NonSmoker_Covid_Count.append(NonSmoker_Severe_Count)\n",
    "print(NonSmoker_Covid_Count)"
   ]
  },
  {
   "cell_type": "code",
   "execution_count": 106,
   "id": "e03552a6",
   "metadata": {},
   "outputs": [
    {
     "data": {
      "text/html": [
       "<div>\n",
       "<style scoped>\n",
       "    .dataframe tbody tr th:only-of-type {\n",
       "        vertical-align: middle;\n",
       "    }\n",
       "\n",
       "    .dataframe tbody tr th {\n",
       "        vertical-align: top;\n",
       "    }\n",
       "\n",
       "    .dataframe thead th {\n",
       "        text-align: right;\n",
       "    }\n",
       "</style>\n",
       "<table border=\"1\" class=\"dataframe\">\n",
       "  <thead>\n",
       "    <tr style=\"text-align: right;\">\n",
       "      <th></th>\n",
       "      <th>Smoker_Covid_Count</th>\n",
       "      <th>NonSmoker_Covid_Count</th>\n",
       "    </tr>\n",
       "  </thead>\n",
       "  <tbody>\n",
       "    <tr>\n",
       "      <th>Mild</th>\n",
       "      <td>281</td>\n",
       "      <td>665</td>\n",
       "    </tr>\n",
       "    <tr>\n",
       "      <th>Moderate</th>\n",
       "      <td>139</td>\n",
       "      <td>214</td>\n",
       "    </tr>\n",
       "    <tr>\n",
       "      <th>Severe</th>\n",
       "      <td>21</td>\n",
       "      <td>31</td>\n",
       "    </tr>\n",
       "  </tbody>\n",
       "</table>\n",
       "</div>"
      ],
      "text/plain": [
       "          Smoker_Covid_Count  NonSmoker_Covid_Count\n",
       "Mild                     281                    665\n",
       "Moderate                 139                    214\n",
       "Severe                    21                     31"
      ]
     },
     "execution_count": 106,
     "metadata": {},
     "output_type": "execute_result"
    }
   ],
   "source": [
    "# Creating a data frame which includes both the Smoker_Covid_Count & NonSmoker_Covid_Count for comparison as well as plotting.\n",
    "Covid_Status = [\"Mild\", \"Moderate\" , \"Severe\"]\n",
    "Smoker_NonSmoker_Covid_DF = pd.DataFrame (\n",
    "    {\n",
    "        \"Smoker_Covid_Count\" : Smoker_Covid_Count,\n",
    "        \"NonSmoker_Covid_Count\" : NonSmoker_Covid_Count},\n",
    "        index = Covid_Status\n",
    "    \n",
    ")\n",
    "\n",
    "Smoker_NonSmoker_Covid_DF"
   ]
  },
  {
   "cell_type": "code",
   "execution_count": 107,
   "id": "1cc9e60f",
   "metadata": {},
   "outputs": [
    {
     "data": {
      "image/png": "[encoded data removed]",
      "text/plain": [
       "<Figure size 640x480 with 1 Axes>"
      ]
     },
     "metadata": {},
     "output_type": "display_data"
    }
   ],
   "source": [
    "# Plotting\n",
    "Smoker_NonSmoker_Covid_plot = Smoker_NonSmoker_Covid_DF.plot.bar(rot=0)\n",
    "plt.title(\"Smoker & COVID VS. Non-Smoker & COVID    [Smoking_Plot(3)]\")\n",
    "plt.xlabel(\"Covid_Status\")\n",
    "plt.ylabel(\"Number of Smokers_COVID & Non-Smokers_COVID\")\n",
    "# Save the figure\n",
    "plt.savefig(\"Smoking_Output_Data/Smoking_Plot(3).png\")"
   ]
  },
  {
   "cell_type": "markdown",
   "id": "68656a84",
   "metadata": {},
   "source": [
    "## Breast Cancer Status & Severity of COVID VS. Smoking Status"
   ]
  },
  {
   "cell_type": "code",
   "execution_count": 55,
   "id": "a835fc1e",
   "metadata": {},
   "outputs": [
    {
     "data": {
      "text/html": [
       "<div>\n",
       "<style scoped>\n",
       "    .dataframe tbody tr th:only-of-type {\n",
       "        vertical-align: middle;\n",
       "    }\n",
       "\n",
       "    .dataframe tbody tr th {\n",
       "        vertical-align: top;\n",
       "    }\n",
       "\n",
       "    .dataframe thead th {\n",
       "        text-align: right;\n",
       "    }\n",
       "</style>\n",
       "<table border=\"1\" class=\"dataframe\">\n",
       "  <thead>\n",
       "    <tr style=\"text-align: right;\">\n",
       "      <th></th>\n",
       "      <th>der_smoking2</th>\n",
       "      <th>der_cancer_status_v4</th>\n",
       "      <th>severity_of_covid_19_v2</th>\n",
       "    </tr>\n",
       "  </thead>\n",
       "  <tbody>\n",
       "    <tr>\n",
       "      <th>0</th>\n",
       "      <td>Current or Former</td>\n",
       "      <td>Active and responding</td>\n",
       "      <td>Severe</td>\n",
       "    </tr>\n",
       "    <tr>\n",
       "      <th>1</th>\n",
       "      <td>Never</td>\n",
       "      <td>Active and stable</td>\n",
       "      <td>Mild</td>\n",
       "    </tr>\n",
       "    <tr>\n",
       "      <th>2</th>\n",
       "      <td>Never</td>\n",
       "      <td>NaN</td>\n",
       "      <td>Moderate</td>\n",
       "    </tr>\n",
       "    <tr>\n",
       "      <th>3</th>\n",
       "      <td>Never</td>\n",
       "      <td>Unknown</td>\n",
       "      <td>Moderate</td>\n",
       "    </tr>\n",
       "    <tr>\n",
       "      <th>4</th>\n",
       "      <td>Never</td>\n",
       "      <td>Active and responding</td>\n",
       "      <td>Mild</td>\n",
       "    </tr>\n",
       "    <tr>\n",
       "      <th>...</th>\n",
       "      <td>...</td>\n",
       "      <td>...</td>\n",
       "      <td>...</td>\n",
       "    </tr>\n",
       "    <tr>\n",
       "      <th>1378</th>\n",
       "      <td>Current or Former</td>\n",
       "      <td>Active and responding</td>\n",
       "      <td>Mild</td>\n",
       "    </tr>\n",
       "    <tr>\n",
       "      <th>1379</th>\n",
       "      <td>Never</td>\n",
       "      <td>Active and responding</td>\n",
       "      <td>Moderate</td>\n",
       "    </tr>\n",
       "    <tr>\n",
       "      <th>1380</th>\n",
       "      <td>Never</td>\n",
       "      <td>Remission or no evidence of disease, &gt;5 years</td>\n",
       "      <td>Mild</td>\n",
       "    </tr>\n",
       "    <tr>\n",
       "      <th>1381</th>\n",
       "      <td>Never</td>\n",
       "      <td>Unknown</td>\n",
       "      <td>Moderate</td>\n",
       "    </tr>\n",
       "    <tr>\n",
       "      <th>1382</th>\n",
       "      <td>Never</td>\n",
       "      <td>Active and stable</td>\n",
       "      <td>Moderate</td>\n",
       "    </tr>\n",
       "  </tbody>\n",
       "</table>\n",
       "<p>1383 rows × 3 columns</p>\n",
       "</div>"
      ],
      "text/plain": [
       "           der_smoking2                           der_cancer_status_v4  \\\n",
       "0     Current or Former                          Active and responding   \n",
       "1                 Never                              Active and stable   \n",
       "2                 Never                                            NaN   \n",
       "3                 Never                                        Unknown   \n",
       "4                 Never                          Active and responding   \n",
       "...                 ...                                            ...   \n",
       "1378  Current or Former                          Active and responding   \n",
       "1379              Never                          Active and responding   \n",
       "1380              Never  Remission or no evidence of disease, >5 years   \n",
       "1381              Never                                        Unknown   \n",
       "1382              Never                              Active and stable   \n",
       "\n",
       "     severity_of_covid_19_v2  \n",
       "0                     Severe  \n",
       "1                       Mild  \n",
       "2                   Moderate  \n",
       "3                   Moderate  \n",
       "4                       Mild  \n",
       "...                      ...  \n",
       "1378                    Mild  \n",
       "1379                Moderate  \n",
       "1380                    Mild  \n",
       "1381                Moderate  \n",
       "1382                Moderate  \n",
       "\n",
       "[1383 rows x 3 columns]"
      ]
     },
     "execution_count": 55,
     "metadata": {},
     "output_type": "execute_result"
    }
   ],
   "source": [
    "# Creating a data frame for the cancer status, Severity of COVID, and the smoking status\n",
    "Cancer_Covid_Smoking_df = pd.DataFrame(raw_data[[\"der_smoking2\", \"der_cancer_status_v4\", \"severity_of_covid_19_v2\"]])\n",
    "Cancer_Covid_Smoking_df"
   ]
  },
  {
   "cell_type": "code",
   "execution_count": 58,
   "id": "c27e0d68",
   "metadata": {},
   "outputs": [
    {
     "data": {
      "text/html": [
       "<div>\n",
       "<style scoped>\n",
       "    .dataframe tbody tr th:only-of-type {\n",
       "        vertical-align: middle;\n",
       "    }\n",
       "\n",
       "    .dataframe tbody tr th {\n",
       "        vertical-align: top;\n",
       "    }\n",
       "\n",
       "    .dataframe thead th {\n",
       "        text-align: right;\n",
       "    }\n",
       "</style>\n",
       "<table border=\"1\" class=\"dataframe\">\n",
       "  <thead>\n",
       "    <tr style=\"text-align: right;\">\n",
       "      <th></th>\n",
       "      <th>der_smoking2</th>\n",
       "      <th>der_cancer_status_v4</th>\n",
       "      <th>severity_of_covid_19_v2</th>\n",
       "    </tr>\n",
       "  </thead>\n",
       "  <tbody>\n",
       "    <tr>\n",
       "      <th>1232</th>\n",
       "      <td>Never</td>\n",
       "      <td>Active and responding</td>\n",
       "      <td>Moderate</td>\n",
       "    </tr>\n",
       "    <tr>\n",
       "      <th>178</th>\n",
       "      <td>Current or Former</td>\n",
       "      <td>Remission or no evidence of disease, &gt;5 years</td>\n",
       "      <td>Mild</td>\n",
       "    </tr>\n",
       "    <tr>\n",
       "      <th>1218</th>\n",
       "      <td>Never</td>\n",
       "      <td>Remission or no evidence of disease, &gt;5 years</td>\n",
       "      <td>Mild</td>\n",
       "    </tr>\n",
       "    <tr>\n",
       "      <th>1108</th>\n",
       "      <td>Never</td>\n",
       "      <td>Unknown</td>\n",
       "      <td>Mild</td>\n",
       "    </tr>\n",
       "    <tr>\n",
       "      <th>972</th>\n",
       "      <td>Never</td>\n",
       "      <td>Unknown</td>\n",
       "      <td>Moderate</td>\n",
       "    </tr>\n",
       "    <tr>\n",
       "      <th>102</th>\n",
       "      <td>Current or Former</td>\n",
       "      <td>Remission or no evidence of disease, &gt;5 years</td>\n",
       "      <td>Mild</td>\n",
       "    </tr>\n",
       "    <tr>\n",
       "      <th>781</th>\n",
       "      <td>Never</td>\n",
       "      <td>Remission or no evidence of disease, &lt;5 years</td>\n",
       "      <td>Moderate</td>\n",
       "    </tr>\n",
       "    <tr>\n",
       "      <th>1160</th>\n",
       "      <td>Never</td>\n",
       "      <td>Remission or no evidence of disease, &gt;5 years</td>\n",
       "      <td>Mild</td>\n",
       "    </tr>\n",
       "    <tr>\n",
       "      <th>908</th>\n",
       "      <td>Never</td>\n",
       "      <td>Active and progressing</td>\n",
       "      <td>Moderate</td>\n",
       "    </tr>\n",
       "    <tr>\n",
       "      <th>858</th>\n",
       "      <td>Never</td>\n",
       "      <td>Remission or no evidence of disease, &lt;5 years</td>\n",
       "      <td>Severe</td>\n",
       "    </tr>\n",
       "    <tr>\n",
       "      <th>1298</th>\n",
       "      <td>Current or Former</td>\n",
       "      <td>Remission or no evidence of disease, &gt;5 years</td>\n",
       "      <td>Mild</td>\n",
       "    </tr>\n",
       "    <tr>\n",
       "      <th>491</th>\n",
       "      <td>Never</td>\n",
       "      <td>Remission or no evidence of disease, &lt;5 years</td>\n",
       "      <td>Moderate</td>\n",
       "    </tr>\n",
       "    <tr>\n",
       "      <th>433</th>\n",
       "      <td>Never</td>\n",
       "      <td>Remission or no evidence of disease, &gt;5 years</td>\n",
       "      <td>Mild</td>\n",
       "    </tr>\n",
       "    <tr>\n",
       "      <th>153</th>\n",
       "      <td>Never</td>\n",
       "      <td>Remission or no evidence of disease, &lt;5 years</td>\n",
       "      <td>Mild</td>\n",
       "    </tr>\n",
       "    <tr>\n",
       "      <th>57</th>\n",
       "      <td>Current or Former</td>\n",
       "      <td>Remission or no evidence of disease, &gt;5 years</td>\n",
       "      <td>Moderate</td>\n",
       "    </tr>\n",
       "    <tr>\n",
       "      <th>906</th>\n",
       "      <td>Never</td>\n",
       "      <td>Remission or no evidence of disease, &gt;5 years</td>\n",
       "      <td>Moderate</td>\n",
       "    </tr>\n",
       "    <tr>\n",
       "      <th>964</th>\n",
       "      <td>Never</td>\n",
       "      <td>Active and stable</td>\n",
       "      <td>Moderate</td>\n",
       "    </tr>\n",
       "    <tr>\n",
       "      <th>856</th>\n",
       "      <td>Never</td>\n",
       "      <td>Remission or no evidence of disease, &lt;5 years</td>\n",
       "      <td>Mild</td>\n",
       "    </tr>\n",
       "    <tr>\n",
       "      <th>1239</th>\n",
       "      <td>Never</td>\n",
       "      <td>Remission or no evidence of disease, &gt;5 years</td>\n",
       "      <td>Mild</td>\n",
       "    </tr>\n",
       "    <tr>\n",
       "      <th>1225</th>\n",
       "      <td>Current or Former</td>\n",
       "      <td>Remission or no evidence of disease, &gt;5 years</td>\n",
       "      <td>Mild</td>\n",
       "    </tr>\n",
       "  </tbody>\n",
       "</table>\n",
       "</div>"
      ],
      "text/plain": [
       "           der_smoking2                           der_cancer_status_v4  \\\n",
       "1232              Never                          Active and responding   \n",
       "178   Current or Former  Remission or no evidence of disease, >5 years   \n",
       "1218              Never  Remission or no evidence of disease, >5 years   \n",
       "1108              Never                                        Unknown   \n",
       "972               Never                                        Unknown   \n",
       "102   Current or Former  Remission or no evidence of disease, >5 years   \n",
       "781               Never  Remission or no evidence of disease, <5 years   \n",
       "1160              Never  Remission or no evidence of disease, >5 years   \n",
       "908               Never                         Active and progressing   \n",
       "858               Never  Remission or no evidence of disease, <5 years   \n",
       "1298  Current or Former  Remission or no evidence of disease, >5 years   \n",
       "491               Never  Remission or no evidence of disease, <5 years   \n",
       "433               Never  Remission or no evidence of disease, >5 years   \n",
       "153               Never  Remission or no evidence of disease, <5 years   \n",
       "57    Current or Former  Remission or no evidence of disease, >5 years   \n",
       "906               Never  Remission or no evidence of disease, >5 years   \n",
       "964               Never                              Active and stable   \n",
       "856               Never  Remission or no evidence of disease, <5 years   \n",
       "1239              Never  Remission or no evidence of disease, >5 years   \n",
       "1225  Current or Former  Remission or no evidence of disease, >5 years   \n",
       "\n",
       "     severity_of_covid_19_v2  \n",
       "1232                Moderate  \n",
       "178                     Mild  \n",
       "1218                    Mild  \n",
       "1108                    Mild  \n",
       "972                 Moderate  \n",
       "102                     Mild  \n",
       "781                 Moderate  \n",
       "1160                    Mild  \n",
       "908                 Moderate  \n",
       "858                   Severe  \n",
       "1298                    Mild  \n",
       "491                 Moderate  \n",
       "433                     Mild  \n",
       "153                     Mild  \n",
       "57                  Moderate  \n",
       "906                 Moderate  \n",
       "964                 Moderate  \n",
       "856                     Mild  \n",
       "1239                    Mild  \n",
       "1225                    Mild  "
      ]
     },
     "execution_count": 58,
     "metadata": {},
     "output_type": "execute_result"
    }
   ],
   "source": [
    "# Cleaning the empty cells \n",
    "Cancer_Covid_Smoking_df = Cancer_Covid_Smoking_df.dropna()\n",
    "Cancer_Covid_Smoking_df.sample(20)"
   ]
  },
  {
   "cell_type": "code",
   "execution_count": 86,
   "id": "9d9cc63c",
   "metadata": {},
   "outputs": [],
   "source": [
    "# Creating an empty list to hold the values for smoker individuals with different breast cancer status & different severity of COVID\n",
    "Smoker_BC_Covid_Count = []"
   ]
  },
  {
   "cell_type": "code",
   "execution_count": 87,
   "id": "fb98361d",
   "metadata": {},
   "outputs": [
    {
     "name": "stdout",
     "output_type": "stream",
     "text": [
      "[35]\n"
     ]
    }
   ],
   "source": [
    "# Individuals who are smokers and their covid status is Mild and their cancer status is Active and responding\n",
    "try: \n",
    "    Smoker_Mild_A_Responding = Cancer_Covid_Smoking_df.loc[(Cancer_Covid_Smoking_df[\"der_smoking2\"] == \"Current or Former\") & (Cancer_Covid_Smoking_df[\"severity_of_covid_19_v2\"] == \"Mild\") & (Cancer_Covid_Smoking_df[\"der_cancer_status_v4\"] == \"Active and responding\")]\n",
    "    Smoker_Mild_A_Responding_Count = len(Smoker_Mild_A_Responding)\n",
    "    Smoker_BC_Covid_Count.append(Smoker_Mild_A_Responding_Count)\n",
    "    print(Smoker_BC_Covid_Count)\n",
    "except:\n",
    "    print(\"No Result was found\")"
   ]
  },
  {
   "cell_type": "code",
   "execution_count": 88,
   "id": "d8915481",
   "metadata": {},
   "outputs": [
    {
     "name": "stdout",
     "output_type": "stream",
     "text": [
      "[35, 37]\n"
     ]
    }
   ],
   "source": [
    "# Individuals who are smokers and their covid status is Mild and their cancer status is Active and stable\n",
    "try: \n",
    "    Smoker_Mild_A_stable = Cancer_Covid_Smoking_df.loc[(Cancer_Covid_Smoking_df[\"der_smoking2\"] == \"Current or Former\") & (Cancer_Covid_Smoking_df[\"severity_of_covid_19_v2\"] == \"Mild\") & (Cancer_Covid_Smoking_df[\"der_cancer_status_v4\"] == \"Active and stable\")]\n",
    "    Smoker_Mild_A_stable_Count = len(Smoker_Mild_A_stable)\n",
    "    Smoker_BC_Covid_Count.append(Smoker_Mild_A_stable_Count)\n",
    "    print(Smoker_BC_Covid_Count)\n",
    "except:\n",
    "    print(\"No Result was found\")"
   ]
  },
  {
   "cell_type": "code",
   "execution_count": 89,
   "id": "ccdd48c9",
   "metadata": {},
   "outputs": [
    {
     "name": "stdout",
     "output_type": "stream",
     "text": [
      "[35, 37, 12]\n"
     ]
    }
   ],
   "source": [
    "# Individuals who are smokers and their covid status is Mild and their cancer status is Active and progressing\n",
    "try: \n",
    "    Smoker_Mild_A_progressing = Cancer_Covid_Smoking_df.loc[(Cancer_Covid_Smoking_df[\"der_smoking2\"] == \"Current or Former\") & (Cancer_Covid_Smoking_df[\"severity_of_covid_19_v2\"] == \"Mild\") & (Cancer_Covid_Smoking_df[\"der_cancer_status_v4\"] == \"Active and progressing\")]\n",
    "    Smoker_Mild_A_progressing_Count = len(Smoker_Mild_A_progressing)\n",
    "    Smoker_BC_Covid_Count.append(Smoker_Mild_A_progressing_Count)\n",
    "    print(Smoker_BC_Covid_Count)\n",
    "except:\n",
    "    print(\"No Result was found\")"
   ]
  },
  {
   "cell_type": "code",
   "execution_count": 90,
   "id": "be254899",
   "metadata": {},
   "outputs": [
    {
     "name": "stdout",
     "output_type": "stream",
     "text": [
      "[35, 37, 12, 17]\n"
     ]
    }
   ],
   "source": [
    "# Individuals who are smokers and their covid status is Moderate and their cancer status is Active and responding\n",
    "try: \n",
    "    Smoker_Moderate_A_Responding = Cancer_Covid_Smoking_df.loc[(Cancer_Covid_Smoking_df[\"der_smoking2\"] == \"Current or Former\") & (Cancer_Covid_Smoking_df[\"severity_of_covid_19_v2\"] == \"Moderate\") & (Cancer_Covid_Smoking_df[\"der_cancer_status_v4\"] == \"Active and responding\")]\n",
    "    Smoker_Moderate_A_Responding_Count = len(Smoker_Moderate_A_Responding)\n",
    "    Smoker_BC_Covid_Count.append(Smoker_Moderate_A_Responding_Count)\n",
    "    print(Smoker_BC_Covid_Count)\n",
    "except:\n",
    "    print(\"No Result was found\")"
   ]
  },
  {
   "cell_type": "code",
   "execution_count": 91,
   "id": "cf786b9c",
   "metadata": {},
   "outputs": [
    {
     "name": "stdout",
     "output_type": "stream",
     "text": [
      "[35, 37, 12, 17, 15]\n"
     ]
    }
   ],
   "source": [
    "# Individuals who are smokers and their covid status is Moderate and their cancer status is Active and stable\n",
    "try: \n",
    "    Smoker_Moderate_A_stable = Cancer_Covid_Smoking_df.loc[(Cancer_Covid_Smoking_df[\"der_smoking2\"] == \"Current or Former\") & (Cancer_Covid_Smoking_df[\"severity_of_covid_19_v2\"] == \"Moderate\") & (Cancer_Covid_Smoking_df[\"der_cancer_status_v4\"] == \"Active and stable\")]\n",
    "    Smoker_Moderate_A_stable_Count = len(Smoker_Moderate_A_stable)\n",
    "    Smoker_BC_Covid_Count.append(Smoker_Moderate_A_stable_Count)\n",
    "    print(Smoker_BC_Covid_Count)\n",
    "except:\n",
    "    print(\"No Result was found\")"
   ]
  },
  {
   "cell_type": "code",
   "execution_count": 92,
   "id": "25c81dce",
   "metadata": {},
   "outputs": [
    {
     "name": "stdout",
     "output_type": "stream",
     "text": [
      "[35, 37, 12, 17, 15, 16]\n"
     ]
    }
   ],
   "source": [
    "# Individuals who are smokers and their covid status is Moderate and their cancer status is Active and progressing\n",
    "try: \n",
    "    Smoker_Moderate_A_progressing = Cancer_Covid_Smoking_df.loc[(Cancer_Covid_Smoking_df[\"der_smoking2\"] == \"Current or Former\") & (Cancer_Covid_Smoking_df[\"severity_of_covid_19_v2\"] == \"Moderate\") & (Cancer_Covid_Smoking_df[\"der_cancer_status_v4\"] == \"Active and progressing\")]\n",
    "    Smoker_Moderate_A_progressing_Count = len(Smoker_Moderate_A_progressing)\n",
    "    Smoker_BC_Covid_Count.append(Smoker_Moderate_A_progressing_Count)\n",
    "    print(Smoker_BC_Covid_Count)\n",
    "except:\n",
    "    print(\"No Result was found\")"
   ]
  },
  {
   "cell_type": "code",
   "execution_count": 93,
   "id": "d08ee2bc",
   "metadata": {},
   "outputs": [
    {
     "name": "stdout",
     "output_type": "stream",
     "text": [
      "[35, 37, 12, 17, 15, 16, 2]\n"
     ]
    }
   ],
   "source": [
    "# Individuals who are smokers and their covid status is Severe and their cancer status is Active and responding\n",
    "try: \n",
    "    Smoker_Severe_A_Responding = Cancer_Covid_Smoking_df.loc[(Cancer_Covid_Smoking_df[\"der_smoking2\"] == \"Current or Former\") & (Cancer_Covid_Smoking_df[\"severity_of_covid_19_v2\"] == \"Severe\") & (Cancer_Covid_Smoking_df[\"der_cancer_status_v4\"] == \"Active and responding\")]\n",
    "    Smoker_Severe_A_Responding_Count = len(Smoker_Severe_A_Responding)\n",
    "    Smoker_BC_Covid_Count.append(Smoker_Severe_A_Responding_Count)\n",
    "    print(Smoker_BC_Covid_Count)\n",
    "except:\n",
    "    print(\"No Result was found\")"
   ]
  },
  {
   "cell_type": "code",
   "execution_count": 94,
   "id": "5f1d5beb",
   "metadata": {},
   "outputs": [
    {
     "name": "stdout",
     "output_type": "stream",
     "text": [
      "[35, 37, 12, 17, 15, 16, 2, 0]\n"
     ]
    }
   ],
   "source": [
    "# Individuals who are smokers and their covid status is Severe and their cancer status is Active and stable\n",
    "try: \n",
    "    Smoker_Severe_A_stable = Cancer_Covid_Smoking_df.loc[(Cancer_Covid_Smoking_df[\"der_smoking2\"] == \"Current or Former\") & (Cancer_Covid_Smoking_df[\"severity_of_covid_19_v2\"] == \"Severe\") & (Cancer_Covid_Smoking_df[\"der_cancer_status_v4\"] == \"Active and stable\")]\n",
    "    Smoker_Severe_A_stable_Count = len(Smoker_Severe_A_stable)\n",
    "    Smoker_BC_Covid_Count.append(Smoker_Severe_A_stable_Count)\n",
    "    print(Smoker_BC_Covid_Count)\n",
    "except:\n",
    "    print(\"No Result was found\")"
   ]
  },
  {
   "cell_type": "code",
   "execution_count": 95,
   "id": "de8168a8",
   "metadata": {},
   "outputs": [
    {
     "name": "stdout",
     "output_type": "stream",
     "text": [
      "[35, 37, 12, 17, 15, 16, 2, 0, 5]\n"
     ]
    }
   ],
   "source": [
    "# Individuals who are smokers and their covid status is Severe and their cancer status is Active and progressing\n",
    "try: \n",
    "    Smoker_Severe_A_progressing = Cancer_Covid_Smoking_df.loc[(Cancer_Covid_Smoking_df[\"der_smoking2\"] == \"Current or Former\") & (Cancer_Covid_Smoking_df[\"severity_of_covid_19_v2\"] == \"Severe\") & (Cancer_Covid_Smoking_df[\"der_cancer_status_v4\"] == \"Active and progressing\")]\n",
    "    Smoker_Severe_A_progressing_Count = len(Smoker_Severe_A_progressing)\n",
    "    Smoker_BC_Covid_Count.append(Smoker_Severe_A_progressing_Count)\n",
    "    print(Smoker_BC_Covid_Count)\n",
    "except:\n",
    "    print(\"No Result was found\")"
   ]
  },
  {
   "cell_type": "code",
   "execution_count": 96,
   "id": "8c52cde4",
   "metadata": {},
   "outputs": [],
   "source": [
    "# Creating an empty list to hold the values for non-smoker individuals with different breast cancer status & different severity of COVID\n",
    "NonSmoker_BC_Covid_Count = []"
   ]
  },
  {
   "cell_type": "code",
   "execution_count": 97,
   "id": "3813182a",
   "metadata": {},
   "outputs": [
    {
     "name": "stdout",
     "output_type": "stream",
     "text": [
      "[86]\n"
     ]
    }
   ],
   "source": [
    "# Individuals who are non-smokers and their covid status is Mild and their cancer status is Active and responding\n",
    "try: \n",
    "    NonSmoker_Mild_A_Responding = Cancer_Covid_Smoking_df.loc[(Cancer_Covid_Smoking_df[\"der_smoking2\"] == \"Never\") & (Cancer_Covid_Smoking_df[\"severity_of_covid_19_v2\"] == \"Mild\") & (Cancer_Covid_Smoking_df[\"der_cancer_status_v4\"] == \"Active and responding\")]\n",
    "    NonSmoker_Mild_A_Responding_Count = len(NonSmoker_Mild_A_Responding)\n",
    "    NonSmoker_BC_Covid_Count.append(NonSmoker_Mild_A_Responding_Count)\n",
    "    print(NonSmoker_BC_Covid_Count)\n",
    "except:\n",
    "    print(\"No Result was found\")"
   ]
  },
  {
   "cell_type": "code",
   "execution_count": 98,
   "id": "d6f1da4f",
   "metadata": {},
   "outputs": [
    {
     "name": "stdout",
     "output_type": "stream",
     "text": [
      "[86, 82]\n"
     ]
    }
   ],
   "source": [
    "# Individuals who are non-smokers and their covid status is Mild and their cancer status is Active and stable\n",
    "try: \n",
    "    NonSmoker_Mild_A_stable = Cancer_Covid_Smoking_df.loc[(Cancer_Covid_Smoking_df[\"der_smoking2\"] == \"Never\") & (Cancer_Covid_Smoking_df[\"severity_of_covid_19_v2\"] == \"Mild\") & (Cancer_Covid_Smoking_df[\"der_cancer_status_v4\"] == \"Active and stable\")]\n",
    "    NonSmoker_Mild_A_stable_Count = len(NonSmoker_Mild_A_stable)\n",
    "    NonSmoker_BC_Covid_Count.append(NonSmoker_Mild_A_stable_Count)\n",
    "    print(NonSmoker_BC_Covid_Count)\n",
    "except:\n",
    "    print(\"No Result was found\")"
   ]
  },
  {
   "cell_type": "code",
   "execution_count": 99,
   "id": "e7b9c908",
   "metadata": {},
   "outputs": [
    {
     "name": "stdout",
     "output_type": "stream",
     "text": [
      "[86, 82, 26]\n"
     ]
    }
   ],
   "source": [
    "# Individuals who are non-smokers and their covid status is Mild and their cancer status is Active and progressing\n",
    "try: \n",
    "    NonSmoker_Mild_A_progressing = Cancer_Covid_Smoking_df.loc[(Cancer_Covid_Smoking_df[\"der_smoking2\"] == \"Never\") & (Cancer_Covid_Smoking_df[\"severity_of_covid_19_v2\"] == \"Mild\") & (Cancer_Covid_Smoking_df[\"der_cancer_status_v4\"] == \"Active and progressing\")]\n",
    "    NonSmoker_Mild_A_progressing_Count = len(NonSmoker_Mild_A_progressing)\n",
    "    NonSmoker_BC_Covid_Count.append(NonSmoker_Mild_A_progressing_Count)\n",
    "    print(NonSmoker_BC_Covid_Count)\n",
    "except:\n",
    "    print(\"No Result was found\")"
   ]
  },
  {
   "cell_type": "code",
   "execution_count": 100,
   "id": "d12316aa",
   "metadata": {},
   "outputs": [
    {
     "name": "stdout",
     "output_type": "stream",
     "text": [
      "[86, 82, 26, 26]\n"
     ]
    }
   ],
   "source": [
    "# Individuals who are non-smokers and their covid status is Moderate and their cancer status is Active and responding\n",
    "try: \n",
    "    NonSmoker_Moderate_A_Responding = Cancer_Covid_Smoking_df.loc[(Cancer_Covid_Smoking_df[\"der_smoking2\"] == \"Never\") & (Cancer_Covid_Smoking_df[\"severity_of_covid_19_v2\"] == \"Moderate\") & (Cancer_Covid_Smoking_df[\"der_cancer_status_v4\"] == \"Active and responding\")]\n",
    "    NonSmoker_Moderate_A_Responding_Count = len(NonSmoker_Moderate_A_Responding)\n",
    "    NonSmoker_BC_Covid_Count.append(NonSmoker_Moderate_A_Responding_Count)\n",
    "    print(NonSmoker_BC_Covid_Count)\n",
    "except:\n",
    "    print(\"No Result was found\")"
   ]
  },
  {
   "cell_type": "code",
   "execution_count": 101,
   "id": "18f9989b",
   "metadata": {},
   "outputs": [
    {
     "name": "stdout",
     "output_type": "stream",
     "text": [
      "[86, 82, 26, 26, 25]\n"
     ]
    }
   ],
   "source": [
    "# Individuals who are non-smokers and their covid status is Moderate and their cancer status is Active and stable\n",
    "try: \n",
    "    NonSmoker_Moderate_A_stable = Cancer_Covid_Smoking_df.loc[(Cancer_Covid_Smoking_df[\"der_smoking2\"] == \"Never\") & (Cancer_Covid_Smoking_df[\"severity_of_covid_19_v2\"] == \"Moderate\") & (Cancer_Covid_Smoking_df[\"der_cancer_status_v4\"] == \"Active and stable\")]\n",
    "    NonSmoker_Moderate_A_stable_Count = len(NonSmoker_Moderate_A_stable)\n",
    "    NonSmoker_BC_Covid_Count.append(NonSmoker_Moderate_A_stable_Count)\n",
    "    print(NonSmoker_BC_Covid_Count)\n",
    "except:\n",
    "    print(\"No Result was found\")"
   ]
  },
  {
   "cell_type": "code",
   "execution_count": 102,
   "id": "48548cc8",
   "metadata": {},
   "outputs": [
    {
     "name": "stdout",
     "output_type": "stream",
     "text": [
      "[86, 82, 26, 26, 25, 33]\n"
     ]
    }
   ],
   "source": [
    "# Individuals who are non-smokers and their covid status is Moderate and their cancer status is Active and progressing\n",
    "try: \n",
    "    NonSmoker_Moderate_A_progressing = Cancer_Covid_Smoking_df.loc[(Cancer_Covid_Smoking_df[\"der_smoking2\"] == \"Never\") & (Cancer_Covid_Smoking_df[\"severity_of_covid_19_v2\"] == \"Moderate\") & (Cancer_Covid_Smoking_df[\"der_cancer_status_v4\"] == \"Active and progressing\")]\n",
    "    NonSmoker_Moderate_A_progressing_Count = len(NonSmoker_Moderate_A_progressing)\n",
    "    NonSmoker_BC_Covid_Count.append(NonSmoker_Moderate_A_progressing_Count)\n",
    "    print(NonSmoker_BC_Covid_Count)\n",
    "except:\n",
    "    print(\"No Result was found\")"
   ]
  },
  {
   "cell_type": "code",
   "execution_count": 103,
   "id": "08ac5775",
   "metadata": {},
   "outputs": [
    {
     "name": "stdout",
     "output_type": "stream",
     "text": [
      "[86, 82, 26, 26, 25, 33, 3]\n"
     ]
    }
   ],
   "source": [
    "# Individuals who are non-smokers and their covid status is Severe and their cancer status is Active and responding\n",
    "try: \n",
    "    NonSmoker_Severe_A_Responding = Cancer_Covid_Smoking_df.loc[(Cancer_Covid_Smoking_df[\"der_smoking2\"] == \"Never\") & (Cancer_Covid_Smoking_df[\"severity_of_covid_19_v2\"] == \"Severe\") & (Cancer_Covid_Smoking_df[\"der_cancer_status_v4\"] == \"Active and responding\")]\n",
    "    NonSmoker_Severe_A_Responding_Count = len(NonSmoker_Severe_A_Responding)\n",
    "    NonSmoker_BC_Covid_Count.append(NonSmoker_Severe_A_Responding_Count)\n",
    "    print(NonSmoker_BC_Covid_Count)\n",
    "except:\n",
    "    print(\"No Result was found\")"
   ]
  },
  {
   "cell_type": "code",
   "execution_count": 104,
   "id": "0cabfb23",
   "metadata": {},
   "outputs": [
    {
     "name": "stdout",
     "output_type": "stream",
     "text": [
      "[86, 82, 26, 26, 25, 33, 3, 3]\n"
     ]
    }
   ],
   "source": [
    "# Individuals who are non-smokers and their covid status is Severe and their cancer status is Active and stable\n",
    "try: \n",
    "    NonSmoker_Severe_A_stable = Cancer_Covid_Smoking_df.loc[(Cancer_Covid_Smoking_df[\"der_smoking2\"] == \"Never\") & (Cancer_Covid_Smoking_df[\"severity_of_covid_19_v2\"] == \"Severe\") & (Cancer_Covid_Smoking_df[\"der_cancer_status_v4\"] == \"Active and stable\")]\n",
    "    NonSmoker_Severe_A_stable_Count = len(NonSmoker_Severe_A_stable)\n",
    "    NonSmoker_BC_Covid_Count.append(NonSmoker_Severe_A_stable_Count)\n",
    "    print(NonSmoker_BC_Covid_Count)\n",
    "except:\n",
    "    print(\"No Result was found\")"
   ]
  },
  {
   "cell_type": "code",
   "execution_count": 105,
   "id": "75a8cb40",
   "metadata": {},
   "outputs": [
    {
     "name": "stdout",
     "output_type": "stream",
     "text": [
      "[86, 82, 26, 26, 25, 33, 3, 3, 5]\n"
     ]
    }
   ],
   "source": [
    "# Individuals who are non-smokers and their covid status is Severe and their cancer status is Active and progressing\n",
    "try: \n",
    "    NonSmoker_Severe_A_progressing = Cancer_Covid_Smoking_df.loc[(Cancer_Covid_Smoking_df[\"der_smoking2\"] == \"Never\") & (Cancer_Covid_Smoking_df[\"severity_of_covid_19_v2\"] == \"Severe\") & (Cancer_Covid_Smoking_df[\"der_cancer_status_v4\"] == \"Active and progressing\")]\n",
    "    NonSmoker_Severe_A_progressing_Count = len(NonSmoker_Severe_A_progressing)\n",
    "    NonSmoker_BC_Covid_Count.append(NonSmoker_Severe_A_progressing_Count)\n",
    "    print(NonSmoker_BC_Covid_Count)\n",
    "except:\n",
    "    print(\"No Result was found\")"
   ]
  },
  {
   "cell_type": "code",
   "execution_count": 108,
   "id": "0ec8c88f",
   "metadata": {},
   "outputs": [
    {
     "data": {
      "text/html": [
       "<div>\n",
       "<style scoped>\n",
       "    .dataframe tbody tr th:only-of-type {\n",
       "        vertical-align: middle;\n",
       "    }\n",
       "\n",
       "    .dataframe tbody tr th {\n",
       "        vertical-align: top;\n",
       "    }\n",
       "\n",
       "    .dataframe thead th {\n",
       "        text-align: right;\n",
       "    }\n",
       "</style>\n",
       "<table border=\"1\" class=\"dataframe\">\n",
       "  <thead>\n",
       "    <tr style=\"text-align: right;\">\n",
       "      <th></th>\n",
       "      <th>Smoker_BC_Covid_Count</th>\n",
       "      <th>NonSmoker_BC_Covid_Count</th>\n",
       "    </tr>\n",
       "  </thead>\n",
       "  <tbody>\n",
       "    <tr>\n",
       "      <th>Mild COVID &amp; Active and responding</th>\n",
       "      <td>35</td>\n",
       "      <td>86</td>\n",
       "    </tr>\n",
       "    <tr>\n",
       "      <th>Mild COVID &amp;  Active and stable</th>\n",
       "      <td>37</td>\n",
       "      <td>82</td>\n",
       "    </tr>\n",
       "    <tr>\n",
       "      <th>Mild COVID &amp; Active and progressing</th>\n",
       "      <td>12</td>\n",
       "      <td>26</td>\n",
       "    </tr>\n",
       "    <tr>\n",
       "      <th>Moderate COVID &amp; Active and responding</th>\n",
       "      <td>17</td>\n",
       "      <td>26</td>\n",
       "    </tr>\n",
       "    <tr>\n",
       "      <th>Moderate COVID &amp;  Active and stable</th>\n",
       "      <td>15</td>\n",
       "      <td>25</td>\n",
       "    </tr>\n",
       "    <tr>\n",
       "      <th>Moderate COVID &amp; Active and progressing</th>\n",
       "      <td>16</td>\n",
       "      <td>33</td>\n",
       "    </tr>\n",
       "    <tr>\n",
       "      <th>Severe COVID &amp; Active and responding</th>\n",
       "      <td>2</td>\n",
       "      <td>3</td>\n",
       "    </tr>\n",
       "    <tr>\n",
       "      <th>Severe COVID &amp;  Active and stable</th>\n",
       "      <td>0</td>\n",
       "      <td>3</td>\n",
       "    </tr>\n",
       "    <tr>\n",
       "      <th>Severe COVID &amp; Active and progressing</th>\n",
       "      <td>5</td>\n",
       "      <td>5</td>\n",
       "    </tr>\n",
       "  </tbody>\n",
       "</table>\n",
       "</div>"
      ],
      "text/plain": [
       "                                         Smoker_BC_Covid_Count  \\\n",
       "Mild COVID & Active and responding                          35   \n",
       "Mild COVID &  Active and stable                             37   \n",
       "Mild COVID & Active and progressing                         12   \n",
       "Moderate COVID & Active and responding                      17   \n",
       "Moderate COVID &  Active and stable                         15   \n",
       "Moderate COVID & Active and progressing                     16   \n",
       "Severe COVID & Active and responding                         2   \n",
       "Severe COVID &  Active and stable                            0   \n",
       "Severe COVID & Active and progressing                        5   \n",
       "\n",
       "                                         NonSmoker_BC_Covid_Count  \n",
       "Mild COVID & Active and responding                             86  \n",
       "Mild COVID &  Active and stable                                82  \n",
       "Mild COVID & Active and progressing                            26  \n",
       "Moderate COVID & Active and responding                         26  \n",
       "Moderate COVID &  Active and stable                            25  \n",
       "Moderate COVID & Active and progressing                        33  \n",
       "Severe COVID & Active and responding                            3  \n",
       "Severe COVID &  Active and stable                               3  \n",
       "Severe COVID & Active and progressing                           5  "
      ]
     },
     "execution_count": 108,
     "metadata": {},
     "output_type": "execute_result"
    }
   ],
   "source": [
    "# Creating a data frame which includes both the Smoker_BC_Covid_Count & NonSmoker_BC_Covid_Count for comparison as well as plotting.\n",
    "COV_BC_Status = [\"Mild COVID & Active and responding\", \"Mild COVID &  Active and stable\" , \"Mild COVID & Active and progressing\",\n",
    "                \"Moderate COVID & Active and responding\", \"Moderate COVID &  Active and stable\" , \"Moderate COVID & Active and progressing\",\n",
    "                \"Severe COVID & Active and responding\", \"Severe COVID &  Active and stable\" , \"Severe COVID & Active and progressing\"]\n",
    "\n",
    "COV_BC_Smoker_NonSmoker_DF = pd.DataFrame (\n",
    "    {\n",
    "        \"Smoker_BC_Covid_Count\" : Smoker_BC_Covid_Count,\n",
    "        \"NonSmoker_BC_Covid_Count\" : NonSmoker_BC_Covid_Count},\n",
    "        index = COV_BC_Status\n",
    "    \n",
    ")\n",
    "\n",
    "COV_BC_Smoker_NonSmoker_DF"
   ]
  },
  {
   "cell_type": "code",
   "execution_count": 130,
   "id": "8b7bdeea",
   "metadata": {},
   "outputs": [
    {
     "data": {
      "text/html": [
       "<div>\n",
       "<style scoped>\n",
       "    .dataframe tbody tr th:only-of-type {\n",
       "        vertical-align: middle;\n",
       "    }\n",
       "\n",
       "    .dataframe tbody tr th {\n",
       "        vertical-align: top;\n",
       "    }\n",
       "\n",
       "    .dataframe thead th {\n",
       "        text-align: right;\n",
       "    }\n",
       "</style>\n",
       "<table border=\"1\" class=\"dataframe\">\n",
       "  <thead>\n",
       "    <tr style=\"text-align: right;\">\n",
       "      <th></th>\n",
       "      <th>Smoker_BC_MildCov_Count</th>\n",
       "      <th>NonSmoker_BC_MildCov_Count</th>\n",
       "    </tr>\n",
       "  </thead>\n",
       "  <tbody>\n",
       "    <tr>\n",
       "      <th>Mild COVID &amp; Active and responding</th>\n",
       "      <td>35</td>\n",
       "      <td>86</td>\n",
       "    </tr>\n",
       "    <tr>\n",
       "      <th>Mild COVID &amp;  Active and stable</th>\n",
       "      <td>37</td>\n",
       "      <td>82</td>\n",
       "    </tr>\n",
       "    <tr>\n",
       "      <th>Mild COVID &amp; Active and progressing</th>\n",
       "      <td>12</td>\n",
       "      <td>26</td>\n",
       "    </tr>\n",
       "  </tbody>\n",
       "</table>\n",
       "</div>"
      ],
      "text/plain": [
       "                                     Smoker_BC_MildCov_Count  \\\n",
       "Mild COVID & Active and responding                        35   \n",
       "Mild COVID &  Active and stable                           37   \n",
       "Mild COVID & Active and progressing                       12   \n",
       "\n",
       "                                     NonSmoker_BC_MildCov_Count  \n",
       "Mild COVID & Active and responding                           86  \n",
       "Mild COVID &  Active and stable                              82  \n",
       "Mild COVID & Active and progressing                          26  "
      ]
     },
     "execution_count": 130,
     "metadata": {},
     "output_type": "execute_result"
    }
   ],
   "source": [
    "# mild covid\n",
    "MildCov_BC_Status = [\"Mild COVID & Active and responding\", \"Mild COVID &  Active and stable\" , \"Mild COVID & Active and progressing\"]\n",
    "\n",
    "Smoker_BC_MildCov_Count = []\n",
    "for i in [0,1,2]:\n",
    "    Smoker_BC_MildCov_Count.append(Smoker_BC_Covid_Count[i])\n",
    "NonSmoker_BC_MildCov_Count = []\n",
    "for i in [0,1,2]:\n",
    "    NonSmoker_BC_MildCov_Count.append(NonSmoker_BC_Covid_Count[i])\n",
    "    \n",
    "MildCov_BC_Smoker_NonSmoker_DF = pd.DataFrame (\n",
    "    {\n",
    "        \"Smoker_BC_MildCov_Count\" : Smoker_BC_MildCov_Count,\n",
    "        \"NonSmoker_BC_MildCov_Count\" : NonSmoker_BC_MildCov_Count},\n",
    "        index = MildCov_BC_Status\n",
    "    \n",
    ")\n",
    "\n",
    "MildCov_BC_Smoker_NonSmoker_DF"
   ]
  },
  {
   "cell_type": "code",
   "execution_count": 134,
   "id": "258fb667",
   "metadata": {},
   "outputs": [
    {
     "data": {
      "text/html": [
       "<div>\n",
       "<style scoped>\n",
       "    .dataframe tbody tr th:only-of-type {\n",
       "        vertical-align: middle;\n",
       "    }\n",
       "\n",
       "    .dataframe tbody tr th {\n",
       "        vertical-align: top;\n",
       "    }\n",
       "\n",
       "    .dataframe thead th {\n",
       "        text-align: right;\n",
       "    }\n",
       "</style>\n",
       "<table border=\"1\" class=\"dataframe\">\n",
       "  <thead>\n",
       "    <tr style=\"text-align: right;\">\n",
       "      <th></th>\n",
       "      <th>Smoker_BC_ModerateCov_Count</th>\n",
       "      <th>NonSmoker_BC_ModerateCov_Count</th>\n",
       "    </tr>\n",
       "  </thead>\n",
       "  <tbody>\n",
       "    <tr>\n",
       "      <th>Moderate COVID &amp; Active and responding</th>\n",
       "      <td>17</td>\n",
       "      <td>26</td>\n",
       "    </tr>\n",
       "    <tr>\n",
       "      <th>Moderate COVID &amp;  Active and stable</th>\n",
       "      <td>15</td>\n",
       "      <td>25</td>\n",
       "    </tr>\n",
       "    <tr>\n",
       "      <th>Moderate COVID &amp; Active and progressing</th>\n",
       "      <td>16</td>\n",
       "      <td>33</td>\n",
       "    </tr>\n",
       "  </tbody>\n",
       "</table>\n",
       "</div>"
      ],
      "text/plain": [
       "                                         Smoker_BC_ModerateCov_Count  \\\n",
       "Moderate COVID & Active and responding                            17   \n",
       "Moderate COVID &  Active and stable                               15   \n",
       "Moderate COVID & Active and progressing                           16   \n",
       "\n",
       "                                         NonSmoker_BC_ModerateCov_Count  \n",
       "Moderate COVID & Active and responding                               26  \n",
       "Moderate COVID &  Active and stable                                  25  \n",
       "Moderate COVID & Active and progressing                              33  "
      ]
     },
     "execution_count": 134,
     "metadata": {},
     "output_type": "execute_result"
    }
   ],
   "source": [
    "# Moderate Covid\n",
    "ModerateCov_BC_Status = [\"Moderate COVID & Active and responding\", \"Moderate COVID &  Active and stable\" , \"Moderate COVID & Active and progressing\"]\n",
    "\n",
    "Smoker_BC_ModerateCov_Count = []\n",
    "for i in [3,4,5]:\n",
    "    Smoker_BC_ModerateCov_Count.append(Smoker_BC_Covid_Count[i])\n",
    "NonSmoker_BC_ModerateCov_Count = []\n",
    "for i in [3,4,5]:\n",
    "    NonSmoker_BC_ModerateCov_Count.append(NonSmoker_BC_Covid_Count[i])\n",
    "\n",
    "ModerateCov_BC_Smoker_NonSmoker_DF = pd.DataFrame (\n",
    "    {\n",
    "        \"Smoker_BC_ModerateCov_Count\" : Smoker_BC_ModerateCov_Count,\n",
    "        \"NonSmoker_BC_ModerateCov_Count\" : NonSmoker_BC_ModerateCov_Count},\n",
    "        index = ModerateCov_BC_Status\n",
    "    \n",
    ")\n",
    "\n",
    "ModerateCov_BC_Smoker_NonSmoker_DF"
   ]
  },
  {
   "cell_type": "code",
   "execution_count": 136,
   "id": "76c7bd0d",
   "metadata": {},
   "outputs": [
    {
     "data": {
      "text/html": [
       "<div>\n",
       "<style scoped>\n",
       "    .dataframe tbody tr th:only-of-type {\n",
       "        vertical-align: middle;\n",
       "    }\n",
       "\n",
       "    .dataframe tbody tr th {\n",
       "        vertical-align: top;\n",
       "    }\n",
       "\n",
       "    .dataframe thead th {\n",
       "        text-align: right;\n",
       "    }\n",
       "</style>\n",
       "<table border=\"1\" class=\"dataframe\">\n",
       "  <thead>\n",
       "    <tr style=\"text-align: right;\">\n",
       "      <th></th>\n",
       "      <th>Smoker_BC_SevereCov_Count</th>\n",
       "      <th>NonSmoker_BC_SevereCov_Count</th>\n",
       "    </tr>\n",
       "  </thead>\n",
       "  <tbody>\n",
       "    <tr>\n",
       "      <th>Severe COVID &amp; Active and responding</th>\n",
       "      <td>2</td>\n",
       "      <td>3</td>\n",
       "    </tr>\n",
       "    <tr>\n",
       "      <th>Severe COVID &amp;  Active and stable</th>\n",
       "      <td>0</td>\n",
       "      <td>3</td>\n",
       "    </tr>\n",
       "    <tr>\n",
       "      <th>Severe COVID &amp; Active and progressing</th>\n",
       "      <td>5</td>\n",
       "      <td>5</td>\n",
       "    </tr>\n",
       "  </tbody>\n",
       "</table>\n",
       "</div>"
      ],
      "text/plain": [
       "                                       Smoker_BC_SevereCov_Count  \\\n",
       "Severe COVID & Active and responding                           2   \n",
       "Severe COVID &  Active and stable                              0   \n",
       "Severe COVID & Active and progressing                          5   \n",
       "\n",
       "                                       NonSmoker_BC_SevereCov_Count  \n",
       "Severe COVID & Active and responding                              3  \n",
       "Severe COVID &  Active and stable                                 3  \n",
       "Severe COVID & Active and progressing                             5  "
      ]
     },
     "execution_count": 136,
     "metadata": {},
     "output_type": "execute_result"
    }
   ],
   "source": [
    "# Severe Covid\n",
    "SevereCov_BC_Status = [\"Severe COVID & Active and responding\", \"Severe COVID &  Active and stable\" , \"Severe COVID & Active and progressing\"]\n",
    "\n",
    "Smoker_BC_SevereCov_Count = []\n",
    "for i in [6,7,8]:\n",
    "    Smoker_BC_SevereCov_Count.append(Smoker_BC_Covid_Count[i])\n",
    "NonSmoker_BC_SevereCov_Count = []\n",
    "for i in [6,7,8]:\n",
    "    NonSmoker_BC_SevereCov_Count.append(NonSmoker_BC_Covid_Count[i])\n",
    "\n",
    "SevereCov_BC_Smoker_NonSmoker_DF = pd.DataFrame (\n",
    "    {\n",
    "        \"Smoker_BC_SevereCov_Count\" : Smoker_BC_SevereCov_Count,\n",
    "        \"NonSmoker_BC_SevereCov_Count\" : NonSmoker_BC_SevereCov_Count},\n",
    "        index = SevereCov_BC_Status\n",
    "    \n",
    ")\n",
    "\n",
    "SevereCov_BC_Smoker_NonSmoker_DF"
   ]
  },
  {
   "cell_type": "code",
   "execution_count": 152,
   "id": "29d88410",
   "metadata": {
    "scrolled": false
   },
   "outputs": [
    {
     "data": {
      "image/png": "[encoded data removed]",
      "text/plain": [
       "<Figure size 640x480 with 1 Axes>"
      ]
     },
     "metadata": {},
     "output_type": "display_data"
    },
    {
     "data": {
      "image/png": "[encoded data removed]",
      "text/plain": [
       "<Figure size 640x480 with 1 Axes>"
      ]
     },
     "metadata": {},
     "output_type": "display_data"
    },
    {
     "data": {
      "image/png": "[encoded data removed]",
      "text/plain": [
       "<Figure size 640x480 with 1 Axes>"
      ]
     },
     "metadata": {},
     "output_type": "display_data"
    }
   ],
   "source": [
    "# Plotting\n",
    "\n",
    "# Mild COVID\n",
    "COV_BC_Smoker_NonSmoker_plot = MildCov_BC_Smoker_NonSmoker_DF.plot.bar(rot=65)\n",
    "plt.title(\"Mild-COVID with BC & Smoker VS. Mild-COVID with BC & Non-Smoker   [Smoking_Plot(4)]\")\n",
    "plt.xlabel(\"COV_BC_Status\")\n",
    "plt.ylabel(\"Number of Smokers_BC_COVID & Non-Smokers_BC_COVID\", fontsize=9)\n",
    "# Save the figure\n",
    "plt.savefig(\"Smoking_Output_Data/Smoking_Plot(4).png\")\n",
    "\n",
    "# Moderate COVID\n",
    "COV_BC_Smoker_NonSmoker_plot = ModerateCov_BC_Smoker_NonSmoker_DF.plot.bar(rot=65)\n",
    "plt.title(\"Moderate-COVID with BC & Smoker VS. Moderate-COVID with BC & Non-Smoker   [Smoking_Plot(5)]\")\n",
    "plt.xlabel(\"COV_BC_Status\")\n",
    "plt.ylabel(\"Number of Smokers_BC_COVID & Non-Smokers_BC_COVID\", fontsize=9)\n",
    "# Save the figure\n",
    "plt.savefig(\"Smoking_Output_Data/Smoking_Plot(5).png\")\n",
    "\n",
    "# Severe COVID\n",
    "COV_BC_Smoker_NonSmoker_plot = SevereCov_BC_Smoker_NonSmoker_DF.plot.bar(rot=65)\n",
    "plt.title(\"Severe-COVID with BC & Smoker VS. Severe-COVID with BC & Non-Smoker   [Smoking_Plot(6)]\")\n",
    "plt.xlabel(\"COV_BC_Status\")\n",
    "plt.ylabel(\"Number of Smokers_BC_COVID & Non-Smokers_BC_COVID\", fontsize=9)\n",
    "# Save the figure\n",
    "plt.savefig(\"Smoking_Output_Data/Smoking_Plot(6).png\", bbox_inch)"
   ]
  },
  {
   "cell_type": "code",
   "execution_count": null,
   "id": "4b9e8edb",
   "metadata": {},
   "outputs": [],
   "source": []
  }
 ],
 "metadata": {
  "kernelspec": {
   "display_name": "Python 3 (ipykernel)",
   "language": "python",
   "name": "python3"
  },
  "language_info": {
   "codemirror_mode": {
    "name": "ipython",
    "version": 3
   },
   "file_extension": ".py",
   "mimetype": "text/x-python",
   "name": "python",
   "nbconvert_exporter": "python",
   "pygments_lexer": "ipython3",
   "version": "3.11.5"
  }
 },
 "nbformat": 4,
 "nbformat_minor": 5
}
