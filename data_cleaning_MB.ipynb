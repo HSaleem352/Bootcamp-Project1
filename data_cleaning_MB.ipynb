{
 "cells": [
  {
   "cell_type": "code",
   "execution_count": 1,
   "id": "5786d539",
   "metadata": {},
   "outputs": [],
   "source": [
    "#!pip install pyreadr\n",
    "\n",
    "import pyreadr\n",
    "import pandas as pd\n",
    "import matplotlib.pyplot as plt\n",
    "import numpy as np"
   ]
  },
  {
   "cell_type": "code",
   "execution_count": 2,
   "id": "53c3fb1a",
   "metadata": {},
   "outputs": [],
   "source": [
    "raw_data = pyreadr.read_r('48_-_breast_cancer_data.RData')['out']\n",
    "# raw_data.to_csv('dataset.csv')"
   ]
  },
  {
   "cell_type": "code",
   "execution_count": 3,
   "id": "75f110da",
   "metadata": {},
   "outputs": [
    {
     "data": {
      "text/html": [
       "<div>\n",
       "<style scoped>\n",
       "    .dataframe tbody tr th:only-of-type {\n",
       "        vertical-align: middle;\n",
       "    }\n",
       "\n",
       "    .dataframe tbody tr th {\n",
       "        vertical-align: top;\n",
       "    }\n",
       "\n",
       "    .dataframe thead th {\n",
       "        text-align: right;\n",
       "    }\n",
       "</style>\n",
       "<table border=\"1\" class=\"dataframe\">\n",
       "  <thead>\n",
       "    <tr style=\"text-align: right;\">\n",
       "      <th></th>\n",
       "      <th>der_ordinal_v1a</th>\n",
       "      <th>der_days_fu</th>\n",
       "      <th>der_deadbinary</th>\n",
       "      <th>der_dead30</th>\n",
       "      <th>der_mv</th>\n",
       "      <th>der_ICU</th>\n",
       "      <th>der_hosp</th>\n",
       "      <th>der_AKI_comp</th>\n",
       "      <th>der_MOF_comp</th>\n",
       "      <th>der_coinfection_any</th>\n",
       "      <th>...</th>\n",
       "      <th>der_txline</th>\n",
       "      <th>der_heme</th>\n",
       "      <th>der_metastatic</th>\n",
       "      <th>der_met_bone</th>\n",
       "      <th>der_met_liver</th>\n",
       "      <th>der_met_lung_v2</th>\n",
       "      <th>der_age_trunc</th>\n",
       "      <th>der_CV_event_v2</th>\n",
       "      <th>der_pulm_event</th>\n",
       "      <th>der_GI_event</th>\n",
       "    </tr>\n",
       "  </thead>\n",
       "  <tbody>\n",
       "    <tr>\n",
       "      <th>0</th>\n",
       "      <td>0</td>\n",
       "      <td>30.0</td>\n",
       "      <td>No</td>\n",
       "      <td>No</td>\n",
       "      <td>No</td>\n",
       "      <td>No</td>\n",
       "      <td>No</td>\n",
       "      <td>No</td>\n",
       "      <td>No</td>\n",
       "      <td>No</td>\n",
       "      <td>...</td>\n",
       "      <td>First line</td>\n",
       "      <td>0</td>\n",
       "      <td>Missing/Unknown</td>\n",
       "      <td>NaN</td>\n",
       "      <td>NaN</td>\n",
       "      <td>NaN</td>\n",
       "      <td>58.0</td>\n",
       "      <td>No</td>\n",
       "      <td>Yes</td>\n",
       "      <td>No</td>\n",
       "    </tr>\n",
       "    <tr>\n",
       "      <th>1</th>\n",
       "      <td>0</td>\n",
       "      <td>180.0</td>\n",
       "      <td>No</td>\n",
       "      <td>No</td>\n",
       "      <td>No</td>\n",
       "      <td>No</td>\n",
       "      <td>No</td>\n",
       "      <td>No</td>\n",
       "      <td>No</td>\n",
       "      <td>NaN</td>\n",
       "      <td>...</td>\n",
       "      <td>Non-curative NOS</td>\n",
       "      <td>0</td>\n",
       "      <td>Yes</td>\n",
       "      <td>Yes</td>\n",
       "      <td>No</td>\n",
       "      <td>No</td>\n",
       "      <td>67.0</td>\n",
       "      <td>No</td>\n",
       "      <td>No</td>\n",
       "      <td>No</td>\n",
       "    </tr>\n",
       "    <tr>\n",
       "      <th>2</th>\n",
       "      <td>1</td>\n",
       "      <td>10.5</td>\n",
       "      <td>No</td>\n",
       "      <td>No</td>\n",
       "      <td>No</td>\n",
       "      <td>No</td>\n",
       "      <td>Yes</td>\n",
       "      <td>No</td>\n",
       "      <td>No</td>\n",
       "      <td>NaN</td>\n",
       "      <td>...</td>\n",
       "      <td>First line</td>\n",
       "      <td>0</td>\n",
       "      <td>No</td>\n",
       "      <td>No</td>\n",
       "      <td>No</td>\n",
       "      <td>No</td>\n",
       "      <td>42.0</td>\n",
       "      <td>No</td>\n",
       "      <td>No</td>\n",
       "      <td>No</td>\n",
       "    </tr>\n",
       "    <tr>\n",
       "      <th>3</th>\n",
       "      <td>1</td>\n",
       "      <td>180.0</td>\n",
       "      <td>No</td>\n",
       "      <td>No</td>\n",
       "      <td>No</td>\n",
       "      <td>No</td>\n",
       "      <td>Yes</td>\n",
       "      <td>No</td>\n",
       "      <td>No</td>\n",
       "      <td>No</td>\n",
       "      <td>...</td>\n",
       "      <td>Untreated in last 12 months</td>\n",
       "      <td>0</td>\n",
       "      <td>Yes</td>\n",
       "      <td>Yes</td>\n",
       "      <td>Yes</td>\n",
       "      <td>No</td>\n",
       "      <td>49.0</td>\n",
       "      <td>No</td>\n",
       "      <td>Yes</td>\n",
       "      <td>No</td>\n",
       "    </tr>\n",
       "    <tr>\n",
       "      <th>4</th>\n",
       "      <td>0</td>\n",
       "      <td>180.0</td>\n",
       "      <td>No</td>\n",
       "      <td>No</td>\n",
       "      <td>No</td>\n",
       "      <td>No</td>\n",
       "      <td>No</td>\n",
       "      <td>No</td>\n",
       "      <td>No</td>\n",
       "      <td>No</td>\n",
       "      <td>...</td>\n",
       "      <td>First line</td>\n",
       "      <td>0</td>\n",
       "      <td>No</td>\n",
       "      <td>No</td>\n",
       "      <td>No</td>\n",
       "      <td>No</td>\n",
       "      <td>47.0</td>\n",
       "      <td>No</td>\n",
       "      <td>No</td>\n",
       "      <td>No</td>\n",
       "    </tr>\n",
       "    <tr>\n",
       "      <th>...</th>\n",
       "      <td>...</td>\n",
       "      <td>...</td>\n",
       "      <td>...</td>\n",
       "      <td>...</td>\n",
       "      <td>...</td>\n",
       "      <td>...</td>\n",
       "      <td>...</td>\n",
       "      <td>...</td>\n",
       "      <td>...</td>\n",
       "      <td>...</td>\n",
       "      <td>...</td>\n",
       "      <td>...</td>\n",
       "      <td>...</td>\n",
       "      <td>...</td>\n",
       "      <td>...</td>\n",
       "      <td>...</td>\n",
       "      <td>...</td>\n",
       "      <td>...</td>\n",
       "      <td>...</td>\n",
       "      <td>...</td>\n",
       "      <td>...</td>\n",
       "    </tr>\n",
       "    <tr>\n",
       "      <th>1378</th>\n",
       "      <td>0</td>\n",
       "      <td>180.0</td>\n",
       "      <td>No</td>\n",
       "      <td>No</td>\n",
       "      <td>No</td>\n",
       "      <td>No</td>\n",
       "      <td>No</td>\n",
       "      <td>No</td>\n",
       "      <td>No</td>\n",
       "      <td>No</td>\n",
       "      <td>...</td>\n",
       "      <td>First line</td>\n",
       "      <td>0</td>\n",
       "      <td>No</td>\n",
       "      <td>No</td>\n",
       "      <td>No</td>\n",
       "      <td>No</td>\n",
       "      <td>58.0</td>\n",
       "      <td>No</td>\n",
       "      <td>No</td>\n",
       "      <td>No</td>\n",
       "    </tr>\n",
       "    <tr>\n",
       "      <th>1379</th>\n",
       "      <td>1</td>\n",
       "      <td>30.0</td>\n",
       "      <td>No</td>\n",
       "      <td>No</td>\n",
       "      <td>No</td>\n",
       "      <td>No</td>\n",
       "      <td>Yes</td>\n",
       "      <td>Yes</td>\n",
       "      <td>No</td>\n",
       "      <td>No</td>\n",
       "      <td>...</td>\n",
       "      <td>Curative NOS</td>\n",
       "      <td>0</td>\n",
       "      <td>Yes</td>\n",
       "      <td>No</td>\n",
       "      <td>No</td>\n",
       "      <td>No</td>\n",
       "      <td>73.0</td>\n",
       "      <td>No</td>\n",
       "      <td>No</td>\n",
       "      <td>No</td>\n",
       "    </tr>\n",
       "    <tr>\n",
       "      <th>1380</th>\n",
       "      <td>0</td>\n",
       "      <td>135.0</td>\n",
       "      <td>No</td>\n",
       "      <td>No</td>\n",
       "      <td>No</td>\n",
       "      <td>No</td>\n",
       "      <td>No</td>\n",
       "      <td>No</td>\n",
       "      <td>No</td>\n",
       "      <td>No</td>\n",
       "      <td>...</td>\n",
       "      <td>Untreated in last 12 months</td>\n",
       "      <td>0</td>\n",
       "      <td>No</td>\n",
       "      <td>No</td>\n",
       "      <td>No</td>\n",
       "      <td>No</td>\n",
       "      <td>60.0</td>\n",
       "      <td>No</td>\n",
       "      <td>No</td>\n",
       "      <td>No</td>\n",
       "    </tr>\n",
       "    <tr>\n",
       "      <th>1381</th>\n",
       "      <td>1</td>\n",
       "      <td>10.5</td>\n",
       "      <td>No</td>\n",
       "      <td>No</td>\n",
       "      <td>No</td>\n",
       "      <td>No</td>\n",
       "      <td>Yes</td>\n",
       "      <td>No</td>\n",
       "      <td>No</td>\n",
       "      <td>No</td>\n",
       "      <td>...</td>\n",
       "      <td>Untreated in last 12 months</td>\n",
       "      <td>0</td>\n",
       "      <td>No</td>\n",
       "      <td>No</td>\n",
       "      <td>No</td>\n",
       "      <td>No</td>\n",
       "      <td>60.0</td>\n",
       "      <td>No</td>\n",
       "      <td>Yes</td>\n",
       "      <td>No</td>\n",
       "    </tr>\n",
       "    <tr>\n",
       "      <th>1382</th>\n",
       "      <td>1</td>\n",
       "      <td>21.0</td>\n",
       "      <td>No</td>\n",
       "      <td>No</td>\n",
       "      <td>No</td>\n",
       "      <td>No</td>\n",
       "      <td>Yes</td>\n",
       "      <td>No</td>\n",
       "      <td>No</td>\n",
       "      <td>No</td>\n",
       "      <td>...</td>\n",
       "      <td>Second line or greater</td>\n",
       "      <td>0</td>\n",
       "      <td>Yes</td>\n",
       "      <td>Yes</td>\n",
       "      <td>No</td>\n",
       "      <td>No</td>\n",
       "      <td>68.0</td>\n",
       "      <td>No</td>\n",
       "      <td>No</td>\n",
       "      <td>Yes</td>\n",
       "    </tr>\n",
       "  </tbody>\n",
       "</table>\n",
       "<p>1383 rows × 54 columns</p>\n",
       "</div>"
      ],
      "text/plain": [
       "      der_ordinal_v1a  der_days_fu der_deadbinary der_dead30 der_mv der_ICU  \\\n",
       "0                   0         30.0             No         No     No      No   \n",
       "1                   0        180.0             No         No     No      No   \n",
       "2                   1         10.5             No         No     No      No   \n",
       "3                   1        180.0             No         No     No      No   \n",
       "4                   0        180.0             No         No     No      No   \n",
       "...               ...          ...            ...        ...    ...     ...   \n",
       "1378                0        180.0             No         No     No      No   \n",
       "1379                1         30.0             No         No     No      No   \n",
       "1380                0        135.0             No         No     No      No   \n",
       "1381                1         10.5             No         No     No      No   \n",
       "1382                1         21.0             No         No     No      No   \n",
       "\n",
       "     der_hosp der_AKI_comp der_MOF_comp der_coinfection_any  ...  \\\n",
       "0          No           No           No                  No  ...   \n",
       "1          No           No           No                 NaN  ...   \n",
       "2         Yes           No           No                 NaN  ...   \n",
       "3         Yes           No           No                  No  ...   \n",
       "4          No           No           No                  No  ...   \n",
       "...       ...          ...          ...                 ...  ...   \n",
       "1378       No           No           No                  No  ...   \n",
       "1379      Yes          Yes           No                  No  ...   \n",
       "1380       No           No           No                  No  ...   \n",
       "1381      Yes           No           No                  No  ...   \n",
       "1382      Yes           No           No                  No  ...   \n",
       "\n",
       "                       der_txline der_heme   der_metastatic der_met_bone  \\\n",
       "0                      First line        0  Missing/Unknown          NaN   \n",
       "1                Non-curative NOS        0              Yes          Yes   \n",
       "2                      First line        0               No           No   \n",
       "3     Untreated in last 12 months        0              Yes          Yes   \n",
       "4                      First line        0               No           No   \n",
       "...                           ...      ...              ...          ...   \n",
       "1378                   First line        0               No           No   \n",
       "1379                 Curative NOS        0              Yes           No   \n",
       "1380  Untreated in last 12 months        0               No           No   \n",
       "1381  Untreated in last 12 months        0               No           No   \n",
       "1382       Second line or greater        0              Yes          Yes   \n",
       "\n",
       "     der_met_liver der_met_lung_v2 der_age_trunc der_CV_event_v2  \\\n",
       "0              NaN             NaN          58.0              No   \n",
       "1               No              No          67.0              No   \n",
       "2               No              No          42.0              No   \n",
       "3              Yes              No          49.0              No   \n",
       "4               No              No          47.0              No   \n",
       "...            ...             ...           ...             ...   \n",
       "1378            No              No          58.0              No   \n",
       "1379            No              No          73.0              No   \n",
       "1380            No              No          60.0              No   \n",
       "1381            No              No          60.0              No   \n",
       "1382            No              No          68.0              No   \n",
       "\n",
       "     der_pulm_event der_GI_event  \n",
       "0               Yes           No  \n",
       "1                No           No  \n",
       "2                No           No  \n",
       "3               Yes           No  \n",
       "4                No           No  \n",
       "...             ...          ...  \n",
       "1378             No           No  \n",
       "1379             No           No  \n",
       "1380             No           No  \n",
       "1381            Yes           No  \n",
       "1382             No          Yes  \n",
       "\n",
       "[1383 rows x 54 columns]"
      ]
     },
     "execution_count": 3,
     "metadata": {},
     "output_type": "execute_result"
    }
   ],
   "source": [
    "raw_data"
   ]
  },
  {
   "cell_type": "markdown",
   "id": "e1bec836",
   "metadata": {},
   "source": [
    "# Does smoking have an effect on COVID severity on individuals with Breast Cancer?"
   ]
  },
  {
   "cell_type": "markdown",
   "id": "3fcd72c1",
   "metadata": {},
   "source": [
    "Hypothesis: Individuals who smoke and have Breast Cancer have a higher chance of having a severe COVID."
   ]
  },
  {
   "cell_type": "code",
   "execution_count": 4,
   "id": "ce80f4a4",
   "metadata": {},
   "outputs": [
    {
     "data": {
      "text/html": [
       "<div>\n",
       "<style scoped>\n",
       "    .dataframe tbody tr th:only-of-type {\n",
       "        vertical-align: middle;\n",
       "    }\n",
       "\n",
       "    .dataframe tbody tr th {\n",
       "        vertical-align: top;\n",
       "    }\n",
       "\n",
       "    .dataframe thead th {\n",
       "        text-align: right;\n",
       "    }\n",
       "</style>\n",
       "<table border=\"1\" class=\"dataframe\">\n",
       "  <thead>\n",
       "    <tr style=\"text-align: right;\">\n",
       "      <th></th>\n",
       "      <th>der_smoking2</th>\n",
       "    </tr>\n",
       "  </thead>\n",
       "  <tbody>\n",
       "    <tr>\n",
       "      <th>0</th>\n",
       "      <td>Current or Former</td>\n",
       "    </tr>\n",
       "    <tr>\n",
       "      <th>1</th>\n",
       "      <td>Never</td>\n",
       "    </tr>\n",
       "    <tr>\n",
       "      <th>2</th>\n",
       "      <td>Never</td>\n",
       "    </tr>\n",
       "    <tr>\n",
       "      <th>3</th>\n",
       "      <td>Never</td>\n",
       "    </tr>\n",
       "    <tr>\n",
       "      <th>4</th>\n",
       "      <td>Never</td>\n",
       "    </tr>\n",
       "    <tr>\n",
       "      <th>...</th>\n",
       "      <td>...</td>\n",
       "    </tr>\n",
       "    <tr>\n",
       "      <th>1378</th>\n",
       "      <td>Current or Former</td>\n",
       "    </tr>\n",
       "    <tr>\n",
       "      <th>1379</th>\n",
       "      <td>Never</td>\n",
       "    </tr>\n",
       "    <tr>\n",
       "      <th>1380</th>\n",
       "      <td>Never</td>\n",
       "    </tr>\n",
       "    <tr>\n",
       "      <th>1381</th>\n",
       "      <td>Never</td>\n",
       "    </tr>\n",
       "    <tr>\n",
       "      <th>1382</th>\n",
       "      <td>Never</td>\n",
       "    </tr>\n",
       "  </tbody>\n",
       "</table>\n",
       "<p>1383 rows × 1 columns</p>\n",
       "</div>"
      ],
      "text/plain": [
       "           der_smoking2\n",
       "0     Current or Former\n",
       "1                 Never\n",
       "2                 Never\n",
       "3                 Never\n",
       "4                 Never\n",
       "...                 ...\n",
       "1378  Current or Former\n",
       "1379              Never\n",
       "1380              Never\n",
       "1381              Never\n",
       "1382              Never\n",
       "\n",
       "[1383 rows x 1 columns]"
      ]
     },
     "execution_count": 4,
     "metadata": {},
     "output_type": "execute_result"
    }
   ],
   "source": [
    "# Creating a data frame for the smoking status\n",
    "Smoking_df = pd.DataFrame(raw_data[\"der_smoking2\"])\n",
    "Smoking_df"
   ]
  },
  {
   "cell_type": "code",
   "execution_count": 5,
   "id": "1f50d482",
   "metadata": {},
   "outputs": [
    {
     "data": {
      "text/html": [
       "<div>\n",
       "<style scoped>\n",
       "    .dataframe tbody tr th:only-of-type {\n",
       "        vertical-align: middle;\n",
       "    }\n",
       "\n",
       "    .dataframe tbody tr th {\n",
       "        vertical-align: top;\n",
       "    }\n",
       "\n",
       "    .dataframe thead th {\n",
       "        text-align: right;\n",
       "    }\n",
       "</style>\n",
       "<table border=\"1\" class=\"dataframe\">\n",
       "  <thead>\n",
       "    <tr style=\"text-align: right;\">\n",
       "      <th></th>\n",
       "      <th>der_smoking2</th>\n",
       "    </tr>\n",
       "  </thead>\n",
       "  <tbody>\n",
       "    <tr>\n",
       "      <th>0</th>\n",
       "      <td>Current or Former</td>\n",
       "    </tr>\n",
       "    <tr>\n",
       "      <th>1</th>\n",
       "      <td>Never</td>\n",
       "    </tr>\n",
       "    <tr>\n",
       "      <th>2</th>\n",
       "      <td>Never</td>\n",
       "    </tr>\n",
       "    <tr>\n",
       "      <th>3</th>\n",
       "      <td>Never</td>\n",
       "    </tr>\n",
       "    <tr>\n",
       "      <th>4</th>\n",
       "      <td>Never</td>\n",
       "    </tr>\n",
       "    <tr>\n",
       "      <th>...</th>\n",
       "      <td>...</td>\n",
       "    </tr>\n",
       "    <tr>\n",
       "      <th>1378</th>\n",
       "      <td>Current or Former</td>\n",
       "    </tr>\n",
       "    <tr>\n",
       "      <th>1379</th>\n",
       "      <td>Never</td>\n",
       "    </tr>\n",
       "    <tr>\n",
       "      <th>1380</th>\n",
       "      <td>Never</td>\n",
       "    </tr>\n",
       "    <tr>\n",
       "      <th>1381</th>\n",
       "      <td>Never</td>\n",
       "    </tr>\n",
       "    <tr>\n",
       "      <th>1382</th>\n",
       "      <td>Never</td>\n",
       "    </tr>\n",
       "  </tbody>\n",
       "</table>\n",
       "<p>1353 rows × 1 columns</p>\n",
       "</div>"
      ],
      "text/plain": [
       "           der_smoking2\n",
       "0     Current or Former\n",
       "1                 Never\n",
       "2                 Never\n",
       "3                 Never\n",
       "4                 Never\n",
       "...                 ...\n",
       "1378  Current or Former\n",
       "1379              Never\n",
       "1380              Never\n",
       "1381              Never\n",
       "1382              Never\n",
       "\n",
       "[1353 rows x 1 columns]"
      ]
     },
     "execution_count": 5,
     "metadata": {},
     "output_type": "execute_result"
    }
   ],
   "source": [
    "# Cleaning the empty cells \n",
    "Smoking = Smoking_df.dropna()\n",
    "Smoking"
   ]
  },
  {
   "cell_type": "markdown",
   "id": "29caa2cb",
   "metadata": {},
   "source": [
    "## Overall Smoking Status"
   ]
  },
  {
   "cell_type": "code",
   "execution_count": 6,
   "id": "1789e192",
   "metadata": {},
   "outputs": [
    {
     "name": "stdout",
     "output_type": "stream",
     "text": [
      "911 individuas has never smoked in their life\n",
      "442 individuas are a current smoker or used to smoke\n",
      "No unknown smoking status was found\n",
      "[911, 442]\n"
     ]
    }
   ],
   "source": [
    "# Creating an empty list to hold the number of each smoking status\n",
    "Status_Count = []\n",
    "\n",
    "# Number of individuals who never smoked\n",
    "NonSmokers_Count = Smoking.value_counts()[\"Never\"]\n",
    "print(f\"{NonSmokers_Count} individuas has never smoked in their life\")\n",
    "Status_Count.append(NonSmokers_Count)\n",
    "\n",
    "# Number of individuals who are a current smoker or used to smoke.\n",
    "Smokers_Count = Smoking.value_counts()[\"Current or Former\"]\n",
    "print(f\"{Smokers_Count} individuas are a current smoker or used to smoke\")\n",
    "Status_Count.append(Smokers_Count)\n",
    "\n",
    "# Number of unknown smoking status.\n",
    "try:\n",
    "    Unknown_Count = Smoking.value_counts()[\"Unknown\"]\n",
    "    print(f\"{Unknown_Count} individuas have an unknown smoking status\")\n",
    "    Status_Count.append(Unknown_Count)\n",
    "except:\n",
    "    print(\"No unknown smoking status was found\")\n",
    "\n",
    "print(Status_Count)"
   ]
  },
  {
   "cell_type": "code",
   "execution_count": 7,
   "id": "5df7ef7e",
   "metadata": {},
   "outputs": [
    {
     "data": {
      "image/png": "[encoded data removed]",
      "text/plain": [
       "<Figure size 640x480 with 1 Axes>"
      ]
     },
     "metadata": {},
     "output_type": "display_data"
    },
    {
     "data": {
      "text/plain": [
       "<Figure size 640x480 with 0 Axes>"
      ]
     },
     "metadata": {},
     "output_type": "display_data"
    }
   ],
   "source": [
    "# Creating a plot to compare the amount of smokers vs. non-smokers\n",
    "Smoking_Status = [\"Never\",\"Current or Former\"]\n",
    "x_axis = np.arange(len(Status_Count))\n",
    "Overall_Smoking = plt.bar(x_axis, Status_Count, align=\"center\")\n",
    "tick_locations = [value for value in x_axis]\n",
    "plt.xticks(tick_locations, Smoking_Status)\n",
    "plt.title(\"Overall Smoking Status Count    [Smoking_Plot(1)]\")\n",
    "plt.xlabel(\"Smoking_Status\")\n",
    "plt.ylabel(\"Number of Smokers & Non-Smokers\")\n",
    "Overall_Smoking[0].set_color('green')\n",
    "Overall_Smoking[1].set_color('red')\n",
    "plt.show()\n",
    "# Save the figure\n",
    "plt.savefig(\"Smoking_Output_Data/Smoking_Plot(1).png\")"
   ]
  },
  {
   "cell_type": "markdown",
   "id": "709b718c",
   "metadata": {},
   "source": [
    "## Breast Cancer Status at Time of COVID Diagnosis VS. Smoking Status"
   ]
  },
  {
   "cell_type": "code",
   "execution_count": 8,
   "id": "d983e064",
   "metadata": {},
   "outputs": [
    {
     "data": {
      "text/html": [
       "<div>\n",
       "<style scoped>\n",
       "    .dataframe tbody tr th:only-of-type {\n",
       "        vertical-align: middle;\n",
       "    }\n",
       "\n",
       "    .dataframe tbody tr th {\n",
       "        vertical-align: top;\n",
       "    }\n",
       "\n",
       "    .dataframe thead th {\n",
       "        text-align: right;\n",
       "    }\n",
       "</style>\n",
       "<table border=\"1\" class=\"dataframe\">\n",
       "  <thead>\n",
       "    <tr style=\"text-align: right;\">\n",
       "      <th></th>\n",
       "      <th>der_smoking2</th>\n",
       "      <th>der_cancer_status_v4</th>\n",
       "    </tr>\n",
       "  </thead>\n",
       "  <tbody>\n",
       "    <tr>\n",
       "      <th>0</th>\n",
       "      <td>Current or Former</td>\n",
       "      <td>Active and responding</td>\n",
       "    </tr>\n",
       "    <tr>\n",
       "      <th>1</th>\n",
       "      <td>Never</td>\n",
       "      <td>Active and stable</td>\n",
       "    </tr>\n",
       "    <tr>\n",
       "      <th>2</th>\n",
       "      <td>Never</td>\n",
       "      <td>NaN</td>\n",
       "    </tr>\n",
       "    <tr>\n",
       "      <th>3</th>\n",
       "      <td>Never</td>\n",
       "      <td>Unknown</td>\n",
       "    </tr>\n",
       "    <tr>\n",
       "      <th>4</th>\n",
       "      <td>Never</td>\n",
       "      <td>Active and responding</td>\n",
       "    </tr>\n",
       "    <tr>\n",
       "      <th>...</th>\n",
       "      <td>...</td>\n",
       "      <td>...</td>\n",
       "    </tr>\n",
       "    <tr>\n",
       "      <th>1378</th>\n",
       "      <td>Current or Former</td>\n",
       "      <td>Active and responding</td>\n",
       "    </tr>\n",
       "    <tr>\n",
       "      <th>1379</th>\n",
       "      <td>Never</td>\n",
       "      <td>Active and responding</td>\n",
       "    </tr>\n",
       "    <tr>\n",
       "      <th>1380</th>\n",
       "      <td>Never</td>\n",
       "      <td>Remission or no evidence of disease, &gt;5 years</td>\n",
       "    </tr>\n",
       "    <tr>\n",
       "      <th>1381</th>\n",
       "      <td>Never</td>\n",
       "      <td>Unknown</td>\n",
       "    </tr>\n",
       "    <tr>\n",
       "      <th>1382</th>\n",
       "      <td>Never</td>\n",
       "      <td>Active and stable</td>\n",
       "    </tr>\n",
       "  </tbody>\n",
       "</table>\n",
       "<p>1383 rows × 2 columns</p>\n",
       "</div>"
      ],
      "text/plain": [
       "           der_smoking2                           der_cancer_status_v4\n",
       "0     Current or Former                          Active and responding\n",
       "1                 Never                              Active and stable\n",
       "2                 Never                                            NaN\n",
       "3                 Never                                        Unknown\n",
       "4                 Never                          Active and responding\n",
       "...                 ...                                            ...\n",
       "1378  Current or Former                          Active and responding\n",
       "1379              Never                          Active and responding\n",
       "1380              Never  Remission or no evidence of disease, >5 years\n",
       "1381              Never                                        Unknown\n",
       "1382              Never                              Active and stable\n",
       "\n",
       "[1383 rows x 2 columns]"
      ]
     },
     "execution_count": 8,
     "metadata": {},
     "output_type": "execute_result"
    }
   ],
   "source": [
    "# Creating a data frame for the cancer status and the smoking status\n",
    "Cancer_Smoking_df = pd.DataFrame(raw_data[[\"der_smoking2\", \"der_cancer_status_v4\"]])\n",
    "Cancer_Smoking_df"
   ]
  },
  {
   "cell_type": "code",
   "execution_count": 9,
   "id": "f9151cfb",
   "metadata": {},
   "outputs": [
    {
     "data": {
      "text/html": [
       "<div>\n",
       "<style scoped>\n",
       "    .dataframe tbody tr th:only-of-type {\n",
       "        vertical-align: middle;\n",
       "    }\n",
       "\n",
       "    .dataframe tbody tr th {\n",
       "        vertical-align: top;\n",
       "    }\n",
       "\n",
       "    .dataframe thead th {\n",
       "        text-align: right;\n",
       "    }\n",
       "</style>\n",
       "<table border=\"1\" class=\"dataframe\">\n",
       "  <thead>\n",
       "    <tr style=\"text-align: right;\">\n",
       "      <th></th>\n",
       "      <th>der_smoking2</th>\n",
       "      <th>der_cancer_status_v4</th>\n",
       "    </tr>\n",
       "  </thead>\n",
       "  <tbody>\n",
       "    <tr>\n",
       "      <th>519</th>\n",
       "      <td>Never</td>\n",
       "      <td>Remission or no evidence of disease, &lt;5 years</td>\n",
       "    </tr>\n",
       "    <tr>\n",
       "      <th>228</th>\n",
       "      <td>Never</td>\n",
       "      <td>Remission or no evidence of disease, &lt;5 years</td>\n",
       "    </tr>\n",
       "    <tr>\n",
       "      <th>1198</th>\n",
       "      <td>Never</td>\n",
       "      <td>Active and stable</td>\n",
       "    </tr>\n",
       "    <tr>\n",
       "      <th>1197</th>\n",
       "      <td>Current or Former</td>\n",
       "      <td>Unknown</td>\n",
       "    </tr>\n",
       "    <tr>\n",
       "      <th>114</th>\n",
       "      <td>Current or Former</td>\n",
       "      <td>Remission or no evidence of disease, &lt;5 years</td>\n",
       "    </tr>\n",
       "    <tr>\n",
       "      <th>896</th>\n",
       "      <td>Never</td>\n",
       "      <td>Remission or no evidence of disease, &gt;5 years</td>\n",
       "    </tr>\n",
       "    <tr>\n",
       "      <th>40</th>\n",
       "      <td>Never</td>\n",
       "      <td>Remission or no evidence of disease, &gt;5 years</td>\n",
       "    </tr>\n",
       "    <tr>\n",
       "      <th>517</th>\n",
       "      <td>Never</td>\n",
       "      <td>Active and stable</td>\n",
       "    </tr>\n",
       "    <tr>\n",
       "      <th>1047</th>\n",
       "      <td>Current or Former</td>\n",
       "      <td>Unknown</td>\n",
       "    </tr>\n",
       "    <tr>\n",
       "      <th>975</th>\n",
       "      <td>Never</td>\n",
       "      <td>Remission or no evidence of disease, &lt;5 years</td>\n",
       "    </tr>\n",
       "    <tr>\n",
       "      <th>995</th>\n",
       "      <td>Never</td>\n",
       "      <td>Active and progressing</td>\n",
       "    </tr>\n",
       "    <tr>\n",
       "      <th>542</th>\n",
       "      <td>Never</td>\n",
       "      <td>Active and responding</td>\n",
       "    </tr>\n",
       "    <tr>\n",
       "      <th>815</th>\n",
       "      <td>Current or Former</td>\n",
       "      <td>Remission or no evidence of disease, &lt;5 years</td>\n",
       "    </tr>\n",
       "    <tr>\n",
       "      <th>428</th>\n",
       "      <td>Never</td>\n",
       "      <td>Remission or no evidence of disease, &gt;5 years</td>\n",
       "    </tr>\n",
       "    <tr>\n",
       "      <th>12</th>\n",
       "      <td>Current or Former</td>\n",
       "      <td>Active and progressing</td>\n",
       "    </tr>\n",
       "    <tr>\n",
       "      <th>86</th>\n",
       "      <td>Never</td>\n",
       "      <td>Active and responding</td>\n",
       "    </tr>\n",
       "    <tr>\n",
       "      <th>128</th>\n",
       "      <td>Current or Former</td>\n",
       "      <td>Remission or no evidence of disease, &lt;5 years</td>\n",
       "    </tr>\n",
       "    <tr>\n",
       "      <th>217</th>\n",
       "      <td>Current or Former</td>\n",
       "      <td>Active and stable</td>\n",
       "    </tr>\n",
       "    <tr>\n",
       "      <th>948</th>\n",
       "      <td>Never</td>\n",
       "      <td>Remission or no evidence of disease, &lt;5 years</td>\n",
       "    </tr>\n",
       "    <tr>\n",
       "      <th>1048</th>\n",
       "      <td>Never</td>\n",
       "      <td>Remission or no evidence of disease, &lt;5 years</td>\n",
       "    </tr>\n",
       "  </tbody>\n",
       "</table>\n",
       "</div>"
      ],
      "text/plain": [
       "           der_smoking2                           der_cancer_status_v4\n",
       "519               Never  Remission or no evidence of disease, <5 years\n",
       "228               Never  Remission or no evidence of disease, <5 years\n",
       "1198              Never                              Active and stable\n",
       "1197  Current or Former                                        Unknown\n",
       "114   Current or Former  Remission or no evidence of disease, <5 years\n",
       "896               Never  Remission or no evidence of disease, >5 years\n",
       "40                Never  Remission or no evidence of disease, >5 years\n",
       "517               Never                              Active and stable\n",
       "1047  Current or Former                                        Unknown\n",
       "975               Never  Remission or no evidence of disease, <5 years\n",
       "995               Never                         Active and progressing\n",
       "542               Never                          Active and responding\n",
       "815   Current or Former  Remission or no evidence of disease, <5 years\n",
       "428               Never  Remission or no evidence of disease, >5 years\n",
       "12    Current or Former                         Active and progressing\n",
       "86                Never                          Active and responding\n",
       "128   Current or Former  Remission or no evidence of disease, <5 years\n",
       "217   Current or Former                              Active and stable\n",
       "948               Never  Remission or no evidence of disease, <5 years\n",
       "1048              Never  Remission or no evidence of disease, <5 years"
      ]
     },
     "execution_count": 9,
     "metadata": {},
     "output_type": "execute_result"
    }
   ],
   "source": [
    "# Cleaning the empty cells \n",
    "Cancer_Smoking = Cancer_Smoking_df.dropna()\n",
    "Cancer_Smoking.sample(20)"
   ]
  },
  {
   "cell_type": "code",
   "execution_count": 10,
   "id": "0d3d9525",
   "metadata": {},
   "outputs": [],
   "source": [
    "# Creating an empty list to hold the values for smoker individuals with different breast cancer status\n",
    "Smoker_BC_Count = []"
   ]
  },
  {
   "cell_type": "code",
   "execution_count": 11,
   "id": "55645535",
   "metadata": {},
   "outputs": [
    {
     "name": "stdout",
     "output_type": "stream",
     "text": [
      "[54]\n"
     ]
    }
   ],
   "source": [
    "# Individuals who are smokers and their cancer status is Active and responding\n",
    "NonSmoker_A_Responding = Cancer_Smoking_df.loc[(Cancer_Smoking_df[\"der_smoking2\"] == \"Current or Former\") & (Cancer_Smoking_df[\"der_cancer_status_v4\"] == \"Active and responding\")]\n",
    "NonSmoker_A_Responding_Count = len(NonSmoker_A_Responding)\n",
    "Smoker_BC_Count.append(NonSmoker_A_Responding_Count)\n",
    "print(Smoker_BC_Count)"
   ]
  },
  {
   "cell_type": "code",
   "execution_count": 12,
   "id": "b029aef7",
   "metadata": {},
   "outputs": [
    {
     "name": "stdout",
     "output_type": "stream",
     "text": [
      "[54, 53]\n"
     ]
    }
   ],
   "source": [
    "# Individuals who are smokers and their cancer status is Active and stable\n",
    "NonSmoker_A_Stable = Cancer_Smoking_df.loc[(Cancer_Smoking_df[\"der_smoking2\"] == \"Current or Former\") & (Cancer_Smoking_df[\"der_cancer_status_v4\"] == \"Active and stable\")]\n",
    "NonSmoker_A_Stable_Count = len(NonSmoker_A_Stable)\n",
    "Smoker_BC_Count.append(NonSmoker_A_Stable_Count)\n",
    "print(Smoker_BC_Count)"
   ]
  },
  {
   "cell_type": "code",
   "execution_count": 13,
   "id": "f47b6bbd",
   "metadata": {
    "scrolled": true
   },
   "outputs": [
    {
     "name": "stdout",
     "output_type": "stream",
     "text": [
      "[54, 53, 33]\n"
     ]
    }
   ],
   "source": [
    "# Individuals who are smokers and their cancer status is Active and progressing\n",
    "NonSmoker_A_Progressing = Cancer_Smoking_df.loc[(Cancer_Smoking_df[\"der_smoking2\"] == \"Current or Former\") & (Cancer_Smoking_df[\"der_cancer_status_v4\"] == \"Active and progressing\")]\n",
    "NonSmoker_A_Progressing = len(NonSmoker_A_Progressing)\n",
    "Smoker_BC_Count.append(NonSmoker_A_Progressing)\n",
    "print(Smoker_BC_Count)"
   ]
  },
  {
   "cell_type": "code",
   "execution_count": 14,
   "id": "779c43eb",
   "metadata": {},
   "outputs": [],
   "source": [
    "# Creating an empty list to hold the values for non-smoker individuals with different breast cancer status\n",
    "NonSmoker_BC_Count = []"
   ]
  },
  {
   "cell_type": "code",
   "execution_count": 15,
   "id": "ae078d3c",
   "metadata": {},
   "outputs": [
    {
     "name": "stdout",
     "output_type": "stream",
     "text": [
      "[115]\n"
     ]
    }
   ],
   "source": [
    "# Individuals who are non-smokers and their cancer status is Active and responding\n",
    "NonSmoker_A_Responding = Cancer_Smoking_df.loc[(Cancer_Smoking_df[\"der_smoking2\"] == \"Never\") & (Cancer_Smoking_df[\"der_cancer_status_v4\"] == \"Active and responding\")]\n",
    "NonSmoker_A_Responding_Count = len(NonSmoker_A_Responding)\n",
    "NonSmoker_BC_Count.append(NonSmoker_A_Responding_Count)\n",
    "print(NonSmoker_BC_Count)"
   ]
  },
  {
   "cell_type": "code",
   "execution_count": 16,
   "id": "d9ffdaff",
   "metadata": {},
   "outputs": [
    {
     "name": "stdout",
     "output_type": "stream",
     "text": [
      "[115, 110]\n"
     ]
    }
   ],
   "source": [
    "# Individuals who are non-smokers and their cancer status is Active and stable\n",
    "NonSmoker_A_Stable = Cancer_Smoking_df.loc[(Cancer_Smoking_df[\"der_smoking2\"] == \"Never\") & (Cancer_Smoking_df[\"der_cancer_status_v4\"] == \"Active and stable\")]\n",
    "NonSmoker_A_Stable_Count = len(NonSmoker_A_Stable)\n",
    "NonSmoker_BC_Count.append(NonSmoker_A_Stable_Count)\n",
    "print(NonSmoker_BC_Count)"
   ]
  },
  {
   "cell_type": "code",
   "execution_count": 17,
   "id": "50a42258",
   "metadata": {},
   "outputs": [
    {
     "name": "stdout",
     "output_type": "stream",
     "text": [
      "[115, 110, 64]\n"
     ]
    }
   ],
   "source": [
    "# Individuals who are non-smokers and their cancer status is Active and progressing\n",
    "NonSmoker_A_Progressing = Cancer_Smoking_df.loc[(Cancer_Smoking_df[\"der_smoking2\"] == \"Never\") & (Cancer_Smoking_df[\"der_cancer_status_v4\"] == \"Active and progressing\")]\n",
    "NonSmoker_A_Progressing = len(NonSmoker_A_Progressing)\n",
    "NonSmoker_BC_Count.append(NonSmoker_A_Progressing)\n",
    "print(NonSmoker_BC_Count)"
   ]
  },
  {
   "cell_type": "code",
   "execution_count": 18,
   "id": "0991d6ac",
   "metadata": {},
   "outputs": [
    {
     "data": {
      "text/html": [
       "<div>\n",
       "<style scoped>\n",
       "    .dataframe tbody tr th:only-of-type {\n",
       "        vertical-align: middle;\n",
       "    }\n",
       "\n",
       "    .dataframe tbody tr th {\n",
       "        vertical-align: top;\n",
       "    }\n",
       "\n",
       "    .dataframe thead th {\n",
       "        text-align: right;\n",
       "    }\n",
       "</style>\n",
       "<table border=\"1\" class=\"dataframe\">\n",
       "  <thead>\n",
       "    <tr style=\"text-align: right;\">\n",
       "      <th></th>\n",
       "      <th>Smoker_BC_Count</th>\n",
       "      <th>NonSmoker_BC_Count</th>\n",
       "    </tr>\n",
       "  </thead>\n",
       "  <tbody>\n",
       "    <tr>\n",
       "      <th>Active and responding</th>\n",
       "      <td>54</td>\n",
       "      <td>115</td>\n",
       "    </tr>\n",
       "    <tr>\n",
       "      <th>Active and stable</th>\n",
       "      <td>53</td>\n",
       "      <td>110</td>\n",
       "    </tr>\n",
       "    <tr>\n",
       "      <th>Active and progressing</th>\n",
       "      <td>33</td>\n",
       "      <td>64</td>\n",
       "    </tr>\n",
       "  </tbody>\n",
       "</table>\n",
       "</div>"
      ],
      "text/plain": [
       "                        Smoker_BC_Count  NonSmoker_BC_Count\n",
       "Active and responding                54                 115\n",
       "Active and stable                    53                 110\n",
       "Active and progressing               33                  64"
      ]
     },
     "execution_count": 18,
     "metadata": {},
     "output_type": "execute_result"
    }
   ],
   "source": [
    "# Creating a data frame which includes both the Smoker_BC_Count & NonSmoker_BC_Count for comparison as well as plotting.\n",
    "BC_Status = [\"Active and responding\", \"Active and stable\" , \"Active and progressing\"]\n",
    "Smoker_NonSmoker_BC_DF = pd.DataFrame (\n",
    "    {\n",
    "        \"Smoker_BC_Count\" : Smoker_BC_Count,\n",
    "        \"NonSmoker_BC_Count\" : NonSmoker_BC_Count},\n",
    "        index = BC_Status\n",
    "    \n",
    ")\n",
    "\n",
    "Smoker_NonSmoker_BC_DF"
   ]
  },
  {
   "cell_type": "code",
   "execution_count": 19,
   "id": "e629fd42",
   "metadata": {},
   "outputs": [
    {
     "data": {
      "image/png": "[encoded data removed]",
      "text/plain": [
       "<Figure size 640x480 with 1 Axes>"
      ]
     },
     "metadata": {},
     "output_type": "display_data"
    }
   ],
   "source": [
    "# Plotting\n",
    "Smoker_NonSmoker_BC_plot = Smoker_NonSmoker_BC_DF.plot.bar(rot=0)\n",
    "plt.title(\"Smoker & BC VS. Non-Smoker & BC    [Smoking_Plot(2)]\")\n",
    "plt.xlabel(\"BC_Status\")\n",
    "plt.ylabel(\"Number of Smokers_BC & Non-Smokers_BC\")\n",
    "# Save the figure\n",
    "plt.savefig(\"Smoking_Output_Data/Smoking_Plot(2).png\")"
   ]
  },
  {
   "cell_type": "markdown",
   "id": "fcda26ee",
   "metadata": {},
   "source": [
    "## Severity of COVID VS. Smoking Status"
   ]
  },
  {
   "cell_type": "code",
   "execution_count": 20,
   "id": "47bf4cad",
   "metadata": {},
   "outputs": [
    {
     "data": {
      "text/html": [
       "<div>\n",
       "<style scoped>\n",
       "    .dataframe tbody tr th:only-of-type {\n",
       "        vertical-align: middle;\n",
       "    }\n",
       "\n",
       "    .dataframe tbody tr th {\n",
       "        vertical-align: top;\n",
       "    }\n",
       "\n",
       "    .dataframe thead th {\n",
       "        text-align: right;\n",
       "    }\n",
       "</style>\n",
       "<table border=\"1\" class=\"dataframe\">\n",
       "  <thead>\n",
       "    <tr style=\"text-align: right;\">\n",
       "      <th></th>\n",
       "      <th>der_smoking2</th>\n",
       "      <th>severity_of_covid_19_v2</th>\n",
       "    </tr>\n",
       "  </thead>\n",
       "  <tbody>\n",
       "    <tr>\n",
       "      <th>0</th>\n",
       "      <td>Current or Former</td>\n",
       "      <td>Severe</td>\n",
       "    </tr>\n",
       "    <tr>\n",
       "      <th>1</th>\n",
       "      <td>Never</td>\n",
       "      <td>Mild</td>\n",
       "    </tr>\n",
       "    <tr>\n",
       "      <th>2</th>\n",
       "      <td>Never</td>\n",
       "      <td>Moderate</td>\n",
       "    </tr>\n",
       "    <tr>\n",
       "      <th>3</th>\n",
       "      <td>Never</td>\n",
       "      <td>Moderate</td>\n",
       "    </tr>\n",
       "    <tr>\n",
       "      <th>4</th>\n",
       "      <td>Never</td>\n",
       "      <td>Mild</td>\n",
       "    </tr>\n",
       "    <tr>\n",
       "      <th>...</th>\n",
       "      <td>...</td>\n",
       "      <td>...</td>\n",
       "    </tr>\n",
       "    <tr>\n",
       "      <th>1378</th>\n",
       "      <td>Current or Former</td>\n",
       "      <td>Mild</td>\n",
       "    </tr>\n",
       "    <tr>\n",
       "      <th>1379</th>\n",
       "      <td>Never</td>\n",
       "      <td>Moderate</td>\n",
       "    </tr>\n",
       "    <tr>\n",
       "      <th>1380</th>\n",
       "      <td>Never</td>\n",
       "      <td>Mild</td>\n",
       "    </tr>\n",
       "    <tr>\n",
       "      <th>1381</th>\n",
       "      <td>Never</td>\n",
       "      <td>Moderate</td>\n",
       "    </tr>\n",
       "    <tr>\n",
       "      <th>1382</th>\n",
       "      <td>Never</td>\n",
       "      <td>Moderate</td>\n",
       "    </tr>\n",
       "  </tbody>\n",
       "</table>\n",
       "<p>1383 rows × 2 columns</p>\n",
       "</div>"
      ],
      "text/plain": [
       "           der_smoking2 severity_of_covid_19_v2\n",
       "0     Current or Former                  Severe\n",
       "1                 Never                    Mild\n",
       "2                 Never                Moderate\n",
       "3                 Never                Moderate\n",
       "4                 Never                    Mild\n",
       "...                 ...                     ...\n",
       "1378  Current or Former                    Mild\n",
       "1379              Never                Moderate\n",
       "1380              Never                    Mild\n",
       "1381              Never                Moderate\n",
       "1382              Never                Moderate\n",
       "\n",
       "[1383 rows x 2 columns]"
      ]
     },
     "execution_count": 20,
     "metadata": {},
     "output_type": "execute_result"
    }
   ],
   "source": [
    "# Creating a data frame for the Severity of COVID and the smoking status\n",
    "Covid_Smoking_df = pd.DataFrame(raw_data[[\"der_smoking2\", \"severity_of_covid_19_v2\"]])\n",
    "Covid_Smoking_df"
   ]
  },
  {
   "cell_type": "code",
   "execution_count": 21,
   "id": "2913f481",
   "metadata": {},
   "outputs": [
    {
     "data": {
      "text/html": [
       "<div>\n",
       "<style scoped>\n",
       "    .dataframe tbody tr th:only-of-type {\n",
       "        vertical-align: middle;\n",
       "    }\n",
       "\n",
       "    .dataframe tbody tr th {\n",
       "        vertical-align: top;\n",
       "    }\n",
       "\n",
       "    .dataframe thead th {\n",
       "        text-align: right;\n",
       "    }\n",
       "</style>\n",
       "<table border=\"1\" class=\"dataframe\">\n",
       "  <thead>\n",
       "    <tr style=\"text-align: right;\">\n",
       "      <th></th>\n",
       "      <th>der_smoking2</th>\n",
       "      <th>severity_of_covid_19_v2</th>\n",
       "    </tr>\n",
       "  </thead>\n",
       "  <tbody>\n",
       "    <tr>\n",
       "      <th>1005</th>\n",
       "      <td>Never</td>\n",
       "      <td>Mild</td>\n",
       "    </tr>\n",
       "    <tr>\n",
       "      <th>392</th>\n",
       "      <td>Never</td>\n",
       "      <td>Mild</td>\n",
       "    </tr>\n",
       "    <tr>\n",
       "      <th>790</th>\n",
       "      <td>Never</td>\n",
       "      <td>Mild</td>\n",
       "    </tr>\n",
       "    <tr>\n",
       "      <th>447</th>\n",
       "      <td>Never</td>\n",
       "      <td>Mild</td>\n",
       "    </tr>\n",
       "    <tr>\n",
       "      <th>315</th>\n",
       "      <td>Never</td>\n",
       "      <td>Moderate</td>\n",
       "    </tr>\n",
       "    <tr>\n",
       "      <th>1157</th>\n",
       "      <td>Never</td>\n",
       "      <td>Mild</td>\n",
       "    </tr>\n",
       "    <tr>\n",
       "      <th>330</th>\n",
       "      <td>Never</td>\n",
       "      <td>Mild</td>\n",
       "    </tr>\n",
       "    <tr>\n",
       "      <th>1271</th>\n",
       "      <td>Current or Former</td>\n",
       "      <td>Mild</td>\n",
       "    </tr>\n",
       "    <tr>\n",
       "      <th>994</th>\n",
       "      <td>Never</td>\n",
       "      <td>Mild</td>\n",
       "    </tr>\n",
       "    <tr>\n",
       "      <th>235</th>\n",
       "      <td>Current or Former</td>\n",
       "      <td>Mild</td>\n",
       "    </tr>\n",
       "    <tr>\n",
       "      <th>726</th>\n",
       "      <td>Never</td>\n",
       "      <td>Mild</td>\n",
       "    </tr>\n",
       "    <tr>\n",
       "      <th>105</th>\n",
       "      <td>Current or Former</td>\n",
       "      <td>Mild</td>\n",
       "    </tr>\n",
       "    <tr>\n",
       "      <th>780</th>\n",
       "      <td>Never</td>\n",
       "      <td>Severe</td>\n",
       "    </tr>\n",
       "    <tr>\n",
       "      <th>457</th>\n",
       "      <td>Never</td>\n",
       "      <td>Mild</td>\n",
       "    </tr>\n",
       "    <tr>\n",
       "      <th>853</th>\n",
       "      <td>Current or Former</td>\n",
       "      <td>Mild</td>\n",
       "    </tr>\n",
       "    <tr>\n",
       "      <th>1252</th>\n",
       "      <td>Current or Former</td>\n",
       "      <td>Mild</td>\n",
       "    </tr>\n",
       "    <tr>\n",
       "      <th>1371</th>\n",
       "      <td>Never</td>\n",
       "      <td>Mild</td>\n",
       "    </tr>\n",
       "    <tr>\n",
       "      <th>91</th>\n",
       "      <td>Never</td>\n",
       "      <td>Mild</td>\n",
       "    </tr>\n",
       "    <tr>\n",
       "      <th>267</th>\n",
       "      <td>Never</td>\n",
       "      <td>Mild</td>\n",
       "    </tr>\n",
       "    <tr>\n",
       "      <th>1345</th>\n",
       "      <td>Current or Former</td>\n",
       "      <td>Mild</td>\n",
       "    </tr>\n",
       "  </tbody>\n",
       "</table>\n",
       "</div>"
      ],
      "text/plain": [
       "           der_smoking2 severity_of_covid_19_v2\n",
       "1005              Never                    Mild\n",
       "392               Never                    Mild\n",
       "790               Never                    Mild\n",
       "447               Never                    Mild\n",
       "315               Never                Moderate\n",
       "1157              Never                    Mild\n",
       "330               Never                    Mild\n",
       "1271  Current or Former                    Mild\n",
       "994               Never                    Mild\n",
       "235   Current or Former                    Mild\n",
       "726               Never                    Mild\n",
       "105   Current or Former                    Mild\n",
       "780               Never                  Severe\n",
       "457               Never                    Mild\n",
       "853   Current or Former                    Mild\n",
       "1252  Current or Former                    Mild\n",
       "1371              Never                    Mild\n",
       "91                Never                    Mild\n",
       "267               Never                    Mild\n",
       "1345  Current or Former                    Mild"
      ]
     },
     "execution_count": 21,
     "metadata": {},
     "output_type": "execute_result"
    }
   ],
   "source": [
    "# Cleaning the empty cells \n",
    "Covid_Smoking_df = Covid_Smoking_df.dropna()\n",
    "Covid_Smoking_df.sample(20)"
   ]
  },
  {
   "cell_type": "code",
   "execution_count": 22,
   "id": "4458bbec",
   "metadata": {},
   "outputs": [],
   "source": [
    "# Creating an empty list to hold the values for smoker individuals with different severity of COVID\n",
    "Smoker_Covid_Count = []"
   ]
  },
  {
   "cell_type": "code",
   "execution_count": 23,
   "id": "b5e78c8f",
   "metadata": {},
   "outputs": [
    {
     "name": "stdout",
     "output_type": "stream",
     "text": [
      "[281]\n"
     ]
    }
   ],
   "source": [
    "# Individuals who are smokers and their covid status is Mild\n",
    "Smoker_Mild = Covid_Smoking_df.loc[(Covid_Smoking_df[\"der_smoking2\"] == \"Current or Former\") & (Covid_Smoking_df[\"severity_of_covid_19_v2\"] == \"Mild\")]\n",
    "Smoker_Mild_Count = len(Smoker_Mild)\n",
    "Smoker_Covid_Count.append(Smoker_Mild_Count)\n",
    "print(Smoker_Covid_Count)"
   ]
  },
  {
   "cell_type": "code",
   "execution_count": 24,
   "id": "30131187",
   "metadata": {},
   "outputs": [
    {
     "name": "stdout",
     "output_type": "stream",
     "text": [
      "[281, 139]\n"
     ]
    }
   ],
   "source": [
    "# Individuals who are smokers and their covid status is Moderate\n",
    "Smoker_Moderate = Covid_Smoking_df.loc[(Covid_Smoking_df[\"der_smoking2\"] == \"Current or Former\") & (Covid_Smoking_df[\"severity_of_covid_19_v2\"] == \"Moderate\")]\n",
    "Smoker_Moderate_Count = len(Smoker_Moderate)\n",
    "Smoker_Covid_Count.append(Smoker_Moderate_Count)\n",
    "print(Smoker_Covid_Count)"
   ]
  },
  {
   "cell_type": "code",
   "execution_count": 25,
   "id": "46bf39e4",
   "metadata": {},
   "outputs": [
    {
     "name": "stdout",
     "output_type": "stream",
     "text": [
      "[281, 139, 21]\n"
     ]
    }
   ],
   "source": [
    "# Individuals who are smokers and their covid status is Severe\n",
    "Smoker_Severe = Covid_Smoking_df.loc[(Covid_Smoking_df[\"der_smoking2\"] == \"Current or Former\") & (Covid_Smoking_df[\"severity_of_covid_19_v2\"] == \"Severe\")]\n",
    "Smoker_Severe_Count = len(Smoker_Severe)\n",
    "Smoker_Covid_Count.append(Smoker_Severe_Count)\n",
    "print(Smoker_Covid_Count)"
   ]
  },
  {
   "cell_type": "code",
   "execution_count": 26,
   "id": "fdedeef1",
   "metadata": {},
   "outputs": [],
   "source": [
    "# Creating an empty list to hold the values for non-smoker individuals with different severity of COVID\n",
    "NonSmoker_Covid_Count = []"
   ]
  },
  {
   "cell_type": "code",
   "execution_count": 27,
   "id": "c14dfd9c",
   "metadata": {},
   "outputs": [
    {
     "name": "stdout",
     "output_type": "stream",
     "text": [
      "[665]\n"
     ]
    }
   ],
   "source": [
    "# Individuals who are smokers and their covid status is Mild\n",
    "NonSmoker_Mild = Covid_Smoking_df.loc[(Covid_Smoking_df[\"der_smoking2\"] == \"Never\") & (Covid_Smoking_df[\"severity_of_covid_19_v2\"] == \"Mild\")]\n",
    "NonSmoker_Mild_Count = len(NonSmoker_Mild)\n",
    "NonSmoker_Covid_Count.append(NonSmoker_Mild_Count)\n",
    "print(NonSmoker_Covid_Count)"
   ]
  },
  {
   "cell_type": "code",
   "execution_count": 28,
   "id": "01a619a3",
   "metadata": {},
   "outputs": [
    {
     "name": "stdout",
     "output_type": "stream",
     "text": [
      "[665, 214]\n"
     ]
    }
   ],
   "source": [
    "# Individuals who are smokers and their covid status is Moderate\n",
    "NonSmoker_Moderate = Covid_Smoking_df.loc[(Covid_Smoking_df[\"der_smoking2\"] == \"Never\") & (Covid_Smoking_df[\"severity_of_covid_19_v2\"] == \"Moderate\")]\n",
    "NonSmoker_Moderate_Count = len(NonSmoker_Moderate)\n",
    "NonSmoker_Covid_Count.append(NonSmoker_Moderate_Count)\n",
    "print(NonSmoker_Covid_Count)"
   ]
  },
  {
   "cell_type": "code",
   "execution_count": 29,
   "id": "095eb759",
   "metadata": {},
   "outputs": [
    {
     "name": "stdout",
     "output_type": "stream",
     "text": [
      "[665, 214, 31]\n"
     ]
    }
   ],
   "source": [
    "# Individuals who are smokers and their covid status is Severe\n",
    "NonSmoker_Severe = Covid_Smoking_df.loc[(Covid_Smoking_df[\"der_smoking2\"] == \"Never\") & (Covid_Smoking_df[\"severity_of_covid_19_v2\"] == \"Severe\")]\n",
    "NonSmoker_Severe_Count = len(NonSmoker_Severe)\n",
    "NonSmoker_Covid_Count.append(NonSmoker_Severe_Count)\n",
    "print(NonSmoker_Covid_Count)"
   ]
  },
  {
   "cell_type": "code",
   "execution_count": 30,
   "id": "caf9cc1c",
   "metadata": {},
   "outputs": [
    {
     "data": {
      "text/html": [
       "<div>\n",
       "<style scoped>\n",
       "    .dataframe tbody tr th:only-of-type {\n",
       "        vertical-align: middle;\n",
       "    }\n",
       "\n",
       "    .dataframe tbody tr th {\n",
       "        vertical-align: top;\n",
       "    }\n",
       "\n",
       "    .dataframe thead th {\n",
       "        text-align: right;\n",
       "    }\n",
       "</style>\n",
       "<table border=\"1\" class=\"dataframe\">\n",
       "  <thead>\n",
       "    <tr style=\"text-align: right;\">\n",
       "      <th></th>\n",
       "      <th>Smoker_Covid_Count</th>\n",
       "      <th>NonSmoker_Covid_Count</th>\n",
       "    </tr>\n",
       "  </thead>\n",
       "  <tbody>\n",
       "    <tr>\n",
       "      <th>Mild</th>\n",
       "      <td>281</td>\n",
       "      <td>665</td>\n",
       "    </tr>\n",
       "    <tr>\n",
       "      <th>Moderate</th>\n",
       "      <td>139</td>\n",
       "      <td>214</td>\n",
       "    </tr>\n",
       "    <tr>\n",
       "      <th>Severe</th>\n",
       "      <td>21</td>\n",
       "      <td>31</td>\n",
       "    </tr>\n",
       "  </tbody>\n",
       "</table>\n",
       "</div>"
      ],
      "text/plain": [
       "          Smoker_Covid_Count  NonSmoker_Covid_Count\n",
       "Mild                     281                    665\n",
       "Moderate                 139                    214\n",
       "Severe                    21                     31"
      ]
     },
     "execution_count": 30,
     "metadata": {},
     "output_type": "execute_result"
    }
   ],
   "source": [
    "# Creating a data frame which includes both the Smoker_Covid_Count & NonSmoker_Covid_Count for comparison as well as plotting.\n",
    "Covid_Status = [\"Mild\", \"Moderate\" , \"Severe\"]\n",
    "Smoker_NonSmoker_Covid_DF = pd.DataFrame (\n",
    "    {\n",
    "        \"Smoker_Covid_Count\" : Smoker_Covid_Count,\n",
    "        \"NonSmoker_Covid_Count\" : NonSmoker_Covid_Count},\n",
    "        index = Covid_Status\n",
    "    \n",
    ")\n",
    "\n",
    "Smoker_NonSmoker_Covid_DF"
   ]
  },
  {
   "cell_type": "code",
   "execution_count": 31,
   "id": "32a8e3c6",
   "metadata": {},
   "outputs": [
    {
     "data": {
      "image/png": "[encoded data removed]",
      "text/plain": [
       "<Figure size 640x480 with 1 Axes>"
      ]
     },
     "metadata": {},
     "output_type": "display_data"
    }
   ],
   "source": [
    "# Plotting\n",
    "Smoker_NonSmoker_Covid_plot = Smoker_NonSmoker_Covid_DF.plot.bar(rot=0)\n",
    "plt.title(\"Smoker & COVID VS. Non-Smoker & COVID    [Smoking_Plot(3)]\")\n",
    "plt.xlabel(\"Covid_Status\")\n",
    "plt.ylabel(\"Number of Smokers_COVID & Non-Smokers_COVID\")\n",
    "# Save the figure\n",
    "plt.savefig(\"Smoking_Output_Data/Smoking_Plot(3).png\")"
   ]
  },
  {
   "cell_type": "markdown",
   "id": "3a8bacc1",
   "metadata": {},
   "source": [
    "## Breast Cancer Status & Severity of COVID VS. Smoking Status"
   ]
  },
  {
   "cell_type": "code",
   "execution_count": 32,
   "id": "83e4965c",
   "metadata": {},
   "outputs": [
    {
     "data": {
      "text/html": [
       "<div>\n",
       "<style scoped>\n",
       "    .dataframe tbody tr th:only-of-type {\n",
       "        vertical-align: middle;\n",
       "    }\n",
       "\n",
       "    .dataframe tbody tr th {\n",
       "        vertical-align: top;\n",
       "    }\n",
       "\n",
       "    .dataframe thead th {\n",
       "        text-align: right;\n",
       "    }\n",
       "</style>\n",
       "<table border=\"1\" class=\"dataframe\">\n",
       "  <thead>\n",
       "    <tr style=\"text-align: right;\">\n",
       "      <th></th>\n",
       "      <th>der_smoking2</th>\n",
       "      <th>der_cancer_status_v4</th>\n",
       "      <th>severity_of_covid_19_v2</th>\n",
       "    </tr>\n",
       "  </thead>\n",
       "  <tbody>\n",
       "    <tr>\n",
       "      <th>0</th>\n",
       "      <td>Current or Former</td>\n",
       "      <td>Active and responding</td>\n",
       "      <td>Severe</td>\n",
       "    </tr>\n",
       "    <tr>\n",
       "      <th>1</th>\n",
       "      <td>Never</td>\n",
       "      <td>Active and stable</td>\n",
       "      <td>Mild</td>\n",
       "    </tr>\n",
       "    <tr>\n",
       "      <th>2</th>\n",
       "      <td>Never</td>\n",
       "      <td>NaN</td>\n",
       "      <td>Moderate</td>\n",
       "    </tr>\n",
       "    <tr>\n",
       "      <th>3</th>\n",
       "      <td>Never</td>\n",
       "      <td>Unknown</td>\n",
       "      <td>Moderate</td>\n",
       "    </tr>\n",
       "    <tr>\n",
       "      <th>4</th>\n",
       "      <td>Never</td>\n",
       "      <td>Active and responding</td>\n",
       "      <td>Mild</td>\n",
       "    </tr>\n",
       "    <tr>\n",
       "      <th>...</th>\n",
       "      <td>...</td>\n",
       "      <td>...</td>\n",
       "      <td>...</td>\n",
       "    </tr>\n",
       "    <tr>\n",
       "      <th>1378</th>\n",
       "      <td>Current or Former</td>\n",
       "      <td>Active and responding</td>\n",
       "      <td>Mild</td>\n",
       "    </tr>\n",
       "    <tr>\n",
       "      <th>1379</th>\n",
       "      <td>Never</td>\n",
       "      <td>Active and responding</td>\n",
       "      <td>Moderate</td>\n",
       "    </tr>\n",
       "    <tr>\n",
       "      <th>1380</th>\n",
       "      <td>Never</td>\n",
       "      <td>Remission or no evidence of disease, &gt;5 years</td>\n",
       "      <td>Mild</td>\n",
       "    </tr>\n",
       "    <tr>\n",
       "      <th>1381</th>\n",
       "      <td>Never</td>\n",
       "      <td>Unknown</td>\n",
       "      <td>Moderate</td>\n",
       "    </tr>\n",
       "    <tr>\n",
       "      <th>1382</th>\n",
       "      <td>Never</td>\n",
       "      <td>Active and stable</td>\n",
       "      <td>Moderate</td>\n",
       "    </tr>\n",
       "  </tbody>\n",
       "</table>\n",
       "<p>1383 rows × 3 columns</p>\n",
       "</div>"
      ],
      "text/plain": [
       "           der_smoking2                           der_cancer_status_v4  \\\n",
       "0     Current or Former                          Active and responding   \n",
       "1                 Never                              Active and stable   \n",
       "2                 Never                                            NaN   \n",
       "3                 Never                                        Unknown   \n",
       "4                 Never                          Active and responding   \n",
       "...                 ...                                            ...   \n",
       "1378  Current or Former                          Active and responding   \n",
       "1379              Never                          Active and responding   \n",
       "1380              Never  Remission or no evidence of disease, >5 years   \n",
       "1381              Never                                        Unknown   \n",
       "1382              Never                              Active and stable   \n",
       "\n",
       "     severity_of_covid_19_v2  \n",
       "0                     Severe  \n",
       "1                       Mild  \n",
       "2                   Moderate  \n",
       "3                   Moderate  \n",
       "4                       Mild  \n",
       "...                      ...  \n",
       "1378                    Mild  \n",
       "1379                Moderate  \n",
       "1380                    Mild  \n",
       "1381                Moderate  \n",
       "1382                Moderate  \n",
       "\n",
       "[1383 rows x 3 columns]"
      ]
     },
     "execution_count": 32,
     "metadata": {},
     "output_type": "execute_result"
    }
   ],
   "source": [
    "# Creating a data frame for the cancer status, Severity of COVID, and the smoking status\n",
    "Cancer_Covid_Smoking_df = pd.DataFrame(raw_data[[\"der_smoking2\", \"der_cancer_status_v4\", \"severity_of_covid_19_v2\"]])\n",
    "Cancer_Covid_Smoking_df"
   ]
  },
  {
   "cell_type": "code",
   "execution_count": 33,
   "id": "474195b7",
   "metadata": {},
   "outputs": [
    {
     "data": {
      "text/html": [
       "<div>\n",
       "<style scoped>\n",
       "    .dataframe tbody tr th:only-of-type {\n",
       "        vertical-align: middle;\n",
       "    }\n",
       "\n",
       "    .dataframe tbody tr th {\n",
       "        vertical-align: top;\n",
       "    }\n",
       "\n",
       "    .dataframe thead th {\n",
       "        text-align: right;\n",
       "    }\n",
       "</style>\n",
       "<table border=\"1\" class=\"dataframe\">\n",
       "  <thead>\n",
       "    <tr style=\"text-align: right;\">\n",
       "      <th></th>\n",
       "      <th>der_smoking2</th>\n",
       "      <th>der_cancer_status_v4</th>\n",
       "      <th>severity_of_covid_19_v2</th>\n",
       "    </tr>\n",
       "  </thead>\n",
       "  <tbody>\n",
       "    <tr>\n",
       "      <th>18</th>\n",
       "      <td>Never</td>\n",
       "      <td>Remission or no evidence of disease, &lt;5 years</td>\n",
       "      <td>Mild</td>\n",
       "    </tr>\n",
       "    <tr>\n",
       "      <th>1174</th>\n",
       "      <td>Current or Former</td>\n",
       "      <td>Remission or no evidence of disease, &gt;5 years</td>\n",
       "      <td>Mild</td>\n",
       "    </tr>\n",
       "    <tr>\n",
       "      <th>186</th>\n",
       "      <td>Never</td>\n",
       "      <td>Remission or no evidence of disease, &gt;5 years</td>\n",
       "      <td>Mild</td>\n",
       "    </tr>\n",
       "    <tr>\n",
       "      <th>29</th>\n",
       "      <td>Never</td>\n",
       "      <td>Remission or no evidence of disease, &lt;5 years</td>\n",
       "      <td>Mild</td>\n",
       "    </tr>\n",
       "    <tr>\n",
       "      <th>148</th>\n",
       "      <td>Current or Former</td>\n",
       "      <td>Remission or no evidence of disease, &gt;5 years</td>\n",
       "      <td>Moderate</td>\n",
       "    </tr>\n",
       "    <tr>\n",
       "      <th>1177</th>\n",
       "      <td>Current or Former</td>\n",
       "      <td>Active and responding</td>\n",
       "      <td>Moderate</td>\n",
       "    </tr>\n",
       "    <tr>\n",
       "      <th>889</th>\n",
       "      <td>Current or Former</td>\n",
       "      <td>Active and responding</td>\n",
       "      <td>Mild</td>\n",
       "    </tr>\n",
       "    <tr>\n",
       "      <th>45</th>\n",
       "      <td>Never</td>\n",
       "      <td>Remission or no evidence of disease, &gt;5 years</td>\n",
       "      <td>Moderate</td>\n",
       "    </tr>\n",
       "    <tr>\n",
       "      <th>1073</th>\n",
       "      <td>Never</td>\n",
       "      <td>Active and responding</td>\n",
       "      <td>Mild</td>\n",
       "    </tr>\n",
       "    <tr>\n",
       "      <th>354</th>\n",
       "      <td>Never</td>\n",
       "      <td>Unknown</td>\n",
       "      <td>Mild</td>\n",
       "    </tr>\n",
       "    <tr>\n",
       "      <th>1167</th>\n",
       "      <td>Current or Former</td>\n",
       "      <td>Active and progressing</td>\n",
       "      <td>Mild</td>\n",
       "    </tr>\n",
       "    <tr>\n",
       "      <th>807</th>\n",
       "      <td>Never</td>\n",
       "      <td>Remission or no evidence of disease, &lt;5 years</td>\n",
       "      <td>Mild</td>\n",
       "    </tr>\n",
       "    <tr>\n",
       "      <th>271</th>\n",
       "      <td>Never</td>\n",
       "      <td>Remission or no evidence of disease, &lt;5 years</td>\n",
       "      <td>Mild</td>\n",
       "    </tr>\n",
       "    <tr>\n",
       "      <th>359</th>\n",
       "      <td>Current or Former</td>\n",
       "      <td>Unknown</td>\n",
       "      <td>Mild</td>\n",
       "    </tr>\n",
       "    <tr>\n",
       "      <th>471</th>\n",
       "      <td>Never</td>\n",
       "      <td>Active and responding</td>\n",
       "      <td>Mild</td>\n",
       "    </tr>\n",
       "    <tr>\n",
       "      <th>764</th>\n",
       "      <td>Never</td>\n",
       "      <td>Active and progressing</td>\n",
       "      <td>Moderate</td>\n",
       "    </tr>\n",
       "    <tr>\n",
       "      <th>1074</th>\n",
       "      <td>Current or Former</td>\n",
       "      <td>Active and stable</td>\n",
       "      <td>Mild</td>\n",
       "    </tr>\n",
       "    <tr>\n",
       "      <th>466</th>\n",
       "      <td>Never</td>\n",
       "      <td>Remission or no evidence of disease, &lt;5 years</td>\n",
       "      <td>Mild</td>\n",
       "    </tr>\n",
       "    <tr>\n",
       "      <th>631</th>\n",
       "      <td>Never</td>\n",
       "      <td>Remission or no evidence of disease, &lt;5 years</td>\n",
       "      <td>Mild</td>\n",
       "    </tr>\n",
       "    <tr>\n",
       "      <th>998</th>\n",
       "      <td>Current or Former</td>\n",
       "      <td>Remission or no evidence of disease, &lt;5 years</td>\n",
       "      <td>Mild</td>\n",
       "    </tr>\n",
       "  </tbody>\n",
       "</table>\n",
       "</div>"
      ],
      "text/plain": [
       "           der_smoking2                           der_cancer_status_v4  \\\n",
       "18                Never  Remission or no evidence of disease, <5 years   \n",
       "1174  Current or Former  Remission or no evidence of disease, >5 years   \n",
       "186               Never  Remission or no evidence of disease, >5 years   \n",
       "29                Never  Remission or no evidence of disease, <5 years   \n",
       "148   Current or Former  Remission or no evidence of disease, >5 years   \n",
       "1177  Current or Former                          Active and responding   \n",
       "889   Current or Former                          Active and responding   \n",
       "45                Never  Remission or no evidence of disease, >5 years   \n",
       "1073              Never                          Active and responding   \n",
       "354               Never                                        Unknown   \n",
       "1167  Current or Former                         Active and progressing   \n",
       "807               Never  Remission or no evidence of disease, <5 years   \n",
       "271               Never  Remission or no evidence of disease, <5 years   \n",
       "359   Current or Former                                        Unknown   \n",
       "471               Never                          Active and responding   \n",
       "764               Never                         Active and progressing   \n",
       "1074  Current or Former                              Active and stable   \n",
       "466               Never  Remission or no evidence of disease, <5 years   \n",
       "631               Never  Remission or no evidence of disease, <5 years   \n",
       "998   Current or Former  Remission or no evidence of disease, <5 years   \n",
       "\n",
       "     severity_of_covid_19_v2  \n",
       "18                      Mild  \n",
       "1174                    Mild  \n",
       "186                     Mild  \n",
       "29                      Mild  \n",
       "148                 Moderate  \n",
       "1177                Moderate  \n",
       "889                     Mild  \n",
       "45                  Moderate  \n",
       "1073                    Mild  \n",
       "354                     Mild  \n",
       "1167                    Mild  \n",
       "807                     Mild  \n",
       "271                     Mild  \n",
       "359                     Mild  \n",
       "471                     Mild  \n",
       "764                 Moderate  \n",
       "1074                    Mild  \n",
       "466                     Mild  \n",
       "631                     Mild  \n",
       "998                     Mild  "
      ]
     },
     "execution_count": 33,
     "metadata": {},
     "output_type": "execute_result"
    }
   ],
   "source": [
    "# Cleaning the empty cells \n",
    "Cancer_Covid_Smoking_df = Cancer_Covid_Smoking_df.dropna()\n",
    "Cancer_Covid_Smoking_df.sample(20)"
   ]
  },
  {
   "cell_type": "code",
   "execution_count": 34,
   "id": "c14f08f5",
   "metadata": {},
   "outputs": [],
   "source": [
    "# Smoker\n",
    "# Mild Covid\n",
    "# Creating an empty list to hold the values for smoker individuals with a mild COVID severity & different breast cancer status\n",
    "Smoker_BC_MildCov_Count = []"
   ]
  },
  {
   "cell_type": "code",
   "execution_count": 35,
   "id": "83645589",
   "metadata": {},
   "outputs": [
    {
     "name": "stdout",
     "output_type": "stream",
     "text": [
      "[35]\n"
     ]
    }
   ],
   "source": [
    "# Individuals who are smokers and their covid status is Mild and their cancer status is Active and responding\n",
    "try: \n",
    "    Smoker_Mild_A_Responding = Cancer_Covid_Smoking_df.loc[(Cancer_Covid_Smoking_df[\"der_smoking2\"] == \"Current or Former\") & (Cancer_Covid_Smoking_df[\"severity_of_covid_19_v2\"] == \"Mild\") & (Cancer_Covid_Smoking_df[\"der_cancer_status_v4\"] == \"Active and responding\")]\n",
    "    Smoker_Mild_A_Responding_Count = len(Smoker_Mild_A_Responding)\n",
    "    Smoker_BC_MildCov_Count.append(Smoker_Mild_A_Responding_Count)\n",
    "    print(Smoker_BC_MildCov_Count)\n",
    "except:\n",
    "    print(\"No Result was found\")"
   ]
  },
  {
   "cell_type": "code",
   "execution_count": 36,
   "id": "f57f54ec",
   "metadata": {},
   "outputs": [
    {
     "name": "stdout",
     "output_type": "stream",
     "text": [
      "[35, 37]\n"
     ]
    }
   ],
   "source": [
    "# Individuals who are smokers and their covid status is Mild and their cancer status is Active and stable\n",
    "try: \n",
    "    Smoker_Mild_A_stable = Cancer_Covid_Smoking_df.loc[(Cancer_Covid_Smoking_df[\"der_smoking2\"] == \"Current or Former\") & (Cancer_Covid_Smoking_df[\"severity_of_covid_19_v2\"] == \"Mild\") & (Cancer_Covid_Smoking_df[\"der_cancer_status_v4\"] == \"Active and stable\")]\n",
    "    Smoker_Mild_A_stable_Count = len(Smoker_Mild_A_stable)\n",
    "    Smoker_BC_MildCov_Count.append(Smoker_Mild_A_stable_Count)\n",
    "    print(Smoker_BC_MildCov_Count)\n",
    "except:\n",
    "    print(\"No Result was found\")"
   ]
  },
  {
   "cell_type": "code",
   "execution_count": 37,
   "id": "aaed65d3",
   "metadata": {},
   "outputs": [
    {
     "name": "stdout",
     "output_type": "stream",
     "text": [
      "[35, 37, 12]\n"
     ]
    }
   ],
   "source": [
    "# Individuals who are smokers and their covid status is Mild and their cancer status is Active and progressing\n",
    "try: \n",
    "    Smoker_Mild_A_progressing = Cancer_Covid_Smoking_df.loc[(Cancer_Covid_Smoking_df[\"der_smoking2\"] == \"Current or Former\") & (Cancer_Covid_Smoking_df[\"severity_of_covid_19_v2\"] == \"Mild\") & (Cancer_Covid_Smoking_df[\"der_cancer_status_v4\"] == \"Active and progressing\")]\n",
    "    Smoker_Mild_A_progressing_Count = len(Smoker_Mild_A_progressing)\n",
    "    Smoker_BC_MildCov_Count.append(Smoker_Mild_A_progressing_Count)\n",
    "    print(Smoker_BC_MildCov_Count)\n",
    "except:\n",
    "    print(\"No Result was found\")"
   ]
  },
  {
   "cell_type": "code",
   "execution_count": 38,
   "id": "3cfe3597",
   "metadata": {},
   "outputs": [],
   "source": [
    "# Smoker\n",
    "# Moderate Covid\n",
    "# Creating an empty list to hold the values for smoker individuals with a moderate COVID severity & different breast cancer status\n",
    "Smoker_BC_ModerateCov_Count = []"
   ]
  },
  {
   "cell_type": "code",
   "execution_count": 39,
   "id": "41728271",
   "metadata": {},
   "outputs": [
    {
     "name": "stdout",
     "output_type": "stream",
     "text": [
      "[17]\n"
     ]
    }
   ],
   "source": [
    "# Individuals who are smokers and their covid status is Moderate and their cancer status is Active and responding\n",
    "try: \n",
    "    Smoker_Moderate_A_Responding = Cancer_Covid_Smoking_df.loc[(Cancer_Covid_Smoking_df[\"der_smoking2\"] == \"Current or Former\") & (Cancer_Covid_Smoking_df[\"severity_of_covid_19_v2\"] == \"Moderate\") & (Cancer_Covid_Smoking_df[\"der_cancer_status_v4\"] == \"Active and responding\")]\n",
    "    Smoker_Moderate_A_Responding_Count = len(Smoker_Moderate_A_Responding)\n",
    "    Smoker_BC_ModerateCov_Count.append(Smoker_Moderate_A_Responding_Count)\n",
    "    print(Smoker_BC_ModerateCov_Count)\n",
    "except:\n",
    "    print(\"No Result was found\")"
   ]
  },
  {
   "cell_type": "code",
   "execution_count": 40,
   "id": "e4e2574b",
   "metadata": {},
   "outputs": [
    {
     "name": "stdout",
     "output_type": "stream",
     "text": [
      "[17, 15]\n"
     ]
    }
   ],
   "source": [
    "# Individuals who are smokers and their covid status is Moderate and their cancer status is Active and stable\n",
    "try: \n",
    "    Smoker_Moderate_A_stable = Cancer_Covid_Smoking_df.loc[(Cancer_Covid_Smoking_df[\"der_smoking2\"] == \"Current or Former\") & (Cancer_Covid_Smoking_df[\"severity_of_covid_19_v2\"] == \"Moderate\") & (Cancer_Covid_Smoking_df[\"der_cancer_status_v4\"] == \"Active and stable\")]\n",
    "    Smoker_Moderate_A_stable_Count = len(Smoker_Moderate_A_stable)\n",
    "    Smoker_BC_ModerateCov_Count.append(Smoker_Moderate_A_stable_Count)\n",
    "    print(Smoker_BC_ModerateCov_Count)\n",
    "except:\n",
    "    print(\"No Result was found\")"
   ]
  },
  {
   "cell_type": "code",
   "execution_count": 41,
   "id": "5ab76f3d",
   "metadata": {},
   "outputs": [
    {
     "name": "stdout",
     "output_type": "stream",
     "text": [
      "[17, 15, 16]\n"
     ]
    }
   ],
   "source": [
    "# Individuals who are smokers and their covid status is Moderate and their cancer status is Active and progressing\n",
    "try: \n",
    "    Smoker_Moderate_A_progressing = Cancer_Covid_Smoking_df.loc[(Cancer_Covid_Smoking_df[\"der_smoking2\"] == \"Current or Former\") & (Cancer_Covid_Smoking_df[\"severity_of_covid_19_v2\"] == \"Moderate\") & (Cancer_Covid_Smoking_df[\"der_cancer_status_v4\"] == \"Active and progressing\")]\n",
    "    Smoker_Moderate_A_progressing_Count = len(Smoker_Moderate_A_progressing)\n",
    "    Smoker_BC_ModerateCov_Count.append(Smoker_Moderate_A_progressing_Count)\n",
    "    print(Smoker_BC_ModerateCov_Count)\n",
    "except:\n",
    "    print(\"No Result was found\")"
   ]
  },
  {
   "cell_type": "code",
   "execution_count": 42,
   "id": "04a0d00a",
   "metadata": {},
   "outputs": [],
   "source": [
    "# Smoker\n",
    "# Severe Covid\n",
    "# Creating an empty list to hold the values for smoker individuals with a severe COVID severity & different breast cancer status\n",
    "Smoker_BC_SevereCov_Count = []"
   ]
  },
  {
   "cell_type": "code",
   "execution_count": 43,
   "id": "e8896029",
   "metadata": {},
   "outputs": [
    {
     "name": "stdout",
     "output_type": "stream",
     "text": [
      "[2]\n"
     ]
    }
   ],
   "source": [
    "# Individuals who are smokers and their covid status is Severe and their cancer status is Active and responding\n",
    "try: \n",
    "    Smoker_Severe_A_Responding = Cancer_Covid_Smoking_df.loc[(Cancer_Covid_Smoking_df[\"der_smoking2\"] == \"Current or Former\") & (Cancer_Covid_Smoking_df[\"severity_of_covid_19_v2\"] == \"Severe\") & (Cancer_Covid_Smoking_df[\"der_cancer_status_v4\"] == \"Active and responding\")]\n",
    "    Smoker_Severe_A_Responding_Count = len(Smoker_Severe_A_Responding)\n",
    "    Smoker_BC_SevereCov_Count.append(Smoker_Severe_A_Responding_Count)\n",
    "    print(Smoker_BC_SevereCov_Count)\n",
    "except:\n",
    "    print(\"No Result was found\")"
   ]
  },
  {
   "cell_type": "code",
   "execution_count": 44,
   "id": "c4584b66",
   "metadata": {},
   "outputs": [
    {
     "name": "stdout",
     "output_type": "stream",
     "text": [
      "[2, 0]\n"
     ]
    }
   ],
   "source": [
    "# Individuals who are smokers and their covid status is Severe and their cancer status is Active and stable\n",
    "try: \n",
    "    Smoker_Severe_A_stable = Cancer_Covid_Smoking_df.loc[(Cancer_Covid_Smoking_df[\"der_smoking2\"] == \"Current or Former\") & (Cancer_Covid_Smoking_df[\"severity_of_covid_19_v2\"] == \"Severe\") & (Cancer_Covid_Smoking_df[\"der_cancer_status_v4\"] == \"Active and stable\")]\n",
    "    Smoker_Severe_A_stable_Count = len(Smoker_Severe_A_stable)\n",
    "    Smoker_BC_SevereCov_Count.append(Smoker_Severe_A_stable_Count)\n",
    "    print(Smoker_BC_SevereCov_Count)\n",
    "except:\n",
    "    print(\"No Result was found\")"
   ]
  },
  {
   "cell_type": "code",
   "execution_count": 45,
   "id": "70d17bb9",
   "metadata": {},
   "outputs": [
    {
     "name": "stdout",
     "output_type": "stream",
     "text": [
      "[2, 0, 5]\n"
     ]
    }
   ],
   "source": [
    "# Individuals who are smokers and their covid status is Severe and their cancer status is Active and progressing\n",
    "try: \n",
    "    Smoker_Severe_A_progressing = Cancer_Covid_Smoking_df.loc[(Cancer_Covid_Smoking_df[\"der_smoking2\"] == \"Current or Former\") & (Cancer_Covid_Smoking_df[\"severity_of_covid_19_v2\"] == \"Severe\") & (Cancer_Covid_Smoking_df[\"der_cancer_status_v4\"] == \"Active and progressing\")]\n",
    "    Smoker_Severe_A_progressing_Count = len(Smoker_Severe_A_progressing)\n",
    "    Smoker_BC_SevereCov_Count.append(Smoker_Severe_A_progressing_Count)\n",
    "    print(Smoker_BC_SevereCov_Count)\n",
    "except:\n",
    "    print(\"No Result was found\")"
   ]
  },
  {
   "cell_type": "code",
   "execution_count": 46,
   "id": "23d2f47d",
   "metadata": {},
   "outputs": [],
   "source": [
    "# Non-Smoker\n",
    "# Mild Covid\n",
    "# Creating an empty list to hold the values for non-smoker individuals with a mild COVID severity & different breast cancer status\n",
    "NonSmoker_BC_MildCov_Count = []"
   ]
  },
  {
   "cell_type": "code",
   "execution_count": 47,
   "id": "ea0322d8",
   "metadata": {},
   "outputs": [
    {
     "name": "stdout",
     "output_type": "stream",
     "text": [
      "[86]\n"
     ]
    }
   ],
   "source": [
    "# Individuals who are non-smokers and their covid status is Mild and their cancer status is Active and responding\n",
    "try: \n",
    "    NonSmoker_Mild_A_Responding = Cancer_Covid_Smoking_df.loc[(Cancer_Covid_Smoking_df[\"der_smoking2\"] == \"Never\") & (Cancer_Covid_Smoking_df[\"severity_of_covid_19_v2\"] == \"Mild\") & (Cancer_Covid_Smoking_df[\"der_cancer_status_v4\"] == \"Active and responding\")]\n",
    "    NonSmoker_Mild_A_Responding_Count = len(NonSmoker_Mild_A_Responding)\n",
    "    NonSmoker_BC_MildCov_Count.append(NonSmoker_Mild_A_Responding_Count)\n",
    "    print(NonSmoker_BC_MildCov_Count)\n",
    "except:\n",
    "    print(\"No Result was found\")"
   ]
  },
  {
   "cell_type": "code",
   "execution_count": 48,
   "id": "4ddbcab6",
   "metadata": {},
   "outputs": [
    {
     "name": "stdout",
     "output_type": "stream",
     "text": [
      "[86, 82]\n"
     ]
    }
   ],
   "source": [
    "# Individuals who are non-smokers and their covid status is Mild and their cancer status is Active and stable\n",
    "try: \n",
    "    NonSmoker_Mild_A_stable = Cancer_Covid_Smoking_df.loc[(Cancer_Covid_Smoking_df[\"der_smoking2\"] == \"Never\") & (Cancer_Covid_Smoking_df[\"severity_of_covid_19_v2\"] == \"Mild\") & (Cancer_Covid_Smoking_df[\"der_cancer_status_v4\"] == \"Active and stable\")]\n",
    "    NonSmoker_Mild_A_stable_Count = len(NonSmoker_Mild_A_stable)\n",
    "    NonSmoker_BC_MildCov_Count.append(NonSmoker_Mild_A_stable_Count)\n",
    "    print(NonSmoker_BC_MildCov_Count)\n",
    "except:\n",
    "    print(\"No Result was found\")"
   ]
  },
  {
   "cell_type": "code",
   "execution_count": 49,
   "id": "18ec72f1",
   "metadata": {},
   "outputs": [
    {
     "name": "stdout",
     "output_type": "stream",
     "text": [
      "[86, 82, 26]\n"
     ]
    }
   ],
   "source": [
    "# Individuals who are non-smokers and their covid status is Mild and their cancer status is Active and progressing\n",
    "try: \n",
    "    NonSmoker_Mild_A_progressing = Cancer_Covid_Smoking_df.loc[(Cancer_Covid_Smoking_df[\"der_smoking2\"] == \"Never\") & (Cancer_Covid_Smoking_df[\"severity_of_covid_19_v2\"] == \"Mild\") & (Cancer_Covid_Smoking_df[\"der_cancer_status_v4\"] == \"Active and progressing\")]\n",
    "    NonSmoker_Mild_A_progressing_Count = len(NonSmoker_Mild_A_progressing)\n",
    "    NonSmoker_BC_MildCov_Count.append(NonSmoker_Mild_A_progressing_Count)\n",
    "    print(NonSmoker_BC_MildCov_Count)\n",
    "except:\n",
    "    print(\"No Result was found\")"
   ]
  },
  {
   "cell_type": "code",
   "execution_count": 50,
   "id": "1250e7ed",
   "metadata": {},
   "outputs": [],
   "source": [
    "# Non-Smoker\n",
    "# Moderate Covid\n",
    "# Creating an empty list to hold the values for non-smoker individuals with a moderate COVID severity & different breast cancer status\n",
    "NonSmoker_BC_ModerateCov_Count = []"
   ]
  },
  {
   "cell_type": "code",
   "execution_count": 51,
   "id": "ae498c74",
   "metadata": {},
   "outputs": [
    {
     "name": "stdout",
     "output_type": "stream",
     "text": [
      "[26]\n"
     ]
    }
   ],
   "source": [
    "# Individuals who are non-smokers and their covid status is Moderate and their cancer status is Active and responding\n",
    "try: \n",
    "    NonSmoker_Moderate_A_Responding = Cancer_Covid_Smoking_df.loc[(Cancer_Covid_Smoking_df[\"der_smoking2\"] == \"Never\") & (Cancer_Covid_Smoking_df[\"severity_of_covid_19_v2\"] == \"Moderate\") & (Cancer_Covid_Smoking_df[\"der_cancer_status_v4\"] == \"Active and responding\")]\n",
    "    NonSmoker_Moderate_A_Responding_Count = len(NonSmoker_Moderate_A_Responding)\n",
    "    NonSmoker_BC_ModerateCov_Count.append(NonSmoker_Moderate_A_Responding_Count)\n",
    "    print(NonSmoker_BC_ModerateCov_Count)\n",
    "except:\n",
    "    print(\"No Result was found\")"
   ]
  },
  {
   "cell_type": "code",
   "execution_count": 52,
   "id": "aa028e2a",
   "metadata": {},
   "outputs": [
    {
     "name": "stdout",
     "output_type": "stream",
     "text": [
      "[26, 25]\n"
     ]
    }
   ],
   "source": [
    "# Individuals who are non-smokers and their covid status is Moderate and their cancer status is Active and stable\n",
    "try: \n",
    "    NonSmoker_Moderate_A_stable = Cancer_Covid_Smoking_df.loc[(Cancer_Covid_Smoking_df[\"der_smoking2\"] == \"Never\") & (Cancer_Covid_Smoking_df[\"severity_of_covid_19_v2\"] == \"Moderate\") & (Cancer_Covid_Smoking_df[\"der_cancer_status_v4\"] == \"Active and stable\")]\n",
    "    NonSmoker_Moderate_A_stable_Count = len(NonSmoker_Moderate_A_stable)\n",
    "    NonSmoker_BC_ModerateCov_Count.append(NonSmoker_Moderate_A_stable_Count)\n",
    "    print(NonSmoker_BC_ModerateCov_Count)\n",
    "except:\n",
    "    print(\"No Result was found\")"
   ]
  },
  {
   "cell_type": "code",
   "execution_count": 53,
   "id": "eeb805f5",
   "metadata": {},
   "outputs": [
    {
     "name": "stdout",
     "output_type": "stream",
     "text": [
      "[26, 25, 33]\n"
     ]
    }
   ],
   "source": [
    "# Individuals who are non-smokers and their covid status is Moderate and their cancer status is Active and progressing\n",
    "try: \n",
    "    NonSmoker_Moderate_A_progressing = Cancer_Covid_Smoking_df.loc[(Cancer_Covid_Smoking_df[\"der_smoking2\"] == \"Never\") & (Cancer_Covid_Smoking_df[\"severity_of_covid_19_v2\"] == \"Moderate\") & (Cancer_Covid_Smoking_df[\"der_cancer_status_v4\"] == \"Active and progressing\")]\n",
    "    NonSmoker_Moderate_A_progressing_Count = len(NonSmoker_Moderate_A_progressing)\n",
    "    NonSmoker_BC_ModerateCov_Count.append(NonSmoker_Moderate_A_progressing_Count)\n",
    "    print(NonSmoker_BC_ModerateCov_Count)\n",
    "except:\n",
    "    print(\"No Result was found\")"
   ]
  },
  {
   "cell_type": "code",
   "execution_count": 54,
   "id": "aabc390b",
   "metadata": {},
   "outputs": [],
   "source": [
    "# Non-Smoker\n",
    "# Severe Covid\n",
    "# Creating an empty list to hold the values for non-smoker individuals with a severe COVID severity & different breast cancer status\n",
    "NonSmoker_BC_SevereCov_Count = []"
   ]
  },
  {
   "cell_type": "code",
   "execution_count": 55,
   "id": "f2626a16",
   "metadata": {},
   "outputs": [
    {
     "name": "stdout",
     "output_type": "stream",
     "text": [
      "[3]\n"
     ]
    }
   ],
   "source": [
    "# Individuals who are non-smokers and their covid status is Severe and their cancer status is Active and responding\n",
    "try: \n",
    "    NonSmoker_Severe_A_Responding = Cancer_Covid_Smoking_df.loc[(Cancer_Covid_Smoking_df[\"der_smoking2\"] == \"Never\") & (Cancer_Covid_Smoking_df[\"severity_of_covid_19_v2\"] == \"Severe\") & (Cancer_Covid_Smoking_df[\"der_cancer_status_v4\"] == \"Active and responding\")]\n",
    "    NonSmoker_Severe_A_Responding_Count = len(NonSmoker_Severe_A_Responding)\n",
    "    NonSmoker_BC_SevereCov_Count.append(NonSmoker_Severe_A_Responding_Count)\n",
    "    print(NonSmoker_BC_SevereCov_Count)\n",
    "except:\n",
    "    print(\"No Result was found\")"
   ]
  },
  {
   "cell_type": "code",
   "execution_count": 56,
   "id": "aff59e11",
   "metadata": {},
   "outputs": [
    {
     "name": "stdout",
     "output_type": "stream",
     "text": [
      "[3, 3]\n"
     ]
    }
   ],
   "source": [
    "# Individuals who are non-smokers and their covid status is Severe and their cancer status is Active and stable\n",
    "try: \n",
    "    NonSmoker_Severe_A_stable = Cancer_Covid_Smoking_df.loc[(Cancer_Covid_Smoking_df[\"der_smoking2\"] == \"Never\") & (Cancer_Covid_Smoking_df[\"severity_of_covid_19_v2\"] == \"Severe\") & (Cancer_Covid_Smoking_df[\"der_cancer_status_v4\"] == \"Active and stable\")]\n",
    "    NonSmoker_Severe_A_stable_Count = len(NonSmoker_Severe_A_stable)\n",
    "    NonSmoker_BC_SevereCov_Count.append(NonSmoker_Severe_A_stable_Count)\n",
    "    print(NonSmoker_BC_SevereCov_Count)\n",
    "except:\n",
    "    print(\"No Result was found\")"
   ]
  },
  {
   "cell_type": "code",
   "execution_count": 57,
   "id": "1e0eb16c",
   "metadata": {},
   "outputs": [
    {
     "name": "stdout",
     "output_type": "stream",
     "text": [
      "[3, 3, 5]\n"
     ]
    }
   ],
   "source": [
    "# Individuals who are non-smokers and their covid status is Severe and their cancer status is Active and progressing\n",
    "try: \n",
    "    NonSmoker_Severe_A_progressing = Cancer_Covid_Smoking_df.loc[(Cancer_Covid_Smoking_df[\"der_smoking2\"] == \"Never\") & (Cancer_Covid_Smoking_df[\"severity_of_covid_19_v2\"] == \"Severe\") & (Cancer_Covid_Smoking_df[\"der_cancer_status_v4\"] == \"Active and progressing\")]\n",
    "    NonSmoker_Severe_A_progressing_Count = len(NonSmoker_Severe_A_progressing)\n",
    "    NonSmoker_BC_SevereCov_Count.append(NonSmoker_Severe_A_progressing_Count)\n",
    "    print(NonSmoker_BC_SevereCov_Count)\n",
    "except:\n",
    "    print(\"No Result was found\")"
   ]
  },
  {
   "cell_type": "code",
   "execution_count": 58,
   "id": "ea958fe3",
   "metadata": {},
   "outputs": [
    {
     "data": {
      "text/html": [
       "<div>\n",
       "<style scoped>\n",
       "    .dataframe tbody tr th:only-of-type {\n",
       "        vertical-align: middle;\n",
       "    }\n",
       "\n",
       "    .dataframe tbody tr th {\n",
       "        vertical-align: top;\n",
       "    }\n",
       "\n",
       "    .dataframe thead th {\n",
       "        text-align: right;\n",
       "    }\n",
       "</style>\n",
       "<table border=\"1\" class=\"dataframe\">\n",
       "  <thead>\n",
       "    <tr style=\"text-align: right;\">\n",
       "      <th></th>\n",
       "      <th>Smoker_BC_MildCov_Count</th>\n",
       "      <th>NonSmoker_BC_MildCov_Count</th>\n",
       "    </tr>\n",
       "  </thead>\n",
       "  <tbody>\n",
       "    <tr>\n",
       "      <th>Mild COVID &amp; Active and responding</th>\n",
       "      <td>35</td>\n",
       "      <td>86</td>\n",
       "    </tr>\n",
       "    <tr>\n",
       "      <th>Mild COVID &amp;  Active and stable</th>\n",
       "      <td>37</td>\n",
       "      <td>82</td>\n",
       "    </tr>\n",
       "    <tr>\n",
       "      <th>Mild COVID &amp; Active and progressing</th>\n",
       "      <td>12</td>\n",
       "      <td>26</td>\n",
       "    </tr>\n",
       "  </tbody>\n",
       "</table>\n",
       "</div>"
      ],
      "text/plain": [
       "                                     Smoker_BC_MildCov_Count  \\\n",
       "Mild COVID & Active and responding                        35   \n",
       "Mild COVID &  Active and stable                           37   \n",
       "Mild COVID & Active and progressing                       12   \n",
       "\n",
       "                                     NonSmoker_BC_MildCov_Count  \n",
       "Mild COVID & Active and responding                           86  \n",
       "Mild COVID &  Active and stable                              82  \n",
       "Mild COVID & Active and progressing                          26  "
      ]
     },
     "execution_count": 58,
     "metadata": {},
     "output_type": "execute_result"
    }
   ],
   "source": [
    "# Mild Covid\n",
    "# Creating a data frame which includes both the Smoker_BC_MildCov_Count & NonSmoker_BC_MildCov_Count for comparison as well as plotting.\n",
    "MildCov_BC_Status = [\"Mild COVID & Active and responding\", \"Mild COVID &  Active and stable\" , \"Mild COVID & Active and progressing\"]\n",
    "    \n",
    "MildCov_BC_Smoker_NonSmoker_DF = pd.DataFrame (\n",
    "    {\n",
    "        \"Smoker_BC_MildCov_Count\" : Smoker_BC_MildCov_Count,\n",
    "        \"NonSmoker_BC_MildCov_Count\" : NonSmoker_BC_MildCov_Count},\n",
    "        index = MildCov_BC_Status\n",
    "    \n",
    ")\n",
    "\n",
    "MildCov_BC_Smoker_NonSmoker_DF"
   ]
  },
  {
   "cell_type": "code",
   "execution_count": 59,
   "id": "76fe0cea",
   "metadata": {},
   "outputs": [
    {
     "data": {
      "text/html": [
       "<div>\n",
       "<style scoped>\n",
       "    .dataframe tbody tr th:only-of-type {\n",
       "        vertical-align: middle;\n",
       "    }\n",
       "\n",
       "    .dataframe tbody tr th {\n",
       "        vertical-align: top;\n",
       "    }\n",
       "\n",
       "    .dataframe thead th {\n",
       "        text-align: right;\n",
       "    }\n",
       "</style>\n",
       "<table border=\"1\" class=\"dataframe\">\n",
       "  <thead>\n",
       "    <tr style=\"text-align: right;\">\n",
       "      <th></th>\n",
       "      <th>Smoker_BC_ModerateCov_Count</th>\n",
       "      <th>NonSmoker_BC_ModerateCov_Count</th>\n",
       "    </tr>\n",
       "  </thead>\n",
       "  <tbody>\n",
       "    <tr>\n",
       "      <th>Moderate COVID &amp; Active and responding</th>\n",
       "      <td>17</td>\n",
       "      <td>26</td>\n",
       "    </tr>\n",
       "    <tr>\n",
       "      <th>Moderate COVID &amp;  Active and stable</th>\n",
       "      <td>15</td>\n",
       "      <td>25</td>\n",
       "    </tr>\n",
       "    <tr>\n",
       "      <th>Moderate COVID &amp; Active and progressing</th>\n",
       "      <td>16</td>\n",
       "      <td>33</td>\n",
       "    </tr>\n",
       "  </tbody>\n",
       "</table>\n",
       "</div>"
      ],
      "text/plain": [
       "                                         Smoker_BC_ModerateCov_Count  \\\n",
       "Moderate COVID & Active and responding                            17   \n",
       "Moderate COVID &  Active and stable                               15   \n",
       "Moderate COVID & Active and progressing                           16   \n",
       "\n",
       "                                         NonSmoker_BC_ModerateCov_Count  \n",
       "Moderate COVID & Active and responding                               26  \n",
       "Moderate COVID &  Active and stable                                  25  \n",
       "Moderate COVID & Active and progressing                              33  "
      ]
     },
     "execution_count": 59,
     "metadata": {},
     "output_type": "execute_result"
    }
   ],
   "source": [
    "# Moderate Covid\n",
    "# Creating a data frame which includes both the Smoker_BC_ModerateCov_Count & NonSmoker_BC_ModerateCov_Count for comparison as well as plotting.\n",
    "ModerateCov_BC_Status = [\"Moderate COVID & Active and responding\", \"Moderate COVID &  Active and stable\" , \"Moderate COVID & Active and progressing\"]\n",
    "\n",
    "ModerateCov_BC_Smoker_NonSmoker_DF = pd.DataFrame (\n",
    "    {\n",
    "        \"Smoker_BC_ModerateCov_Count\" : Smoker_BC_ModerateCov_Count,\n",
    "        \"NonSmoker_BC_ModerateCov_Count\" : NonSmoker_BC_ModerateCov_Count},\n",
    "        index = ModerateCov_BC_Status\n",
    "    \n",
    ")\n",
    "\n",
    "ModerateCov_BC_Smoker_NonSmoker_DF"
   ]
  },
  {
   "cell_type": "code",
   "execution_count": 60,
   "id": "80c2c66b",
   "metadata": {},
   "outputs": [
    {
     "data": {
      "text/html": [
       "<div>\n",
       "<style scoped>\n",
       "    .dataframe tbody tr th:only-of-type {\n",
       "        vertical-align: middle;\n",
       "    }\n",
       "\n",
       "    .dataframe tbody tr th {\n",
       "        vertical-align: top;\n",
       "    }\n",
       "\n",
       "    .dataframe thead th {\n",
       "        text-align: right;\n",
       "    }\n",
       "</style>\n",
       "<table border=\"1\" class=\"dataframe\">\n",
       "  <thead>\n",
       "    <tr style=\"text-align: right;\">\n",
       "      <th></th>\n",
       "      <th>Smoker_BC_SevereCov_Count</th>\n",
       "      <th>NonSmoker_BC_SevereCov_Count</th>\n",
       "    </tr>\n",
       "  </thead>\n",
       "  <tbody>\n",
       "    <tr>\n",
       "      <th>Severe COVID &amp; Active and responding</th>\n",
       "      <td>2</td>\n",
       "      <td>3</td>\n",
       "    </tr>\n",
       "    <tr>\n",
       "      <th>Severe COVID &amp;  Active and stable</th>\n",
       "      <td>0</td>\n",
       "      <td>3</td>\n",
       "    </tr>\n",
       "    <tr>\n",
       "      <th>Severe COVID &amp; Active and progressing</th>\n",
       "      <td>5</td>\n",
       "      <td>5</td>\n",
       "    </tr>\n",
       "  </tbody>\n",
       "</table>\n",
       "</div>"
      ],
      "text/plain": [
       "                                       Smoker_BC_SevereCov_Count  \\\n",
       "Severe COVID & Active and responding                           2   \n",
       "Severe COVID &  Active and stable                              0   \n",
       "Severe COVID & Active and progressing                          5   \n",
       "\n",
       "                                       NonSmoker_BC_SevereCov_Count  \n",
       "Severe COVID & Active and responding                              3  \n",
       "Severe COVID &  Active and stable                                 3  \n",
       "Severe COVID & Active and progressing                             5  "
      ]
     },
     "execution_count": 60,
     "metadata": {},
     "output_type": "execute_result"
    }
   ],
   "source": [
    "# Severe Covid\n",
    "# Creating a data frame which includes both the Smoker_BC_SevereCov_Count & NonSmoker_BC_SevereCov_Count for comparison as well as plotting.\n",
    "SevereCov_BC_Status = [\"Severe COVID & Active and responding\", \"Severe COVID &  Active and stable\" , \"Severe COVID & Active and progressing\"]\n",
    "\n",
    "SevereCov_BC_Smoker_NonSmoker_DF = pd.DataFrame (\n",
    "    {\n",
    "        \"Smoker_BC_SevereCov_Count\" : Smoker_BC_SevereCov_Count,\n",
    "        \"NonSmoker_BC_SevereCov_Count\" : NonSmoker_BC_SevereCov_Count},\n",
    "        index = SevereCov_BC_Status\n",
    "    \n",
    ")\n",
    "\n",
    "SevereCov_BC_Smoker_NonSmoker_DF"
   ]
  },
  {
   "cell_type": "code",
   "execution_count": 61,
   "id": "0456fe89",
   "metadata": {
    "scrolled": false
   },
   "outputs": [
    {
     "data": {
      "image/png": "[encoded data removed]",
      "text/plain": [
       "<Figure size 640x480 with 1 Axes>"
      ]
     },
     "metadata": {},
     "output_type": "display_data"
    },
    {
     "data": {
      "image/png": "[encoded data removed]",
      "text/plain": [
       "<Figure size 640x480 with 1 Axes>"
      ]
     },
     "metadata": {},
     "output_type": "display_data"
    },
    {
     "data": {
      "image/png": "[encoded data removed]",
      "text/plain": [
       "<Figure size 640x480 with 1 Axes>"
      ]
     },
     "metadata": {},
     "output_type": "display_data"
    }
   ],
   "source": [
    "# Plotting\n",
    "\n",
    "# Mild COVID\n",
    "COV_BC_Smoker_NonSmoker_plot = MildCov_BC_Smoker_NonSmoker_DF.plot.bar(rot=65)\n",
    "plt.title(\"Mild-COVID with BC & Smoker VS. Mild-COVID with BC & Non-Smoker   [Smoking_Plot(4)]\")\n",
    "plt.xlabel(\"COV_BC_Status\")\n",
    "plt.ylabel(\"Number of Smokers_BC_COVID & Non-Smokers_BC_COVID\", fontsize=9)\n",
    "# Save the figure\n",
    "plt.savefig(\"Smoking_Output_Data/Smoking_Plot(4).png\", bbox_inches=\"tight\")\n",
    "\n",
    "# Moderate COVID\n",
    "COV_BC_Smoker_NonSmoker_plot = ModerateCov_BC_Smoker_NonSmoker_DF.plot.bar(rot=65)\n",
    "plt.title(\"Moderate-COVID with BC & Smoker VS. Moderate-COVID with BC & Non-Smoker   [Smoking_Plot(5)]\")\n",
    "plt.xlabel(\"COV_BC_Status\")\n",
    "plt.ylabel(\"Number of Smokers_BC_COVID & Non-Smokers_BC_COVID\", fontsize=9)\n",
    "# Save the figure\n",
    "plt.savefig(\"Smoking_Output_Data/Smoking_Plot(5).png\", bbox_inches=\"tight\")\n",
    "\n",
    "# Severe COVID\n",
    "COV_BC_Smoker_NonSmoker_plot = SevereCov_BC_Smoker_NonSmoker_DF.plot.bar(rot=65)\n",
    "plt.title(\"Severe-COVID with BC & Smoker VS. Severe-COVID with BC & Non-Smoker   [Smoking_Plot(6)]\")\n",
    "plt.xlabel(\"COV_BC_Status\")\n",
    "plt.ylabel(\"Number of Smokers_BC_COVID & Non-Smokers_BC_COVID\", fontsize=9)\n",
    "# Save the figure\n",
    "plt.savefig(\"Smoking_Output_Data/Smoking_Plot(6).png\", bbox_inches=\"tight\")"
   ]
  },
  {
   "cell_type": "markdown",
   "id": "985cc861",
   "metadata": {},
   "source": [
    "## Breast Cancer Status & Mild COVID & Race/Ethnicity VS. Smoking Status"
   ]
  },
  {
   "cell_type": "code",
   "execution_count": 62,
   "id": "9b5bb088",
   "metadata": {},
   "outputs": [
    {
     "data": {
      "text/html": [
       "<div>\n",
       "<style scoped>\n",
       "    .dataframe tbody tr th:only-of-type {\n",
       "        vertical-align: middle;\n",
       "    }\n",
       "\n",
       "    .dataframe tbody tr th {\n",
       "        vertical-align: top;\n",
       "    }\n",
       "\n",
       "    .dataframe thead th {\n",
       "        text-align: right;\n",
       "    }\n",
       "</style>\n",
       "<table border=\"1\" class=\"dataframe\">\n",
       "  <thead>\n",
       "    <tr style=\"text-align: right;\">\n",
       "      <th></th>\n",
       "      <th>der_smoking2</th>\n",
       "      <th>der_cancer_status_v4</th>\n",
       "      <th>severity_of_covid_19_v2</th>\n",
       "      <th>der_race_v2</th>\n",
       "    </tr>\n",
       "  </thead>\n",
       "  <tbody>\n",
       "    <tr>\n",
       "      <th>0</th>\n",
       "      <td>Current or Former</td>\n",
       "      <td>Active and responding</td>\n",
       "      <td>Severe</td>\n",
       "      <td>Non-Hispanic White</td>\n",
       "    </tr>\n",
       "    <tr>\n",
       "      <th>1</th>\n",
       "      <td>Never</td>\n",
       "      <td>Active and stable</td>\n",
       "      <td>Mild</td>\n",
       "      <td>Hispanic</td>\n",
       "    </tr>\n",
       "    <tr>\n",
       "      <th>2</th>\n",
       "      <td>Never</td>\n",
       "      <td>NaN</td>\n",
       "      <td>Moderate</td>\n",
       "      <td>Hispanic</td>\n",
       "    </tr>\n",
       "    <tr>\n",
       "      <th>3</th>\n",
       "      <td>Never</td>\n",
       "      <td>Unknown</td>\n",
       "      <td>Moderate</td>\n",
       "      <td>Other</td>\n",
       "    </tr>\n",
       "    <tr>\n",
       "      <th>4</th>\n",
       "      <td>Never</td>\n",
       "      <td>Active and responding</td>\n",
       "      <td>Mild</td>\n",
       "      <td>Hispanic</td>\n",
       "    </tr>\n",
       "    <tr>\n",
       "      <th>...</th>\n",
       "      <td>...</td>\n",
       "      <td>...</td>\n",
       "      <td>...</td>\n",
       "      <td>...</td>\n",
       "    </tr>\n",
       "    <tr>\n",
       "      <th>1378</th>\n",
       "      <td>Current or Former</td>\n",
       "      <td>Active and responding</td>\n",
       "      <td>Mild</td>\n",
       "      <td>Other</td>\n",
       "    </tr>\n",
       "    <tr>\n",
       "      <th>1379</th>\n",
       "      <td>Never</td>\n",
       "      <td>Active and responding</td>\n",
       "      <td>Moderate</td>\n",
       "      <td>Non-Hispanic Black</td>\n",
       "    </tr>\n",
       "    <tr>\n",
       "      <th>1380</th>\n",
       "      <td>Never</td>\n",
       "      <td>Remission or no evidence of disease, &gt;5 years</td>\n",
       "      <td>Mild</td>\n",
       "      <td>Non-Hispanic White</td>\n",
       "    </tr>\n",
       "    <tr>\n",
       "      <th>1381</th>\n",
       "      <td>Never</td>\n",
       "      <td>Unknown</td>\n",
       "      <td>Moderate</td>\n",
       "      <td>Non-Hispanic Black</td>\n",
       "    </tr>\n",
       "    <tr>\n",
       "      <th>1382</th>\n",
       "      <td>Never</td>\n",
       "      <td>Active and stable</td>\n",
       "      <td>Moderate</td>\n",
       "      <td>Non-Hispanic White</td>\n",
       "    </tr>\n",
       "  </tbody>\n",
       "</table>\n",
       "<p>1383 rows × 4 columns</p>\n",
       "</div>"
      ],
      "text/plain": [
       "           der_smoking2                           der_cancer_status_v4  \\\n",
       "0     Current or Former                          Active and responding   \n",
       "1                 Never                              Active and stable   \n",
       "2                 Never                                            NaN   \n",
       "3                 Never                                        Unknown   \n",
       "4                 Never                          Active and responding   \n",
       "...                 ...                                            ...   \n",
       "1378  Current or Former                          Active and responding   \n",
       "1379              Never                          Active and responding   \n",
       "1380              Never  Remission or no evidence of disease, >5 years   \n",
       "1381              Never                                        Unknown   \n",
       "1382              Never                              Active and stable   \n",
       "\n",
       "     severity_of_covid_19_v2         der_race_v2  \n",
       "0                     Severe  Non-Hispanic White  \n",
       "1                       Mild            Hispanic  \n",
       "2                   Moderate            Hispanic  \n",
       "3                   Moderate               Other  \n",
       "4                       Mild            Hispanic  \n",
       "...                      ...                 ...  \n",
       "1378                    Mild               Other  \n",
       "1379                Moderate  Non-Hispanic Black  \n",
       "1380                    Mild  Non-Hispanic White  \n",
       "1381                Moderate  Non-Hispanic Black  \n",
       "1382                Moderate  Non-Hispanic White  \n",
       "\n",
       "[1383 rows x 4 columns]"
      ]
     },
     "execution_count": 62,
     "metadata": {},
     "output_type": "execute_result"
    }
   ],
   "source": [
    "# Creating a data frame for the cancer status, Severity of COVID, Race/Ethnicity, and the smoking status\n",
    "Cancer_Covid_Race_Smoking_df = pd.DataFrame(raw_data[[\"der_smoking2\", \"der_cancer_status_v4\", \"severity_of_covid_19_v2\", \"der_race_v2\"]])\n",
    "Cancer_Covid_Race_Smoking_df"
   ]
  },
  {
   "cell_type": "code",
   "execution_count": 63,
   "id": "a6f1e50d",
   "metadata": {},
   "outputs": [
    {
     "data": {
      "text/html": [
       "<div>\n",
       "<style scoped>\n",
       "    .dataframe tbody tr th:only-of-type {\n",
       "        vertical-align: middle;\n",
       "    }\n",
       "\n",
       "    .dataframe tbody tr th {\n",
       "        vertical-align: top;\n",
       "    }\n",
       "\n",
       "    .dataframe thead th {\n",
       "        text-align: right;\n",
       "    }\n",
       "</style>\n",
       "<table border=\"1\" class=\"dataframe\">\n",
       "  <thead>\n",
       "    <tr style=\"text-align: right;\">\n",
       "      <th></th>\n",
       "      <th>der_smoking2</th>\n",
       "      <th>der_cancer_status_v4</th>\n",
       "      <th>severity_of_covid_19_v2</th>\n",
       "      <th>der_race_v2</th>\n",
       "    </tr>\n",
       "  </thead>\n",
       "  <tbody>\n",
       "    <tr>\n",
       "      <th>430</th>\n",
       "      <td>Never</td>\n",
       "      <td>Unknown</td>\n",
       "      <td>Moderate</td>\n",
       "      <td>Non-Hispanic AAPI</td>\n",
       "    </tr>\n",
       "    <tr>\n",
       "      <th>954</th>\n",
       "      <td>Current or Former</td>\n",
       "      <td>Active and responding</td>\n",
       "      <td>Mild</td>\n",
       "      <td>Non-Hispanic White</td>\n",
       "    </tr>\n",
       "    <tr>\n",
       "      <th>1148</th>\n",
       "      <td>Current or Former</td>\n",
       "      <td>Remission or no evidence of disease, &lt;5 years</td>\n",
       "      <td>Moderate</td>\n",
       "      <td>Non-Hispanic White</td>\n",
       "    </tr>\n",
       "    <tr>\n",
       "      <th>1243</th>\n",
       "      <td>Never</td>\n",
       "      <td>Remission or no evidence of disease, &gt;5 years</td>\n",
       "      <td>Mild</td>\n",
       "      <td>Hispanic</td>\n",
       "    </tr>\n",
       "    <tr>\n",
       "      <th>1316</th>\n",
       "      <td>Never</td>\n",
       "      <td>Active and responding</td>\n",
       "      <td>Mild</td>\n",
       "      <td>Non-Hispanic White</td>\n",
       "    </tr>\n",
       "    <tr>\n",
       "      <th>508</th>\n",
       "      <td>Never</td>\n",
       "      <td>Remission or no evidence of disease, &gt;5 years</td>\n",
       "      <td>Mild</td>\n",
       "      <td>Non-Hispanic White</td>\n",
       "    </tr>\n",
       "    <tr>\n",
       "      <th>349</th>\n",
       "      <td>Current or Former</td>\n",
       "      <td>Active and responding</td>\n",
       "      <td>Moderate</td>\n",
       "      <td>Non-Hispanic White</td>\n",
       "    </tr>\n",
       "    <tr>\n",
       "      <th>668</th>\n",
       "      <td>Never</td>\n",
       "      <td>Remission or no evidence of disease, &gt;5 years</td>\n",
       "      <td>Mild</td>\n",
       "      <td>Non-Hispanic White</td>\n",
       "    </tr>\n",
       "    <tr>\n",
       "      <th>257</th>\n",
       "      <td>Never</td>\n",
       "      <td>Remission or no evidence of disease, &gt;5 years</td>\n",
       "      <td>Mild</td>\n",
       "      <td>Non-Hispanic White</td>\n",
       "    </tr>\n",
       "    <tr>\n",
       "      <th>316</th>\n",
       "      <td>Current or Former</td>\n",
       "      <td>Remission or no evidence of disease, &lt;5 years</td>\n",
       "      <td>Moderate</td>\n",
       "      <td>Non-Hispanic White</td>\n",
       "    </tr>\n",
       "    <tr>\n",
       "      <th>227</th>\n",
       "      <td>Never</td>\n",
       "      <td>Remission or no evidence of disease, &gt;5 years</td>\n",
       "      <td>Mild</td>\n",
       "      <td>Non-Hispanic White</td>\n",
       "    </tr>\n",
       "    <tr>\n",
       "      <th>616</th>\n",
       "      <td>Never</td>\n",
       "      <td>Remission or no evidence of disease, &lt;5 years</td>\n",
       "      <td>Moderate</td>\n",
       "      <td>Hispanic</td>\n",
       "    </tr>\n",
       "    <tr>\n",
       "      <th>1304</th>\n",
       "      <td>Never</td>\n",
       "      <td>Active and progressing</td>\n",
       "      <td>Moderate</td>\n",
       "      <td>Non-Hispanic Black</td>\n",
       "    </tr>\n",
       "    <tr>\n",
       "      <th>504</th>\n",
       "      <td>Never</td>\n",
       "      <td>Remission or no evidence of disease, &gt;5 years</td>\n",
       "      <td>Mild</td>\n",
       "      <td>Non-Hispanic Black</td>\n",
       "    </tr>\n",
       "    <tr>\n",
       "      <th>228</th>\n",
       "      <td>Never</td>\n",
       "      <td>Remission or no evidence of disease, &lt;5 years</td>\n",
       "      <td>Mild</td>\n",
       "      <td>Non-Hispanic White</td>\n",
       "    </tr>\n",
       "    <tr>\n",
       "      <th>1327</th>\n",
       "      <td>Never</td>\n",
       "      <td>Remission or no evidence of disease, &gt;5 years</td>\n",
       "      <td>Mild</td>\n",
       "      <td>Non-Hispanic White</td>\n",
       "    </tr>\n",
       "    <tr>\n",
       "      <th>809</th>\n",
       "      <td>Never</td>\n",
       "      <td>Active and responding</td>\n",
       "      <td>Mild</td>\n",
       "      <td>Non-Hispanic White</td>\n",
       "    </tr>\n",
       "    <tr>\n",
       "      <th>1333</th>\n",
       "      <td>Never</td>\n",
       "      <td>Active and stable</td>\n",
       "      <td>Moderate</td>\n",
       "      <td>Non-Hispanic White</td>\n",
       "    </tr>\n",
       "    <tr>\n",
       "      <th>1154</th>\n",
       "      <td>Never</td>\n",
       "      <td>Remission or no evidence of disease, &lt;5 years</td>\n",
       "      <td>Mild</td>\n",
       "      <td>Non-Hispanic White</td>\n",
       "    </tr>\n",
       "    <tr>\n",
       "      <th>704</th>\n",
       "      <td>Never</td>\n",
       "      <td>Active and progressing</td>\n",
       "      <td>Moderate</td>\n",
       "      <td>Hispanic</td>\n",
       "    </tr>\n",
       "  </tbody>\n",
       "</table>\n",
       "</div>"
      ],
      "text/plain": [
       "           der_smoking2                           der_cancer_status_v4  \\\n",
       "430               Never                                        Unknown   \n",
       "954   Current or Former                          Active and responding   \n",
       "1148  Current or Former  Remission or no evidence of disease, <5 years   \n",
       "1243              Never  Remission or no evidence of disease, >5 years   \n",
       "1316              Never                          Active and responding   \n",
       "508               Never  Remission or no evidence of disease, >5 years   \n",
       "349   Current or Former                          Active and responding   \n",
       "668               Never  Remission or no evidence of disease, >5 years   \n",
       "257               Never  Remission or no evidence of disease, >5 years   \n",
       "316   Current or Former  Remission or no evidence of disease, <5 years   \n",
       "227               Never  Remission or no evidence of disease, >5 years   \n",
       "616               Never  Remission or no evidence of disease, <5 years   \n",
       "1304              Never                         Active and progressing   \n",
       "504               Never  Remission or no evidence of disease, >5 years   \n",
       "228               Never  Remission or no evidence of disease, <5 years   \n",
       "1327              Never  Remission or no evidence of disease, >5 years   \n",
       "809               Never                          Active and responding   \n",
       "1333              Never                              Active and stable   \n",
       "1154              Never  Remission or no evidence of disease, <5 years   \n",
       "704               Never                         Active and progressing   \n",
       "\n",
       "     severity_of_covid_19_v2         der_race_v2  \n",
       "430                 Moderate   Non-Hispanic AAPI  \n",
       "954                     Mild  Non-Hispanic White  \n",
       "1148                Moderate  Non-Hispanic White  \n",
       "1243                    Mild            Hispanic  \n",
       "1316                    Mild  Non-Hispanic White  \n",
       "508                     Mild  Non-Hispanic White  \n",
       "349                 Moderate  Non-Hispanic White  \n",
       "668                     Mild  Non-Hispanic White  \n",
       "257                     Mild  Non-Hispanic White  \n",
       "316                 Moderate  Non-Hispanic White  \n",
       "227                     Mild  Non-Hispanic White  \n",
       "616                 Moderate            Hispanic  \n",
       "1304                Moderate  Non-Hispanic Black  \n",
       "504                     Mild  Non-Hispanic Black  \n",
       "228                     Mild  Non-Hispanic White  \n",
       "1327                    Mild  Non-Hispanic White  \n",
       "809                     Mild  Non-Hispanic White  \n",
       "1333                Moderate  Non-Hispanic White  \n",
       "1154                    Mild  Non-Hispanic White  \n",
       "704                 Moderate            Hispanic  "
      ]
     },
     "execution_count": 63,
     "metadata": {},
     "output_type": "execute_result"
    }
   ],
   "source": [
    "# Cleaning the empty cells \n",
    "Cancer_Covid_Race_Smoking_df = Cancer_Covid_Race_Smoking_df.dropna()\n",
    "Cancer_Covid_Race_Smoking_df.sample(20)"
   ]
  },
  {
   "cell_type": "code",
   "execution_count": 92,
   "id": "284350f1",
   "metadata": {},
   "outputs": [],
   "source": [
    "# Smoker\n",
    "# Mild Covid\n",
    "# Active and responding\n",
    "# Creating an empty list to hold the values for smoker individuals with a Mild COVID severity & Active and responding BC & different race/ethnicity categories\n",
    "Smoker_A_Res_MildCov_Count = []"
   ]
  },
  {
   "cell_type": "code",
   "execution_count": 93,
   "id": "2bf3ffe1",
   "metadata": {},
   "outputs": [
    {
     "name": "stdout",
     "output_type": "stream",
     "text": [
      "[15]\n"
     ]
    }
   ],
   "source": [
    "# Individuals who are smokers, their covid status is Mild, their cancer status is Active and responding, and are Non-Hispanic White\n",
    "try: \n",
    "    Smoker_Mild_A_Responding_NHW = Cancer_Covid_Race_Smoking_df.loc[(Cancer_Covid_Race_Smoking_df[\"der_smoking2\"] == \"Current or Former\") & (Cancer_Covid_Race_Smoking_df[\"severity_of_covid_19_v2\"] == \"Mild\") & (Cancer_Covid_Race_Smoking_df[\"der_cancer_status_v4\"] == \"Active and responding\")\n",
    "                                                          & (Cancer_Covid_Race_Smoking_df[\"der_race_v2\"] == \"Non-Hispanic White\")]\n",
    "    Smoker_Mild_A_Responding_NHW_Count = len(Smoker_Mild_A_Responding_NHW)\n",
    "    Smoker_A_Res_MildCov_Count.append(Smoker_Mild_A_Responding_NHW_Count)\n",
    "    print(Smoker_A_Res_MildCov_Count)\n",
    "except:\n",
    "    print(\"No Result was found\")"
   ]
  },
  {
   "cell_type": "code",
   "execution_count": 94,
   "id": "473b8516",
   "metadata": {},
   "outputs": [
    {
     "name": "stdout",
     "output_type": "stream",
     "text": [
      "[15, 10]\n"
     ]
    }
   ],
   "source": [
    "# Individuals who are smokers, their covid status is Mild, their cancer status is Active and responding, and are Non-Hispanic Black\n",
    "try: \n",
    "    Smoker_Mild_A_Responding_B = Cancer_Covid_Race_Smoking_df.loc[(Cancer_Covid_Race_Smoking_df[\"der_smoking2\"] == \"Current or Former\") & (Cancer_Covid_Race_Smoking_df[\"severity_of_covid_19_v2\"] == \"Mild\") & (Cancer_Covid_Race_Smoking_df[\"der_cancer_status_v4\"] == \"Active and responding\")\n",
    "                                                          & (Cancer_Covid_Race_Smoking_df[\"der_race_v2\"] == \"Non-Hispanic Black\")]\n",
    "    Smoker_Mild_A_Responding_B_Count = len(Smoker_Mild_A_Responding_B)\n",
    "    Smoker_A_Res_MildCov_Count.append(Smoker_Mild_A_Responding_B_Count)\n",
    "    print(Smoker_A_Res_MildCov_Count)\n",
    "except:\n",
    "    print(\"No Result was found\")"
   ]
  },
  {
   "cell_type": "code",
   "execution_count": 95,
   "id": "631e47ff",
   "metadata": {},
   "outputs": [
    {
     "name": "stdout",
     "output_type": "stream",
     "text": [
      "[15, 10, 8]\n"
     ]
    }
   ],
   "source": [
    "# Individuals who are smokers, their covid status is Mild, their cancer status is Active and responding, and are Hispanic\n",
    "try: \n",
    "    Smoker_Mild_A_Responding_H = Cancer_Covid_Race_Smoking_df.loc[(Cancer_Covid_Race_Smoking_df[\"der_smoking2\"] == \"Current or Former\") & (Cancer_Covid_Race_Smoking_df[\"severity_of_covid_19_v2\"] == \"Mild\") & (Cancer_Covid_Race_Smoking_df[\"der_cancer_status_v4\"] == \"Active and responding\")\n",
    "                                                          & (Cancer_Covid_Race_Smoking_df[\"der_race_v2\"] == \"Hispanic\")]\n",
    "    Smoker_Mild_A_Responding_H_Count = len(Smoker_Mild_A_Responding_H)\n",
    "    Smoker_A_Res_MildCov_Count.append(Smoker_Mild_A_Responding_H_Count)\n",
    "    print(Smoker_A_Res_MildCov_Count)\n",
    "except:\n",
    "    print(\"No Result was found\")"
   ]
  },
  {
   "cell_type": "code",
   "execution_count": 96,
   "id": "831258e8",
   "metadata": {},
   "outputs": [
    {
     "name": "stdout",
     "output_type": "stream",
     "text": [
      "[15, 10, 8, 0]\n"
     ]
    }
   ],
   "source": [
    "# Individuals who are smokers, their covid status is Mild, their cancer status is Active and responding, and are Non-Hispanic AAPI\n",
    "try: \n",
    "    Smoker_Mild_A_Responding_AAPI = Cancer_Covid_Race_Smoking_df.loc[(Cancer_Covid_Race_Smoking_df[\"der_smoking2\"] == \"Current or Former\") & (Cancer_Covid_Race_Smoking_df[\"severity_of_covid_19_v2\"] == \"Mild\") & (Cancer_Covid_Race_Smoking_df[\"der_cancer_status_v4\"] == \"Active and responding\")\n",
    "                                                          & (Cancer_Covid_Race_Smoking_df[\"der_race_v2\"] == \"Non-Hispanic AAPI\")]\n",
    "    Smoker_Mild_A_Responding_AAPI_Count = len(Smoker_Mild_A_Responding_AAPI)\n",
    "    Smoker_A_Res_MildCov_Count.append(Smoker_Mild_A_Responding_AAPI_Count)\n",
    "    print(Smoker_A_Res_MildCov_Count)\n",
    "except:\n",
    "    print(\"No Result was found\")"
   ]
  },
  {
   "cell_type": "code",
   "execution_count": 97,
   "id": "1ad207d5",
   "metadata": {},
   "outputs": [
    {
     "name": "stdout",
     "output_type": "stream",
     "text": [
      "[15, 10, 8, 0, 2]\n"
     ]
    }
   ],
   "source": [
    "# Individuals who are smokers, their covid status is Mild, their cancer status is Active and responding, and their race is Other\n",
    "try: \n",
    "    Smoker_Mild_A_Responding_O = Cancer_Covid_Race_Smoking_df.loc[(Cancer_Covid_Race_Smoking_df[\"der_smoking2\"] == \"Current or Former\") & (Cancer_Covid_Race_Smoking_df[\"severity_of_covid_19_v2\"] == \"Mild\") & (Cancer_Covid_Race_Smoking_df[\"der_cancer_status_v4\"] == \"Active and responding\")\n",
    "                                                          & (Cancer_Covid_Race_Smoking_df[\"der_race_v2\"] == \"Other\")]\n",
    "    Smoker_Mild_A_Responding_O_Count = len(Smoker_Mild_A_Responding_O)\n",
    "    Smoker_A_Res_MildCov_Count.append(Smoker_Mild_A_Responding_O_Count)\n",
    "    print(Smoker_A_Res_MildCov_Count)\n",
    "except:\n",
    "    print(\"No Result was found\")"
   ]
  },
  {
   "cell_type": "code",
   "execution_count": 70,
   "id": "d75113c0",
   "metadata": {},
   "outputs": [],
   "source": [
    "# Smoker\n",
    "# Mild Covid\n",
    "# Active and stable\n",
    "# Creating an empty list to hold the values for smoker individuals with a mild COVID severity & Active and stable BC & different race/ethnicity categories\n",
    "Smoker_A_St_MildCov_Count = []"
   ]
  },
  {
   "cell_type": "code",
   "execution_count": 71,
   "id": "9f60dcca",
   "metadata": {},
   "outputs": [
    {
     "name": "stdout",
     "output_type": "stream",
     "text": [
      "[22]\n"
     ]
    }
   ],
   "source": [
    "# Individuals who are smokers, their covid status is Mild, their cancer status is Active and stable, and are Non-Hispanic White\n",
    "try: \n",
    "    Smoker_Mild_A_St_NHW = Cancer_Covid_Race_Smoking_df.loc[(Cancer_Covid_Race_Smoking_df[\"der_smoking2\"] == \"Current or Former\") & (Cancer_Covid_Race_Smoking_df[\"severity_of_covid_19_v2\"] == \"Mild\") & (Cancer_Covid_Race_Smoking_df[\"der_cancer_status_v4\"] == \"Active and stable\")\n",
    "                                                          & (Cancer_Covid_Race_Smoking_df[\"der_race_v2\"] == \"Non-Hispanic White\")]\n",
    "    Smoker_Mild_A_St_NHW_Count = len(Smoker_Mild_A_St_NHW)\n",
    "    Smoker_A_St_MildCov_Count.append(Smoker_Mild_A_St_NHW_Count)\n",
    "    print(Smoker_A_St_MildCov_Count)\n",
    "except:\n",
    "    print(\"No Result was found\")"
   ]
  },
  {
   "cell_type": "code",
   "execution_count": 72,
   "id": "1772aeaa",
   "metadata": {},
   "outputs": [
    {
     "name": "stdout",
     "output_type": "stream",
     "text": [
      "[22, 4]\n"
     ]
    }
   ],
   "source": [
    "# Individuals who are smokers, their covid status is Mild, their cancer status is Active and stable, and are Non-Hispanic Black\n",
    "try: \n",
    "    Smoker_Mild_A_St_B = Cancer_Covid_Race_Smoking_df.loc[(Cancer_Covid_Race_Smoking_df[\"der_smoking2\"] == \"Current or Former\") & (Cancer_Covid_Race_Smoking_df[\"severity_of_covid_19_v2\"] == \"Mild\") & (Cancer_Covid_Race_Smoking_df[\"der_cancer_status_v4\"] == \"Active and stable\")\n",
    "                                                          & (Cancer_Covid_Race_Smoking_df[\"der_race_v2\"] == \"Non-Hispanic Black\")]\n",
    "    Smoker_Mild_A_St_B_Count = len(Smoker_Mild_A_St_B)\n",
    "    Smoker_A_St_MildCov_Count.append(Smoker_Mild_A_St_B_Count)\n",
    "    print(Smoker_A_St_MildCov_Count)\n",
    "except:\n",
    "    print(\"No Result was found\")"
   ]
  },
  {
   "cell_type": "code",
   "execution_count": 73,
   "id": "c1a29c24",
   "metadata": {},
   "outputs": [
    {
     "name": "stdout",
     "output_type": "stream",
     "text": [
      "[22, 4, 9]\n"
     ]
    }
   ],
   "source": [
    "# Individuals who are smokers, their covid status is Mild, their cancer status is Active and stable, and are Hispanic\n",
    "try: \n",
    "    Smoker_Mild_A_St_H = Cancer_Covid_Race_Smoking_df.loc[(Cancer_Covid_Race_Smoking_df[\"der_smoking2\"] == \"Current or Former\") & (Cancer_Covid_Race_Smoking_df[\"severity_of_covid_19_v2\"] == \"Mild\") & (Cancer_Covid_Race_Smoking_df[\"der_cancer_status_v4\"] == \"Active and stable\")\n",
    "                                                          & (Cancer_Covid_Race_Smoking_df[\"der_race_v2\"] == \"Hispanic\")]\n",
    "    Smoker_Mild_A_St_H_Count = len(Smoker_Mild_A_St_H)\n",
    "    Smoker_A_St_MildCov_Count.append(Smoker_Mild_A_St_H_Count)\n",
    "    print(Smoker_A_St_MildCov_Count)\n",
    "except:\n",
    "    print(\"No Result was found\")"
   ]
  },
  {
   "cell_type": "code",
   "execution_count": 74,
   "id": "a3429555",
   "metadata": {},
   "outputs": [
    {
     "name": "stdout",
     "output_type": "stream",
     "text": [
      "[22, 4, 9, 0]\n"
     ]
    }
   ],
   "source": [
    "# Individuals who are smokers, their covid status is Mild, their cancer status is Active and stable, and are Non-Hispanic AAPI\n",
    "try: \n",
    "    Smoker_Mild_A_St_AAPI = Cancer_Covid_Race_Smoking_df.loc[(Cancer_Covid_Race_Smoking_df[\"der_smoking2\"] == \"Current or Former\") & (Cancer_Covid_Race_Smoking_df[\"severity_of_covid_19_v2\"] == \"Mild\") & (Cancer_Covid_Race_Smoking_df[\"der_cancer_status_v4\"] == \"Active and stable\")\n",
    "                                                          & (Cancer_Covid_Race_Smoking_df[\"der_race_v2\"] == \"Non-Hispanic AAPI\")]\n",
    "    Smoker_Mild_A_St_AAPI_Count = len(Smoker_Mild_A_St_AAPI)\n",
    "    Smoker_A_St_MildCov_Count.append(Smoker_Mild_A_St_AAPI_Count)\n",
    "    print(Smoker_A_St_MildCov_Count)\n",
    "except:\n",
    "    print(\"No Result was found\")"
   ]
  },
  {
   "cell_type": "code",
   "execution_count": 75,
   "id": "fcb7242c",
   "metadata": {},
   "outputs": [
    {
     "name": "stdout",
     "output_type": "stream",
     "text": [
      "[22, 4, 9, 0, 2]\n"
     ]
    }
   ],
   "source": [
    "# Individuals who are smokers, their covid status is Mild, their cancer status is Active and stable, and their race is Other\n",
    "try: \n",
    "    Smoker_Mild_A_St_O = Cancer_Covid_Race_Smoking_df.loc[(Cancer_Covid_Race_Smoking_df[\"der_smoking2\"] == \"Current or Former\") & (Cancer_Covid_Race_Smoking_df[\"severity_of_covid_19_v2\"] == \"Mild\") & (Cancer_Covid_Race_Smoking_df[\"der_cancer_status_v4\"] == \"Active and stable\")\n",
    "                                                          & (Cancer_Covid_Race_Smoking_df[\"der_race_v2\"] == \"Other\")]\n",
    "    Smoker_Mild_A_St_O_Count = len(Smoker_Mild_A_St_O)\n",
    "    Smoker_A_St_MildCov_Count.append(Smoker_Mild_A_St_O_Count)\n",
    "    print(Smoker_A_St_MildCov_Count)\n",
    "except:\n",
    "    print(\"No Result was found\")"
   ]
  },
  {
   "cell_type": "code",
   "execution_count": 76,
   "id": "8a108688",
   "metadata": {},
   "outputs": [],
   "source": [
    "# Smoker\n",
    "# Mild Covid\n",
    "# Active and progressing\n",
    "# Creating an empty list to hold the values for smoker individuals with a mild COVID severity & Active and stable BC & different race/ethnicity categories\n",
    "Smoker_A_Prog_MildCov_Count = []"
   ]
  },
  {
   "cell_type": "code",
   "execution_count": 77,
   "id": "9964cc9e",
   "metadata": {},
   "outputs": [
    {
     "name": "stdout",
     "output_type": "stream",
     "text": [
      "[7]\n"
     ]
    }
   ],
   "source": [
    "# Individuals who are smokers, their covid status is Mild, their cancer status is Active and progressing, and are Non-Hispanic White\n",
    "try: \n",
    "    Smoker_A_Prog_MildCov_NHW = Cancer_Covid_Race_Smoking_df.loc[(Cancer_Covid_Race_Smoking_df[\"der_smoking2\"] == \"Current or Former\") & (Cancer_Covid_Race_Smoking_df[\"severity_of_covid_19_v2\"] == \"Mild\") & (Cancer_Covid_Race_Smoking_df[\"der_cancer_status_v4\"] == \"Active and progressing\")\n",
    "                                                          & (Cancer_Covid_Race_Smoking_df[\"der_race_v2\"] == \"Non-Hispanic White\")]\n",
    "    Smoker_A_Prog_MildCov_NHW_Count = len(Smoker_A_Prog_MildCov_NHW)\n",
    "    Smoker_A_Prog_MildCov_Count.append(Smoker_A_Prog_MildCov_NHW_Count)\n",
    "    print(Smoker_A_Prog_MildCov_Count)\n",
    "except:\n",
    "    print(\"No Result was found\")"
   ]
  },
  {
   "cell_type": "code",
   "execution_count": 78,
   "id": "73ed6197",
   "metadata": {},
   "outputs": [
    {
     "name": "stdout",
     "output_type": "stream",
     "text": [
      "[7, 3]\n"
     ]
    }
   ],
   "source": [
    "# Individuals who are smokers, their covid status is Mild, their cancer status is Active and progressing, and are Non-Hispanic Black\n",
    "try: \n",
    "    Smoker_A_Prog_MildCov_B = Cancer_Covid_Race_Smoking_df.loc[(Cancer_Covid_Race_Smoking_df[\"der_smoking2\"] == \"Current or Former\") & (Cancer_Covid_Race_Smoking_df[\"severity_of_covid_19_v2\"] == \"Mild\") & (Cancer_Covid_Race_Smoking_df[\"der_cancer_status_v4\"] == \"Active and progressing\")\n",
    "                                                          & (Cancer_Covid_Race_Smoking_df[\"der_race_v2\"] == \"Non-Hispanic Black\")]\n",
    "    Smoker_A_Prog_MildCov_B_Count = len(Smoker_A_Prog_MildCov_B)\n",
    "    Smoker_A_Prog_MildCov_Count.append(Smoker_A_Prog_MildCov_B_Count)\n",
    "    print(Smoker_A_Prog_MildCov_Count)\n",
    "except:\n",
    "    print(\"No Result was found\")"
   ]
  },
  {
   "cell_type": "code",
   "execution_count": 79,
   "id": "ac455e67",
   "metadata": {},
   "outputs": [
    {
     "name": "stdout",
     "output_type": "stream",
     "text": [
      "[7, 3, 2]\n"
     ]
    }
   ],
   "source": [
    "# Individuals who are smokers, their covid status is Mild, their cancer status is Active and progressing, and are Hispanic\n",
    "try: \n",
    "    Smoker_A_Prog_MildCov_H = Cancer_Covid_Race_Smoking_df.loc[(Cancer_Covid_Race_Smoking_df[\"der_smoking2\"] == \"Current or Former\") & (Cancer_Covid_Race_Smoking_df[\"severity_of_covid_19_v2\"] == \"Mild\") & (Cancer_Covid_Race_Smoking_df[\"der_cancer_status_v4\"] == \"Active and progressing\")\n",
    "                                                          & (Cancer_Covid_Race_Smoking_df[\"der_race_v2\"] == \"Hispanic\")]\n",
    "    Smoker_A_Prog_MildCov_H_Count = len(Smoker_A_Prog_MildCov_H)\n",
    "    Smoker_A_Prog_MildCov_Count.append(Smoker_A_Prog_MildCov_H_Count)\n",
    "    print(Smoker_A_Prog_MildCov_Count)\n",
    "except:\n",
    "    print(\"No Result was found\")"
   ]
  },
  {
   "cell_type": "code",
   "execution_count": 80,
   "id": "ae5957f6",
   "metadata": {},
   "outputs": [
    {
     "name": "stdout",
     "output_type": "stream",
     "text": [
      "[7, 3, 2, 0]\n"
     ]
    }
   ],
   "source": [
    "# Individuals who are smokers, their covid status is Mild, their cancer status is Active and progressing, and are Non-Hispanic AAPI\n",
    "try: \n",
    "    Smoker_A_Prog_MildCov_AAPI = Cancer_Covid_Race_Smoking_df.loc[(Cancer_Covid_Race_Smoking_df[\"der_smoking2\"] == \"Current or Former\") & (Cancer_Covid_Race_Smoking_df[\"severity_of_covid_19_v2\"] == \"Mild\") & (Cancer_Covid_Race_Smoking_df[\"der_cancer_status_v4\"] == \"Active and progressing\")\n",
    "                                                          & (Cancer_Covid_Race_Smoking_df[\"der_race_v2\"] == \"Non-Hispanic AAPI\")]\n",
    "    Smoker_A_Prog_MildCov_AAPI_Count = len(Smoker_A_Prog_MildCov_AAPI)\n",
    "    Smoker_A_Prog_MildCov_Count.append(Smoker_A_Prog_MildCov_AAPI_Count)\n",
    "    print(Smoker_A_Prog_MildCov_Count)\n",
    "except:\n",
    "    print(\"No Result was found\")"
   ]
  },
  {
   "cell_type": "code",
   "execution_count": 81,
   "id": "3be90972",
   "metadata": {},
   "outputs": [
    {
     "name": "stdout",
     "output_type": "stream",
     "text": [
      "[7, 3, 2, 0, 0]\n"
     ]
    }
   ],
   "source": [
    "# Individuals who are smokers, their covid status is Mild, their cancer status is Active and progressing, and their race is Other\n",
    "try: \n",
    "    Smoker_A_Prog_MildCov_O = Cancer_Covid_Race_Smoking_df.loc[(Cancer_Covid_Race_Smoking_df[\"der_smoking2\"] == \"Current or Former\") & (Cancer_Covid_Race_Smoking_df[\"severity_of_covid_19_v2\"] == \"Mild\") & (Cancer_Covid_Race_Smoking_df[\"der_cancer_status_v4\"] == \"Active and progressing\")\n",
    "                                                          & (Cancer_Covid_Race_Smoking_df[\"der_race_v2\"] == \"Other\")]\n",
    "    Smoker_A_Prog_MildCov_O_Count = len(Smoker_A_Prog_MildCov_O)\n",
    "    Smoker_A_Prog_MildCov_Count.append(Smoker_A_Prog_MildCov_O_Count)\n",
    "    print(Smoker_A_Prog_MildCov_Count)\n",
    "except:\n",
    "    print(\"No Result was found\")"
   ]
  },
  {
   "cell_type": "code",
   "execution_count": null,
   "id": "fc4c9913",
   "metadata": {},
   "outputs": [],
   "source": []
  }
 ],
 "metadata": {
  "kernelspec": {
   "display_name": "Python 3 (ipykernel)",
   "language": "python",
   "name": "python3"
  },
  "language_info": {
   "codemirror_mode": {
    "name": "ipython",
    "version": 3
   },
   "file_extension": ".py",
   "mimetype": "text/x-python",
   "name": "python",
   "nbconvert_exporter": "python",
   "pygments_lexer": "ipython3",
   "version": "3.11.5"
  }
 },
 "nbformat": 4,
 "nbformat_minor": 5
}
