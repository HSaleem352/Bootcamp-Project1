{
 "cells": [
  {
   "cell_type": "code",
   "execution_count": 6,
   "id": "70796b5f",
   "metadata": {},
   "outputs": [],
   "source": [
    "import pandas as pd\n",
    "import csv\n",
    "import matplotlib.pyplot as plt\n",
    "import numpy as np\n",
    "import scipy.stats as stats\n",
    "from scipy.stats import chi2_contingency\n",
    "import seaborn as sns"
   ]
  },
  {
   "cell_type": "code",
   "execution_count": 2,
   "id": "cbe2c1a9",
   "metadata": {},
   "outputs": [
    {
     "data": {
      "text/plain": [
       "Index(['Unnamed: 0', 'der_ordinal_v1a', 'der_days_fu', 'der_deadbinary',\n",
       "       'der_dead30', 'der_mv', 'der_ICU', 'der_hosp', 'der_AKI_comp',\n",
       "       'der_MOF_comp', 'der_coinfection_any', 'der_sepsis_comp',\n",
       "       'der_bleeding_comp', 'der_rem', 'der_hcq', 'der_steroids_c19',\n",
       "       'der_other_tx_c19_v2', 'der_o2_ever', 'der_race_v2', 'der_insurance',\n",
       "       'der_smoking2', 'der_obesity', 'der_card', 'der_pulm', 'der_renal',\n",
       "       'der_dm2', 'der_ecogcat2', 'der_breast_biomarkers',\n",
       "       'der_cancer_status_v4', 'der_cancer_tx_timing_v2', 'der_cancertr_none',\n",
       "       'der_any_cyto', 'der_any_targeted', 'der_her2_3m', 'der_cdk46i_3m',\n",
       "       'der_other_3m', 'der_any_endo', 'der_any_immuno', 'der_any_local',\n",
       "       'der_any_other', 'der_region_v2', 'urban_rural', 'der_site_type',\n",
       "       'severity_of_covid_19_v2', 'der_tr_intent', 'der_txline', 'der_heme',\n",
       "       'der_metastatic', 'der_met_bone', 'der_met_liver', 'der_met_lung_v2',\n",
       "       'der_age_trunc', 'der_CV_event_v2', 'der_pulm_event', 'der_GI_event'],\n",
       "      dtype='object')"
      ]
     },
     "execution_count": 2,
     "metadata": {},
     "output_type": "execute_result"
    }
   ],
   "source": [
    "# read the CSV file with the dataset\n",
    "dataset_df = pd.read_csv('dataset', low_memory=False)\n",
    "dataset_df.keys()"
   ]
  },
  {
   "cell_type": "code",
   "execution_count": 3,
   "id": "fd91ce2e",
   "metadata": {},
   "outputs": [
    {
     "data": {
      "text/html": [
       "<div>\n",
       "<style scoped>\n",
       "    .dataframe tbody tr th:only-of-type {\n",
       "        vertical-align: middle;\n",
       "    }\n",
       "\n",
       "    .dataframe tbody tr th {\n",
       "        vertical-align: top;\n",
       "    }\n",
       "\n",
       "    .dataframe thead th {\n",
       "        text-align: right;\n",
       "    }\n",
       "</style>\n",
       "<table border=\"1\" class=\"dataframe\">\n",
       "  <thead>\n",
       "    <tr style=\"text-align: right;\">\n",
       "      <th></th>\n",
       "      <th>der_region_v2</th>\n",
       "      <th>urban_rural</th>\n",
       "      <th>der_site_type</th>\n",
       "      <th>severity_of_covid_19_v2</th>\n",
       "      <th>der_cancer_status_v4</th>\n",
       "    </tr>\n",
       "  </thead>\n",
       "  <tbody>\n",
       "    <tr>\n",
       "      <th>407</th>\n",
       "      <td>Midwest</td>\n",
       "      <td>Urban</td>\n",
       "      <td>Academic Medical Center</td>\n",
       "      <td>Mild</td>\n",
       "      <td>Remission or no evidence of disease, &lt;5 years</td>\n",
       "    </tr>\n",
       "    <tr>\n",
       "      <th>947</th>\n",
       "      <td>West</td>\n",
       "      <td>Urban</td>\n",
       "      <td>Tertiary Care Center</td>\n",
       "      <td>Mild</td>\n",
       "      <td>Remission or no evidence of disease, &gt;5 years</td>\n",
       "    </tr>\n",
       "    <tr>\n",
       "      <th>269</th>\n",
       "      <td>Northeast</td>\n",
       "      <td>Suburban</td>\n",
       "      <td>Tertiary Care Center</td>\n",
       "      <td>Mild</td>\n",
       "      <td>Active and progressing</td>\n",
       "    </tr>\n",
       "    <tr>\n",
       "      <th>332</th>\n",
       "      <td>Northeast</td>\n",
       "      <td>Urban</td>\n",
       "      <td>Tertiary Care Center</td>\n",
       "      <td>Mild</td>\n",
       "      <td>Remission or no evidence of disease, &lt;5 years</td>\n",
       "    </tr>\n",
       "    <tr>\n",
       "      <th>445</th>\n",
       "      <td>Midwest</td>\n",
       "      <td>Rural</td>\n",
       "      <td>Tertiary Care Center</td>\n",
       "      <td>Mild</td>\n",
       "      <td>Active and responding</td>\n",
       "    </tr>\n",
       "    <tr>\n",
       "      <th>1249</th>\n",
       "      <td>Northeast</td>\n",
       "      <td>Suburban</td>\n",
       "      <td>Tertiary Care Center</td>\n",
       "      <td>Mild</td>\n",
       "      <td>Active and responding</td>\n",
       "    </tr>\n",
       "    <tr>\n",
       "      <th>1317</th>\n",
       "      <td>Northeast</td>\n",
       "      <td>Urban</td>\n",
       "      <td>Community Practice</td>\n",
       "      <td>Mild</td>\n",
       "      <td>Active and stable</td>\n",
       "    </tr>\n",
       "    <tr>\n",
       "      <th>900</th>\n",
       "      <td>West</td>\n",
       "      <td>Suburban</td>\n",
       "      <td>Community Practice</td>\n",
       "      <td>Mild</td>\n",
       "      <td>Remission or no evidence of disease, &gt;5 years</td>\n",
       "    </tr>\n",
       "    <tr>\n",
       "      <th>895</th>\n",
       "      <td>West</td>\n",
       "      <td>Suburban</td>\n",
       "      <td>Community Practice</td>\n",
       "      <td>Mild</td>\n",
       "      <td>Active and stable</td>\n",
       "    </tr>\n",
       "    <tr>\n",
       "      <th>3</th>\n",
       "      <td>Northeast</td>\n",
       "      <td>Suburban</td>\n",
       "      <td>Community Practice</td>\n",
       "      <td>Moderate</td>\n",
       "      <td>Unknown</td>\n",
       "    </tr>\n",
       "  </tbody>\n",
       "</table>\n",
       "</div>"
      ],
      "text/plain": [
       "     der_region_v2 urban_rural            der_site_type  \\\n",
       "407        Midwest       Urban  Academic Medical Center   \n",
       "947           West       Urban     Tertiary Care Center   \n",
       "269      Northeast    Suburban     Tertiary Care Center   \n",
       "332      Northeast       Urban     Tertiary Care Center   \n",
       "445        Midwest       Rural     Tertiary Care Center   \n",
       "1249     Northeast    Suburban     Tertiary Care Center   \n",
       "1317     Northeast       Urban       Community Practice   \n",
       "900           West    Suburban       Community Practice   \n",
       "895           West    Suburban       Community Practice   \n",
       "3        Northeast    Suburban       Community Practice   \n",
       "\n",
       "     severity_of_covid_19_v2                           der_cancer_status_v4  \n",
       "407                     Mild  Remission or no evidence of disease, <5 years  \n",
       "947                     Mild  Remission or no evidence of disease, >5 years  \n",
       "269                     Mild                         Active and progressing  \n",
       "332                     Mild  Remission or no evidence of disease, <5 years  \n",
       "445                     Mild                          Active and responding  \n",
       "1249                    Mild                          Active and responding  \n",
       "1317                    Mild                              Active and stable  \n",
       "900                     Mild  Remission or no evidence of disease, >5 years  \n",
       "895                     Mild                              Active and stable  \n",
       "3                   Moderate                                        Unknown  "
      ]
     },
     "execution_count": 3,
     "metadata": {},
     "output_type": "execute_result"
    }
   ],
   "source": [
    "# Cleaning the dataset\n",
    "# Narrow down the dataset to view region and severity of Covid\n",
    "residence_df = dataset_df[['der_region_v2', 'urban_rural', 'der_site_type', 'severity_of_covid_19_v2', 'der_cancer_status_v4']]\n",
    "\n",
    "# Clean the dataset to remove any NAN fields\n",
    "nonNaN_residence_df = residence_df.dropna()\n",
    "\n",
    "# Remove any non-US and other data\n",
    "US_residence_df = nonNaN_residence_df.loc[(nonNaN_residence_df['der_region_v2'] != 'Non-US') | (nonNaN_residence_df['der_region_v2'] != 'Other')]\n",
    "\n",
    "# Remove unknown residence \n",
    "US_residence_df_clean = US_residence_df.loc[(US_residence_df['urban_rural'] != 'Unknown') | (US_residence_df['der_region_v2'] != 'Other')]\n",
    "\n",
    "# Display a sample of the clean dataset \n",
    "US_residence_df_clean.sample(10)\n"
   ]
  },
  {
   "cell_type": "markdown",
   "id": "630e42f8",
   "metadata": {},
   "source": [
    "## How many Breast-Cancer patients that were diagnosed with Covid-19 lived in urban, suburban, and rural area?"
   ]
  },
  {
   "cell_type": "code",
   "execution_count": 12,
   "id": "3a07ef5c",
   "metadata": {},
   "outputs": [
    {
     "data": {
      "image/png": "[encoded data removed]",
      "text/plain": [
       "<Figure size 640x480 with 1 Axes>"
      ]
     },
     "metadata": {},
     "output_type": "display_data"
    }
   ],
   "source": [
    "# Create a pie chart for the patients living in urban, suburban, and rural\n",
    "residence_counts = US_residence_df_clean['urban_rural'].value_counts()\n",
    "plt.pie(residence_counts, labels=residence_counts.index, autopct='%1.1f%%')\n",
    "plt.axis('equal')\n",
    "plt.title(\"Distribution of Patients' Residence\")\n",
    "plt.show()"
   ]
  },
  {
   "cell_type": "code",
   "execution_count": 14,
   "id": "e7bfe365",
   "metadata": {},
   "outputs": [
    {
     "data": {
      "text/html": [
       "<div>\n",
       "<style scoped>\n",
       "    .dataframe tbody tr th:only-of-type {\n",
       "        vertical-align: middle;\n",
       "    }\n",
       "\n",
       "    .dataframe tbody tr th {\n",
       "        vertical-align: top;\n",
       "    }\n",
       "\n",
       "    .dataframe thead th {\n",
       "        text-align: right;\n",
       "    }\n",
       "</style>\n",
       "<table border=\"1\" class=\"dataframe\">\n",
       "  <thead>\n",
       "    <tr style=\"text-align: right;\">\n",
       "      <th></th>\n",
       "      <th>count</th>\n",
       "    </tr>\n",
       "    <tr>\n",
       "      <th>urban_rural</th>\n",
       "      <th></th>\n",
       "    </tr>\n",
       "  </thead>\n",
       "  <tbody>\n",
       "    <tr>\n",
       "      <th>Suburban</th>\n",
       "      <td>502</td>\n",
       "    </tr>\n",
       "    <tr>\n",
       "      <th>Urban</th>\n",
       "      <td>492</td>\n",
       "    </tr>\n",
       "    <tr>\n",
       "      <th>Rural</th>\n",
       "      <td>98</td>\n",
       "    </tr>\n",
       "  </tbody>\n",
       "</table>\n",
       "</div>"
      ],
      "text/plain": [
       "             count\n",
       "urban_rural       \n",
       "Suburban       502\n",
       "Urban          492\n",
       "Rural           98"
      ]
     },
     "execution_count": 14,
     "metadata": {},
     "output_type": "execute_result"
    }
   ],
   "source": [
    "# Statistical Analysis \n",
    "# Create the df with analysis \n",
    "\n",
    "# urban_stats = pd.DataFrame(US_residence_df_clean[US_residence_df_clean['urban_rural'] == 'Urban']['severity_of_covid_19_v2']).value_counts()\n",
    "# suburban_stats = pd.DataFrame(US_residence_df_clean[US_residence_df_clean['urban_rural'] == 'Suburban']['severity_of_covid_19_v2']).value_counts()\n",
    "# rural_stats = pd.DataFrame(US_residence_df_clean[US_residence_df_clean['urban_rural'] == 'Rural']['severity_of_covid_19_v2']).value_counts()\n",
    "\n",
    "# statistical_df = pd.DataFrame(\n",
    "#     {\n",
    "#     'urban': urban_stats,\n",
    "#     'suburban': suburban_stats,\n",
    "#     'rural': rural_stats\n",
    "# }\n",
    "# )\n",
    "# print(statistical_df)\n",
    "\n",
    "residence_counts_df = pd.DataFrame(US_residence_df_clean['urban_rural'].value_counts())\n",
    "residence_counts_df\n",
    "\n",
    "# data = {'urban_rural': ['Suburban', 'Urban', 'Rural'],\n",
    "#         'count': [502, 492, 98]}\n",
    "\n",
    "# df = pd.DataFrame(data)\n",
    "\n",
    "# # Print the original DataFrame\n",
    "# print(\"Original DataFrame:\")\n",
    "# print(df)\n",
    "\n",
    "# # Perform Chi-Square test\n",
    "# chi2, p, dof, expected = chi2_contingency(pd.crosstab(df['urban_rural'], df['count']))\n",
    "\n",
    "# # Print the results\n",
    "# print(\"\\nChi-Square Statistic:\", chi2)\n",
    "# print(\"P-value:\", p)\n",
    "# print(\"Degrees of Freedom:\", dof)\n",
    "# print(\"\\nExpected Frequencies Table:\")\n",
    "# print(pd.DataFrame(expected, columns=df['urban_rural'].unique(), index=['count']))\n"
   ]
  },
  {
   "cell_type": "code",
   "execution_count": 9,
   "id": "41d15d86",
   "metadata": {},
   "outputs": [
    {
     "data": {
      "image/png": "[encoded data removed]",
      "text/plain": [
       "<Figure size 640x480 with 1 Axes>"
      ]
     },
     "metadata": {},
     "output_type": "display_data"
    }
   ],
   "source": [
    "# Severity of Covid vs the type of residence\n",
    "\n",
    "barplot = sns.countplot(US_residence_df_clean, x = 'urban_rural', hue = 'severity_of_covid_19_v2')\n",
    "\n",
    "plt.title(\"Severity of covid 19 vs cases of Covid-19 for each residence type\")\n",
    "plt.xlabel(\"Residence Type\")\n",
    "plt.ylabel(\"Cases of Covid-19\")\n",
    "plt.xticks(rotation=45)\n",
    "plt.show()\n"
   ]
  },
  {
   "cell_type": "code",
   "execution_count": 8,
   "id": "0cc7b632",
   "metadata": {},
   "outputs": [
    {
     "name": "stdout",
     "output_type": "stream",
     "text": [
      "                         urban  suburban  rural\n",
      "severity_of_covid_19_v2                        \n",
      "Mild                       344       370     78\n",
      "Moderate                   129       106     19\n",
      "Severe                      19        26      1\n",
      "\n",
      "Chi-Square Statistic: 8.336911424132218\n",
      "P-value: 0.07998775089098689\n",
      "Degrees of Freedom: 4\n"
     ]
    }
   ],
   "source": [
    "# Statistical Analysis \n",
    "# Create the df with analysis \n",
    "\n",
    "urban_stats = pd.DataFrame(US_residence_df_clean[US_residence_df_clean['urban_rural'] == 'Urban']['severity_of_covid_19_v2']).value_counts()\n",
    "suburban_stats = pd.DataFrame(US_residence_df_clean[US_residence_df_clean['urban_rural'] == 'Suburban']['severity_of_covid_19_v2']).value_counts()\n",
    "rural_stats = pd.DataFrame(US_residence_df_clean[US_residence_df_clean['urban_rural'] == 'Rural']['severity_of_covid_19_v2']).value_counts()\n",
    "\n",
    "statistical_df = pd.DataFrame(\n",
    "    {\n",
    "    'urban': urban_stats,\n",
    "    'suburban': suburban_stats,\n",
    "    'rural': rural_stats\n",
    "}\n",
    ")\n",
    "print(statistical_df)\n",
    "\n",
    "# Perform Chi-Square test\n",
    "chi2, p, dof, expected = chi2_contingency(statistical_df)\n",
    "\n",
    "# Print the results\n",
    "print(\"\\nChi-Square Statistic:\", chi2)\n",
    "print(\"P-value:\", p)\n",
    "print(\"Degrees of Freedom:\", dof)\n"
   ]
  },
  {
   "cell_type": "code",
   "execution_count": null,
   "id": "4fafb0b0",
   "metadata": {},
   "outputs": [],
   "source": []
  }
 ],
 "metadata": {
  "kernelspec": {
   "display_name": "Python 3 (ipykernel)",
   "language": "python",
   "name": "python3"
  },
  "language_info": {
   "codemirror_mode": {
    "name": "ipython",
    "version": 3
   },
   "file_extension": ".py",
   "mimetype": "text/x-python",
   "name": "python",
   "nbconvert_exporter": "python",
   "pygments_lexer": "ipython3",
   "version": "3.11.5"
  }
 },
 "nbformat": 4,
 "nbformat_minor": 5
}
