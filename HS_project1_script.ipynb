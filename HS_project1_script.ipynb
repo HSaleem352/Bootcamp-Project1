{
 "cells": [
  {
   "cell_type": "code",
   "execution_count": 4,
   "id": "70796b5f",
   "metadata": {},
   "outputs": [],
   "source": [
    "import pandas as pd\n",
    "import csv\n",
    "import matplotlib.pyplot as plt\n",
    "import numpy as np"
   ]
  },
  {
   "cell_type": "code",
   "execution_count": 2,
   "id": "cbe2c1a9",
   "metadata": {},
   "outputs": [
    {
     "data": {
      "text/plain": [
       "Index(['Unnamed: 0', 'der_ordinal_v1a', 'der_days_fu', 'der_deadbinary',\n",
       "       'der_dead30', 'der_mv', 'der_ICU', 'der_hosp', 'der_AKI_comp',\n",
       "       'der_MOF_comp', 'der_coinfection_any', 'der_sepsis_comp',\n",
       "       'der_bleeding_comp', 'der_rem', 'der_hcq', 'der_steroids_c19',\n",
       "       'der_other_tx_c19_v2', 'der_o2_ever', 'der_race_v2', 'der_insurance',\n",
       "       'der_smoking2', 'der_obesity', 'der_card', 'der_pulm', 'der_renal',\n",
       "       'der_dm2', 'der_ecogcat2', 'der_breast_biomarkers',\n",
       "       'der_cancer_status_v4', 'der_cancer_tx_timing_v2', 'der_cancertr_none',\n",
       "       'der_any_cyto', 'der_any_targeted', 'der_her2_3m', 'der_cdk46i_3m',\n",
       "       'der_other_3m', 'der_any_endo', 'der_any_immuno', 'der_any_local',\n",
       "       'der_any_other', 'der_region_v2', 'urban_rural', 'der_site_type',\n",
       "       'severity_of_covid_19_v2', 'der_tr_intent', 'der_txline', 'der_heme',\n",
       "       'der_metastatic', 'der_met_bone', 'der_met_liver', 'der_met_lung_v2',\n",
       "       'der_age_trunc', 'der_CV_event_v2', 'der_pulm_event', 'der_GI_event'],\n",
       "      dtype='object')"
      ]
     },
     "execution_count": 2,
     "metadata": {},
     "output_type": "execute_result"
    }
   ],
   "source": [
    "# read the CSV file with the dataset\n",
    "dataset_df = pd.read_csv('dataset', low_memory=False)\n",
    "dataset_df.keys()"
   ]
  },
  {
   "cell_type": "code",
   "execution_count": 3,
   "id": "fd91ce2e",
   "metadata": {},
   "outputs": [
    {
     "data": {
      "text/html": [
       "<div>\n",
       "<style scoped>\n",
       "    .dataframe tbody tr th:only-of-type {\n",
       "        vertical-align: middle;\n",
       "    }\n",
       "\n",
       "    .dataframe tbody tr th {\n",
       "        vertical-align: top;\n",
       "    }\n",
       "\n",
       "    .dataframe thead th {\n",
       "        text-align: right;\n",
       "    }\n",
       "</style>\n",
       "<table border=\"1\" class=\"dataframe\">\n",
       "  <thead>\n",
       "    <tr style=\"text-align: right;\">\n",
       "      <th></th>\n",
       "      <th>der_region_v2</th>\n",
       "      <th>urban_rural</th>\n",
       "      <th>der_site_type</th>\n",
       "      <th>severity_of_covid_19_v2</th>\n",
       "    </tr>\n",
       "  </thead>\n",
       "  <tbody>\n",
       "    <tr>\n",
       "      <th>803</th>\n",
       "      <td>Midwest</td>\n",
       "      <td>Suburban</td>\n",
       "      <td>Community Practice</td>\n",
       "      <td>Mild</td>\n",
       "    </tr>\n",
       "    <tr>\n",
       "      <th>1246</th>\n",
       "      <td>Northeast</td>\n",
       "      <td>Suburban</td>\n",
       "      <td>Tertiary Care Center</td>\n",
       "      <td>Mild</td>\n",
       "    </tr>\n",
       "    <tr>\n",
       "      <th>647</th>\n",
       "      <td>Midwest</td>\n",
       "      <td>Rural</td>\n",
       "      <td>Tertiary Care Center</td>\n",
       "      <td>Moderate</td>\n",
       "    </tr>\n",
       "    <tr>\n",
       "      <th>741</th>\n",
       "      <td>South</td>\n",
       "      <td>Urban</td>\n",
       "      <td>Academic Medical Center</td>\n",
       "      <td>Mild</td>\n",
       "    </tr>\n",
       "    <tr>\n",
       "      <th>723</th>\n",
       "      <td>South</td>\n",
       "      <td>Suburban</td>\n",
       "      <td>Tertiary Care Center</td>\n",
       "      <td>Mild</td>\n",
       "    </tr>\n",
       "    <tr>\n",
       "      <th>285</th>\n",
       "      <td>Northeast</td>\n",
       "      <td>Urban</td>\n",
       "      <td>Tertiary Care Center</td>\n",
       "      <td>Moderate</td>\n",
       "    </tr>\n",
       "    <tr>\n",
       "      <th>287</th>\n",
       "      <td>Northeast</td>\n",
       "      <td>Urban</td>\n",
       "      <td>Tertiary Care Center</td>\n",
       "      <td>Mild</td>\n",
       "    </tr>\n",
       "    <tr>\n",
       "      <th>753</th>\n",
       "      <td>Midwest</td>\n",
       "      <td>Suburban</td>\n",
       "      <td>Tertiary Care Center</td>\n",
       "      <td>Mild</td>\n",
       "    </tr>\n",
       "    <tr>\n",
       "      <th>814</th>\n",
       "      <td>Northeast</td>\n",
       "      <td>Urban</td>\n",
       "      <td>Community Practice</td>\n",
       "      <td>Mild</td>\n",
       "    </tr>\n",
       "    <tr>\n",
       "      <th>1072</th>\n",
       "      <td>Northeast</td>\n",
       "      <td>Urban</td>\n",
       "      <td>Tertiary Care Center</td>\n",
       "      <td>Mild</td>\n",
       "    </tr>\n",
       "  </tbody>\n",
       "</table>\n",
       "</div>"
      ],
      "text/plain": [
       "     der_region_v2 urban_rural            der_site_type  \\\n",
       "803        Midwest    Suburban       Community Practice   \n",
       "1246     Northeast    Suburban     Tertiary Care Center   \n",
       "647        Midwest       Rural     Tertiary Care Center   \n",
       "741          South       Urban  Academic Medical Center   \n",
       "723          South    Suburban     Tertiary Care Center   \n",
       "285      Northeast       Urban     Tertiary Care Center   \n",
       "287      Northeast       Urban     Tertiary Care Center   \n",
       "753        Midwest    Suburban     Tertiary Care Center   \n",
       "814      Northeast       Urban       Community Practice   \n",
       "1072     Northeast       Urban     Tertiary Care Center   \n",
       "\n",
       "     severity_of_covid_19_v2  \n",
       "803                     Mild  \n",
       "1246                    Mild  \n",
       "647                 Moderate  \n",
       "741                     Mild  \n",
       "723                     Mild  \n",
       "285                 Moderate  \n",
       "287                     Mild  \n",
       "753                     Mild  \n",
       "814                     Mild  \n",
       "1072                    Mild  "
      ]
     },
     "execution_count": 3,
     "metadata": {},
     "output_type": "execute_result"
    }
   ],
   "source": [
    "# Cleaning the dataset\n",
    "# Narrow down the dataset to view region and severity of Covid\n",
    "residence_df = dataset_df[['der_region_v2', 'urban_rural', 'der_site_type', 'severity_of_covid_19_v2']]\n",
    "\n",
    "# Clean the dataset to remove any NAN fields\n",
    "nonNaN_residence_df = residence_df.dropna()\n",
    "\n",
    "# Remove any non-US and other data\n",
    "US_residence_df = nonNaN_residence_df.loc[(nonNaN_residence_df['der_region_v2'] != 'Non-US') | (nonNaN_residence_df['der_region_v2'] != 'Other')]\n",
    "\n",
    "# Remove unknown residence \n",
    "US_residence_df_clean = US_residence_df.loc[(US_residence_df['urban_rural'] != 'Unknown') | (US_residence_df['der_region_v2'] != 'Other')]\n",
    "\n",
    "# Display a sample of the clean dataset \n",
    "US_residence_df_clean.sample(10)\n"
   ]
  },
  {
   "cell_type": "markdown",
   "id": "630e42f8",
   "metadata": {},
   "source": [
    "## How many Breast-Cancer patients that were diagnosed with Covid-19 lived in urban, suburban, and rural area?"
   ]
  },
  {
   "cell_type": "code",
   "execution_count": 16,
   "id": "3a07ef5c",
   "metadata": {},
   "outputs": [
    {
     "data": {
      "image/png": "[encoded data removed]",
      "text/plain": [
       "<Figure size 640x480 with 1 Axes>"
      ]
     },
     "metadata": {},
     "output_type": "display_data"
    }
   ],
   "source": [
    "# Create a pie chart for the patients living in urban, suburban, and rural\n",
    "\n",
    "residence_counts = US_residence_df_clean['urban_rural'].value_counts()\n",
    "plt.pie(residence_counts, labels=residence_counts.index, autopct='%1.1f%%')\n",
    "plt.axis('equal')\n",
    "plt.title(\"Distribution of Patients' Residence\")\n",
    "plt.show()\n",
    "\n"
   ]
  },
  {
   "cell_type": "code",
   "execution_count": null,
   "id": "9103a008",
   "metadata": {},
   "outputs": [],
   "source": []
  }
 ],
 "metadata": {
  "kernelspec": {
   "display_name": "Python 3 (ipykernel)",
   "language": "python",
   "name": "python3"
  },
  "language_info": {
   "codemirror_mode": {
    "name": "ipython",
    "version": 3
   },
   "file_extension": ".py",
   "mimetype": "text/x-python",
   "name": "python",
   "nbconvert_exporter": "python",
   "pygments_lexer": "ipython3",
   "version": "3.11.5"
  }
 },
 "nbformat": 4,
 "nbformat_minor": 5
}
