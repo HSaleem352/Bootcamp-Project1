{
 "cells": [
  {
   "cell_type": "code",
   "execution_count": 4,
   "id": "70796b5f",
   "metadata": {},
   "outputs": [],
   "source": [
    "import pandas as pd\n",
    "import csv\n",
    "import matplotlib.pyplot as plt\n",
    "import numpy as np"
   ]
  },
  {
   "cell_type": "code",
   "execution_count": 2,
   "id": "cbe2c1a9",
   "metadata": {},
   "outputs": [
    {
     "data": {
      "text/plain": [
       "Index(['Unnamed: 0', 'der_ordinal_v1a', 'der_days_fu', 'der_deadbinary',\n",
       "       'der_dead30', 'der_mv', 'der_ICU', 'der_hosp', 'der_AKI_comp',\n",
       "       'der_MOF_comp', 'der_coinfection_any', 'der_sepsis_comp',\n",
       "       'der_bleeding_comp', 'der_rem', 'der_hcq', 'der_steroids_c19',\n",
       "       'der_other_tx_c19_v2', 'der_o2_ever', 'der_race_v2', 'der_insurance',\n",
       "       'der_smoking2', 'der_obesity', 'der_card', 'der_pulm', 'der_renal',\n",
       "       'der_dm2', 'der_ecogcat2', 'der_breast_biomarkers',\n",
       "       'der_cancer_status_v4', 'der_cancer_tx_timing_v2', 'der_cancertr_none',\n",
       "       'der_any_cyto', 'der_any_targeted', 'der_her2_3m', 'der_cdk46i_3m',\n",
       "       'der_other_3m', 'der_any_endo', 'der_any_immuno', 'der_any_local',\n",
       "       'der_any_other', 'der_region_v2', 'urban_rural', 'der_site_type',\n",
       "       'severity_of_covid_19_v2', 'der_tr_intent', 'der_txline', 'der_heme',\n",
       "       'der_metastatic', 'der_met_bone', 'der_met_liver', 'der_met_lung_v2',\n",
       "       'der_age_trunc', 'der_CV_event_v2', 'der_pulm_event', 'der_GI_event'],\n",
       "      dtype='object')"
      ]
     },
     "execution_count": 2,
     "metadata": {},
     "output_type": "execute_result"
    }
   ],
   "source": [
    "# read the CSV file with the dataset\n",
    "dataset_df = pd.read_csv('dataset', low_memory=False)\n",
    "dataset_df.keys()"
   ]
  },
  {
   "cell_type": "code",
   "execution_count": 17,
   "id": "fd91ce2e",
   "metadata": {},
   "outputs": [
    {
     "data": {
      "text/html": [
       "<div>\n",
       "<style scoped>\n",
       "    .dataframe tbody tr th:only-of-type {\n",
       "        vertical-align: middle;\n",
       "    }\n",
       "\n",
       "    .dataframe tbody tr th {\n",
       "        vertical-align: top;\n",
       "    }\n",
       "\n",
       "    .dataframe thead th {\n",
       "        text-align: right;\n",
       "    }\n",
       "</style>\n",
       "<table border=\"1\" class=\"dataframe\">\n",
       "  <thead>\n",
       "    <tr style=\"text-align: right;\">\n",
       "      <th></th>\n",
       "      <th>der_region_v2</th>\n",
       "      <th>urban_rural</th>\n",
       "      <th>der_site_type</th>\n",
       "      <th>severity_of_covid_19_v2</th>\n",
       "      <th>der_cancer_status_v4</th>\n",
       "    </tr>\n",
       "  </thead>\n",
       "  <tbody>\n",
       "    <tr>\n",
       "      <th>306</th>\n",
       "      <td>Northeast</td>\n",
       "      <td>Urban</td>\n",
       "      <td>Tertiary Care Center</td>\n",
       "      <td>Mild</td>\n",
       "      <td>Remission or no evidence of disease, &lt;5 years</td>\n",
       "    </tr>\n",
       "    <tr>\n",
       "      <th>622</th>\n",
       "      <td>Northeast</td>\n",
       "      <td>Suburban</td>\n",
       "      <td>Community Practice</td>\n",
       "      <td>Moderate</td>\n",
       "      <td>Remission or no evidence of disease, &lt;5 years</td>\n",
       "    </tr>\n",
       "    <tr>\n",
       "      <th>651</th>\n",
       "      <td>Northeast</td>\n",
       "      <td>Urban</td>\n",
       "      <td>Tertiary Care Center</td>\n",
       "      <td>Mild</td>\n",
       "      <td>Active and stable</td>\n",
       "    </tr>\n",
       "    <tr>\n",
       "      <th>973</th>\n",
       "      <td>South</td>\n",
       "      <td>Urban</td>\n",
       "      <td>Academic Medical Center</td>\n",
       "      <td>Mild</td>\n",
       "      <td>Remission or no evidence of disease, &gt;5 years</td>\n",
       "    </tr>\n",
       "    <tr>\n",
       "      <th>676</th>\n",
       "      <td>West</td>\n",
       "      <td>Urban</td>\n",
       "      <td>Tertiary Care Center</td>\n",
       "      <td>Mild</td>\n",
       "      <td>Remission or no evidence of disease, &lt;5 years</td>\n",
       "    </tr>\n",
       "    <tr>\n",
       "      <th>1277</th>\n",
       "      <td>Midwest</td>\n",
       "      <td>Suburban</td>\n",
       "      <td>Academic Medical Center</td>\n",
       "      <td>Severe</td>\n",
       "      <td>Active and progressing</td>\n",
       "    </tr>\n",
       "    <tr>\n",
       "      <th>344</th>\n",
       "      <td>Northeast</td>\n",
       "      <td>Urban</td>\n",
       "      <td>Tertiary Care Center</td>\n",
       "      <td>Mild</td>\n",
       "      <td>Active and responding</td>\n",
       "    </tr>\n",
       "    <tr>\n",
       "      <th>1166</th>\n",
       "      <td>West</td>\n",
       "      <td>Suburban</td>\n",
       "      <td>Tertiary Care Center</td>\n",
       "      <td>Mild</td>\n",
       "      <td>Active and stable</td>\n",
       "    </tr>\n",
       "    <tr>\n",
       "      <th>47</th>\n",
       "      <td>Midwest</td>\n",
       "      <td>Suburban</td>\n",
       "      <td>Tertiary Care Center</td>\n",
       "      <td>Mild</td>\n",
       "      <td>Remission or no evidence of disease, &gt;5 years</td>\n",
       "    </tr>\n",
       "    <tr>\n",
       "      <th>134</th>\n",
       "      <td>West</td>\n",
       "      <td>Suburban</td>\n",
       "      <td>Tertiary Care Center</td>\n",
       "      <td>Mild</td>\n",
       "      <td>Active and responding</td>\n",
       "    </tr>\n",
       "  </tbody>\n",
       "</table>\n",
       "</div>"
      ],
      "text/plain": [
       "     der_region_v2 urban_rural            der_site_type  \\\n",
       "306      Northeast       Urban     Tertiary Care Center   \n",
       "622      Northeast    Suburban       Community Practice   \n",
       "651      Northeast       Urban     Tertiary Care Center   \n",
       "973          South       Urban  Academic Medical Center   \n",
       "676           West       Urban     Tertiary Care Center   \n",
       "1277       Midwest    Suburban  Academic Medical Center   \n",
       "344      Northeast       Urban     Tertiary Care Center   \n",
       "1166          West    Suburban     Tertiary Care Center   \n",
       "47         Midwest    Suburban     Tertiary Care Center   \n",
       "134           West    Suburban     Tertiary Care Center   \n",
       "\n",
       "     severity_of_covid_19_v2                           der_cancer_status_v4  \n",
       "306                     Mild  Remission or no evidence of disease, <5 years  \n",
       "622                 Moderate  Remission or no evidence of disease, <5 years  \n",
       "651                     Mild                              Active and stable  \n",
       "973                     Mild  Remission or no evidence of disease, >5 years  \n",
       "676                     Mild  Remission or no evidence of disease, <5 years  \n",
       "1277                  Severe                         Active and progressing  \n",
       "344                     Mild                          Active and responding  \n",
       "1166                    Mild                              Active and stable  \n",
       "47                      Mild  Remission or no evidence of disease, >5 years  \n",
       "134                     Mild                          Active and responding  "
      ]
     },
     "execution_count": 17,
     "metadata": {},
     "output_type": "execute_result"
    }
   ],
   "source": [
    "# Cleaning the dataset\n",
    "# Narrow down the dataset to view region and severity of Covid\n",
    "residence_df = dataset_df[['der_region_v2', 'urban_rural', 'der_site_type', 'severity_of_covid_19_v2', 'der_cancer_status_v4']]\n",
    "\n",
    "# Clean the dataset to remove any NAN fields\n",
    "nonNaN_residence_df = residence_df.dropna()\n",
    "\n",
    "# Remove any non-US and other data\n",
    "US_residence_df = nonNaN_residence_df.loc[(nonNaN_residence_df['der_region_v2'] != 'Non-US') | (nonNaN_residence_df['der_region_v2'] != 'Other')]\n",
    "\n",
    "# Remove unknown residence \n",
    "US_residence_df_clean = US_residence_df.loc[(US_residence_df['urban_rural'] != 'Unknown') | (US_residence_df['der_region_v2'] != 'Other')]\n",
    "\n",
    "# Display a sample of the clean dataset \n",
    "US_residence_df_clean.sample(10)\n"
   ]
  },
  {
   "cell_type": "markdown",
   "id": "630e42f8",
   "metadata": {},
   "source": [
    "## How many Breast-Cancer patients that were diagnosed with Covid-19 lived in urban, suburban, and rural area?"
   ]
  },
  {
   "cell_type": "code",
   "execution_count": 24,
   "id": "3a07ef5c",
   "metadata": {},
   "outputs": [
    {
     "data": {
      "image/png": "[encoded data removed]",
      "text/plain": [
       "<Figure size 640x480 with 1 Axes>"
      ]
     },
     "metadata": {},
     "output_type": "display_data"
    }
   ],
   "source": [
    "# Create a pie chart for the patients living in urban, suburban, and rural\n",
    "residence_counts = US_residence_df_clean['urban_rural'].value_counts()\n",
    "plt.pie(residence_counts, labels=residence_counts.index, autopct='%1.1f%%')\n",
    "plt.axis('equal')\n",
    "plt.title(\"Distribution of Patients' Residence\")\n",
    "plt.show()"
   ]
  },
  {
   "cell_type": "code",
   "execution_count": 38,
   "id": "9103a008",
   "metadata": {},
   "outputs": [
    {
     "data": {
      "text/plain": [
       "array([0, 1, 2])"
      ]
     },
     "execution_count": 38,
     "metadata": {},
     "output_type": "execute_result"
    }
   ],
   "source": [
    "# Site types reported to have the cases\n",
    "\n",
    "urban_site_type = US_residence_df_clean.loc[US_residence_df_clean['urban_rural'] == 'Urban']['der_site_type']\n",
    "suburban_site_type = US_residence_df_clean.loc[US_residence_df_clean['urban_rural'] == 'Suburban']['der_site_type']\n",
    "rural_site_type = US_residence_df_clean.loc[US_residence_df_clean['urban_rural'] == 'Rural']['der_site_type']\n",
    "\n",
    "x_axis = np.arange(0, len(urban_site_type.unique()))\n",
    "\n",
    "tick_locations = []\n",
    "for x in x_axis:\n",
    "    tick_locations.append(x)"
   ]
  },
  {
   "cell_type": "code",
   "execution_count": null,
   "id": "bcbd6d09",
   "metadata": {},
   "outputs": [],
   "source": []
  }
 ],
 "metadata": {
  "kernelspec": {
   "display_name": "Python 3 (ipykernel)",
   "language": "python",
   "name": "python3"
  },
  "language_info": {
   "codemirror_mode": {
    "name": "ipython",
    "version": 3
   },
   "file_extension": ".py",
   "mimetype": "text/x-python",
   "name": "python",
   "nbconvert_exporter": "python",
   "pygments_lexer": "ipython3",
   "version": "3.11.5"
  }
 },
 "nbformat": 4,
 "nbformat_minor": 5
}
